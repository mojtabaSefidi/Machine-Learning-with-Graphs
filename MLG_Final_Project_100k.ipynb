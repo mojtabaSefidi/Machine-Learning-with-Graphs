{
  "cells": [
    {
      "cell_type": "markdown",
      "metadata": {
        "id": "view-in-github",
        "colab_type": "text"
      },
      "source": [
        "<a href=\"https://colab.research.google.com/github/mojtabaSefidi/Machine-Learning-with-Graphs/blob/main/MLG_Final_Project_100k.ipynb\" target=\"_parent\"><img src=\"https://colab.research.google.com/assets/colab-badge.svg\" alt=\"Open In Colab\"/></a>"
      ]
    },
    {
      "cell_type": "code",
      "source": [
        "# !unzip ml-100k.zip\n",
        "# !pip uninstall jupyter\n",
        "# !pip install jupyter"
      ],
      "metadata": {
        "id": "2AK7CPIHJ2lq"
      },
      "execution_count": 2,
      "outputs": []
    },
    {
      "cell_type": "markdown",
      "metadata": {
        "id": "lwlKn2JrXvYo"
      },
      "source": [
        "## Install Essential Packages"
      ]
    },
    {
      "cell_type": "code",
      "source": [
        "from google.colab import drive\n",
        "drive.mount(\"/content/gdrive\")"
      ],
      "metadata": {
        "colab": {
          "base_uri": "https://localhost:8080/"
        },
        "id": "AHfg4IsV_paR",
        "outputId": "2af9cc8c-9264-4eae-f7c0-fff52f970479"
      },
      "execution_count": 3,
      "outputs": [
        {
          "output_type": "stream",
          "name": "stdout",
          "text": [
            "Drive already mounted at /content/gdrive; to attempt to forcibly remount, call drive.mount(\"/content/gdrive\", force_remount=True).\n"
          ]
        }
      ]
    },
    {
      "cell_type": "code",
      "execution_count": 4,
      "metadata": {
        "id": "eyylEyBAw67k"
      },
      "outputs": [],
      "source": [
        "!pip install -q torch_geometric\n",
        "!pip install -q torch-sparse==0.6.13\n",
        "!pip install -q torch_scatter\n"
      ]
    },
    {
      "cell_type": "markdown",
      "metadata": {
        "id": "FcOrS826X3wJ"
      },
      "source": [
        "## Install Essential Libraries"
      ]
    },
    {
      "cell_type": "code",
      "execution_count": 5,
      "metadata": {
        "id": "OCSrkduHlCPt"
      },
      "outputs": [],
      "source": [
        "\n",
        "import torch\n",
        "import networkx as nx\n",
        "import torch_geometric\n",
        "from torch_geometric.utils import to_networkx\n",
        "from torch_geometric.datasets import TUDataset\n",
        "from torch_geometric.transforms import NormalizeFeatures\n",
        "from torch_geometric.loader import DataLoader\n",
        "from torch.nn import Linear\n",
        "import torch.nn.functional as F\n",
        "from torch_geometric.nn import GCNConv, GraphConv, SAGEConv, global_add_pool\n",
        "from torch_geometric.data import HeteroData\n",
        "from torch_geometric import transforms\n",
        "from torch_geometric.loader import LinkNeighborLoader"
      ]
    },
    {
      "cell_type": "code",
      "source": [
        "from numpy.random import seed\n",
        "from tensorflow import keras\n",
        "from sklearn.preprocessing import minmax_scale\n",
        "from sklearn.model_selection import train_test_split\n",
        "from keras.layers import Input, Dense\n",
        "from keras.models import Model"
      ],
      "metadata": {
        "id": "oWb4j2GQ0Mov"
      },
      "execution_count": 6,
      "outputs": []
    },
    {
      "cell_type": "code",
      "source": [
        "%matplotlib inline\n",
        "import matplotlib.pyplot as plt\n",
        "from sklearn.manifold import TSNE\n",
        "from datetime import datetime\n",
        "from sklearn.preprocessing import StandardScaler, OneHotEncoder\n",
        "from sklearn.decomposition import PCA\n",
        "from torch_geometric.loader import LinkNeighborLoader\n",
        "import numpy as np\n",
        "import pandas as pd\n",
        "import torch\n",
        "import random"
      ],
      "metadata": {
        "id": "a8xk67dMCYId"
      },
      "execution_count": 7,
      "outputs": []
    },
    {
      "cell_type": "code",
      "source": [
        "def plot_history(list_train_loss, list_train_acc, list_val_loss, list_val_acc, n_epochs, title):\n",
        "    \n",
        "    plt.figure(figsize=(18,8),linewidth = 7, edgecolor=\"whitesmoke\")    \n",
        "    n = n_epochs\n",
        "    \n",
        "    plt.plot(list(range(1, n_epochs+1)), list_train_acc, color='orange',marker=\".\")\n",
        "    plt.plot(list(range(1, n_epochs+1)), list_train_loss,'b',marker=\".\")\n",
        "    \n",
        "    plt.plot(list(range(1, n_epochs+1)), list_val_acc,'r')  \n",
        "    plt.plot(list(range(1, n_epochs+1)), list_val_loss,'g')\n",
        "    \n",
        "    plt.legend(['Train Accuracy','Train Loss','Test Accuracy','Test Loss'])\n",
        "    plt.grid(True)\n",
        "    \n",
        "    # plt.gca().set_ylim(0,1)\n",
        "\n",
        "    plt.xlabel(\"Number of Epochs\")\n",
        "    plt.ylabel(\"Value\")\n",
        "    plt.suptitle(title, size=16, y=0.927)\n",
        "    plt.show()"
      ],
      "metadata": {
        "id": "u58ez8Rrjjt7"
      },
      "execution_count": 8,
      "outputs": []
    },
    {
      "cell_type": "markdown",
      "metadata": {
        "id": "LswIWaVoX901"
      },
      "source": [
        "## Read the Dataset"
      ]
    },
    {
      "cell_type": "code",
      "execution_count": 9,
      "metadata": {
        "id": "ZjGUj-btw3_l"
      },
      "outputs": [],
      "source": [
        "# from ogb.graphproppred import PygGraphPropPredDataset\n",
        "# from torch_geometric.loader import DataLoader\n",
        "\n",
        "# dataset = PygGraphPropPredDataset(name = 'ogbg-molhiv') \n",
        "\n",
        "# split_idx = dataset.get_idx_split() \n",
        "# train_data_loader = DataLoader(dataset[split_idx[\"train\"]], batch_size=32, shuffle=True)\n",
        "# valiation_data_loader = DataLoader(dataset[split_idx[\"valid\"]], batch_size=32, shuffle=True)\n",
        "# test_data_loader = DataLoader(dataset[split_idx[\"test\"]], batch_size=32, shuffle=True)"
      ]
    },
    {
      "cell_type": "code",
      "source": [
        "# !unzip /content/MovieLens1M.zip"
      ],
      "metadata": {
        "id": "LSAkq_eHNIKK"
      },
      "execution_count": 10,
      "outputs": []
    },
    {
      "cell_type": "code",
      "source": [
        "# movies_df = pd.read_csv('/content/ml-100k/u.item', sep='|', engine='python', encoding=\"latin-1\",\n",
        "#                         names = ['MovieID', 'Movie Title', 'Release Date', 'video release date','IMDbURL',\n",
        "#                                  'Unknown','Action','Adventure','Animation', 'Childrens','Comedy',\n",
        "#                                  'Crime','Documentary','Drama','Fantasy', 'Film-Noir','Horror',\n",
        "#                                  'Musical','Mystery','Romance','Sci-Fi','Thriller','War','Western'])\n",
        "\n",
        "# rating_df = pd.read_csv('/content/ml-100k/u.data', sep='\\t', engine='python', encoding=\"latin-1\",\n",
        "#                         names=['UserID','MovieID','Rating','Timestamp'])\n",
        "\n",
        "# users_df = pd.read_csv('/content/ml-100k/u.user', sep='|', engine='python', encoding=\"latin-1\",\n",
        "#                        names=['UserID','Gender','Age','Occupation','Zipcode'])\n",
        "\n",
        "# movies_df.to_csv('/content/gdrive/MyDrive/MLG_Final_Project/MovieLens100k/Data/movies_df.csv', index=False)\n",
        "# rating_df.to_csv('/content/gdrive/MyDrive/MLG_Final_Project/MovieLens100k/Data/rating_df.csv', index=False)\n",
        "# users_df.to_csv('/content/gdrive/MyDrive/MLG_Final_Project/MovieLens100k/Data/users_df.csv', index=False)"
      ],
      "metadata": {
        "id": "qFBOl5HrNIHZ"
      },
      "execution_count": 11,
      "outputs": []
    },
    {
      "cell_type": "code",
      "source": [
        "# geners = np.array(['Action', 'Adventure', 'Animation', \"Children's\", 'Comedy', 'Crime', 'Documentary', 'Drama',\n",
        "#                    'Fantasy', 'Film_Noir', 'Horror', 'Musical', 'Mystery', 'Romance', 'Sci_Fi', 'Thriller', 'War', 'Western'], dtype=str)\n",
        "\n",
        "# values = list(range(0, len(geners)))\n",
        "# geners2vec = dict(zip(geners, values))\n",
        "\n",
        "# def extract_geners(text, sep='|'):\n",
        "#   return text.split(sep)\n",
        "\n",
        "# def geners2vector(df_geners, maper):\n",
        "#   result = np.zeros((len(df_geners),len(maper)), dtype='int8')\n",
        "#   for index, text in enumerate(df_geners):\n",
        "#     geners = extract_geners(text)\n",
        "#     for gener in geners:\n",
        "#       result[index][maper.get(gener)] = 1\n",
        "  \n",
        "#   return result"
      ],
      "metadata": {
        "id": "Ut7XNDH3exQ4"
      },
      "execution_count": 12,
      "outputs": []
    },
    {
      "cell_type": "code",
      "source": [
        "# def year_extractor(text):\n",
        "#   return text[text.rfind('(')+1:text.rfind(')')]\n",
        "\n",
        "def add_average_rating(rating_df, movies_df, Movie_id_col='MovieID', rating_col='Rating'):\n",
        "  \n",
        "  rating_avg = rating_df.groupby(Movie_id_col).mean()[rating_col].round(4).to_dict()\n",
        "  result = [] \n",
        "  for id in movies_df[Movie_id_col]:\n",
        "    result.append(rating_avg.get(id, 0))\n",
        "  movies_df['Average Rating'] = result\n",
        "  return movies_df\n",
        "\n",
        "# Occupation_mapper = { 0: \"other\", 1: \"academic/educator\", 2: \"artist\", 3: \"clerical/admin\",\n",
        "#                      4: \"college/grad student\",5: \"customer service\", 6: \"doctor/health care\",\n",
        "#                      7: \"executive/managerial\", 8: \"farmer\", 9: \"homemaker\", 10: \"K-12 student\",\n",
        "#                      11: \"lawyer\", 12: \"programmer\", 13: \"retired\", 14: \"sales/marketing\",\n",
        "#                      15: \"scientist\", 16: \"self-employed\", 17: \"technician/engineer\",\n",
        "#                      18: \"tradesman/craftsman\", 19: \"unemployed\", 20: \"writer\"}\n",
        "\n",
        "# def code2Occupation(occupation_col, mapper):\n",
        "#   return occupation_col.map(mapper)\n",
        "\n",
        "\n",
        "# def extract_user_feature(users_df):\n",
        "#   scaler = StandardScaler()\n",
        "#   age = scaler.fit_transform(users_df[['Age']])\n",
        "  \n",
        "#   encoder = OneHotEncoder(handle_unknown='ignore')\n",
        "#   occupation = encoder.fit_transform(users_df[['Occupation']]).toarray()\n",
        "#   features = np.hstack((users_df[['Gender']], age, occupation))\n",
        "#   return torch.from_numpy(features).to(torch.float)\n",
        "\n",
        "# def extract_movie_feature(movies_df, mapper):\n",
        "#   scaler = StandardScaler()\n",
        "#   numerical = scaler.fit_transform(movies_df[['year',\t'averge_rating']])\n",
        "  \n",
        "#   categorical = geners2vector(movies_df['Genres'], mapper)\n",
        "#   features = np.hstack((numerical, categorical))\n",
        "#   return torch.from_numpy(features).to(torch.float)\n",
        "\n",
        "def Timestamp2Date(timestamp):\n",
        "  return datetime.utcfromtimestamp(timestamp).strftime('%Y-%m-%d %H:%M:%S')\n",
        "\n",
        "def add_age_group(df, age_col='Age'):\n",
        "  bins= [0,20,25,39,60,110]\n",
        "  labels = ['Teenage','Young Adult','Adult', 'Older Adult','Old']\n",
        "  df['AgeGroup'] = pd.cut(df[age_col], bins=bins, labels=labels, right=False)\n",
        "  return df\n",
        "\n",
        "def find_unknowns(movies_df, title_col='Movie Title', movie_id_col='MovieID'):\n",
        "  unknown_movies = movies_df[movies_df[title_col]=='unknown'][movie_id_col]\n",
        "  return unknown_movies\n",
        "\n",
        "def remove_unknows(df, list_unknown_movies, movie_id_col='MovieID'):\n",
        "  return df[~df[movie_id_col].isin(list_unknown_movies)]\n"
      ],
      "metadata": {
        "id": "HBhT-AUneyoW"
      },
      "execution_count": 13,
      "outputs": []
    },
    {
      "cell_type": "code",
      "source": [
        "movies_df = pd.read_csv('/content/gdrive/MyDrive/MLG_Final_Project/MovieLens100k/Data/movies_df.csv')\n",
        "all_ratings_df = pd.read_csv('/content/gdrive/MyDrive/MLG_Final_Project/MovieLens100k/Data/rating_df.csv')\n",
        "\n",
        "users_df = pd.read_csv('/content/gdrive/MyDrive/MLG_Final_Project/MovieLens100k/Data/users_df.csv')\n",
        "movies_df.shape, users_df.shape\n"
      ],
      "metadata": {
        "colab": {
          "base_uri": "https://localhost:8080/"
        },
        "id": "2BULzS9YOvpp",
        "outputId": "35ea3c7c-fc29-42b0-9078-446f14165872"
      },
      "execution_count": 14,
      "outputs": [
        {
          "output_type": "execute_result",
          "data": {
            "text/plain": [
              "((1682, 24), (943, 5))"
            ]
          },
          "metadata": {},
          "execution_count": 14
        }
      ]
    },
    {
      "cell_type": "code",
      "source": [
        "list_unknown_movies = find_unknowns(movies_df)"
      ],
      "metadata": {
        "id": "qqgJNdgd-gxj"
      },
      "execution_count": 15,
      "outputs": []
    },
    {
      "cell_type": "code",
      "source": [
        "def preprocess_movies_df(movies_df, list_unknown_movies, all_ratings_df):\n",
        "  movies_df = remove_unknows(movies_df, list_unknown_movies)\n",
        "  movies_df.drop(['video release date', 'IMDbURL'], axis=1, inplace=True)\n",
        "  movies_df['Release Date'] = pd.to_datetime(movies_df['Release Date'])\n",
        "  movies_df['Release Year'] = movies_df['Release Date'].dt.year\n",
        "  movies_df['Release Month'] = movies_df['Release Date'].dt.month\n",
        "  movies_df['Release Day'] = movies_df['Release Date'].dt.strftime('%j').apply(int)\n",
        "  movies_df = movies_df.sort_values(by=['Release Date']).reset_index(drop=True)\n",
        "  movies_df = add_average_rating(all_ratings_df, movies_df)\n",
        "  return movies_df\n",
        "\n",
        "movies_df = preprocess_movies_df(movies_df, list_unknown_movies, all_ratings_df)\n",
        "movies_df.tail(2).T"
      ],
      "metadata": {
        "colab": {
          "base_uri": "https://localhost:8080/",
          "height": 1000
        },
        "id": "3fRyCELVOvnN",
        "outputId": "01dd5719-3fa1-4823-da98-47558ed441e1"
      },
      "execution_count": 16,
      "outputs": [
        {
          "output_type": "stream",
          "name": "stderr",
          "text": [
            "/usr/local/lib/python3.8/dist-packages/pandas/core/frame.py:4906: SettingWithCopyWarning: \n",
            "A value is trying to be set on a copy of a slice from a DataFrame\n",
            "\n",
            "See the caveats in the documentation: https://pandas.pydata.org/pandas-docs/stable/user_guide/indexing.html#returning-a-view-versus-a-copy\n",
            "  return super().drop(\n",
            "<ipython-input-16-db653e20aac5>:4: SettingWithCopyWarning: \n",
            "A value is trying to be set on a copy of a slice from a DataFrame.\n",
            "Try using .loc[row_indexer,col_indexer] = value instead\n",
            "\n",
            "See the caveats in the documentation: https://pandas.pydata.org/pandas-docs/stable/user_guide/indexing.html#returning-a-view-versus-a-copy\n",
            "  movies_df['Release Date'] = pd.to_datetime(movies_df['Release Date'])\n",
            "<ipython-input-16-db653e20aac5>:5: SettingWithCopyWarning: \n",
            "A value is trying to be set on a copy of a slice from a DataFrame.\n",
            "Try using .loc[row_indexer,col_indexer] = value instead\n",
            "\n",
            "See the caveats in the documentation: https://pandas.pydata.org/pandas-docs/stable/user_guide/indexing.html#returning-a-view-versus-a-copy\n",
            "  movies_df['Release Year'] = movies_df['Release Date'].dt.year\n",
            "<ipython-input-16-db653e20aac5>:6: SettingWithCopyWarning: \n",
            "A value is trying to be set on a copy of a slice from a DataFrame.\n",
            "Try using .loc[row_indexer,col_indexer] = value instead\n",
            "\n",
            "See the caveats in the documentation: https://pandas.pydata.org/pandas-docs/stable/user_guide/indexing.html#returning-a-view-versus-a-copy\n",
            "  movies_df['Release Month'] = movies_df['Release Date'].dt.month\n",
            "<ipython-input-16-db653e20aac5>:7: SettingWithCopyWarning: \n",
            "A value is trying to be set on a copy of a slice from a DataFrame.\n",
            "Try using .loc[row_indexer,col_indexer] = value instead\n",
            "\n",
            "See the caveats in the documentation: https://pandas.pydata.org/pandas-docs/stable/user_guide/indexing.html#returning-a-view-versus-a-copy\n",
            "  movies_df['Release Day'] = movies_df['Release Date'].dt.strftime('%j').apply(int)\n"
          ]
        },
        {
          "output_type": "execute_result",
          "data": {
            "text/plain": [
              "                               1679                 1680\n",
              "MovieID                        1432                  315\n",
              "Movie Title      Mighty, The (1998)     Apt Pupil (1998)\n",
              "Release Date    1998-10-09 00:00:00  1998-10-23 00:00:00\n",
              "Unknown                           0                    0\n",
              "Action                            0                    0\n",
              "Adventure                         0                    0\n",
              "Animation                         0                    0\n",
              "Childrens                         0                    0\n",
              "Comedy                            0                    0\n",
              "Crime                             0                    0\n",
              "Documentary                       0                    0\n",
              "Drama                             1                    1\n",
              "Fantasy                           0                    0\n",
              "Film-Noir                         0                    0\n",
              "Horror                            0                    0\n",
              "Musical                           0                    0\n",
              "Mystery                           0                    0\n",
              "Romance                           0                    0\n",
              "Sci-Fi                            0                    0\n",
              "Thriller                          0                    1\n",
              "War                               0                    0\n",
              "Western                           0                    0\n",
              "Release Year                   1998                 1998\n",
              "Release Month                    10                   10\n",
              "Release Day                     282                  296\n",
              "Average Rating                  1.0                  4.1"
            ],
            "text/html": [
              "\n",
              "  <div id=\"df-aabe9d80-21c7-4362-b931-864834a04bae\">\n",
              "    <div class=\"colab-df-container\">\n",
              "      <div>\n",
              "<style scoped>\n",
              "    .dataframe tbody tr th:only-of-type {\n",
              "        vertical-align: middle;\n",
              "    }\n",
              "\n",
              "    .dataframe tbody tr th {\n",
              "        vertical-align: top;\n",
              "    }\n",
              "\n",
              "    .dataframe thead th {\n",
              "        text-align: right;\n",
              "    }\n",
              "</style>\n",
              "<table border=\"1\" class=\"dataframe\">\n",
              "  <thead>\n",
              "    <tr style=\"text-align: right;\">\n",
              "      <th></th>\n",
              "      <th>1679</th>\n",
              "      <th>1680</th>\n",
              "    </tr>\n",
              "  </thead>\n",
              "  <tbody>\n",
              "    <tr>\n",
              "      <th>MovieID</th>\n",
              "      <td>1432</td>\n",
              "      <td>315</td>\n",
              "    </tr>\n",
              "    <tr>\n",
              "      <th>Movie Title</th>\n",
              "      <td>Mighty, The (1998)</td>\n",
              "      <td>Apt Pupil (1998)</td>\n",
              "    </tr>\n",
              "    <tr>\n",
              "      <th>Release Date</th>\n",
              "      <td>1998-10-09 00:00:00</td>\n",
              "      <td>1998-10-23 00:00:00</td>\n",
              "    </tr>\n",
              "    <tr>\n",
              "      <th>Unknown</th>\n",
              "      <td>0</td>\n",
              "      <td>0</td>\n",
              "    </tr>\n",
              "    <tr>\n",
              "      <th>Action</th>\n",
              "      <td>0</td>\n",
              "      <td>0</td>\n",
              "    </tr>\n",
              "    <tr>\n",
              "      <th>Adventure</th>\n",
              "      <td>0</td>\n",
              "      <td>0</td>\n",
              "    </tr>\n",
              "    <tr>\n",
              "      <th>Animation</th>\n",
              "      <td>0</td>\n",
              "      <td>0</td>\n",
              "    </tr>\n",
              "    <tr>\n",
              "      <th>Childrens</th>\n",
              "      <td>0</td>\n",
              "      <td>0</td>\n",
              "    </tr>\n",
              "    <tr>\n",
              "      <th>Comedy</th>\n",
              "      <td>0</td>\n",
              "      <td>0</td>\n",
              "    </tr>\n",
              "    <tr>\n",
              "      <th>Crime</th>\n",
              "      <td>0</td>\n",
              "      <td>0</td>\n",
              "    </tr>\n",
              "    <tr>\n",
              "      <th>Documentary</th>\n",
              "      <td>0</td>\n",
              "      <td>0</td>\n",
              "    </tr>\n",
              "    <tr>\n",
              "      <th>Drama</th>\n",
              "      <td>1</td>\n",
              "      <td>1</td>\n",
              "    </tr>\n",
              "    <tr>\n",
              "      <th>Fantasy</th>\n",
              "      <td>0</td>\n",
              "      <td>0</td>\n",
              "    </tr>\n",
              "    <tr>\n",
              "      <th>Film-Noir</th>\n",
              "      <td>0</td>\n",
              "      <td>0</td>\n",
              "    </tr>\n",
              "    <tr>\n",
              "      <th>Horror</th>\n",
              "      <td>0</td>\n",
              "      <td>0</td>\n",
              "    </tr>\n",
              "    <tr>\n",
              "      <th>Musical</th>\n",
              "      <td>0</td>\n",
              "      <td>0</td>\n",
              "    </tr>\n",
              "    <tr>\n",
              "      <th>Mystery</th>\n",
              "      <td>0</td>\n",
              "      <td>0</td>\n",
              "    </tr>\n",
              "    <tr>\n",
              "      <th>Romance</th>\n",
              "      <td>0</td>\n",
              "      <td>0</td>\n",
              "    </tr>\n",
              "    <tr>\n",
              "      <th>Sci-Fi</th>\n",
              "      <td>0</td>\n",
              "      <td>0</td>\n",
              "    </tr>\n",
              "    <tr>\n",
              "      <th>Thriller</th>\n",
              "      <td>0</td>\n",
              "      <td>1</td>\n",
              "    </tr>\n",
              "    <tr>\n",
              "      <th>War</th>\n",
              "      <td>0</td>\n",
              "      <td>0</td>\n",
              "    </tr>\n",
              "    <tr>\n",
              "      <th>Western</th>\n",
              "      <td>0</td>\n",
              "      <td>0</td>\n",
              "    </tr>\n",
              "    <tr>\n",
              "      <th>Release Year</th>\n",
              "      <td>1998</td>\n",
              "      <td>1998</td>\n",
              "    </tr>\n",
              "    <tr>\n",
              "      <th>Release Month</th>\n",
              "      <td>10</td>\n",
              "      <td>10</td>\n",
              "    </tr>\n",
              "    <tr>\n",
              "      <th>Release Day</th>\n",
              "      <td>282</td>\n",
              "      <td>296</td>\n",
              "    </tr>\n",
              "    <tr>\n",
              "      <th>Average Rating</th>\n",
              "      <td>1.0</td>\n",
              "      <td>4.1</td>\n",
              "    </tr>\n",
              "  </tbody>\n",
              "</table>\n",
              "</div>\n",
              "      <button class=\"colab-df-convert\" onclick=\"convertToInteractive('df-aabe9d80-21c7-4362-b931-864834a04bae')\"\n",
              "              title=\"Convert this dataframe to an interactive table.\"\n",
              "              style=\"display:none;\">\n",
              "        \n",
              "  <svg xmlns=\"http://www.w3.org/2000/svg\" height=\"24px\"viewBox=\"0 0 24 24\"\n",
              "       width=\"24px\">\n",
              "    <path d=\"M0 0h24v24H0V0z\" fill=\"none\"/>\n",
              "    <path d=\"M18.56 5.44l.94 2.06.94-2.06 2.06-.94-2.06-.94-.94-2.06-.94 2.06-2.06.94zm-11 1L8.5 8.5l.94-2.06 2.06-.94-2.06-.94L8.5 2.5l-.94 2.06-2.06.94zm10 10l.94 2.06.94-2.06 2.06-.94-2.06-.94-.94-2.06-.94 2.06-2.06.94z\"/><path d=\"M17.41 7.96l-1.37-1.37c-.4-.4-.92-.59-1.43-.59-.52 0-1.04.2-1.43.59L10.3 9.45l-7.72 7.72c-.78.78-.78 2.05 0 2.83L4 21.41c.39.39.9.59 1.41.59.51 0 1.02-.2 1.41-.59l7.78-7.78 2.81-2.81c.8-.78.8-2.07 0-2.86zM5.41 20L4 18.59l7.72-7.72 1.47 1.35L5.41 20z\"/>\n",
              "  </svg>\n",
              "      </button>\n",
              "      \n",
              "  <style>\n",
              "    .colab-df-container {\n",
              "      display:flex;\n",
              "      flex-wrap:wrap;\n",
              "      gap: 12px;\n",
              "    }\n",
              "\n",
              "    .colab-df-convert {\n",
              "      background-color: #E8F0FE;\n",
              "      border: none;\n",
              "      border-radius: 50%;\n",
              "      cursor: pointer;\n",
              "      display: none;\n",
              "      fill: #1967D2;\n",
              "      height: 32px;\n",
              "      padding: 0 0 0 0;\n",
              "      width: 32px;\n",
              "    }\n",
              "\n",
              "    .colab-df-convert:hover {\n",
              "      background-color: #E2EBFA;\n",
              "      box-shadow: 0px 1px 2px rgba(60, 64, 67, 0.3), 0px 1px 3px 1px rgba(60, 64, 67, 0.15);\n",
              "      fill: #174EA6;\n",
              "    }\n",
              "\n",
              "    [theme=dark] .colab-df-convert {\n",
              "      background-color: #3B4455;\n",
              "      fill: #D2E3FC;\n",
              "    }\n",
              "\n",
              "    [theme=dark] .colab-df-convert:hover {\n",
              "      background-color: #434B5C;\n",
              "      box-shadow: 0px 1px 3px 1px rgba(0, 0, 0, 0.15);\n",
              "      filter: drop-shadow(0px 1px 2px rgba(0, 0, 0, 0.3));\n",
              "      fill: #FFFFFF;\n",
              "    }\n",
              "  </style>\n",
              "\n",
              "      <script>\n",
              "        const buttonEl =\n",
              "          document.querySelector('#df-aabe9d80-21c7-4362-b931-864834a04bae button.colab-df-convert');\n",
              "        buttonEl.style.display =\n",
              "          google.colab.kernel.accessAllowed ? 'block' : 'none';\n",
              "\n",
              "        async function convertToInteractive(key) {\n",
              "          const element = document.querySelector('#df-aabe9d80-21c7-4362-b931-864834a04bae');\n",
              "          const dataTable =\n",
              "            await google.colab.kernel.invokeFunction('convertToInteractive',\n",
              "                                                     [key], {});\n",
              "          if (!dataTable) return;\n",
              "\n",
              "          const docLinkHtml = 'Like what you see? Visit the ' +\n",
              "            '<a target=\"_blank\" href=https://colab.research.google.com/notebooks/data_table.ipynb>data table notebook</a>'\n",
              "            + ' to learn more about interactive tables.';\n",
              "          element.innerHTML = '';\n",
              "          dataTable['output_type'] = 'display_data';\n",
              "          await google.colab.output.renderOutput(dataTable, element);\n",
              "          const docLink = document.createElement('div');\n",
              "          docLink.innerHTML = docLinkHtml;\n",
              "          element.appendChild(docLink);\n",
              "        }\n",
              "      </script>\n",
              "    </div>\n",
              "  </div>\n",
              "  "
            ]
          },
          "metadata": {},
          "execution_count": 16
        }
      ]
    },
    {
      "cell_type": "code",
      "source": [
        "users_df = add_age_group(users_df)\n",
        "users_df"
      ],
      "metadata": {
        "colab": {
          "base_uri": "https://localhost:8080/",
          "height": 424
        },
        "id": "xDjBiXuTOvki",
        "outputId": "df0f3e7e-40f6-4b5a-bf08-d42a7828fa69"
      },
      "execution_count": 17,
      "outputs": [
        {
          "output_type": "execute_result",
          "data": {
            "text/plain": [
              "     UserID  Age Gender     Occupation Zipcode     AgeGroup\n",
              "0         1   24      M     technician   85711  Young Adult\n",
              "1         2   53      F          other   94043  Older Adult\n",
              "2         3   23      M         writer   32067  Young Adult\n",
              "3         4   24      M     technician   43537  Young Adult\n",
              "4         5   33      F          other   15213        Adult\n",
              "..      ...  ...    ...            ...     ...          ...\n",
              "938     939   26      F        student   33319        Adult\n",
              "939     940   32      M  administrator   02215        Adult\n",
              "940     941   20      M        student   97229  Young Adult\n",
              "941     942   48      F      librarian   78209  Older Adult\n",
              "942     943   22      M        student   77841  Young Adult\n",
              "\n",
              "[943 rows x 6 columns]"
            ],
            "text/html": [
              "\n",
              "  <div id=\"df-2f380014-fc8b-4376-a005-e9be47be4682\">\n",
              "    <div class=\"colab-df-container\">\n",
              "      <div>\n",
              "<style scoped>\n",
              "    .dataframe tbody tr th:only-of-type {\n",
              "        vertical-align: middle;\n",
              "    }\n",
              "\n",
              "    .dataframe tbody tr th {\n",
              "        vertical-align: top;\n",
              "    }\n",
              "\n",
              "    .dataframe thead th {\n",
              "        text-align: right;\n",
              "    }\n",
              "</style>\n",
              "<table border=\"1\" class=\"dataframe\">\n",
              "  <thead>\n",
              "    <tr style=\"text-align: right;\">\n",
              "      <th></th>\n",
              "      <th>UserID</th>\n",
              "      <th>Age</th>\n",
              "      <th>Gender</th>\n",
              "      <th>Occupation</th>\n",
              "      <th>Zipcode</th>\n",
              "      <th>AgeGroup</th>\n",
              "    </tr>\n",
              "  </thead>\n",
              "  <tbody>\n",
              "    <tr>\n",
              "      <th>0</th>\n",
              "      <td>1</td>\n",
              "      <td>24</td>\n",
              "      <td>M</td>\n",
              "      <td>technician</td>\n",
              "      <td>85711</td>\n",
              "      <td>Young Adult</td>\n",
              "    </tr>\n",
              "    <tr>\n",
              "      <th>1</th>\n",
              "      <td>2</td>\n",
              "      <td>53</td>\n",
              "      <td>F</td>\n",
              "      <td>other</td>\n",
              "      <td>94043</td>\n",
              "      <td>Older Adult</td>\n",
              "    </tr>\n",
              "    <tr>\n",
              "      <th>2</th>\n",
              "      <td>3</td>\n",
              "      <td>23</td>\n",
              "      <td>M</td>\n",
              "      <td>writer</td>\n",
              "      <td>32067</td>\n",
              "      <td>Young Adult</td>\n",
              "    </tr>\n",
              "    <tr>\n",
              "      <th>3</th>\n",
              "      <td>4</td>\n",
              "      <td>24</td>\n",
              "      <td>M</td>\n",
              "      <td>technician</td>\n",
              "      <td>43537</td>\n",
              "      <td>Young Adult</td>\n",
              "    </tr>\n",
              "    <tr>\n",
              "      <th>4</th>\n",
              "      <td>5</td>\n",
              "      <td>33</td>\n",
              "      <td>F</td>\n",
              "      <td>other</td>\n",
              "      <td>15213</td>\n",
              "      <td>Adult</td>\n",
              "    </tr>\n",
              "    <tr>\n",
              "      <th>...</th>\n",
              "      <td>...</td>\n",
              "      <td>...</td>\n",
              "      <td>...</td>\n",
              "      <td>...</td>\n",
              "      <td>...</td>\n",
              "      <td>...</td>\n",
              "    </tr>\n",
              "    <tr>\n",
              "      <th>938</th>\n",
              "      <td>939</td>\n",
              "      <td>26</td>\n",
              "      <td>F</td>\n",
              "      <td>student</td>\n",
              "      <td>33319</td>\n",
              "      <td>Adult</td>\n",
              "    </tr>\n",
              "    <tr>\n",
              "      <th>939</th>\n",
              "      <td>940</td>\n",
              "      <td>32</td>\n",
              "      <td>M</td>\n",
              "      <td>administrator</td>\n",
              "      <td>02215</td>\n",
              "      <td>Adult</td>\n",
              "    </tr>\n",
              "    <tr>\n",
              "      <th>940</th>\n",
              "      <td>941</td>\n",
              "      <td>20</td>\n",
              "      <td>M</td>\n",
              "      <td>student</td>\n",
              "      <td>97229</td>\n",
              "      <td>Young Adult</td>\n",
              "    </tr>\n",
              "    <tr>\n",
              "      <th>941</th>\n",
              "      <td>942</td>\n",
              "      <td>48</td>\n",
              "      <td>F</td>\n",
              "      <td>librarian</td>\n",
              "      <td>78209</td>\n",
              "      <td>Older Adult</td>\n",
              "    </tr>\n",
              "    <tr>\n",
              "      <th>942</th>\n",
              "      <td>943</td>\n",
              "      <td>22</td>\n",
              "      <td>M</td>\n",
              "      <td>student</td>\n",
              "      <td>77841</td>\n",
              "      <td>Young Adult</td>\n",
              "    </tr>\n",
              "  </tbody>\n",
              "</table>\n",
              "<p>943 rows × 6 columns</p>\n",
              "</div>\n",
              "      <button class=\"colab-df-convert\" onclick=\"convertToInteractive('df-2f380014-fc8b-4376-a005-e9be47be4682')\"\n",
              "              title=\"Convert this dataframe to an interactive table.\"\n",
              "              style=\"display:none;\">\n",
              "        \n",
              "  <svg xmlns=\"http://www.w3.org/2000/svg\" height=\"24px\"viewBox=\"0 0 24 24\"\n",
              "       width=\"24px\">\n",
              "    <path d=\"M0 0h24v24H0V0z\" fill=\"none\"/>\n",
              "    <path d=\"M18.56 5.44l.94 2.06.94-2.06 2.06-.94-2.06-.94-.94-2.06-.94 2.06-2.06.94zm-11 1L8.5 8.5l.94-2.06 2.06-.94-2.06-.94L8.5 2.5l-.94 2.06-2.06.94zm10 10l.94 2.06.94-2.06 2.06-.94-2.06-.94-.94-2.06-.94 2.06-2.06.94z\"/><path d=\"M17.41 7.96l-1.37-1.37c-.4-.4-.92-.59-1.43-.59-.52 0-1.04.2-1.43.59L10.3 9.45l-7.72 7.72c-.78.78-.78 2.05 0 2.83L4 21.41c.39.39.9.59 1.41.59.51 0 1.02-.2 1.41-.59l7.78-7.78 2.81-2.81c.8-.78.8-2.07 0-2.86zM5.41 20L4 18.59l7.72-7.72 1.47 1.35L5.41 20z\"/>\n",
              "  </svg>\n",
              "      </button>\n",
              "      \n",
              "  <style>\n",
              "    .colab-df-container {\n",
              "      display:flex;\n",
              "      flex-wrap:wrap;\n",
              "      gap: 12px;\n",
              "    }\n",
              "\n",
              "    .colab-df-convert {\n",
              "      background-color: #E8F0FE;\n",
              "      border: none;\n",
              "      border-radius: 50%;\n",
              "      cursor: pointer;\n",
              "      display: none;\n",
              "      fill: #1967D2;\n",
              "      height: 32px;\n",
              "      padding: 0 0 0 0;\n",
              "      width: 32px;\n",
              "    }\n",
              "\n",
              "    .colab-df-convert:hover {\n",
              "      background-color: #E2EBFA;\n",
              "      box-shadow: 0px 1px 2px rgba(60, 64, 67, 0.3), 0px 1px 3px 1px rgba(60, 64, 67, 0.15);\n",
              "      fill: #174EA6;\n",
              "    }\n",
              "\n",
              "    [theme=dark] .colab-df-convert {\n",
              "      background-color: #3B4455;\n",
              "      fill: #D2E3FC;\n",
              "    }\n",
              "\n",
              "    [theme=dark] .colab-df-convert:hover {\n",
              "      background-color: #434B5C;\n",
              "      box-shadow: 0px 1px 3px 1px rgba(0, 0, 0, 0.15);\n",
              "      filter: drop-shadow(0px 1px 2px rgba(0, 0, 0, 0.3));\n",
              "      fill: #FFFFFF;\n",
              "    }\n",
              "  </style>\n",
              "\n",
              "      <script>\n",
              "        const buttonEl =\n",
              "          document.querySelector('#df-2f380014-fc8b-4376-a005-e9be47be4682 button.colab-df-convert');\n",
              "        buttonEl.style.display =\n",
              "          google.colab.kernel.accessAllowed ? 'block' : 'none';\n",
              "\n",
              "        async function convertToInteractive(key) {\n",
              "          const element = document.querySelector('#df-2f380014-fc8b-4376-a005-e9be47be4682');\n",
              "          const dataTable =\n",
              "            await google.colab.kernel.invokeFunction('convertToInteractive',\n",
              "                                                     [key], {});\n",
              "          if (!dataTable) return;\n",
              "\n",
              "          const docLinkHtml = 'Like what you see? Visit the ' +\n",
              "            '<a target=\"_blank\" href=https://colab.research.google.com/notebooks/data_table.ipynb>data table notebook</a>'\n",
              "            + ' to learn more about interactive tables.';\n",
              "          element.innerHTML = '';\n",
              "          dataTable['output_type'] = 'display_data';\n",
              "          await google.colab.output.renderOutput(dataTable, element);\n",
              "          const docLink = document.createElement('div');\n",
              "          docLink.innerHTML = docLinkHtml;\n",
              "          element.appendChild(docLink);\n",
              "        }\n",
              "      </script>\n",
              "    </div>\n",
              "  </div>\n",
              "  "
            ]
          },
          "metadata": {},
          "execution_count": 17
        }
      ]
    },
    {
      "cell_type": "code",
      "source": [
        "def preprocess_rating_df(ratings_df, list_unknown_movies, extract_details=False):\n",
        "  ratings_df = remove_unknows(ratings_df, list_unknown_movies)\n",
        "  if extract_details:\n",
        "    ratings_df.loc[:,'Timestamp'] = ratings_df.loc[:,'Timestamp'].apply(Timestamp2Date)\n",
        "    ratings_df.sort_values(by='Timestamp', inplace=True)\n",
        "    ratings_df.reset_index(drop=True, inplace=True)\n",
        "\n",
        "    ratings_df.loc[:,'Timestamp'] = pd.to_datetime(ratings_df.loc[:,'Timestamp'])\n",
        "    ratings_df.loc[:,'Year'] = ratings_df.loc[:,'Timestamp'].dt.year\n",
        "    ratings_df.loc[:,'Month'] = ratings_df.loc[:,'Timestamp'].dt.month\n",
        "    ratings_df.loc[:,'Weekday'] = ratings_df.loc[:,'Timestamp'].dt.weekday\n",
        "    ratings_df.loc[:,'Hour'] = ratings_df.loc[:,'Timestamp'].dt.hour\n",
        "    ratings_df.loc[:,'DayofYear'] = ratings_df.loc[:,'Timestamp'].dt.strftime('%j')\n",
        "  \n",
        "  return ratings_df"
      ],
      "metadata": {
        "id": "Z6VQuqGDOvh7"
      },
      "execution_count": 18,
      "outputs": []
    },
    {
      "cell_type": "code",
      "source": [
        "# def generate_graph_edges(movies_df, ratings_df, users_df, rate_threshold=4):\n",
        "  # unique_user_id = ratings_df['UserID'].unique()\n",
        "  # unique_user_id = pd.DataFrame(data={\n",
        "  #     'UserID': unique_user_id,\n",
        "  #     'mappedID': pd.RangeIndex(len(unique_user_id))\n",
        "  #     })\n",
        "  # userid_mapper = dict(zip(unique_user_id.iloc[:,0], unique_user_id.iloc[:,-1]))\n",
        "  \n",
        "  # print(\"1. Mapping UserID to consecutive values... \")\n",
        "\n",
        "  # unique_movie_id = ratings_df['MovieID'].unique()\n",
        "  # unique_movie_id = pd.DataFrame(data={\n",
        "  #     'MovieID': unique_movie_id,\n",
        "  #     'mappedID': pd.RangeIndex(len(unique_movie_id))\n",
        "  #     })\n",
        "  # movieid_mapper = dict(zip(unique_movie_id.iloc[:,0], unique_movie_id.iloc[:,-1]))\n",
        "  # print(\"2. Mapping MovieID to consecutive values... \")\n",
        "\n",
        "  # users_df['UserID'] = users_df['UserID'].map(userid_mapper)\n",
        "  # users_df = users_df.sort_values(by='UserID').reset_index(drop=True)\n",
        "  # movies_df['MovieID'] =  movies_df['MovieID'].map(movieid_mapper)\n",
        "  # movies_df = movies_df.sort_values(by='MovieID').reset_index(drop=True)\n",
        "  # ratings_df['UserID'] = ratings_df['UserID'].map(userid_mapper)\n",
        "  # ratings_df['MovieID'] =  ratings_df['MovieID'].map(movieid_mapper)\n",
        "  # ratings_df = ratings_df.sort_values(by=['UserID','MovieID']).reset_index(drop=True)\n",
        "\n",
        "  # ratings_user_id = pd.merge(ratings_df[ratings_df['Rating']>=rate_threshold]['UserID'], unique_user_id,\n",
        "  #                            left_on='UserID', right_on='UserID', how='left')\n",
        "  # ratings_user_id = torch.from_numpy(ratings_user_id['mappedID'].values)\n",
        "  # ratings_movie_id = pd.merge(ratings_df[ratings_df['Rating']>=rate_threshold]['MovieID'], unique_movie_id,\n",
        "  #                             left_on='MovieID', right_on='MovieID', how='left')\n",
        "  # ratings_movie_id = torch.from_numpy(ratings_movie_id['mappedID'].values)\n",
        "  # user2movie_edge = torch.stack([ratings_user_id, ratings_movie_id], dim=0)\n",
        "  # print(\"3. Extract Graph Edges... \")\n",
        "  # print(\"=================================================\")\n",
        "  \n",
        "  # return movies_df, ratings_df, users_df"
      ],
      "metadata": {
        "id": "K2CAvZopUpnW"
      },
      "execution_count": 19,
      "outputs": []
    },
    {
      "cell_type": "code",
      "source": [
        "def generate_train_validation(path, list_unknown_movies, factor=0.5):\n",
        "  df = pd.read_csv(path, sep='\\t', engine='python', encoding=\"latin-1\",\n",
        "                          names=['UserID','MovieID','Rating','Timestamp'])\n",
        "\n",
        "  train_df = pd.DataFrame(columns=['UserID','MovieID','Rating','Timestamp'])\n",
        "  validation_df = pd.DataFrame(columns=['UserID','MovieID','Rating','Timestamp'])\n",
        "\n",
        "  for movie_id in df['MovieID'].unique():\n",
        "    df_temp = df[df['MovieID']== movie_id]\n",
        "    df_temp = df_temp.sort_values('Timestamp')\n",
        "    lenght_window = len(df_temp)\n",
        "    if lenght_window != 1:\n",
        "      half = round(lenght_window * factor)\n",
        "      validation_df = pd.concat([validation_df, df_temp.iloc[:half,:]])\n",
        "      train_df = pd.concat([train_df, df_temp.iloc[half:,:]])\n",
        "    else: \n",
        "      if len(train_df) > len(validation_df):\n",
        "        validation_df = pd.concat([validation_df, df_temp])\n",
        "      \n",
        "      elif len(train_df) < len(validation_df):\n",
        "        train_df = pd.concat([train_df, df_temp])\n",
        "      \n",
        "      else:\n",
        "\n",
        "        if random.random() >= 0.5:\n",
        "          train_df = pd.concat([train_df, df_temp])\n",
        "        else:\n",
        "          validation_df = pd.concat([validation_df, df_temp])\n",
        "        \n",
        "  train_df = preprocess_rating_df(train_df, list_unknown_movies)\n",
        "  validation_df = preprocess_rating_df(validation_df, list_unknown_movies)\n",
        "  return train_df.reset_index(drop=True), validation_df.reset_index(drop=True)\n",
        "\n"
      ],
      "metadata": {
        "id": "DnZegOtlzH7P"
      },
      "execution_count": 20,
      "outputs": []
    },
    {
      "cell_type": "code",
      "source": [
        "# def generate_train_validation(path, factor=0.5):\n",
        "#   df = pd.read_csv(path, sep='\\t', engine='python', encoding=\"latin-1\",\n",
        "#                           names=['UserID','MovieID','Rating','Timestamp'])\n",
        "\n",
        "#   train_df = pd.DataFrame(columns=['UserID','MovieID','Rating','Timestamp'])\n",
        "#   # validation_df = pd.DataFrame(columns=['UserID','MovieID','Rating','Timestamp'])\n",
        "\n",
        "#   for movie_id in df['MovieID'].unique():\n",
        "#     df_temp = df[df['MovieID']== movie_id]\n",
        "#     df_temp = df_temp.sort_values('Timestamp')\n",
        "#     lenght_window = len(df_temp)\n",
        "#     if lenght_window != 1:\n",
        "#       half = round(lenght_window * factor)\n",
        "#       # validation_df = pd.concat([validation_df, df_temp.iloc[:half,:]])\n",
        "#       train_df = pd.concat([train_df, df_temp.iloc[half:,:]])\n",
        "    \n",
        "#     else: \n",
        "#       train_df = pd.concat([train_df, df_temp])\n",
        "\n",
        "\n",
        "#   return train_df.reset_index(drop=True)\n",
        "\n",
        "# train_rating_df = generate_train_validation(path='/content/u1.base')"
      ],
      "metadata": {
        "id": "Lq5l64DapfY9"
      },
      "execution_count": 21,
      "outputs": []
    },
    {
      "cell_type": "code",
      "source": [
        "# train_rating_df = train_rating_df.iloc[:30000]"
      ],
      "metadata": {
        "id": "EG9fw0bbovM8"
      },
      "execution_count": 22,
      "outputs": []
    },
    {
      "cell_type": "code",
      "source": [
        "def generate_test(path, list_unknown_movies):\n",
        "   test_df = pd.read_csv(path, sep='\\t', engine='python', encoding=\"latin-1\", names=['UserID','MovieID','Rating','Timestamp'])\n",
        "   test_df = preprocess_rating_df(test_df, list_unknown_movies)\n",
        "   return test_df.reset_index(drop=True)\n",
        "\n"
      ],
      "metadata": {
        "id": "tcXmdFyt7Ad0"
      },
      "execution_count": 23,
      "outputs": []
    },
    {
      "cell_type": "code",
      "source": [
        "train_rating_df, validation_rating_df = generate_train_validation('/content/u1.base', list_unknown_movies)\n",
        "test_rating_df = generate_test('/content/u1.test', list_unknown_movies)\n",
        "train_rating_df.shape, validation_rating_df.shape, test_rating_df.shape"
      ],
      "metadata": {
        "colab": {
          "base_uri": "https://localhost:8080/"
        },
        "id": "O0IQ8wIW_5gN",
        "outputId": "1206bffd-70de-4f3a-f9da-2e90d1e4b27e"
      },
      "execution_count": 24,
      "outputs": [
        {
          "output_type": "execute_result",
          "data": {
            "text/plain": [
              "((39999, 4), (39998, 4), (19994, 4))"
            ]
          },
          "metadata": {},
          "execution_count": 24
        }
      ]
    },
    {
      "cell_type": "code",
      "source": [
        "# movies_df, test, users_df, user2movie_edge = generate_graph_edges(movies_df, test, users_df)\n",
        "# movies_df, test, users_df = generate_graph_edges(movies_df, test, users_df)\n",
        "# movies_df = movies_df.sort_values(by='MovieID').reset_index(drop=True)\n",
        "# users_df = users_df.sort_values(by='UserID').reset_index(drop=True)\n",
        "# test.reset_index(drop=True, inplace=True)"
      ],
      "metadata": {
        "id": "g53smpY-7Aby"
      },
      "execution_count": 25,
      "outputs": []
    },
    {
      "cell_type": "code",
      "source": [
        "def finalize_dfs(users_df, movies_df,\n",
        "                 train_rating_df, validation_rating_df, test_rating_df,\n",
        "                 user_id_col='UserID', movie_id_col='MovieID'\n",
        "                 ):\n",
        "  unique_user_id = users_df['UserID'].unique()\n",
        "  unique_user_id = pd.DataFrame(data={\n",
        "      'UserID': unique_user_id,\n",
        "      'mappedID': pd.RangeIndex(len(unique_user_id))\n",
        "      })\n",
        "  userid_mapper = dict(zip(unique_user_id.iloc[:,0], unique_user_id.iloc[:,-1]))\n",
        "  \n",
        "  # print(\"1. Mapping UserID to consecutive values... \")\n",
        "\n",
        "  unique_movie_id = movies_df['MovieID'].unique()\n",
        "  unique_movie_id = pd.DataFrame(data={\n",
        "      'MovieID': unique_movie_id,\n",
        "      'mappedID': pd.RangeIndex(len(unique_movie_id))\n",
        "      })\n",
        "  movieid_mapper = dict(zip(unique_movie_id.iloc[:,0], unique_movie_id.iloc[:,-1]))\n",
        "  # print(\"2. Mapping MovieID to consecutive values... \")\n",
        "\n",
        "  users_df['UserID'] = users_df['UserID'].map(userid_mapper)\n",
        "  users_df = users_df.sort_values(by='UserID').reset_index(drop=True)\n",
        "  movies_df['MovieID'] =  movies_df['MovieID'].map(movieid_mapper)\n",
        "  movies_df = movies_df.sort_values(by='MovieID').reset_index(drop=True)\n",
        "  train_rating_df['UserID'] = train_rating_df['UserID'].map(userid_mapper)\n",
        "  train_rating_df['MovieID'] =  train_rating_df['MovieID'].map(movieid_mapper)\n",
        "  validation_rating_df['UserID'] = validation_rating_df['UserID'].map(userid_mapper)\n",
        "  validation_rating_df['MovieID'] =  validation_rating_df['MovieID'].map(movieid_mapper)\n",
        "  test_rating_df['UserID'] = test_rating_df['UserID'].map(userid_mapper)\n",
        "  test_rating_df['MovieID'] =  test_rating_df['MovieID'].map(movieid_mapper)\n",
        "\n",
        "  users_df = users_df.sort_values(by=user_id_col).reset_index(drop=True)\n",
        "  movies_df = movies_df.sort_values(by=movie_id_col).reset_index(drop=True)\n",
        "  train_rating_df = train_rating_df.sort_values(by=[user_id_col, movie_id_col]).reset_index(drop=True)\n",
        "  validation_rating_df = validation_rating_df.sort_values(by=[user_id_col, movie_id_col]).reset_index(drop=True)\n",
        "  test_rating_df = test_rating_df.sort_values(by=[user_id_col, movie_id_col]).reset_index(drop=True)\n",
        "  return users_df, movies_df, train_rating_df, validation_rating_df, test_rating_df\n",
        "\n",
        "users_df, movies_df, train_rating_df, validation_rating_df, test_rating_df = finalize_dfs(users_df, movies_df,\n",
        "                                                                                          train_rating_df, validation_rating_df,\n",
        "                                                                                          test_rating_df)"
      ],
      "metadata": {
        "id": "MK_yay-a9X2X"
      },
      "execution_count": 26,
      "outputs": []
    },
    {
      "cell_type": "code",
      "source": [
        "train_rating_df"
      ],
      "metadata": {
        "colab": {
          "base_uri": "https://localhost:8080/",
          "height": 424
        },
        "id": "mE5KfSQyE57s",
        "outputId": "373d166a-cf23-4a24-f81c-af7c573e426c"
      },
      "execution_count": 27,
      "outputs": [
        {
          "output_type": "execute_result",
          "data": {
            "text/plain": [
              "       UserID  MovieID Rating  Timestamp\n",
              "0           0      722      5  888732909\n",
              "1           0      952      3  889751712\n",
              "2           0     1102      5  889751711\n",
              "3           0     1340      2  887431672\n",
              "4           0     1341      5  888732827\n",
              "...       ...      ...    ...        ...\n",
              "39994     942     1020      4  888638897\n",
              "39995     942     1025      4  888639042\n",
              "39996     942     1223      4  888693104\n",
              "39997     942     1266      2  888639351\n",
              "39998     942     1312      4  888692413\n",
              "\n",
              "[39999 rows x 4 columns]"
            ],
            "text/html": [
              "\n",
              "  <div id=\"df-13f57f46-a49a-45ee-a435-821c913531a3\">\n",
              "    <div class=\"colab-df-container\">\n",
              "      <div>\n",
              "<style scoped>\n",
              "    .dataframe tbody tr th:only-of-type {\n",
              "        vertical-align: middle;\n",
              "    }\n",
              "\n",
              "    .dataframe tbody tr th {\n",
              "        vertical-align: top;\n",
              "    }\n",
              "\n",
              "    .dataframe thead th {\n",
              "        text-align: right;\n",
              "    }\n",
              "</style>\n",
              "<table border=\"1\" class=\"dataframe\">\n",
              "  <thead>\n",
              "    <tr style=\"text-align: right;\">\n",
              "      <th></th>\n",
              "      <th>UserID</th>\n",
              "      <th>MovieID</th>\n",
              "      <th>Rating</th>\n",
              "      <th>Timestamp</th>\n",
              "    </tr>\n",
              "  </thead>\n",
              "  <tbody>\n",
              "    <tr>\n",
              "      <th>0</th>\n",
              "      <td>0</td>\n",
              "      <td>722</td>\n",
              "      <td>5</td>\n",
              "      <td>888732909</td>\n",
              "    </tr>\n",
              "    <tr>\n",
              "      <th>1</th>\n",
              "      <td>0</td>\n",
              "      <td>952</td>\n",
              "      <td>3</td>\n",
              "      <td>889751712</td>\n",
              "    </tr>\n",
              "    <tr>\n",
              "      <th>2</th>\n",
              "      <td>0</td>\n",
              "      <td>1102</td>\n",
              "      <td>5</td>\n",
              "      <td>889751711</td>\n",
              "    </tr>\n",
              "    <tr>\n",
              "      <th>3</th>\n",
              "      <td>0</td>\n",
              "      <td>1340</td>\n",
              "      <td>2</td>\n",
              "      <td>887431672</td>\n",
              "    </tr>\n",
              "    <tr>\n",
              "      <th>4</th>\n",
              "      <td>0</td>\n",
              "      <td>1341</td>\n",
              "      <td>5</td>\n",
              "      <td>888732827</td>\n",
              "    </tr>\n",
              "    <tr>\n",
              "      <th>...</th>\n",
              "      <td>...</td>\n",
              "      <td>...</td>\n",
              "      <td>...</td>\n",
              "      <td>...</td>\n",
              "    </tr>\n",
              "    <tr>\n",
              "      <th>39994</th>\n",
              "      <td>942</td>\n",
              "      <td>1020</td>\n",
              "      <td>4</td>\n",
              "      <td>888638897</td>\n",
              "    </tr>\n",
              "    <tr>\n",
              "      <th>39995</th>\n",
              "      <td>942</td>\n",
              "      <td>1025</td>\n",
              "      <td>4</td>\n",
              "      <td>888639042</td>\n",
              "    </tr>\n",
              "    <tr>\n",
              "      <th>39996</th>\n",
              "      <td>942</td>\n",
              "      <td>1223</td>\n",
              "      <td>4</td>\n",
              "      <td>888693104</td>\n",
              "    </tr>\n",
              "    <tr>\n",
              "      <th>39997</th>\n",
              "      <td>942</td>\n",
              "      <td>1266</td>\n",
              "      <td>2</td>\n",
              "      <td>888639351</td>\n",
              "    </tr>\n",
              "    <tr>\n",
              "      <th>39998</th>\n",
              "      <td>942</td>\n",
              "      <td>1312</td>\n",
              "      <td>4</td>\n",
              "      <td>888692413</td>\n",
              "    </tr>\n",
              "  </tbody>\n",
              "</table>\n",
              "<p>39999 rows × 4 columns</p>\n",
              "</div>\n",
              "      <button class=\"colab-df-convert\" onclick=\"convertToInteractive('df-13f57f46-a49a-45ee-a435-821c913531a3')\"\n",
              "              title=\"Convert this dataframe to an interactive table.\"\n",
              "              style=\"display:none;\">\n",
              "        \n",
              "  <svg xmlns=\"http://www.w3.org/2000/svg\" height=\"24px\"viewBox=\"0 0 24 24\"\n",
              "       width=\"24px\">\n",
              "    <path d=\"M0 0h24v24H0V0z\" fill=\"none\"/>\n",
              "    <path d=\"M18.56 5.44l.94 2.06.94-2.06 2.06-.94-2.06-.94-.94-2.06-.94 2.06-2.06.94zm-11 1L8.5 8.5l.94-2.06 2.06-.94-2.06-.94L8.5 2.5l-.94 2.06-2.06.94zm10 10l.94 2.06.94-2.06 2.06-.94-2.06-.94-.94-2.06-.94 2.06-2.06.94z\"/><path d=\"M17.41 7.96l-1.37-1.37c-.4-.4-.92-.59-1.43-.59-.52 0-1.04.2-1.43.59L10.3 9.45l-7.72 7.72c-.78.78-.78 2.05 0 2.83L4 21.41c.39.39.9.59 1.41.59.51 0 1.02-.2 1.41-.59l7.78-7.78 2.81-2.81c.8-.78.8-2.07 0-2.86zM5.41 20L4 18.59l7.72-7.72 1.47 1.35L5.41 20z\"/>\n",
              "  </svg>\n",
              "      </button>\n",
              "      \n",
              "  <style>\n",
              "    .colab-df-container {\n",
              "      display:flex;\n",
              "      flex-wrap:wrap;\n",
              "      gap: 12px;\n",
              "    }\n",
              "\n",
              "    .colab-df-convert {\n",
              "      background-color: #E8F0FE;\n",
              "      border: none;\n",
              "      border-radius: 50%;\n",
              "      cursor: pointer;\n",
              "      display: none;\n",
              "      fill: #1967D2;\n",
              "      height: 32px;\n",
              "      padding: 0 0 0 0;\n",
              "      width: 32px;\n",
              "    }\n",
              "\n",
              "    .colab-df-convert:hover {\n",
              "      background-color: #E2EBFA;\n",
              "      box-shadow: 0px 1px 2px rgba(60, 64, 67, 0.3), 0px 1px 3px 1px rgba(60, 64, 67, 0.15);\n",
              "      fill: #174EA6;\n",
              "    }\n",
              "\n",
              "    [theme=dark] .colab-df-convert {\n",
              "      background-color: #3B4455;\n",
              "      fill: #D2E3FC;\n",
              "    }\n",
              "\n",
              "    [theme=dark] .colab-df-convert:hover {\n",
              "      background-color: #434B5C;\n",
              "      box-shadow: 0px 1px 3px 1px rgba(0, 0, 0, 0.15);\n",
              "      filter: drop-shadow(0px 1px 2px rgba(0, 0, 0, 0.3));\n",
              "      fill: #FFFFFF;\n",
              "    }\n",
              "  </style>\n",
              "\n",
              "      <script>\n",
              "        const buttonEl =\n",
              "          document.querySelector('#df-13f57f46-a49a-45ee-a435-821c913531a3 button.colab-df-convert');\n",
              "        buttonEl.style.display =\n",
              "          google.colab.kernel.accessAllowed ? 'block' : 'none';\n",
              "\n",
              "        async function convertToInteractive(key) {\n",
              "          const element = document.querySelector('#df-13f57f46-a49a-45ee-a435-821c913531a3');\n",
              "          const dataTable =\n",
              "            await google.colab.kernel.invokeFunction('convertToInteractive',\n",
              "                                                     [key], {});\n",
              "          if (!dataTable) return;\n",
              "\n",
              "          const docLinkHtml = 'Like what you see? Visit the ' +\n",
              "            '<a target=\"_blank\" href=https://colab.research.google.com/notebooks/data_table.ipynb>data table notebook</a>'\n",
              "            + ' to learn more about interactive tables.';\n",
              "          element.innerHTML = '';\n",
              "          dataTable['output_type'] = 'display_data';\n",
              "          await google.colab.output.renderOutput(dataTable, element);\n",
              "          const docLink = document.createElement('div');\n",
              "          docLink.innerHTML = docLinkHtml;\n",
              "          element.appendChild(docLink);\n",
              "        }\n",
              "      </script>\n",
              "    </div>\n",
              "  </div>\n",
              "  "
            ]
          },
          "metadata": {},
          "execution_count": 27
        }
      ]
    },
    {
      "cell_type": "code",
      "source": [
        "def extract_user_feature(users_df):\n",
        "  scaler = StandardScaler()\n",
        "  age = scaler.fit_transform(users_df[['Age']])\n",
        "  \n",
        "  encoder = OneHotEncoder(handle_unknown='ignore')\n",
        "  categorical_df = encoder.fit_transform(users_df[['Occupation', 'Gender']]).toarray()\n",
        "  features = np.hstack((categorical_df, age))\n",
        "  return features\n",
        "\n",
        "def extract_movie_feature(movies_df, exclude_cols):\n",
        "  movies_df = movies_df.drop(exclude_cols, axis=1)\n",
        "  scaler = StandardScaler()\n",
        "  movies_df[['Release Year', 'Release Month', 'Average Rating', 'Release Day']] = scaler.fit_transform(\n",
        "      movies_df[['Release Year', 'Release Month', 'Average Rating', 'Release Day']])\n",
        "  features = movies_df.to_numpy()\n",
        "  return features"
      ],
      "metadata": {
        "id": "fzBG182t0BMZ"
      },
      "execution_count": 28,
      "outputs": []
    },
    {
      "cell_type": "code",
      "source": [
        "user_features = extract_user_feature(users_df)\n",
        "movie_features = extract_movie_feature(movies_df, ['MovieID','Movie Title', 'Release Date'])\n",
        "movie_features.shape, user_features.shape"
      ],
      "metadata": {
        "colab": {
          "base_uri": "https://localhost:8080/"
        },
        "id": "ZeIi5yYCDG-s",
        "outputId": "6b81eeca-9090-4be7-fa1e-9d4da5aaf4b9"
      },
      "execution_count": 29,
      "outputs": [
        {
          "output_type": "execute_result",
          "data": {
            "text/plain": [
              "((1681, 23), (943, 24))"
            ]
          },
          "metadata": {},
          "execution_count": 29
        }
      ]
    },
    {
      "cell_type": "code",
      "source": [
        "pca = PCA(0.95)\n",
        "movie_features_reduced_pca = pca.fit_transform(movie_features)\n",
        "user_features_reduced_pca = pca.fit_transform(user_features)\n",
        "movie_features_reduced_pca.shape, user_features_reduced_pca.shape"
      ],
      "metadata": {
        "colab": {
          "base_uri": "https://localhost:8080/"
        },
        "id": "xksCPb6AA5si",
        "outputId": "0c172a41-afc4-4661-8b29-c2cef7574af3"
      },
      "execution_count": 30,
      "outputs": [
        {
          "output_type": "execute_result",
          "data": {
            "text/plain": [
              "((1681, 11), (943, 14))"
            ]
          },
          "metadata": {},
          "execution_count": 30
        }
      ]
    },
    {
      "cell_type": "code",
      "source": [
        "def build_AE(encoding_dim = 8, input_shape= 24):\n",
        "\n",
        "  input_dim = Input(shape = (input_shape, ))\n",
        "\n",
        "  encoded1 = Dense(16, activation = 'relu')(input_dim)\n",
        "  encoded2 = Dense(encoding_dim, activation = 'relu')(encoded1)\n",
        "\n",
        "  decoded1 = Dense(16, activation = 'relu')(encoded2)\n",
        "  decoded2 = Dense(input_shape, activation = 'relu')(decoded1)\n",
        "\n",
        "\n",
        "  autoencoder = Model(inputs = input_dim, outputs = decoded2)\n",
        "  encoder = Model(inputs = input_dim, outputs = encoded2)\n",
        "\n",
        "  autoencoder.compile(optimizer = keras.optimizers.Adadelta(learning_rate=0.05), loss = 'binary_crossentropy')\n",
        "  print(autoencoder.summary())\n",
        "  return autoencoder, encoder"
      ],
      "metadata": {
        "id": "2bM1Q66RzCwK"
      },
      "execution_count": 31,
      "outputs": []
    },
    {
      "cell_type": "code",
      "source": [
        "def train_reduce(AE, encoder, features, epochs=50, batch_size=16):\n",
        "  # movie_autoencoder, movie_encoder = build_AE(encoding_dim = 8, input_shape= 23)\n",
        "  print('---------------------------------------Trainig of AE Sarts:')\n",
        "  AE.fit(features, features, epochs=epochs, batch_size=batch_size, shuffle = True, verbose=0)\n",
        "  print('--------------------------------------- Dimensionality Reduction Sarts:')\n",
        "  return encoder.predict(features)\n"
      ],
      "metadata": {
        "id": "3asAKB6l4IGo"
      },
      "execution_count": 32,
      "outputs": []
    },
    {
      "cell_type": "code",
      "source": [
        "user_autoencoder, user_encoder = build_AE(encoding_dim = 8, input_shape= user_features.shape[-1])\n",
        "movie_autoencoder, movie_encoder = build_AE(encoding_dim = 8, input_shape= movie_features.shape[-1])"
      ],
      "metadata": {
        "colab": {
          "base_uri": "https://localhost:8080/"
        },
        "id": "uVVc6Ky9CZ01",
        "outputId": "7a1f4ee6-ecc1-4dc1-daec-1be9b1d9066c"
      },
      "execution_count": 33,
      "outputs": [
        {
          "output_type": "stream",
          "name": "stdout",
          "text": [
            "Model: \"model\"\n",
            "_________________________________________________________________\n",
            " Layer (type)                Output Shape              Param #   \n",
            "=================================================================\n",
            " input_1 (InputLayer)        [(None, 24)]              0         \n",
            "                                                                 \n",
            " dense (Dense)               (None, 16)                400       \n",
            "                                                                 \n",
            " dense_1 (Dense)             (None, 8)                 136       \n",
            "                                                                 \n",
            " dense_2 (Dense)             (None, 16)                144       \n",
            "                                                                 \n",
            " dense_3 (Dense)             (None, 24)                408       \n",
            "                                                                 \n",
            "=================================================================\n",
            "Total params: 1,088\n",
            "Trainable params: 1,088\n",
            "Non-trainable params: 0\n",
            "_________________________________________________________________\n",
            "None\n",
            "Model: \"model_2\"\n",
            "_________________________________________________________________\n",
            " Layer (type)                Output Shape              Param #   \n",
            "=================================================================\n",
            " input_2 (InputLayer)        [(None, 23)]              0         \n",
            "                                                                 \n",
            " dense_4 (Dense)             (None, 16)                384       \n",
            "                                                                 \n",
            " dense_5 (Dense)             (None, 8)                 136       \n",
            "                                                                 \n",
            " dense_6 (Dense)             (None, 16)                144       \n",
            "                                                                 \n",
            " dense_7 (Dense)             (None, 23)                391       \n",
            "                                                                 \n",
            "=================================================================\n",
            "Total params: 1,055\n",
            "Trainable params: 1,055\n",
            "Non-trainable params: 0\n",
            "_________________________________________________________________\n",
            "None\n"
          ]
        }
      ]
    },
    {
      "cell_type": "code",
      "source": [
        "user_features_reduced_ae = train_reduce(user_autoencoder, user_encoder, user_features)\n",
        "movie_features_reduced_ae = train_reduce(movie_autoencoder, movie_encoder, movie_features)\n",
        "user_features_reduced_ae.shape, movie_features_reduced_ae.shape"
      ],
      "metadata": {
        "colab": {
          "base_uri": "https://localhost:8080/"
        },
        "id": "aUqNhlvj4oWu",
        "outputId": "d4e09630-cab9-4a05-fb4a-75560038651a"
      },
      "execution_count": 34,
      "outputs": [
        {
          "output_type": "stream",
          "name": "stdout",
          "text": [
            "---------------------------------------Trainig of AE Sarts:\n",
            "--------------------------------------- Dimensionality Reduction Sarts:\n",
            "30/30 [==============================] - 0s 2ms/step\n",
            "---------------------------------------Trainig of AE Sarts:\n",
            "--------------------------------------- Dimensionality Reduction Sarts:\n",
            "53/53 [==============================] - 0s 2ms/step\n"
          ]
        },
        {
          "output_type": "execute_result",
          "data": {
            "text/plain": [
              "((943, 8), (1681, 8))"
            ]
          },
          "metadata": {},
          "execution_count": 34
        }
      ]
    },
    {
      "cell_type": "code",
      "source": [
        "def generate_edge(rating_df, rating_threshold=4):\n",
        "\n",
        "  graph_edges = [[],[]]\n",
        "  edge_weight = []\n",
        "\n",
        "  for userID, movieID, rating in rating_df[['UserID','MovieID','Rating']].itertuples(index=False):\n",
        "    if rating >= rating_threshold:\n",
        "      graph_edges[0].append(userID)\n",
        "      graph_edges[1].append(movieID)\n",
        "      edge_weight.append(rating)\n",
        "    \n",
        "    else:\n",
        "      continue\n",
        "  \n",
        "  return torch.tensor(graph_edges, dtype=torch.long), torch.tensor(edge_weight, dtype=torch.float)"
      ],
      "metadata": {
        "id": "FFmQO9CsBGuo"
      },
      "execution_count": 35,
      "outputs": []
    },
    {
      "cell_type": "code",
      "source": [
        "graph_edges_train, label_train = generate_edge(train_rating_df, rating_threshold=0)\n",
        "graph_edges_validation, label_validation = generate_edge(validation_rating_df, rating_threshold=0)\n",
        "graph_edges_test, label_test = generate_edge(test_rating_df, rating_threshold=0)\n"
      ],
      "metadata": {
        "id": "rKeCQsOd9uYg"
      },
      "execution_count": 36,
      "outputs": []
    },
    {
      "cell_type": "code",
      "source": [
        "# user2movie_edge, user2movie_edge_weight = generate_edge(rating_df)\n",
        "# user2movie_edge, user2movie_edge.shape"
      ],
      "metadata": {
        "id": "eFpAwd-aCaWl"
      },
      "execution_count": 37,
      "outputs": []
    },
    {
      "cell_type": "code",
      "source": [
        "# torch.from_numpy(rating_df['UserID'].unique()).to(torch.int16),torch.from_numpy(rating_df['MovieID'].unique()).to(torch.int16)\n",
        "# dataset[\"user\"].node_id.dtype"
      ],
      "metadata": {
        "id": "SfH4qJuGrsem"
      },
      "execution_count": 38,
      "outputs": []
    },
    {
      "cell_type": "code",
      "source": [
        "def generate_hetero_dataset(data, movie_feature, user_feature, edges, labels):\n",
        "  dataset = HeteroData()\n",
        "\n",
        "  dataset[\"user\"].node_id = torch.tensor(users_df['UserID'].unique().astype(int), dtype=torch.int)\n",
        "  dataset[\"movie\"].node_id = torch.tensor(movies_df['MovieID'].unique().astype(int), dtype=torch.int)\n",
        "  dataset[\"movie\"].x = torch.tensor(movie_feature, dtype=torch.float)\n",
        "  dataset[\"user\"].x = torch.tensor(user_feature, dtype=torch.float)\n",
        "  dataset[\"user\", \"rates\", \"movie\"].edge_index = edges\n",
        "  dataset[\"user\", \"rates\", \"movie\"].edge_label_index = edges\n",
        "  dataset[\"user\", \"rates\", \"movie\"].edge_label = labels\n",
        "\n",
        "  dataset = transforms.ToUndirected()(dataset)\n",
        "  dataset = transforms.NormalizeFeatures()(dataset)\n",
        "  return dataset"
      ],
      "metadata": {
        "id": "ht7Q_rBwFgZ3"
      },
      "execution_count": 39,
      "outputs": []
    },
    {
      "cell_type": "code",
      "source": [
        "train_dataset = generate_hetero_dataset(train_rating_df, movie_features_reduced_ae, user_features_reduced_ae, graph_edges_train, label_train)\n",
        "validation_dataset = generate_hetero_dataset(validation_rating_df, movie_features_reduced_ae, user_features_reduced_ae, graph_edges_validation, label_validation)\n",
        "test_dataset = generate_hetero_dataset(test_rating_df, movie_features_reduced_ae, user_features_reduced_ae, graph_edges_test, label_test)"
      ],
      "metadata": {
        "id": "PP5s6hlvskRQ"
      },
      "execution_count": 40,
      "outputs": []
    },
    {
      "cell_type": "code",
      "source": [
        "(validation_dataset[\"user\", \"rates\", \"movie\"].edge_index).max(), validation_dataset[\"movie\"].x.size(0)"
      ],
      "metadata": {
        "colab": {
          "base_uri": "https://localhost:8080/"
        },
        "id": "bE3NUe5rGZ3Z",
        "outputId": "5a717448-1864-4755-dd8d-697171dddc1f"
      },
      "execution_count": 41,
      "outputs": [
        {
          "output_type": "execute_result",
          "data": {
            "text/plain": [
              "(tensor(1680), 1681)"
            ]
          },
          "metadata": {},
          "execution_count": 41
        }
      ]
    },
    {
      "cell_type": "code",
      "source": [
        "# dataset[\"movie\"].x.dtype , dataset[\"user\", \"rates\", \"movie\"].edge_index.dtype, dataset[\"user\"].node_id.dtype, dataset[\"movie\"].node_id.dtype"
      ],
      "metadata": {
        "id": "RuMG_Ir6Aczo"
      },
      "execution_count": 42,
      "outputs": []
    },
    {
      "cell_type": "code",
      "source": [
        "# data = HeteroData()\n",
        "# # Save node indices:\n",
        "# data[\"user\"].node_id = torch.arange(len(unique_user_id))\n",
        "# data[\"movie\"].node_id = torch.arange(len(movies_df))\n",
        "# # Add the node features and edge indices:\n",
        "# data[\"movie\"].x = movie_feat\n",
        "# data[\"user\", \"rates\", \"movie\"].edge_index = edge_index_user_to_movie\n",
        "# # We also need to make sure to add the reverse edges from movies to users\n",
        "# # in order to let a GNN be able to pass messages in both directions.\n",
        "# # We can leverage the `T.ToUndirected()` transform for this from PyG:\n",
        "# data = T.ToUndirected()(data)"
      ],
      "metadata": {
        "id": "Uju1eF5uAA15"
      },
      "execution_count": 43,
      "outputs": []
    },
    {
      "cell_type": "code",
      "source": [
        "# transform = transforms.RandomLinkSplit(\n",
        "#     num_val=0.1,\n",
        "#     num_test=0.2,\n",
        "#     disjoint_train_ratio=0.3,\n",
        "#     neg_sampling_ratio=2.0,\n",
        "#     add_negative_train_samples=False,\n",
        "#     edge_types=(\"user\", \"rates\", \"movie\"),\n",
        "#     rev_edge_types=(\"movie\", \"rev_rates\", \"user\"), \n",
        "# )\n",
        "# train_dataset, val_dataset, test_dataset = transform(train_dataset)"
      ],
      "metadata": {
        "id": "n56-zlctS2tq"
      },
      "execution_count": 44,
      "outputs": []
    },
    {
      "cell_type": "code",
      "source": [
        "# train_dataset, train_data"
      ],
      "metadata": {
        "id": "loVPlhbh4q2U"
      },
      "execution_count": 45,
      "outputs": []
    },
    {
      "cell_type": "code",
      "source": [
        "#  validation_dataset, val_data"
      ],
      "metadata": {
        "id": "Qy-XwENl4qOd"
      },
      "execution_count": 46,
      "outputs": []
    },
    {
      "cell_type": "code",
      "source": [
        "# test_dataset, test_data"
      ],
      "metadata": {
        "id": "Xjh9QFCh4-qe"
      },
      "execution_count": 47,
      "outputs": []
    },
    {
      "cell_type": "code",
      "source": [
        "def generate_data_loader(dataset):\n",
        "  edge_label_index = dataset[\"user\", \"rates\", \"movie\"].edge_label_index\n",
        "  edge_label = dataset[\"user\", \"rates\", \"movie\"].edge_label\n",
        "  data_loader = LinkNeighborLoader(\n",
        "      data=dataset,\n",
        "      num_neighbors=[20, 10],\n",
        "      neg_sampling_ratio=2.0,\n",
        "      edge_label_index=((\"user\", \"rates\", \"movie\"), edge_label_index),\n",
        "      edge_label=edge_label,\n",
        "      batch_size=32,\n",
        "      shuffle=True\n",
        "      )\n",
        "  return data_loader"
      ],
      "metadata": {
        "id": "kyndxnfgDg9r"
      },
      "execution_count": 48,
      "outputs": []
    },
    {
      "cell_type": "code",
      "source": [
        "train_loader = generate_data_loader(train_dataset)\n",
        "validation_loader = generate_data_loader(validation_dataset)\n",
        "test_loader = generate_data_loader(test_dataset)"
      ],
      "metadata": {
        "id": "DZtsZ8NyVar_"
      },
      "execution_count": 49,
      "outputs": []
    },
    {
      "cell_type": "code",
      "source": [
        "from torch_geometric.nn import SAGEConv, to_hetero\n",
        "import torch.nn.functional as F\n",
        "class GNN(torch.nn.Module):\n",
        "    def __init__(self, hidden_channels):\n",
        "        super().__init__()\n",
        "        self.conv1 = SAGEConv(hidden_channels, hidden_channels)\n",
        "        self.conv2 = SAGEConv(hidden_channels, hidden_channels)\n",
        "    def forward(self, x, edge_index):\n",
        "        x = F.relu(self.conv1(x, edge_index))\n",
        "        x = self.conv2(x, edge_index)\n",
        "        return x\n",
        "# Our final classifier applies the dot-product between source and destination\n",
        "# node embeddings to derive edge-level predictions:\n",
        "\n",
        "class Classifier(torch.nn.Module):\n",
        "    def forward(self, x_user, x_movie, edge_label_index):\n",
        "        # Convert node embeddings to edge-level representations:\n",
        "        edge_feat_user = x_user[edge_label_index[0]]\n",
        "        edge_feat_movie = x_movie[edge_label_index[1]]\n",
        "        # Apply dot-product to get a prediction per supervision edge:\n",
        "        return (edge_feat_user * edge_feat_movie).sum(dim=-1)\n",
        "\n",
        "class Model(torch.nn.Module):\n",
        "    \n",
        "    def __init__(self, data, hidden_channels, user_features_dim, movie_features_dim):\n",
        "        super().__init__()\n",
        "        # Since the dataset does not come with rich features, we also learn two\n",
        "        # embedding matrices for users and movies:\n",
        "        self.user_lin = torch.nn.Linear(user_features_dim, hidden_channels)\n",
        "        self.movie_lin = torch.nn.Linear(movie_features_dim, hidden_channels)\n",
        "        self.user_emb = torch.nn.Embedding(data[\"user\"].num_nodes, hidden_channels)\n",
        "        self.movie_emb = torch.nn.Embedding(data[\"movie\"].num_nodes, hidden_channels)\n",
        "        # Instantiate homogeneous GNN:\n",
        "        self.gnn = GNN(hidden_channels)\n",
        "        # Convert GNN model into a heterogeneous variant:\n",
        "        self.gnn = to_hetero(self.gnn, metadata=data.metadata())\n",
        "        self.classifier = Classifier()\n",
        "    \n",
        "    def forward(self, data):\n",
        "        # print(data[\"movie\"].node_id)\n",
        "        x_dict = {\n",
        "          # \"user\": self.user_lin(data[\"user\"].x) + self.user_emb(data[\"user\"].node_id),\n",
        "          \"user\": self.user_lin(data[\"user\"].x) + self.user_emb(data[\"user\"].node_id),\n",
        "          \"movie\": self.movie_lin(data[\"movie\"].x) + self.movie_emb(data[\"movie\"].node_id),\n",
        "        } \n",
        "        # `x_dict` holds feature matrices of all node types\n",
        "        # `edge_index_dict` holds all edge indices of all edge types\n",
        "        x_dict = self.gnn(x_dict, data.edge_index_dict)\n",
        "        pred = self.classifier(\n",
        "            x_dict[\"user\"],\n",
        "            x_dict[\"movie\"],\n",
        "            data[\"user\", \"rates\", \"movie\"].edge_label_index,\n",
        "        )\n",
        "        return pred\n",
        "        \n",
        "model = Model(data=train_dataset , hidden_channels=8, user_features_dim=8, movie_features_dim=8)\n",
        "model"
      ],
      "metadata": {
        "id": "ztVe6WBhHff0",
        "colab": {
          "base_uri": "https://localhost:8080/"
        },
        "outputId": "4e83b125-e8ac-4bc3-81de-69781b5a7858"
      },
      "execution_count": 50,
      "outputs": [
        {
          "output_type": "execute_result",
          "data": {
            "text/plain": [
              "Model(\n",
              "  (user_lin): Linear(in_features=8, out_features=8, bias=True)\n",
              "  (movie_lin): Linear(in_features=8, out_features=8, bias=True)\n",
              "  (user_emb): Embedding(943, 8)\n",
              "  (movie_emb): Embedding(1681, 8)\n",
              "  (gnn): GraphModule(\n",
              "    (conv1): ModuleDict(\n",
              "      (user__rates__movie): SAGEConv(8, 8, aggr=mean)\n",
              "      (movie__rev_rates__user): SAGEConv(8, 8, aggr=mean)\n",
              "    )\n",
              "    (conv2): ModuleDict(\n",
              "      (user__rates__movie): SAGEConv(8, 8, aggr=mean)\n",
              "      (movie__rev_rates__user): SAGEConv(8, 8, aggr=mean)\n",
              "    )\n",
              "  )\n",
              "  (classifier): Classifier()\n",
              ")"
            ]
          },
          "metadata": {},
          "execution_count": 50
        }
      ]
    },
    {
      "cell_type": "code",
      "source": [
        "del user_autoencoder, user_encoder, movie_autoencoder, movie_encoder, pca"
      ],
      "metadata": {
        "id": "ibblIz44EMSn"
      },
      "execution_count": 51,
      "outputs": []
    },
    {
      "cell_type": "code",
      "source": [
        "import tqdm\n",
        "import torch.nn.functional as F\n",
        "device = torch.device('cuda' if torch.cuda.is_available() else 'cpu')\n",
        "print(f\"Device: '{device}'\")\n",
        "model = model.to(device)\n",
        "optimizer = torch.optim.SGD(model.parameters(), lr=0.001)\n",
        "\n",
        "for epoch in range(1, 5):\n",
        "    total_loss = total_examples = 0\n",
        "    for sampled_data in tqdm.tqdm(validation_loader):\n",
        "        optimizer.zero_grad()\n",
        "        sampled_data.to(device)\n",
        "        pred = model(sampled_data)\n",
        "        ground_truth = sampled_data[\"user\", \"rates\", \"movie\"].edge_label\n",
        "        loss = F.mse_loss(pred, ground_truth)\n",
        "        loss.backward()\n",
        "        optimizer.step()\n",
        "        total_loss += float(loss) * pred.numel()\n",
        "        total_examples += pred.numel()\n",
        "    print(f\"Epoch: {epoch:03d}, Loss: {total_loss / total_examples:.4f}\")"
      ],
      "metadata": {
        "id": "nb8M-zqAH8ir",
        "colab": {
          "base_uri": "https://localhost:8080/"
        },
        "outputId": "496cec9f-088c-479f-a8db-0444b6bb2b20"
      },
      "execution_count": 58,
      "outputs": [
        {
          "output_type": "stream",
          "name": "stdout",
          "text": [
            "Device: 'cpu'\n"
          ]
        },
        {
          "output_type": "stream",
          "name": "stderr",
          "text": [
            "100%|██████████| 1250/1250 [00:10<00:00, 119.01it/s]\n"
          ]
        },
        {
          "output_type": "stream",
          "name": "stdout",
          "text": [
            "Epoch: 001, Loss: 2.7982\n"
          ]
        },
        {
          "output_type": "stream",
          "name": "stderr",
          "text": [
            "100%|██████████| 1250/1250 [00:11<00:00, 113.08it/s]\n"
          ]
        },
        {
          "output_type": "stream",
          "name": "stdout",
          "text": [
            "Epoch: 002, Loss: 2.7205\n"
          ]
        },
        {
          "output_type": "stream",
          "name": "stderr",
          "text": [
            "100%|██████████| 1250/1250 [00:08<00:00, 139.46it/s]\n"
          ]
        },
        {
          "output_type": "stream",
          "name": "stdout",
          "text": [
            "Epoch: 003, Loss: 2.6700\n"
          ]
        },
        {
          "output_type": "stream",
          "name": "stderr",
          "text": [
            "100%|██████████| 1250/1250 [00:08<00:00, 142.49it/s]"
          ]
        },
        {
          "output_type": "stream",
          "name": "stdout",
          "text": [
            "Epoch: 004, Loss: 2.6234\n"
          ]
        },
        {
          "output_type": "stream",
          "name": "stderr",
          "text": [
            "\n"
          ]
        }
      ]
    },
    {
      "cell_type": "code",
      "source": [
        "predicted = []\n",
        "labels = []\n",
        "i=0\n",
        "for sampled_data in tqdm.tqdm(train_loader):\n",
        "    with torch.no_grad():\n",
        "        sampled_data.to(device)\n",
        "        predicted.append(model(sampled_data))\n",
        "        labels.append(sampled_data[\"user\", \"rates\", \"movie\"].edge_label)\n",
        "\n",
        "predicted = torch.cat(predicted, dim=0).cpu().numpy()\n",
        "labels = torch.cat(labels, dim=0).cpu().numpy()\n",
        "# auc = roc_auc_score(labels, predicted)\n",
        "# predicted, labels\n",
        "print()\n",
        "# print(f\"Test AUC: {auc:.4f}\")"
      ],
      "metadata": {
        "colab": {
          "base_uri": "https://localhost:8080/"
        },
        "id": "SMCGRee6C3gt",
        "outputId": "bc7b00f0-e3b2-4cc7-87e8-6776f8d19f54"
      },
      "execution_count": 54,
      "outputs": [
        {
          "output_type": "stream",
          "name": "stderr",
          "text": [
            "100%|██████████| 1250/1250 [00:05<00:00, 228.20it/s]"
          ]
        },
        {
          "output_type": "stream",
          "name": "stdout",
          "text": [
            "\n"
          ]
        },
        {
          "output_type": "stream",
          "name": "stderr",
          "text": [
            "\n"
          ]
        }
      ]
    },
    {
      "cell_type": "code",
      "source": [
        "from sklearn.metrics import mean_squared_error, roc_auc_score\n",
        "from sklearn.metrics import classification_report\n",
        "\n",
        "mean_squared_error(labels, predicted, squared=False), mean_squared_error(labels, predicted, squared=True)\n"
      ],
      "metadata": {
        "colab": {
          "base_uri": "https://localhost:8080/"
        },
        "id": "tQUCxfDJD7R6",
        "outputId": "839f8622-6741-46ac-9bd4-44beab0336ad"
      },
      "execution_count": 55,
      "outputs": [
        {
          "output_type": "execute_result",
          "data": {
            "text/plain": [
              "(1.7763088, 3.1552727)"
            ]
          },
          "metadata": {},
          "execution_count": 55
        }
      ]
    },
    {
      "cell_type": "code",
      "source": [
        "l = np.where(labels>=3, 1, 0)\n",
        "p = np.where(predicted>=3, 1, 0)\n",
        "print(classification_report(l, p))"
      ],
      "metadata": {
        "colab": {
          "base_uri": "https://localhost:8080/"
        },
        "id": "dmfMc_SxJ8l-",
        "outputId": "7b5c685b-c02a-4dcf-bd22-50ea334977de"
      },
      "execution_count": 56,
      "outputs": [
        {
          "output_type": "stream",
          "name": "stdout",
          "text": [
            "              precision    recall  f1-score   support\n",
            "\n",
            "           0       0.72      0.97      0.83     87310\n",
            "           1       0.13      0.01      0.02     32687\n",
            "\n",
            "    accuracy                           0.71    119997\n",
            "   macro avg       0.43      0.49      0.43    119997\n",
            "weighted avg       0.56      0.71      0.61    119997\n",
            "\n"
          ]
        }
      ]
    },
    {
      "cell_type": "code",
      "source": [
        "predicted = []\n",
        "labels = []\n",
        "i=0\n",
        "for sampled_data in tqdm.tqdm(validation_loader):\n",
        "    with torch.no_grad():\n",
        "        sampled_data.to(device)\n",
        "        predicted.append(model(sampled_data))\n",
        "        labels.append(sampled_data[\"user\", \"rates\", \"movie\"].edge_label)\n",
        "\n",
        "predicted = torch.cat(predicted, dim=0).cpu().numpy()\n",
        "labels = torch.cat(labels, dim=0).cpu().numpy()\n",
        "# auc = roc_auc_score(labels, predicted)\n",
        "# predicted, labels\n",
        "print()\n",
        "# print(f\"Test AUC: {auc:.4f}\")"
      ],
      "metadata": {
        "colab": {
          "base_uri": "https://localhost:8080/",
          "height": 398
        },
        "id": "0xL5X4RVhe4R",
        "outputId": "fc51b514-9c4b-4ec9-9d78-426ca40a60d8"
      },
      "execution_count": null,
      "outputs": [
        {
          "output_type": "stream",
          "name": "stderr",
          "text": [
            "  0%|          | 0/625 [00:00<?, ?it/s]\n"
          ]
        },
        {
          "output_type": "error",
          "ename": "IndexError",
          "evalue": "ignored",
          "traceback": [
            "\u001b[0;31m---------------------------------------------------------------------------\u001b[0m",
            "\u001b[0;31mIndexError\u001b[0m                                Traceback (most recent call last)",
            "\u001b[0;32m<ipython-input-53-6fb4082e4775>\u001b[0m in \u001b[0;36m<module>\u001b[0;34m\u001b[0m\n\u001b[1;32m      2\u001b[0m \u001b[0mlabels\u001b[0m \u001b[0;34m=\u001b[0m \u001b[0;34m[\u001b[0m\u001b[0;34m]\u001b[0m\u001b[0;34m\u001b[0m\u001b[0;34m\u001b[0m\u001b[0m\n\u001b[1;32m      3\u001b[0m \u001b[0mi\u001b[0m\u001b[0;34m=\u001b[0m\u001b[0;36m0\u001b[0m\u001b[0;34m\u001b[0m\u001b[0;34m\u001b[0m\u001b[0m\n\u001b[0;32m----> 4\u001b[0;31m \u001b[0;32mfor\u001b[0m \u001b[0msampled_data\u001b[0m \u001b[0;32min\u001b[0m \u001b[0mtqdm\u001b[0m\u001b[0;34m.\u001b[0m\u001b[0mtqdm\u001b[0m\u001b[0;34m(\u001b[0m\u001b[0mvalidation_loader\u001b[0m\u001b[0;34m)\u001b[0m\u001b[0;34m:\u001b[0m\u001b[0;34m\u001b[0m\u001b[0;34m\u001b[0m\u001b[0m\n\u001b[0m\u001b[1;32m      5\u001b[0m     \u001b[0;32mwith\u001b[0m \u001b[0mtorch\u001b[0m\u001b[0;34m.\u001b[0m\u001b[0mno_grad\u001b[0m\u001b[0;34m(\u001b[0m\u001b[0;34m)\u001b[0m\u001b[0;34m:\u001b[0m\u001b[0;34m\u001b[0m\u001b[0;34m\u001b[0m\u001b[0m\n\u001b[1;32m      6\u001b[0m         \u001b[0msampled_data\u001b[0m\u001b[0;34m.\u001b[0m\u001b[0mto\u001b[0m\u001b[0;34m(\u001b[0m\u001b[0mdevice\u001b[0m\u001b[0;34m)\u001b[0m\u001b[0;34m\u001b[0m\u001b[0;34m\u001b[0m\u001b[0m\n",
            "\u001b[0;32m/usr/local/lib/python3.8/dist-packages/tqdm/std.py\u001b[0m in \u001b[0;36m__iter__\u001b[0;34m(self)\u001b[0m\n\u001b[1;32m   1193\u001b[0m \u001b[0;34m\u001b[0m\u001b[0m\n\u001b[1;32m   1194\u001b[0m         \u001b[0;32mtry\u001b[0m\u001b[0;34m:\u001b[0m\u001b[0;34m\u001b[0m\u001b[0;34m\u001b[0m\u001b[0m\n\u001b[0;32m-> 1195\u001b[0;31m             \u001b[0;32mfor\u001b[0m \u001b[0mobj\u001b[0m \u001b[0;32min\u001b[0m \u001b[0miterable\u001b[0m\u001b[0;34m:\u001b[0m\u001b[0;34m\u001b[0m\u001b[0;34m\u001b[0m\u001b[0m\n\u001b[0m\u001b[1;32m   1196\u001b[0m                 \u001b[0;32myield\u001b[0m \u001b[0mobj\u001b[0m\u001b[0;34m\u001b[0m\u001b[0;34m\u001b[0m\u001b[0m\n\u001b[1;32m   1197\u001b[0m                 \u001b[0;31m# Update and possibly print the progressbar.\u001b[0m\u001b[0;34m\u001b[0m\u001b[0;34m\u001b[0m\u001b[0;34m\u001b[0m\u001b[0m\n",
            "\u001b[0;32m/usr/local/lib/python3.8/dist-packages/torch_geometric/loader/base.py\u001b[0m in \u001b[0;36m__next__\u001b[0;34m(self)\u001b[0m\n\u001b[1;32m     34\u001b[0m \u001b[0;34m\u001b[0m\u001b[0m\n\u001b[1;32m     35\u001b[0m     \u001b[0;32mdef\u001b[0m \u001b[0m__next__\u001b[0m\u001b[0;34m(\u001b[0m\u001b[0mself\u001b[0m\u001b[0;34m)\u001b[0m \u001b[0;34m->\u001b[0m \u001b[0mAny\u001b[0m\u001b[0;34m:\u001b[0m\u001b[0;34m\u001b[0m\u001b[0;34m\u001b[0m\u001b[0m\n\u001b[0;32m---> 36\u001b[0;31m         \u001b[0;32mreturn\u001b[0m \u001b[0mself\u001b[0m\u001b[0;34m.\u001b[0m\u001b[0mtransform_fn\u001b[0m\u001b[0;34m(\u001b[0m\u001b[0mnext\u001b[0m\u001b[0;34m(\u001b[0m\u001b[0mself\u001b[0m\u001b[0;34m.\u001b[0m\u001b[0miterator\u001b[0m\u001b[0;34m)\u001b[0m\u001b[0;34m)\u001b[0m\u001b[0;34m\u001b[0m\u001b[0;34m\u001b[0m\u001b[0m\n\u001b[0m\u001b[1;32m     37\u001b[0m \u001b[0;34m\u001b[0m\u001b[0m\n\u001b[1;32m     38\u001b[0m \u001b[0;34m\u001b[0m\u001b[0m\n",
            "\u001b[0;32m/usr/local/lib/python3.8/dist-packages/torch_geometric/loader/link_loader.py\u001b[0m in \u001b[0;36mfilter_fn\u001b[0;34m(self, out)\u001b[0m\n\u001b[1;32m    204\u001b[0m         \u001b[0;32melif\u001b[0m \u001b[0misinstance\u001b[0m\u001b[0;34m(\u001b[0m\u001b[0mout\u001b[0m\u001b[0;34m,\u001b[0m \u001b[0mHeteroSamplerOutput\u001b[0m\u001b[0;34m)\u001b[0m\u001b[0;34m:\u001b[0m\u001b[0;34m\u001b[0m\u001b[0;34m\u001b[0m\u001b[0m\n\u001b[1;32m    205\u001b[0m             \u001b[0;32mif\u001b[0m \u001b[0misinstance\u001b[0m\u001b[0;34m(\u001b[0m\u001b[0mself\u001b[0m\u001b[0;34m.\u001b[0m\u001b[0mdata\u001b[0m\u001b[0;34m,\u001b[0m \u001b[0mHeteroData\u001b[0m\u001b[0;34m)\u001b[0m\u001b[0;34m:\u001b[0m\u001b[0;34m\u001b[0m\u001b[0;34m\u001b[0m\u001b[0m\n\u001b[0;32m--> 206\u001b[0;31m                 data = filter_hetero_data(self.data, out.node, out.row,\n\u001b[0m\u001b[1;32m    207\u001b[0m                                           \u001b[0mout\u001b[0m\u001b[0;34m.\u001b[0m\u001b[0mcol\u001b[0m\u001b[0;34m,\u001b[0m \u001b[0mout\u001b[0m\u001b[0;34m.\u001b[0m\u001b[0medge\u001b[0m\u001b[0;34m,\u001b[0m\u001b[0;34m\u001b[0m\u001b[0;34m\u001b[0m\u001b[0m\n\u001b[1;32m    208\u001b[0m                                           self.link_sampler.edge_permutation)\n",
            "\u001b[0;32m/usr/local/lib/python3.8/dist-packages/torch_geometric/loader/utils.py\u001b[0m in \u001b[0;36mfilter_hetero_data\u001b[0;34m(data, node_dict, row_dict, col_dict, edge_dict, perm_dict)\u001b[0m\n\u001b[1;32m    150\u001b[0m \u001b[0;34m\u001b[0m\u001b[0m\n\u001b[1;32m    151\u001b[0m     \u001b[0;32mfor\u001b[0m \u001b[0mnode_type\u001b[0m \u001b[0;32min\u001b[0m \u001b[0mdata\u001b[0m\u001b[0;34m.\u001b[0m\u001b[0mnode_types\u001b[0m\u001b[0;34m:\u001b[0m\u001b[0;34m\u001b[0m\u001b[0;34m\u001b[0m\u001b[0m\n\u001b[0;32m--> 152\u001b[0;31m         filter_node_store_(data[node_type], out[node_type],\n\u001b[0m\u001b[1;32m    153\u001b[0m                            node_dict[node_type])\n\u001b[1;32m    154\u001b[0m \u001b[0;34m\u001b[0m\u001b[0m\n",
            "\u001b[0;32m/usr/local/lib/python3.8/dist-packages/torch_geometric/loader/utils.py\u001b[0m in \u001b[0;36mfilter_node_store_\u001b[0;34m(store, out_store, index)\u001b[0m\n\u001b[1;32m     76\u001b[0m                 \u001b[0mindex\u001b[0m \u001b[0;34m=\u001b[0m \u001b[0mindex\u001b[0m\u001b[0;34m.\u001b[0m\u001b[0mcpu\u001b[0m\u001b[0;34m(\u001b[0m\u001b[0;34m)\u001b[0m\u001b[0;34m\u001b[0m\u001b[0;34m\u001b[0m\u001b[0m\n\u001b[1;32m     77\u001b[0m             \u001b[0mdim\u001b[0m \u001b[0;34m=\u001b[0m \u001b[0mstore\u001b[0m\u001b[0;34m.\u001b[0m\u001b[0m_parent\u001b[0m\u001b[0;34m(\u001b[0m\u001b[0;34m)\u001b[0m\u001b[0;34m.\u001b[0m\u001b[0m__cat_dim__\u001b[0m\u001b[0;34m(\u001b[0m\u001b[0mkey\u001b[0m\u001b[0;34m,\u001b[0m \u001b[0mvalue\u001b[0m\u001b[0;34m,\u001b[0m \u001b[0mstore\u001b[0m\u001b[0;34m)\u001b[0m\u001b[0;34m\u001b[0m\u001b[0;34m\u001b[0m\u001b[0m\n\u001b[0;32m---> 78\u001b[0;31m             \u001b[0mout_store\u001b[0m\u001b[0;34m[\u001b[0m\u001b[0mkey\u001b[0m\u001b[0;34m]\u001b[0m \u001b[0;34m=\u001b[0m \u001b[0mindex_select\u001b[0m\u001b[0;34m(\u001b[0m\u001b[0mvalue\u001b[0m\u001b[0;34m,\u001b[0m \u001b[0mindex\u001b[0m\u001b[0;34m,\u001b[0m \u001b[0mdim\u001b[0m\u001b[0;34m=\u001b[0m\u001b[0mdim\u001b[0m\u001b[0;34m)\u001b[0m\u001b[0;34m\u001b[0m\u001b[0;34m\u001b[0m\u001b[0m\n\u001b[0m\u001b[1;32m     79\u001b[0m \u001b[0;34m\u001b[0m\u001b[0m\n\u001b[1;32m     80\u001b[0m     \u001b[0;32mreturn\u001b[0m \u001b[0mstore\u001b[0m\u001b[0;34m\u001b[0m\u001b[0;34m\u001b[0m\u001b[0m\n",
            "\u001b[0;32m/usr/local/lib/python3.8/dist-packages/torch_geometric/loader/utils.py\u001b[0m in \u001b[0;36mindex_select\u001b[0;34m(value, index, dim)\u001b[0m\n\u001b[1;32m     54\u001b[0m             \u001b[0mout\u001b[0m \u001b[0;34m=\u001b[0m \u001b[0mvalue\u001b[0m\u001b[0;34m.\u001b[0m\u001b[0mnew\u001b[0m\u001b[0;34m(\u001b[0m\u001b[0mstorage\u001b[0m\u001b[0;34m)\u001b[0m\u001b[0;34m.\u001b[0m\u001b[0mview\u001b[0m\u001b[0;34m(\u001b[0m\u001b[0msize\u001b[0m\u001b[0;34m)\u001b[0m\u001b[0;34m\u001b[0m\u001b[0;34m\u001b[0m\u001b[0m\n\u001b[1;32m     55\u001b[0m \u001b[0;34m\u001b[0m\u001b[0m\n\u001b[0;32m---> 56\u001b[0;31m         \u001b[0;32mreturn\u001b[0m \u001b[0mtorch\u001b[0m\u001b[0;34m.\u001b[0m\u001b[0mindex_select\u001b[0m\u001b[0;34m(\u001b[0m\u001b[0mvalue\u001b[0m\u001b[0;34m,\u001b[0m \u001b[0mdim\u001b[0m\u001b[0;34m,\u001b[0m \u001b[0mindex\u001b[0m\u001b[0;34m,\u001b[0m \u001b[0mout\u001b[0m\u001b[0;34m=\u001b[0m\u001b[0mout\u001b[0m\u001b[0;34m)\u001b[0m\u001b[0;34m\u001b[0m\u001b[0;34m\u001b[0m\u001b[0m\n\u001b[0m\u001b[1;32m     57\u001b[0m \u001b[0;34m\u001b[0m\u001b[0m\n\u001b[1;32m     58\u001b[0m     \u001b[0;32melif\u001b[0m \u001b[0misinstance\u001b[0m\u001b[0;34m(\u001b[0m\u001b[0mvalue\u001b[0m\u001b[0;34m,\u001b[0m \u001b[0mnp\u001b[0m\u001b[0;34m.\u001b[0m\u001b[0mndarray\u001b[0m\u001b[0;34m)\u001b[0m\u001b[0;34m:\u001b[0m\u001b[0;34m\u001b[0m\u001b[0;34m\u001b[0m\u001b[0m\n",
            "\u001b[0;31mIndexError\u001b[0m: index out of range in self"
          ]
        }
      ]
    },
    {
      "cell_type": "code",
      "source": [
        "from sklearn.metrics import mean_squared_error, roc_auc_score\n",
        "from sklearn.metrics import classification_report\n",
        "\n",
        "mean_squared_error(labels, predicted, squared=False), mean_squared_error(labels, predicted, squared=True)\n"
      ],
      "metadata": {
        "colab": {
          "base_uri": "https://localhost:8080/",
          "height": 364
        },
        "id": "aJb38TjBhe1s",
        "outputId": "e401ead0-65aa-4daa-a57b-266895e67a63"
      },
      "execution_count": null,
      "outputs": [
        {
          "output_type": "error",
          "ename": "ValueError",
          "evalue": "ignored",
          "traceback": [
            "\u001b[0;31m---------------------------------------------------------------------------\u001b[0m",
            "\u001b[0;31mValueError\u001b[0m                                Traceback (most recent call last)",
            "\u001b[0;32m<ipython-input-54-4a20ae6e2117>\u001b[0m in \u001b[0;36m<module>\u001b[0;34m\u001b[0m\n\u001b[1;32m      2\u001b[0m \u001b[0;32mfrom\u001b[0m \u001b[0msklearn\u001b[0m\u001b[0;34m.\u001b[0m\u001b[0mmetrics\u001b[0m \u001b[0;32mimport\u001b[0m \u001b[0mclassification_report\u001b[0m\u001b[0;34m\u001b[0m\u001b[0;34m\u001b[0m\u001b[0m\n\u001b[1;32m      3\u001b[0m \u001b[0;34m\u001b[0m\u001b[0m\n\u001b[0;32m----> 4\u001b[0;31m \u001b[0mmean_squared_error\u001b[0m\u001b[0;34m(\u001b[0m\u001b[0mlabels\u001b[0m\u001b[0;34m,\u001b[0m \u001b[0mpredicted\u001b[0m\u001b[0;34m,\u001b[0m \u001b[0msquared\u001b[0m\u001b[0;34m=\u001b[0m\u001b[0;32mFalse\u001b[0m\u001b[0;34m)\u001b[0m\u001b[0;34m,\u001b[0m \u001b[0mmean_squared_error\u001b[0m\u001b[0;34m(\u001b[0m\u001b[0mlabels\u001b[0m\u001b[0;34m,\u001b[0m \u001b[0mpredicted\u001b[0m\u001b[0;34m,\u001b[0m \u001b[0msquared\u001b[0m\u001b[0;34m=\u001b[0m\u001b[0;32mTrue\u001b[0m\u001b[0;34m)\u001b[0m\u001b[0;34m\u001b[0m\u001b[0;34m\u001b[0m\u001b[0m\n\u001b[0m",
            "\u001b[0;32m/usr/local/lib/python3.8/dist-packages/sklearn/metrics/_regression.py\u001b[0m in \u001b[0;36mmean_squared_error\u001b[0;34m(y_true, y_pred, sample_weight, multioutput, squared)\u001b[0m\n\u001b[1;32m    436\u001b[0m     \u001b[0;36m0.825\u001b[0m\u001b[0;34m...\u001b[0m\u001b[0;34m\u001b[0m\u001b[0;34m\u001b[0m\u001b[0m\n\u001b[1;32m    437\u001b[0m     \"\"\"\n\u001b[0;32m--> 438\u001b[0;31m     y_type, y_true, y_pred, multioutput = _check_reg_targets(\n\u001b[0m\u001b[1;32m    439\u001b[0m         \u001b[0my_true\u001b[0m\u001b[0;34m,\u001b[0m \u001b[0my_pred\u001b[0m\u001b[0;34m,\u001b[0m \u001b[0mmultioutput\u001b[0m\u001b[0;34m\u001b[0m\u001b[0;34m\u001b[0m\u001b[0m\n\u001b[1;32m    440\u001b[0m     )\n",
            "\u001b[0;32m/usr/local/lib/python3.8/dist-packages/sklearn/metrics/_regression.py\u001b[0m in \u001b[0;36m_check_reg_targets\u001b[0;34m(y_true, y_pred, multioutput, dtype)\u001b[0m\n\u001b[1;32m     93\u001b[0m     \"\"\"\n\u001b[1;32m     94\u001b[0m     \u001b[0mcheck_consistent_length\u001b[0m\u001b[0;34m(\u001b[0m\u001b[0my_true\u001b[0m\u001b[0;34m,\u001b[0m \u001b[0my_pred\u001b[0m\u001b[0;34m)\u001b[0m\u001b[0;34m\u001b[0m\u001b[0;34m\u001b[0m\u001b[0m\n\u001b[0;32m---> 95\u001b[0;31m     \u001b[0my_true\u001b[0m \u001b[0;34m=\u001b[0m \u001b[0mcheck_array\u001b[0m\u001b[0;34m(\u001b[0m\u001b[0my_true\u001b[0m\u001b[0;34m,\u001b[0m \u001b[0mensure_2d\u001b[0m\u001b[0;34m=\u001b[0m\u001b[0;32mFalse\u001b[0m\u001b[0;34m,\u001b[0m \u001b[0mdtype\u001b[0m\u001b[0;34m=\u001b[0m\u001b[0mdtype\u001b[0m\u001b[0;34m)\u001b[0m\u001b[0;34m\u001b[0m\u001b[0;34m\u001b[0m\u001b[0m\n\u001b[0m\u001b[1;32m     96\u001b[0m     \u001b[0my_pred\u001b[0m \u001b[0;34m=\u001b[0m \u001b[0mcheck_array\u001b[0m\u001b[0;34m(\u001b[0m\u001b[0my_pred\u001b[0m\u001b[0;34m,\u001b[0m \u001b[0mensure_2d\u001b[0m\u001b[0;34m=\u001b[0m\u001b[0;32mFalse\u001b[0m\u001b[0;34m,\u001b[0m \u001b[0mdtype\u001b[0m\u001b[0;34m=\u001b[0m\u001b[0mdtype\u001b[0m\u001b[0;34m)\u001b[0m\u001b[0;34m\u001b[0m\u001b[0;34m\u001b[0m\u001b[0m\n\u001b[1;32m     97\u001b[0m \u001b[0;34m\u001b[0m\u001b[0m\n",
            "\u001b[0;32m/usr/local/lib/python3.8/dist-packages/sklearn/utils/validation.py\u001b[0m in \u001b[0;36mcheck_array\u001b[0;34m(array, accept_sparse, accept_large_sparse, dtype, order, copy, force_all_finite, ensure_2d, allow_nd, ensure_min_samples, ensure_min_features, estimator)\u001b[0m\n\u001b[1;32m    803\u001b[0m         \u001b[0mn_samples\u001b[0m \u001b[0;34m=\u001b[0m \u001b[0m_num_samples\u001b[0m\u001b[0;34m(\u001b[0m\u001b[0marray\u001b[0m\u001b[0;34m)\u001b[0m\u001b[0;34m\u001b[0m\u001b[0;34m\u001b[0m\u001b[0m\n\u001b[1;32m    804\u001b[0m         \u001b[0;32mif\u001b[0m \u001b[0mn_samples\u001b[0m \u001b[0;34m<\u001b[0m \u001b[0mensure_min_samples\u001b[0m\u001b[0;34m:\u001b[0m\u001b[0;34m\u001b[0m\u001b[0;34m\u001b[0m\u001b[0m\n\u001b[0;32m--> 805\u001b[0;31m             raise ValueError(\n\u001b[0m\u001b[1;32m    806\u001b[0m                 \u001b[0;34m\"Found array with %d sample(s) (shape=%s) while a\"\u001b[0m\u001b[0;34m\u001b[0m\u001b[0;34m\u001b[0m\u001b[0m\n\u001b[1;32m    807\u001b[0m                 \u001b[0;34m\" minimum of %d is required%s.\"\u001b[0m\u001b[0;34m\u001b[0m\u001b[0;34m\u001b[0m\u001b[0m\n",
            "\u001b[0;31mValueError\u001b[0m: Found array with 0 sample(s) (shape=(0,)) while a minimum of 1 is required."
          ]
        }
      ]
    },
    {
      "cell_type": "code",
      "source": [
        "l = np.where(labels>=3, 1, 0)\n",
        "p = np.where(predicted>=3, 1, 0)\n",
        "print(classification_report(l, p))"
      ],
      "metadata": {
        "id": "1_dzf87Khey2"
      },
      "execution_count": null,
      "outputs": []
    },
    {
      "cell_type": "code",
      "source": [
        "from torch_geometric.data import download_url, extract_zip\n",
        "\n",
        "url = 'https://files.grouplens.org/datasets/movielens/ml-latest-small.zip'\n",
        "extract_zip(download_url(url, '.'), '.')\n",
        "\n",
        "movies_path = './ml-latest-small/movies.csv'\n",
        "ratings_path = './ml-latest-small/ratings.csv'"
      ],
      "metadata": {
        "id": "-UhwccPs1C0s",
        "colab": {
          "base_uri": "https://localhost:8080/"
        },
        "outputId": "4e93679b-90fd-4470-a58f-9f5ac659ae7d"
      },
      "execution_count": null,
      "outputs": [
        {
          "output_type": "stream",
          "name": "stderr",
          "text": [
            "Using existing file ml-latest-small.zip\n",
            "Extracting ./ml-latest-small.zip\n"
          ]
        }
      ]
    },
    {
      "cell_type": "code",
      "source": [
        "# Load the entire movie data frame into memory:\n",
        "movies_df = pd.read_csv(movies_path, index_col='movieId')\n",
        "\n",
        "# Split genres and convert into indicator variables:\n",
        "genres = movies_df['genres'].str.get_dummies('|')\n",
        "print(genres[[\"Action\", \"Adventure\", \"Drama\", \"Horror\"]].head())\n",
        "# Use genres as movie input features:\n",
        "movie_feat = torch.from_numpy(genres.values).to(torch.float)\n",
        "assert movie_feat.size() == (9742, 20)  # 20 genres in total."
      ],
      "metadata": {
        "id": "952hNLe_1CyU",
        "colab": {
          "base_uri": "https://localhost:8080/"
        },
        "outputId": "b15af948-09d4-4c57-d2fa-f7a692b14d2f"
      },
      "execution_count": null,
      "outputs": [
        {
          "output_type": "stream",
          "name": "stdout",
          "text": [
            "         Action  Adventure  Drama  Horror\n",
            "movieId                                  \n",
            "1             0          1      0       0\n",
            "2             0          1      0       0\n",
            "3             0          0      0       0\n",
            "4             0          0      1       0\n",
            "5             0          0      0       0\n"
          ]
        }
      ]
    },
    {
      "cell_type": "code",
      "source": [
        "len(movies_df)"
      ],
      "metadata": {
        "colab": {
          "base_uri": "https://localhost:8080/"
        },
        "id": "PwczHgPg7brP",
        "outputId": "5e6b1178-c0c8-42eb-ed2a-744523d7e43f"
      },
      "execution_count": null,
      "outputs": [
        {
          "output_type": "execute_result",
          "data": {
            "text/plain": [
              "9742"
            ]
          },
          "metadata": {},
          "execution_count": 12
        }
      ]
    },
    {
      "cell_type": "code",
      "source": [
        "movie_feat.shape"
      ],
      "metadata": {
        "colab": {
          "base_uri": "https://localhost:8080/"
        },
        "id": "tz4sY_uG62ZB",
        "outputId": "3c1712be-6737-4cc9-cc00-80a3d3865e75"
      },
      "execution_count": null,
      "outputs": [
        {
          "output_type": "execute_result",
          "data": {
            "text/plain": [
              "torch.Size([9742, 20])"
            ]
          },
          "metadata": {},
          "execution_count": 13
        }
      ]
    },
    {
      "cell_type": "code",
      "source": [
        "# movies_df = pd.read_csv('/content/gdrive/MyDrive/MLG_Final_Project/MovieLens100k/Data/movies_df.csv')\n",
        "# ratings_df = pd.read_csv('/content/gdrive/MyDrive/MLG_Final_Project/MovieLens100k/Data/rating_df.csv')\n",
        "# users_df = pd.read_csv('/content/gdrive/MyDrive/MLG_Final_Project/MovieLens100k/Data/users_df.csv')\n",
        "# movies_df.shape, ratings_df.shape, users_df.shape\n"
      ],
      "metadata": {
        "id": "ZXRuQRYs7cgQ"
      },
      "execution_count": null,
      "outputs": []
    },
    {
      "cell_type": "code",
      "source": [
        "# def generate_graph_edges(movies_df, ratings_df, users_df, rate_threshold=4):\n",
        "#   unique_user_id = ratings_df['UserID'].unique()\n",
        "#   unique_user_id = pd.DataFrame(data={\n",
        "#       'UserID': unique_user_id,\n",
        "#       'mappedID': pd.RangeIndex(len(unique_user_id))\n",
        "#       })\n",
        "#   userid_mapper = dict(zip(unique_user_id.iloc[:,0], unique_user_id.iloc[:,-1]))\n",
        "  \n",
        "#   print(\"1. Mapping UserID to consecutive values... \")\n",
        "\n",
        "#   unique_movie_id = ratings_df['MovieID'].unique()\n",
        "#   unique_movie_id = pd.DataFrame(data={\n",
        "#       'MovieID': unique_movie_id,\n",
        "#       'mappedID': pd.RangeIndex(len(unique_movie_id))\n",
        "#       })\n",
        "#   movieid_mapper = dict(zip(unique_movie_id.iloc[:,0], unique_movie_id.iloc[:,-1]))\n",
        "#   print(\"2. Mapping MovieID to consecutive values... \")\n",
        "\n",
        "#   users_df['UserID'] = users_df['UserID'].map(userid_mapper)\n",
        "#   movies_df['MovieID'] =  movies_df['MovieID'].map(movieid_mapper)\n",
        "#   ratings_df['UserID'] = ratings_df['UserID'].map(userid_mapper)\n",
        "#   ratings_df['MovieID'] =  ratings_df['MovieID'].map(movieid_mapper)\n",
        "  \n",
        "#   ratings_user_id = pd.merge(ratings_df[ratings_df['Rating']>=rate_threshold]['UserID'], unique_user_id,\n",
        "#                              left_on='UserID', right_on='UserID', how='left')\n",
        "#   ratings_user_id = torch.from_numpy(ratings_user_id['mappedID'].values)\n",
        "#   ratings_movie_id = pd.merge(ratings_df[ratings_df['Rating']>=rate_threshold]['MovieID'], unique_movie_id,\n",
        "#                               left_on='MovieID', right_on='MovieID', how='left')\n",
        "#   ratings_movie_id = torch.from_numpy(ratings_movie_id['mappedID'].values)\n",
        "#   edge_user_to_movie = torch.stack([ratings_user_id, ratings_movie_id], dim=0)\n",
        "#   print()\n",
        "#   print(\"3. Extract Graph Edges... \")\n",
        "#   print(\"=================================================\")\n",
        "  \n",
        "#   return movies_df.reset_index(drop=True), ratings_df.reset_index(drop=True), users_df.reset_index(drop=True), edge_user_to_movie"
      ],
      "metadata": {
        "id": "zyq7JVc9RkK7"
      },
      "execution_count": null,
      "outputs": []
    },
    {
      "cell_type": "code",
      "source": [
        "# # Load the entire ratings data frame into memory:\n",
        "# # ratings_df = pd.read_csv(ratings_path)\n",
        "\n",
        "# # Create a mapping from unique user indices to range [0, num_user_nodes):\n",
        "# unique_user_id = ratings_df['UserID'].unique()\n",
        "# unique_user_id = pd.DataFrame(data={\n",
        "#     'UserID': unique_user_id,\n",
        "#     'mappedID': pd.RangeIndex(len(unique_user_id)),\n",
        "# })\n",
        "# print(\"Mapping of user IDs to consecutive values:\")\n",
        "# print(\"==========================================\")\n",
        "# print(unique_user_id.head())\n",
        "# print()\n",
        "# # Create a mapping from unique movie indices to range [0, num_movie_nodes):\n",
        "# unique_movie_id = ratings_df['MovieID'].unique()\n",
        "# unique_movie_id = pd.DataFrame(data={\n",
        "#     'MovieID': unique_movie_id,\n",
        "#     'mappedID': pd.RangeIndex(len(unique_movie_id)),\n",
        "# })\n",
        "# print(\"Mapping of movie IDs to consecutive values:\")\n",
        "# print(\"===========================================\")\n",
        "# print(unique_movie_id.head())\n",
        "# # Perform merge to obtain the edges from users and movies:\n",
        "# ratings_user_id = pd.merge(ratings_df[ratings_df['Rating']>=4]['UserID'], unique_user_id,\n",
        "#                             left_on='UserID', right_on='UserID', how='left')\n",
        "# ratings_user_id = torch.from_numpy(ratings_user_id['mappedID'].values)\n",
        "# ratings_movie_id = pd.merge(ratings_df[ratings_df['Rating']>=4]['MovieID'], unique_movie_id,\n",
        "#                             left_on='MovieID', right_on='MovieID', how='left')\n",
        "# ratings_movie_id = torch.from_numpy(ratings_movie_id['mappedID'].values)\n",
        "# # With this, we are ready to construct our `edge_index` in COO format\n",
        "# # following PyG semantics:\n",
        "# edge_index_user_to_movie = torch.stack([ratings_user_id, ratings_movie_id], dim=0)\n",
        "# # assert edge_index_user_to_movie.size() == (2, 100836)\n",
        "# print()\n",
        "# print(\"Final edge indices pointing from users to movies:\")\n",
        "# print(\"=================================================\")\n",
        "# print(edge_index_user_to_movie)"
      ],
      "metadata": {
        "id": "wfFebKEw7r6v"
      },
      "execution_count": null,
      "outputs": []
    },
    {
      "cell_type": "code",
      "source": [
        "# Load the entire ratings data frame into memory:\n",
        "ratings_df = pd.read_csv(ratings_path)\n",
        "\n",
        "# Create a mapping from unique user indices to range [0, num_user_nodes):\n",
        "unique_user_id = ratings_df['userId'].unique()\n",
        "unique_user_id = pd.DataFrame(data={\n",
        "    'userId': unique_user_id,\n",
        "    'mappedID': pd.RangeIndex(len(unique_user_id)),\n",
        "})\n",
        "print(\"Mapping of user IDs to consecutive values:\")\n",
        "print(\"==========================================\")\n",
        "print(unique_user_id.head())\n",
        "print()\n",
        "# Create a mapping from unique movie indices to range [0, num_movie_nodes):\n",
        "unique_movie_id = ratings_df['movieId'].unique()\n",
        "unique_movie_id = pd.DataFrame(data={\n",
        "    'movieId': unique_movie_id,\n",
        "    'mappedID': pd.RangeIndex(len(unique_movie_id)),\n",
        "})\n",
        "print(\"Mapping of movie IDs to consecutive values:\")\n",
        "print(\"===========================================\")\n",
        "print(unique_movie_id.head())\n",
        "# Perform merge to obtain the edges from users and movies:\n",
        "ratings_user_id = pd.merge(ratings_df[ratings_df['rating']>=4]['userId'], unique_user_id,\n",
        "                            left_on='userId', right_on='userId', how='left')\n",
        "ratings_user_id = torch.from_numpy(ratings_user_id['mappedID'].values)\n",
        "ratings_movie_id = pd.merge(ratings_df[ratings_df['rating']>=4]['movieId'], unique_movie_id,\n",
        "                            left_on='movieId', right_on='movieId', how='left')\n",
        "ratings_movie_id = torch.from_numpy(ratings_movie_id['mappedID'].values)\n",
        "# With this, we are ready to construct our `edge_index` in COO format\n",
        "# following PyG semantics:\n",
        "edge_index_user_to_movie = torch.stack([ratings_user_id, ratings_movie_id], dim=0)\n",
        "# assert edge_index_user_to_movie.size() == (2, 100836)\n",
        "print()\n",
        "print(\"Final edge indices pointing from users to movies:\")\n",
        "print(\"=================================================\")\n",
        "print(edge_index_user_to_movie)"
      ],
      "metadata": {
        "colab": {
          "base_uri": "https://localhost:8080/"
        },
        "id": "q7gUbBdm1CwE",
        "outputId": "457a4db3-621f-4057-f8c8-799e5f51a285"
      },
      "execution_count": null,
      "outputs": [
        {
          "output_type": "stream",
          "name": "stdout",
          "text": [
            "Mapping of user IDs to consecutive values:\n",
            "==========================================\n",
            "   userId  mappedID\n",
            "0       1         0\n",
            "1       2         1\n",
            "2       3         2\n",
            "3       4         3\n",
            "4       5         4\n",
            "\n",
            "Mapping of movie IDs to consecutive values:\n",
            "===========================================\n",
            "   movieId  mappedID\n",
            "0        1         0\n",
            "1        3         1\n",
            "2        6         2\n",
            "3       47         3\n",
            "4       50         4\n",
            "\n",
            "Final edge indices pointing from users to movies:\n",
            "=================================================\n",
            "tensor([[   0,    0,    0,  ...,  609,  609,  609],\n",
            "        [   0,    1,    2,  ..., 2035, 3121, 1392]])\n"
          ]
        }
      ]
    },
    {
      "cell_type": "code",
      "source": [
        "# Load the entire ratings data frame into memory:\n",
        "ratings_df = pd.read_csv(ratings_path)\n",
        "\n",
        "# Create a mapping from unique user indices to range [0, num_user_nodes):\n",
        "unique_user_id = ratings_df['userId'].unique()\n",
        "unique_user_id = pd.DataFrame(data={\n",
        "    'userId': unique_user_id,\n",
        "    'mappedID': pd.RangeIndex(len(unique_user_id)),\n",
        "})\n",
        "print(\"Mapping of user IDs to consecutive values:\")\n",
        "print(\"==========================================\")\n",
        "print(unique_user_id.head())\n",
        "print()\n",
        "# Create a mapping from unique movie indices to range [0, num_movie_nodes):\n",
        "unique_movie_id = ratings_df['movieId'].unique()\n",
        "unique_movie_id = pd.DataFrame(data={\n",
        "    'movieId': unique_movie_id,\n",
        "    'mappedID': pd.RangeIndex(len(unique_movie_id)),\n",
        "})\n",
        "print(\"Mapping of movie IDs to consecutive values:\")\n",
        "print(\"===========================================\")\n",
        "print(unique_movie_id.head())\n",
        "# Perform merge to obtain the edges from users and movies:\n",
        "ratings_user_id = pd.merge(ratings_df['userId'], unique_user_id,\n",
        "                            left_on='userId', right_on='userId', how='left')\n",
        "ratings_user_id = torch.from_numpy(ratings_user_id['mappedID'].values)\n",
        "ratings_movie_id = pd.merge(ratings_df['movieId'], unique_movie_id,\n",
        "                            left_on='movieId', right_on='movieId', how='left')\n",
        "ratings_movie_id = torch.from_numpy(ratings_movie_id['mappedID'].values)\n",
        "# With this, we are ready to construct our `edge_index` in COO format\n",
        "# following PyG semantics:\n",
        "edge_index_user_to_movie = torch.stack([ratings_user_id, ratings_movie_id], dim=0)\n",
        "weights = ratings_df['rating'].to_numpy()\n",
        "# assert edge_index_user_to_movie.size() == (2, 100836)\n",
        "print()\n",
        "print(\"Final edge indices pointing from users to movies:\")\n",
        "print(\"=================================================\")\n",
        "print(edge_index_user_to_movie)"
      ],
      "metadata": {
        "colab": {
          "base_uri": "https://localhost:8080/"
        },
        "id": "gkL_Cqn2wVXK",
        "outputId": "30d6801b-77cb-4b6d-9dc6-688ef39c9f1f"
      },
      "execution_count": null,
      "outputs": [
        {
          "output_type": "stream",
          "name": "stdout",
          "text": [
            "Mapping of user IDs to consecutive values:\n",
            "==========================================\n",
            "   userId  mappedID\n",
            "0       1         0\n",
            "1       2         1\n",
            "2       3         2\n",
            "3       4         3\n",
            "4       5         4\n",
            "\n",
            "Mapping of movie IDs to consecutive values:\n",
            "===========================================\n",
            "   movieId  mappedID\n",
            "0        1         0\n",
            "1        3         1\n",
            "2        6         2\n",
            "3       47         3\n",
            "4       50         4\n",
            "\n",
            "Final edge indices pointing from users to movies:\n",
            "=================================================\n",
            "tensor([[   0,    0,    0,  ...,  609,  609,  609],\n",
            "        [   0,    1,    2,  ..., 3121, 1392, 2873]])\n"
          ]
        }
      ]
    },
    {
      "cell_type": "code",
      "source": [
        "from torch_geometric.data import HeteroData\n",
        "import torch_geometric.transforms as T"
      ],
      "metadata": {
        "id": "lq3cHRDp1CtF"
      },
      "execution_count": null,
      "outputs": []
    },
    {
      "cell_type": "code",
      "source": [
        "len(movies_df)"
      ],
      "metadata": {
        "colab": {
          "base_uri": "https://localhost:8080/"
        },
        "id": "7jJB9m459inr",
        "outputId": "b8571379-fa18-42a6-ae30-37a0fea8faa0"
      },
      "execution_count": null,
      "outputs": [
        {
          "output_type": "execute_result",
          "data": {
            "text/plain": [
              "9742"
            ]
          },
          "metadata": {},
          "execution_count": 36
        }
      ]
    },
    {
      "cell_type": "code",
      "source": [
        "len(edge_index_user_to_movie[0])"
      ],
      "metadata": {
        "colab": {
          "base_uri": "https://localhost:8080/"
        },
        "id": "WBdmS_4kzJwX",
        "outputId": "91a614cb-8061-44b6-a3cc-d6b083269ad6"
      },
      "execution_count": null,
      "outputs": [
        {
          "output_type": "execute_result",
          "data": {
            "text/plain": [
              "100836"
            ]
          },
          "metadata": {},
          "execution_count": 37
        }
      ]
    },
    {
      "cell_type": "code",
      "source": [
        "# data = HeteroData()\n",
        "# # Save node indices:\n",
        "# data[\"user\"].node_id = torch.arange(len(unique_user_id))\n",
        "# data[\"movie\"].node_id = torch.arange(len(movies_df)-1)\n",
        "# # Add the node features and edge indices:\n",
        "# data[\"movie\"].x = movie_features\n",
        "# data[\"user\"].x = user_features\n",
        "# data[\"user\", \"rates\", \"movie\"].edge_index = edge_index_user_to_movie\n",
        "# # We also need to make sure to add the reverse edges from movies to users\n",
        "# # in order to let a GNN be able to pass messages in both directions.\n",
        "# # We can leverage the `T.ToUndirected()` transform for this from PyG:\n",
        "# data = T.ToUndirected()(data)\n",
        "# data"
      ],
      "metadata": {
        "id": "Vn2n8WFD1Sl_"
      },
      "execution_count": null,
      "outputs": []
    },
    {
      "cell_type": "code",
      "source": [
        "data = HeteroData()\n",
        "# Save node indices:\n",
        "data[\"user\"].node_id = torch.arange(len(unique_user_id))\n",
        "data[\"movie\"].node_id = torch.arange(len(movies_df))\n",
        "# Add the node features and edge indices:\n",
        "data[\"movie\"].x = movie_feat\n",
        "data[\"user\", \"rates\", \"movie\"].edge_index = edge_index_user_to_movie\n",
        "# data[\"user\", \"rates\", \"movie\"].edge_label = torch.from_numpy(weights).to(torch.long)\n",
        "# We also need to make sure to add the reverse edges from movies to users\n",
        "# in order to let a GNN be able to pass messages in both directions.\n",
        "# We can leverage the `T.ToUndirected()` transform for this from PyG:\n",
        "data = T.ToUndirected()(data)"
      ],
      "metadata": {
        "id": "6mnK4umlmaNa"
      },
      "execution_count": null,
      "outputs": []
    },
    {
      "cell_type": "code",
      "source": [
        "data[\"movie\"].x.dtype , data[\"user\", \"rates\", \"movie\"].edge_index.dtype, data[\"user\"].node_id.dtype, data[\"movie\"].node_id.dtype"
      ],
      "metadata": {
        "colab": {
          "base_uri": "https://localhost:8080/"
        },
        "id": "9ujQArGZ-728",
        "outputId": "cfc5d2a9-7caa-4801-ea58-f51f2dce4ecb"
      },
      "execution_count": null,
      "outputs": [
        {
          "output_type": "execute_result",
          "data": {
            "text/plain": [
              "(torch.float32, torch.int64, torch.int64, torch.int64)"
            ]
          },
          "metadata": {},
          "execution_count": 61
        }
      ]
    },
    {
      "cell_type": "code",
      "source": [
        "# data[\"user\", \"rates\", \"movie\"].edge_label.size(0)"
      ],
      "metadata": {
        "id": "6RivxMBG5BQt"
      },
      "execution_count": null,
      "outputs": []
    },
    {
      "cell_type": "code",
      "source": [
        "data"
      ],
      "metadata": {
        "colab": {
          "base_uri": "https://localhost:8080/"
        },
        "id": "uWek0g0A3PBY",
        "outputId": "84de3c33-b89c-4cb0-a77d-e51666b4c03c"
      },
      "execution_count": null,
      "outputs": [
        {
          "output_type": "execute_result",
          "data": {
            "text/plain": [
              "HeteroData(\n",
              "  \u001b[1muser\u001b[0m={ node_id=[610] },\n",
              "  \u001b[1mmovie\u001b[0m={\n",
              "    node_id=[9742],\n",
              "    x=[9742, 20]\n",
              "  },\n",
              "  \u001b[1m(user, rates, movie)\u001b[0m={ edge_index=[2, 100836] },\n",
              "  \u001b[1m(movie, rev_rates, user)\u001b[0m={ edge_index=[2, 100836] }\n",
              ")"
            ]
          },
          "metadata": {},
          "execution_count": 64
        }
      ]
    },
    {
      "cell_type": "code",
      "source": [
        "# For this, we first split the set of edges into\n",
        "# training (80%), validation (10%), and testing edges (10%).\n",
        "# Across the training edges, we use 70% of edges for message passing,\n",
        "# and 30% of edges for supervision.\n",
        "# We further want to generate fixed negative edges for evaluation with a ratio of 2:1.\n",
        "# Negative edges during training will be generated on-the-fly.\n",
        "# We can leverage the `RandomLinkSplit()` transform for this from PyG:\n",
        "transform = T.RandomLinkSplit(\n",
        "    num_val=0.1,\n",
        "    num_test=0.2,\n",
        "    disjoint_train_ratio=0.3,\n",
        "    neg_sampling_ratio=2.0,\n",
        "    add_negative_train_samples=False,\n",
        "    edge_types=(\"user\", \"rates\", \"movie\"),\n",
        "    rev_edge_types=(\"movie\", \"rev_rates\", \"user\"), \n",
        ")\n",
        "train_data, val_data, test_data = transform(data)"
      ],
      "metadata": {
        "id": "3TOyVgna1VA_"
      },
      "execution_count": null,
      "outputs": []
    },
    {
      "cell_type": "code",
      "source": [
        "train_data"
      ],
      "metadata": {
        "colab": {
          "base_uri": "https://localhost:8080/"
        },
        "id": "PtfJIFah4ykH",
        "outputId": "db2f0f62-3bc2-49d6-f123-3f4babb4e33a"
      },
      "execution_count": null,
      "outputs": [
        {
          "output_type": "execute_result",
          "data": {
            "text/plain": [
              "HeteroData(\n",
              "  \u001b[1muser\u001b[0m={ node_id=[610] },\n",
              "  \u001b[1mmovie\u001b[0m={\n",
              "    node_id=[9742],\n",
              "    x=[9742, 20]\n",
              "  },\n",
              "  \u001b[1m(user, rates, movie)\u001b[0m={\n",
              "    edge_index=[2, 49411],\n",
              "    edge_label=[21175],\n",
              "    edge_label_index=[2, 21175]\n",
              "  },\n",
              "  \u001b[1m(movie, rev_rates, user)\u001b[0m={ edge_index=[2, 49411] }\n",
              ")"
            ]
          },
          "metadata": {},
          "execution_count": 66
        }
      ]
    },
    {
      "cell_type": "code",
      "source": [
        "np.isin(train_data[\"user\", \"rates\", \"movie\"].edge_label_index,train_data[\"user\", \"rates\", \"movie\"].edge_index)"
      ],
      "metadata": {
        "colab": {
          "base_uri": "https://localhost:8080/"
        },
        "id": "FiqYHQr95zM6",
        "outputId": "6fdf6b82-2ca5-4ef9-fbc8-df1acc108c86"
      },
      "execution_count": null,
      "outputs": [
        {
          "output_type": "execute_result",
          "data": {
            "text/plain": [
              "array([[ True,  True,  True, ...,  True,  True,  True],\n",
              "       [ True,  True,  True, ...,  True, False,  True]])"
            ]
          },
          "metadata": {},
          "execution_count": 72
        }
      ]
    },
    {
      "cell_type": "code",
      "source": [
        "from torch_geometric.loader import LinkNeighborLoader\n",
        "\n",
        "# Define seed edges:\n",
        "edge_label_index = train_data[\"user\", \"rates\", \"movie\"].edge_label_index\n",
        "edge_label = train_data[\"user\", \"rates\", \"movie\"].edge_label\n",
        "train_loader = LinkNeighborLoader(\n",
        "    data=train_data,\n",
        "    num_neighbors=[20, 10],\n",
        "    neg_sampling_ratio=2.0,\n",
        "    edge_label_index=((\"user\", \"rates\", \"movie\"), edge_label_index),\n",
        "    edge_label=edge_label,\n",
        "    batch_size=128,\n",
        "    shuffle=True,\n",
        ")\n",
        "train_loader"
      ],
      "metadata": {
        "id": "XVqOPYN41XGm"
      },
      "execution_count": null,
      "outputs": []
    },
    {
      "cell_type": "code",
      "source": [
        "validation_loader = LinkNeighborLoader(\n",
        "    data=val_data,\n",
        "    num_neighbors=[20, 10],\n",
        "    edge_label_index=((\"user\", \"rates\", \"movie\"), edge_label_index),\n",
        "    edge_label=edge_label,\n",
        "    batch_size=128,\n",
        "    shuffle=False,\n",
        ")"
      ],
      "metadata": {
        "id": "Ru2T1HenwQEh"
      },
      "execution_count": null,
      "outputs": []
    },
    {
      "cell_type": "code",
      "source": [
        "from torch_geometric.nn import SAGEConv, to_hetero\n",
        "import torch.nn.functional as F\n",
        "\n",
        "class GNN(torch.nn.Module):\n",
        "    def __init__(self, hidden_channels):\n",
        "        super().__init__()\n",
        "        self.conv1 = SAGEConv(hidden_channels, hidden_channels)\n",
        "        self.conv2 = SAGEConv(hidden_channels, hidden_channels)\n",
        "    \n",
        "    def forward(self, x, edge_index):\n",
        "        x = F.relu(self.conv1(x, edge_index))\n",
        "        x = self.conv2(x, edge_index)\n",
        "        return x\n",
        "# Our final classifier applies the dot-product between source and destination\n",
        "# node embeddings to derive edge-level predictions:\n",
        "\n",
        "class Classifier(torch.nn.Module):\n",
        "    def forward(self, x_user, x_movie, edge_label_index):\n",
        "        # Convert node embeddings to edge-level representations:\n",
        "        edge_feat_user = x_user[edge_label_index[0]]\n",
        "        edge_feat_movie = x_movie[edge_label_index[1]]\n",
        "        # Apply dot-product to get a prediction per supervision edge:\n",
        "        return (edge_feat_user * edge_feat_movie).sum(dim=-1)\n",
        "\n",
        "class Model(torch.nn.Module):\n",
        "    def __init__(self, hidden_channels):\n",
        "        super().__init__()\n",
        "        # Since the dataset does not come with rich features, we also learn two\n",
        "        # embedding matrices for users and movies:\n",
        "        self.movie_lin = torch.nn.Linear(20, hidden_channels)\n",
        "        # self.user_lin = torch.nn.Linear(20, hidden_channels)\n",
        "        self.user_emb = torch.nn.Embedding(data[\"user\"].num_nodes, hidden_channels)\n",
        "        self.movie_emb = torch.nn.Embedding(data[\"movie\"].num_nodes, hidden_channels)\n",
        "        # Instantiate homogeneous GNN:\n",
        "        self.gnn = GNN(hidden_channels)\n",
        "        # Convert GNN model into a heterogeneous variant:\n",
        "        self.gnn = to_hetero(self.gnn, metadata=data.metadata())\n",
        "        self.classifier = Classifier()\n",
        "    \n",
        "    def forward(self, data):\n",
        "        # print(data[\"movie\"].node_id)\n",
        "        x_dict = {\n",
        "          \"user\": self.user_emb(data[\"user\"].node_id),\n",
        "          \"movie\": self.movie_lin(data[\"movie\"].x) + self.movie_emb(data[\"movie\"].node_id),\n",
        "        } \n",
        "        # `x_dict` holds feature matrices of all node types\n",
        "        # `edge_index_dict` holds all edge indices of all edge types\n",
        "        x_dict = self.gnn(x_dict, data.edge_index_dict)\n",
        "        pred = self.classifier(\n",
        "            x_dict[\"user\"],\n",
        "            x_dict[\"movie\"],\n",
        "            data[\"user\", \"rates\", \"movie\"].edge_label_index,\n",
        "        )\n",
        "        return pred\n",
        "        \n",
        "model = Model(hidden_channels=8)\n",
        "model"
      ],
      "metadata": {
        "colab": {
          "base_uri": "https://localhost:8080/"
        },
        "id": "dsQg98Cw1ZVi",
        "outputId": "97dd9af3-6a9a-4aab-e4d1-d58dc4cb14f2"
      },
      "execution_count": null,
      "outputs": [
        {
          "output_type": "execute_result",
          "data": {
            "text/plain": [
              "Model(\n",
              "  (movie_lin): Linear(in_features=20, out_features=8, bias=True)\n",
              "  (user_emb): Embedding(610, 8)\n",
              "  (movie_emb): Embedding(9742, 8)\n",
              "  (gnn): GraphModule(\n",
              "    (conv1): ModuleDict(\n",
              "      (user__rates__movie): SAGEConv(8, 8, aggr=mean)\n",
              "      (movie__rev_rates__user): SAGEConv(8, 8, aggr=mean)\n",
              "    )\n",
              "    (conv2): ModuleDict(\n",
              "      (user__rates__movie): SAGEConv(8, 8, aggr=mean)\n",
              "      (movie__rev_rates__user): SAGEConv(8, 8, aggr=mean)\n",
              "    )\n",
              "  )\n",
              "  (classifier): Classifier()\n",
              ")"
            ]
          },
          "metadata": {},
          "execution_count": 168
        }
      ]
    },
    {
      "cell_type": "code",
      "source": [
        "class Learning_Evaluation(torch.nn.Module):\n",
        "    def __init__(\n",
        "        self,\n",
        "        model,\n",
        "        learning_rate=0.001,\n",
        "        best_results=[0, 0, 0],\n",
        "        ):\n",
        "      \n",
        "      super().__init__()\n",
        "      self.model = model\n",
        "      self.optimizer = torch.optim.Adam(self.model.parameters(), lr=learning_rate)\n",
        "      self.criterion = torch.nn.BCEWithLogitsLoss()\n",
        "      self.best_results = best_results\n",
        "    \n",
        "    def train(self, data_loader):\n",
        "        self.model.train()\n",
        "\n",
        "        for data in data_loader:\n",
        "            out = self.model(data)\n",
        "            label = data[\"user\", \"rates\", \"movie\"].edge_label\n",
        "            loss = self.criterion(out, label)\n",
        "            # loss = F.binary_cross_entropy_with_logits(out, label)\n",
        "            loss.backward()\n",
        "            self.optimizer.step()\n",
        "            self.optimizer.zero_grad()\n",
        "\n",
        "    def evaluate(self, data_loader):\n",
        "        self.model.eval()\n",
        "        \n",
        "        predicted = []\n",
        "        labels = []\n",
        "        total_loss = total_sample = 0\n",
        "        \n",
        "        for data in data_loader:\n",
        "          with torch.no_grad():\n",
        "            data.to(device)\n",
        "            out = model(data)\n",
        "            label = data[\"user\", \"rates\", \"movie\"].edge_label\n",
        "            total_loss += self.criterion(out, label) * len(out)\n",
        "            # total_loss += F.binary_cross_entropy_with_logits(out, label)\n",
        "            total_sample += len(out)\n",
        "            predicted.append(out)\n",
        "            labels.append(label)\n",
        "            \n",
        "        predicted = torch.cat(predicted, dim=0).cpu().numpy()\n",
        "        labels = torch.cat(labels, dim=0).cpu().numpy()\n",
        "        # auc = roc_auc_score(labels, predicted)\n",
        "\n",
        "        return total_loss/ total_sample\n",
        "\n",
        "    def train_model(self, train_data_loader, validation_data_loader, n_epochs=15, best_model_saving_path='best_model.pth'):\n",
        "      \n",
        "      list_train_auc, list_train_loss, list_validation_auc, list_validation_loss = [], [], [], []\n",
        "      print('Train and Evaluation started...')\n",
        "      for epoch in range(1, n_epochs+1):\n",
        "          self.train(train_data_loader)\n",
        "          \n",
        "          # train_auc, train_loss = self.evaluate(train_data_loader)\n",
        "          train_loss = self.evaluate(train_data_loader)\n",
        "          # list_train_auc.append(train_auc)\n",
        "          list_train_loss.append(float(train_loss.detach()))\n",
        "          \n",
        "          # validation_auc, validation_loss = self.evaluate(validation_data_loader)\n",
        "          validation_loss = self.evaluate(validation_data_loader)\n",
        "          if self.best_results[1] < validation_loss :\n",
        "            self.best_results[0], self.best_results[1], self.best_results[-1] = epoch, train_loss ,validation_loss\n",
        "            torch.save(model, best_model_saving_path)\n",
        "\n",
        "          # list_validation_auc.append(validation_auc)\n",
        "          list_validation_loss.append(float(validation_loss.detach()))\n",
        "\n",
        "          # print(f'Epoch: {epoch:03d}, Train ROC-AUC: {train_auc:.4f}, Train Loss: {train_loss:.4f}, Validation ROC-AUC: {validation_auc:.4f}, Validation Loss: {validation_loss:.4f}')\n",
        "          print(f'Epoch: {epoch:03d}, Train Loss: {train_loss:.4f}, Validation Loss: {validation_loss:.4f}')\n",
        "      \n",
        "      print('---------------------------------------------------')\n",
        "      print('Train and Evaluation finished...')\n",
        "      print(f'Best Results of the model : Epoch: {self.best_results[0]:03d}, Train Loss: {self.best_results[1]:.4f}, Validation Loss: {self.best_results[-1]:.4f}')\n",
        "      print(f'Model weights restored from epoch: {self.best_results[0]:03d}')\n",
        "      return list_train_auc, list_train_loss, list_validation_auc, list_validation_loss\n",
        "\n",
        "    def evaluate_test(self, data_loder, best_model_path='best_model.pth'):\n",
        "      model = torch.load('best_model.pth')\n",
        "      predicted = []\n",
        "      labels = []\n",
        "      for data in tqdm.tqdm(data_loder):\n",
        "          with torch.no_grad():\n",
        "              data.to(device)\n",
        "              predicted.append(model(data))\n",
        "              labels.append(data[\"user\", \"rates\", \"movie\"].edge_label)\n",
        "\n",
        "      predicted = torch.cat(predicted, dim=0).cpu().numpy()\n",
        "      labels = torch.cat(labels, dim=0).cpu().numpy()\n",
        "      auc = roc_auc_score(labels, predicted)\n",
        "      print()\n",
        "      print(f\"Test AUC: {auc:.4f}\")\n",
        "      return auc\n",
        "\n",
        "      \n",
        "      "
      ],
      "metadata": {
        "id": "2zjX5KywGU0m"
      },
      "execution_count": null,
      "outputs": []
    },
    {
      "cell_type": "code",
      "source": [
        "experiment = Learning_Evaluation(model)\n",
        "list_train_acc, list_train_loss, list_test_acc, list_test_loss = experiment.train_model(train_loader, validation_loader, n_epochs=15)"
      ],
      "metadata": {
        "colab": {
          "base_uri": "https://localhost:8080/"
        },
        "id": "uu0ZNX83GUsc",
        "outputId": "15b9a83e-8db8-4335-92e2-e93f0a5fc226"
      },
      "execution_count": null,
      "outputs": [
        {
          "output_type": "stream",
          "name": "stdout",
          "text": [
            "Train and Evaluation started...\n",
            "Epoch: 001, Train Loss: 0.2765, Validation Loss: 0.3512\n",
            "Epoch: 002, Train Loss: 0.2720, Validation Loss: 0.3526\n",
            "Epoch: 003, Train Loss: 0.2690, Validation Loss: 0.3393\n",
            "Epoch: 004, Train Loss: 0.2679, Validation Loss: 0.3524\n",
            "Epoch: 005, Train Loss: 0.2661, Validation Loss: 0.3227\n",
            "Epoch: 006, Train Loss: 0.2656, Validation Loss: 0.3493\n",
            "Epoch: 007, Train Loss: 0.2615, Validation Loss: 0.3760\n",
            "Epoch: 008, Train Loss: 0.2626, Validation Loss: 0.3319\n",
            "Epoch: 009, Train Loss: 0.2574, Validation Loss: 0.3458\n",
            "Epoch: 010, Train Loss: 0.2565, Validation Loss: 0.3506\n",
            "Epoch: 011, Train Loss: 0.2604, Validation Loss: 0.3573\n",
            "Epoch: 012, Train Loss: 0.2552, Validation Loss: 0.3288\n",
            "Epoch: 013, Train Loss: 0.2516, Validation Loss: 0.3584\n",
            "Epoch: 014, Train Loss: 0.2521, Validation Loss: 0.3503\n",
            "Epoch: 015, Train Loss: 0.2508, Validation Loss: 0.3458\n",
            "---------------------------------------------------\n",
            "Train and Evaluation finished...\n",
            "Best Results of the model : Epoch: 015, Train Loss: 0.2508, Validation Loss: 0.3458\n",
            "Model weights restored from epoch: 015\n"
          ]
        }
      ]
    },
    {
      "cell_type": "code",
      "source": [
        "test_loader = LinkNeighborLoader(\n",
        "    data=test_data,\n",
        "    num_neighbors=[20, 10],\n",
        "    edge_label_index=((\"user\", \"rates\", \"movie\"), edge_label_index),\n",
        "    edge_label=edge_label,\n",
        "    batch_size=128,\n",
        "    shuffle=False,\n",
        ")\n",
        "\n",
        "model = torch.load('best_model.pth')\n",
        "predicted = []\n",
        "labels = []\n",
        "for sampled_data in tqdm.tqdm(test_loader):\n",
        "    with torch.no_grad():\n",
        "        sampled_data.to(device)\n",
        "        predicted.append(model(sampled_data))\n",
        "        labels.append(sampled_data[\"user\", \"rates\", \"movie\"].edge_label)\n",
        "\n",
        "predicted = torch.cat(predicted, dim=0).cpu().numpy()\n",
        "labels = torch.cat(labels, dim=0).cpu().numpy()\n",
        "auc = roc_auc_score(labels, predicted)\n",
        "predicted, labels\n",
        "print()\n",
        "print(f\"Test AUC: {auc:.4f}\")\n",
        "\n",
        "\n",
        "experiment.evaluate_test(test_loader)"
      ],
      "metadata": {
        "colab": {
          "base_uri": "https://localhost:8080/"
        },
        "id": "NByItU5g3uMh",
        "outputId": "ce0c0976-f354-4499-cc01-da20f82ed541"
      },
      "execution_count": null,
      "outputs": [
        {
          "output_type": "stream",
          "name": "stderr",
          "text": [
            "100%|██████████| 114/114 [00:01<00:00, 100.55it/s]\n"
          ]
        },
        {
          "output_type": "stream",
          "name": "stdout",
          "text": [
            "\n",
            "Test AUC: 0.9203\n"
          ]
        },
        {
          "output_type": "stream",
          "name": "stderr",
          "text": [
            "100%|██████████| 114/114 [00:00<00:00, 139.48it/s]"
          ]
        },
        {
          "output_type": "stream",
          "name": "stdout",
          "text": [
            "\n",
            "Test AUC: 0.9199\n"
          ]
        },
        {
          "output_type": "stream",
          "name": "stderr",
          "text": [
            "\n"
          ]
        },
        {
          "output_type": "execute_result",
          "data": {
            "text/plain": [
              "0.9199309271749129"
            ]
          },
          "metadata": {},
          "execution_count": 185
        }
      ]
    },
    {
      "cell_type": "code",
      "source": [
        "import tqdm\n",
        "import torch.nn.functional as F\n",
        "device = torch.device('cuda' if torch.cuda.is_available() else 'cpu')\n",
        "print(f\"Device: '{device}'\")\n",
        "model = model.to(device)\n",
        "optimizer = torch.optim.Adam(model.parameters(), lr=0.001)\n",
        "\n",
        "\n",
        "for epoch in range(1, 15):\n",
        "    # total_loss = total_examples = 0\n",
        "    for sampled_data in tqdm.tqdm(train_loader):\n",
        "        optimizer.zero_grad()\n",
        "        sampled_data.to(device)\n",
        "        pred = model(sampled_data)\n",
        "        ground_truth = sampled_data[\"user\", \"rates\", \"movie\"].edge_label\n",
        "        loss = F.binary_cross_entropy_with_logits(pred, ground_truth)\n",
        "        loss.backward()\n",
        "        optimizer.step()\n",
        "        total_loss += float(loss) * pred.numel()\n",
        "        total_examples += pred.numel()\n",
        "    print(f\"Epoch: {epoch:03d}, Loss: {total_loss / total_examples:.4f}\")"
      ],
      "metadata": {
        "colab": {
          "base_uri": "https://localhost:8080/",
          "height": 485
        },
        "id": "m6nz0cg-1cl4",
        "outputId": "a9c8360e-2e97-4d61-cb28-fede79b9b1e4"
      },
      "execution_count": null,
      "outputs": [
        {
          "output_type": "stream",
          "name": "stdout",
          "text": [
            "Device: 'cpu'\n"
          ]
        },
        {
          "output_type": "stream",
          "name": "stderr",
          "text": [
            "100%|██████████| 80/80 [00:01<00:00, 50.90it/s]\n"
          ]
        },
        {
          "output_type": "stream",
          "name": "stdout",
          "text": [
            "Epoch: 001, Loss: 0.3759\n"
          ]
        },
        {
          "output_type": "stream",
          "name": "stderr",
          "text": [
            "100%|██████████| 80/80 [00:02<00:00, 37.35it/s]\n"
          ]
        },
        {
          "output_type": "stream",
          "name": "stdout",
          "text": [
            "Epoch: 002, Loss: 0.3728\n"
          ]
        },
        {
          "output_type": "stream",
          "name": "stderr",
          "text": [
            " 45%|████▌     | 36/80 [00:00<00:01, 36.93it/s]\n"
          ]
        },
        {
          "output_type": "error",
          "ename": "KeyboardInterrupt",
          "evalue": "ignored",
          "traceback": [
            "\u001b[0;31m---------------------------------------------------------------------------\u001b[0m",
            "\u001b[0;31mKeyboardInterrupt\u001b[0m                         Traceback (most recent call last)",
            "\u001b[0;32m<ipython-input-165-b2896deae6c3>\u001b[0m in \u001b[0;36m<module>\u001b[0;34m\u001b[0m\n\u001b[1;32m     15\u001b[0m         \u001b[0mground_truth\u001b[0m \u001b[0;34m=\u001b[0m \u001b[0msampled_data\u001b[0m\u001b[0;34m[\u001b[0m\u001b[0;34m\"user\"\u001b[0m\u001b[0;34m,\u001b[0m \u001b[0;34m\"rates\"\u001b[0m\u001b[0;34m,\u001b[0m \u001b[0;34m\"movie\"\u001b[0m\u001b[0;34m]\u001b[0m\u001b[0;34m.\u001b[0m\u001b[0medge_label\u001b[0m\u001b[0;34m\u001b[0m\u001b[0;34m\u001b[0m\u001b[0m\n\u001b[1;32m     16\u001b[0m         \u001b[0mloss\u001b[0m \u001b[0;34m=\u001b[0m \u001b[0mF\u001b[0m\u001b[0;34m.\u001b[0m\u001b[0mbinary_cross_entropy_with_logits\u001b[0m\u001b[0;34m(\u001b[0m\u001b[0mpred\u001b[0m\u001b[0;34m,\u001b[0m \u001b[0mground_truth\u001b[0m\u001b[0;34m)\u001b[0m\u001b[0;34m\u001b[0m\u001b[0;34m\u001b[0m\u001b[0m\n\u001b[0;32m---> 17\u001b[0;31m         \u001b[0mloss\u001b[0m\u001b[0;34m.\u001b[0m\u001b[0mbackward\u001b[0m\u001b[0;34m(\u001b[0m\u001b[0;34m)\u001b[0m\u001b[0;34m\u001b[0m\u001b[0;34m\u001b[0m\u001b[0m\n\u001b[0m\u001b[1;32m     18\u001b[0m         \u001b[0moptimizer\u001b[0m\u001b[0;34m.\u001b[0m\u001b[0mstep\u001b[0m\u001b[0;34m(\u001b[0m\u001b[0;34m)\u001b[0m\u001b[0;34m\u001b[0m\u001b[0;34m\u001b[0m\u001b[0m\n\u001b[1;32m     19\u001b[0m         \u001b[0mtotal_loss\u001b[0m \u001b[0;34m+=\u001b[0m \u001b[0mfloat\u001b[0m\u001b[0;34m(\u001b[0m\u001b[0mloss\u001b[0m\u001b[0;34m)\u001b[0m \u001b[0;34m*\u001b[0m \u001b[0mpred\u001b[0m\u001b[0;34m.\u001b[0m\u001b[0mnumel\u001b[0m\u001b[0;34m(\u001b[0m\u001b[0;34m)\u001b[0m\u001b[0;34m\u001b[0m\u001b[0;34m\u001b[0m\u001b[0m\n",
            "\u001b[0;32m/usr/local/lib/python3.8/dist-packages/torch/_tensor.py\u001b[0m in \u001b[0;36mbackward\u001b[0;34m(self, gradient, retain_graph, create_graph, inputs)\u001b[0m\n\u001b[1;32m    486\u001b[0m                 \u001b[0minputs\u001b[0m\u001b[0;34m=\u001b[0m\u001b[0minputs\u001b[0m\u001b[0;34m,\u001b[0m\u001b[0;34m\u001b[0m\u001b[0;34m\u001b[0m\u001b[0m\n\u001b[1;32m    487\u001b[0m             )\n\u001b[0;32m--> 488\u001b[0;31m         torch.autograd.backward(\n\u001b[0m\u001b[1;32m    489\u001b[0m             \u001b[0mself\u001b[0m\u001b[0;34m,\u001b[0m \u001b[0mgradient\u001b[0m\u001b[0;34m,\u001b[0m \u001b[0mretain_graph\u001b[0m\u001b[0;34m,\u001b[0m \u001b[0mcreate_graph\u001b[0m\u001b[0;34m,\u001b[0m \u001b[0minputs\u001b[0m\u001b[0;34m=\u001b[0m\u001b[0minputs\u001b[0m\u001b[0;34m\u001b[0m\u001b[0;34m\u001b[0m\u001b[0m\n\u001b[1;32m    490\u001b[0m         )\n",
            "\u001b[0;32m/usr/local/lib/python3.8/dist-packages/torch/autograd/__init__.py\u001b[0m in \u001b[0;36mbackward\u001b[0;34m(tensors, grad_tensors, retain_graph, create_graph, grad_variables, inputs)\u001b[0m\n\u001b[1;32m    195\u001b[0m     \u001b[0;31m# some Python versions print out the first line of a multi-line function\u001b[0m\u001b[0;34m\u001b[0m\u001b[0;34m\u001b[0m\u001b[0;34m\u001b[0m\u001b[0m\n\u001b[1;32m    196\u001b[0m     \u001b[0;31m# calls in the traceback and some print out the last line\u001b[0m\u001b[0;34m\u001b[0m\u001b[0;34m\u001b[0m\u001b[0;34m\u001b[0m\u001b[0m\n\u001b[0;32m--> 197\u001b[0;31m     Variable._execution_engine.run_backward(  # Calls into the C++ engine to run the backward pass\n\u001b[0m\u001b[1;32m    198\u001b[0m         \u001b[0mtensors\u001b[0m\u001b[0;34m,\u001b[0m \u001b[0mgrad_tensors_\u001b[0m\u001b[0;34m,\u001b[0m \u001b[0mretain_graph\u001b[0m\u001b[0;34m,\u001b[0m \u001b[0mcreate_graph\u001b[0m\u001b[0;34m,\u001b[0m \u001b[0minputs\u001b[0m\u001b[0;34m,\u001b[0m\u001b[0;34m\u001b[0m\u001b[0;34m\u001b[0m\u001b[0m\n\u001b[1;32m    199\u001b[0m         allow_unreachable=True, accumulate_grad=True)  # Calls into the C++ engine to run the backward pass\n",
            "\u001b[0;31mKeyboardInterrupt\u001b[0m: "
          ]
        }
      ]
    },
    {
      "cell_type": "code",
      "source": [
        "edge_label_index = val_data[\"user\", \"rates\", \"movie\"].edge_label_index\n",
        "edge_label = val_data[\"user\", \"rates\", \"movie\"].edge_label\n",
        "\n",
        "val_loader = LinkNeighborLoader(\n",
        "    data=val_data,\n",
        "    num_neighbors=[20, 10],\n",
        "    edge_label_index=((\"user\", \"rates\", \"movie\"), edge_label_index),\n",
        "    edge_label=edge_label,\n",
        "    batch_size=128,\n",
        "    shuffle=False,\n",
        ")\n",
        "# sampled_data = next(iter(val_loader))"
      ],
      "metadata": {
        "id": "umoJscdx1pv2"
      },
      "execution_count": null,
      "outputs": []
    },
    {
      "cell_type": "code",
      "source": [
        "from sklearn.metrics import roc_auc_score, accuracy_score, f1_score\n",
        "predicted = []\n",
        "labels = []\n",
        "for sampled_data in tqdm.tqdm(val_loader):\n",
        "    with torch.no_grad():\n",
        "        sampled_data.to(device)\n",
        "        predicted.append(model(sampled_data))\n",
        "        labels.append(sampled_data[\"user\", \"rates\", \"movie\"].edge_label)\n",
        "\n",
        "predicted = torch.cat(predicted, dim=0).cpu().numpy()\n",
        "labels = torch.cat(labels, dim=0).cpu().numpy()\n",
        "auc = roc_auc_score(labels, predicted)\n",
        "predicted, labels\n",
        "print()\n",
        "print(f\"Validation AUC: {auc:.4f}\")\n",
        "\n",
        "# print(f\"Validation f1: {f1:.4f}\")\n",
        "# print(f\"Validation acc: {acc:.4f}\")"
      ],
      "metadata": {
        "colab": {
          "base_uri": "https://localhost:8080/"
        },
        "id": "RMufVoGh1wXL",
        "outputId": "a728528b-250b-4717-d6ac-2a36cec2351c"
      },
      "execution_count": null,
      "outputs": [
        {
          "output_type": "stream",
          "name": "stderr",
          "text": [
            "100%|██████████| 114/114 [00:00<00:00, 150.92it/s]"
          ]
        },
        {
          "output_type": "stream",
          "name": "stdout",
          "text": [
            "\n",
            "Validation AUC: 0.9042\n"
          ]
        },
        {
          "output_type": "stream",
          "name": "stderr",
          "text": [
            "\n"
          ]
        }
      ]
    },
    {
      "cell_type": "code",
      "source": [
        "from sklearn.metrics import roc_auc_score, accuracy_score, f1_score, roc_curve, precision_recall_curve, balanced_accuracy_score, precision_recall_fscore_support\n",
        "\n",
        "precision_recall_fscore_support(labels, predicted)"
      ],
      "metadata": {
        "id": "nJV-ehVkSVzE"
      },
      "execution_count": null,
      "outputs": []
    },
    {
      "cell_type": "code",
      "source": [
        "predicteds = np.where(predicted>0,1,0)"
      ],
      "metadata": {
        "id": "HaOzAJ-M1yme"
      },
      "execution_count": null,
      "outputs": []
    },
    {
      "cell_type": "code",
      "source": [
        "roc_auc_score(labels, predicteds), f1_score(labels, predicteds), accuracy_score(labels, predicteds)\n"
      ],
      "metadata": {
        "id": "ynnHhcwgRcnZ"
      },
      "execution_count": null,
      "outputs": []
    },
    {
      "cell_type": "code",
      "source": [],
      "metadata": {
        "id": "Q-nUjoIsR_YM"
      },
      "execution_count": null,
      "outputs": []
    }
  ],
  "metadata": {
    "colab": {
      "provenance": [],
      "authorship_tag": "ABX9TyOU3wrJ7N4Wjix88qiOzsbr",
      "include_colab_link": true
    },
    "kernelspec": {
      "display_name": "Python 3",
      "name": "python3"
    },
    "language_info": {
      "name": "python"
    },
    "gpuClass": "standard"
  },
  "nbformat": 4,
  "nbformat_minor": 0
}