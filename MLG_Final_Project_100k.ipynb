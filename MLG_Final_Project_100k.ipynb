{
  "cells": [
    {
      "cell_type": "markdown",
      "metadata": {
        "id": "view-in-github",
        "colab_type": "text"
      },
      "source": [
        "<a href=\"https://colab.research.google.com/github/mojtabaSefidi/Machine-Learning-with-Graphs/blob/main/MLG_Final_Project_100k.ipynb\" target=\"_parent\"><img src=\"https://colab.research.google.com/assets/colab-badge.svg\" alt=\"Open In Colab\"/></a>"
      ]
    },
    {
      "cell_type": "code",
      "source": [
        "# !unzip ml-100k.zip\n",
        "# !pip uninstall jupyter\n",
        "# !pip install jupyter"
      ],
      "metadata": {
        "id": "2AK7CPIHJ2lq"
      },
      "execution_count": 1,
      "outputs": []
    },
    {
      "cell_type": "markdown",
      "metadata": {
        "id": "lwlKn2JrXvYo"
      },
      "source": [
        "## Install Essential Packages"
      ]
    },
    {
      "cell_type": "code",
      "source": [
        "from google.colab import drive\n",
        "drive.mount(\"/content/gdrive\")"
      ],
      "metadata": {
        "colab": {
          "base_uri": "https://localhost:8080/"
        },
        "id": "AHfg4IsV_paR",
        "outputId": "4a9e89e2-b56f-465f-8831-94d52bf9ffdf"
      },
      "execution_count": 1,
      "outputs": [
        {
          "output_type": "stream",
          "name": "stdout",
          "text": [
            "Drive already mounted at /content/gdrive; to attempt to forcibly remount, call drive.mount(\"/content/gdrive\", force_remount=True).\n"
          ]
        }
      ]
    },
    {
      "cell_type": "code",
      "execution_count": 2,
      "metadata": {
        "id": "eyylEyBAw67k"
      },
      "outputs": [],
      "source": [
        "!pip install -q torch_geometric\n",
        "!pip install -q torch-sparse==0.6.13\n",
        "!pip install -q torch_scatter\n",
        "# !pip install -q ogb"
      ]
    },
    {
      "cell_type": "markdown",
      "metadata": {
        "id": "FcOrS826X3wJ"
      },
      "source": [
        "## Install Essential Libraries"
      ]
    },
    {
      "cell_type": "code",
      "execution_count": 3,
      "metadata": {
        "id": "OCSrkduHlCPt"
      },
      "outputs": [],
      "source": [
        "\n",
        "import torch\n",
        "import networkx as nx\n",
        "import torch_geometric\n",
        "from torch_geometric.utils import to_networkx\n",
        "from torch_geometric.datasets import TUDataset\n",
        "from torch_geometric.transforms import NormalizeFeatures\n",
        "from torch_geometric.loader import DataLoader\n",
        "from torch.nn import Linear\n",
        "import torch.nn.functional as F\n",
        "from torch_geometric.nn import GCNConv, GraphConv, SAGEConv, global_add_pool\n",
        "from torch_geometric.data import HeteroData\n",
        "from torch_geometric import transforms\n",
        "from torch_geometric.loader import LinkNeighborLoader"
      ]
    },
    {
      "cell_type": "code",
      "source": [
        "from numpy.random import seed\n",
        "from tensorflow import keras\n",
        "from sklearn.preprocessing import minmax_scale\n",
        "from sklearn.model_selection import train_test_split\n",
        "from keras.layers import Input, Dense\n",
        "from keras.models import Model"
      ],
      "metadata": {
        "id": "oWb4j2GQ0Mov"
      },
      "execution_count": 4,
      "outputs": []
    },
    {
      "cell_type": "code",
      "source": [
        "%matplotlib inline\n",
        "import matplotlib.pyplot as plt\n",
        "from sklearn.manifold import TSNE\n",
        "from datetime import datetime\n",
        "from sklearn.preprocessing import StandardScaler, OneHotEncoder\n",
        "import numpy as np\n",
        "import pandas as pd\n",
        "import torch"
      ],
      "metadata": {
        "id": "a8xk67dMCYId"
      },
      "execution_count": 5,
      "outputs": []
    },
    {
      "cell_type": "code",
      "source": [
        "def plot_history(list_train_loss, list_train_acc, list_val_loss, list_val_acc, n_epochs, title):\n",
        "    \n",
        "    plt.figure(figsize=(18,8),linewidth = 7, edgecolor=\"whitesmoke\")    \n",
        "    n = n_epochs\n",
        "    \n",
        "    plt.plot(list(range(1, n_epochs+1)), list_train_acc, color='orange',marker=\".\")\n",
        "    plt.plot(list(range(1, n_epochs+1)), list_train_loss,'b',marker=\".\")\n",
        "    \n",
        "    plt.plot(list(range(1, n_epochs+1)), list_val_acc,'r')  \n",
        "    plt.plot(list(range(1, n_epochs+1)), list_val_loss,'g')\n",
        "    \n",
        "    plt.legend(['Train Accuracy','Train Loss','Test Accuracy','Test Loss'])\n",
        "    plt.grid(True)\n",
        "    \n",
        "    # plt.gca().set_ylim(0,1)\n",
        "\n",
        "    plt.xlabel(\"Number of Epochs\")\n",
        "    plt.ylabel(\"Value\")\n",
        "    plt.suptitle(title, size=16, y=0.927)\n",
        "    plt.show()"
      ],
      "metadata": {
        "id": "u58ez8Rrjjt7"
      },
      "execution_count": 6,
      "outputs": []
    },
    {
      "cell_type": "markdown",
      "metadata": {
        "id": "LswIWaVoX901"
      },
      "source": [
        "## Read the Dataset"
      ]
    },
    {
      "cell_type": "code",
      "execution_count": 7,
      "metadata": {
        "id": "ZjGUj-btw3_l"
      },
      "outputs": [],
      "source": [
        "# from ogb.graphproppred import PygGraphPropPredDataset\n",
        "# from torch_geometric.loader import DataLoader\n",
        "\n",
        "# dataset = PygGraphPropPredDataset(name = 'ogbg-molhiv') \n",
        "\n",
        "# split_idx = dataset.get_idx_split() \n",
        "# train_data_loader = DataLoader(dataset[split_idx[\"train\"]], batch_size=32, shuffle=True)\n",
        "# valiation_data_loader = DataLoader(dataset[split_idx[\"valid\"]], batch_size=32, shuffle=True)\n",
        "# test_data_loader = DataLoader(dataset[split_idx[\"test\"]], batch_size=32, shuffle=True)"
      ]
    },
    {
      "cell_type": "code",
      "source": [
        "# !unzip /content/MovieLens1M.zip"
      ],
      "metadata": {
        "id": "LSAkq_eHNIKK"
      },
      "execution_count": 8,
      "outputs": []
    },
    {
      "cell_type": "code",
      "source": [
        "# movies_df = pd.read_csv('/content/ml-100k/u.item', sep='|', engine='python', encoding=\"latin-1\",\n",
        "#                         names = ['MovieID', 'Movie Title', 'Release Date', 'video release date','IMDbURL',\n",
        "#                                  'Unknown','Action','Adventure','Animation', 'Childrens','Comedy',\n",
        "#                                  'Crime','Documentary','Drama','Fantasy', 'Film-Noir','Horror',\n",
        "#                                  'Musical','Mystery','Romance','Sci-Fi','Thriller','War','Western'])\n",
        "\n",
        "# rating_df = pd.read_csv('/content/ml-100k/u.data', sep='\\t', engine='python', encoding=\"latin-1\",\n",
        "#                         names=['UserID','MovieID','Rating','Timestamp'])\n",
        "\n",
        "# users_df = pd.read_csv('/content/ml-100k/u.user', sep='|', engine='python', encoding=\"latin-1\",\n",
        "#                        names=['UserID','Gender','Age','Occupation','Zipcode'])\n",
        "\n",
        "# movies_df.to_csv('/content/gdrive/MyDrive/MLG_Final_Project/MovieLens100k/Data/movies_df.csv', index=False)\n",
        "# rating_df.to_csv('/content/gdrive/MyDrive/MLG_Final_Project/MovieLens100k/Data/rating_df.csv', index=False)\n",
        "# users_df.to_csv('/content/gdrive/MyDrive/MLG_Final_Project/MovieLens100k/Data/users_df.csv', index=False)"
      ],
      "metadata": {
        "id": "qFBOl5HrNIHZ"
      },
      "execution_count": 9,
      "outputs": []
    },
    {
      "cell_type": "code",
      "source": [
        "geners = np.array(['Action', 'Adventure', 'Animation', \"Children's\", 'Comedy', 'Crime', 'Documentary', 'Drama',\n",
        "                   'Fantasy', 'Film_Noir', 'Horror', 'Musical', 'Mystery', 'Romance', 'Sci_Fi', 'Thriller', 'War', 'Western'], dtype=str)\n",
        "\n",
        "values = list(range(0, len(geners)))\n",
        "geners2vec = dict(zip(geners, values))\n",
        "\n",
        "def extract_geners(text, sep='|'):\n",
        "  return text.split(sep)\n",
        "\n",
        "def geners2vector(df_geners, maper):\n",
        "  result = np.zeros((len(df_geners),len(maper)), dtype='int8')\n",
        "  for index, text in enumerate(df_geners):\n",
        "    geners = extract_geners(text)\n",
        "    for gener in geners:\n",
        "      result[index][maper.get(gener)] = 1\n",
        "  \n",
        "  return result"
      ],
      "metadata": {
        "id": "Ut7XNDH3exQ4"
      },
      "execution_count": 10,
      "outputs": []
    },
    {
      "cell_type": "code",
      "source": [
        "def year_extractor(text):\n",
        "  return text[text.rfind('(')+1:text.rfind(')')]\n",
        "\n",
        "def calculate_average_rating(rating_df, movies_df, Movie_id_col='MovieID', rating_col='Rating'):\n",
        "  \n",
        "  rating_avg = rating_df.groupby(Movie_id_col).mean()[rating_col].round(4).to_dict()\n",
        "  result = [] \n",
        "  for id in movies_df[Movie_id_col]:\n",
        "    result.append(rating_avg.get(id, 0))\n",
        "  movies_df['Average Rating'] = result\n",
        "  return movies_df\n",
        "\n",
        "Occupation_mapper = { 0: \"other\", 1: \"academic/educator\", 2: \"artist\", 3: \"clerical/admin\",\n",
        "                     4: \"college/grad student\",5: \"customer service\", 6: \"doctor/health care\",\n",
        "                     7: \"executive/managerial\", 8: \"farmer\", 9: \"homemaker\", 10: \"K-12 student\",\n",
        "                     11: \"lawyer\", 12: \"programmer\", 13: \"retired\", 14: \"sales/marketing\",\n",
        "                     15: \"scientist\", 16: \"self-employed\", 17: \"technician/engineer\",\n",
        "                     18: \"tradesman/craftsman\", 19: \"unemployed\", 20: \"writer\"}\n",
        "\n",
        "def code2Occupation(occupation_col, mapper):\n",
        "  return occupation_col.map(mapper)\n",
        "\n",
        "\n",
        "def extract_user_feature(users_df):\n",
        "  scaler = StandardScaler()\n",
        "  age = scaler.fit_transform(users_df[['Age']])\n",
        "  \n",
        "  encoder = OneHotEncoder(handle_unknown='ignore')\n",
        "  occupation = encoder.fit_transform(users_df[['Occupation']]).toarray()\n",
        "  features = np.hstack((users_df[['Gender']], age, occupation))\n",
        "  return torch.from_numpy(features).to(torch.float)\n",
        "\n",
        "def extract_movie_feature(movies_df, mapper):\n",
        "  scaler = StandardScaler()\n",
        "  numerical = scaler.fit_transform(movies_df[['year',\t'averge_rating']])\n",
        "  \n",
        "  categorical = geners2vector(movies_df['Genres'], mapper)\n",
        "  features = np.hstack((numerical, categorical))\n",
        "  return torch.from_numpy(features).to(torch.float)\n",
        "\n",
        "def Timestamp2Date(timestamp):\n",
        "  return datetime.utcfromtimestamp(timestamp).strftime('%Y-%m-%d %H:%M:%S')\n",
        "\n",
        "def add_age_group(df, age_col='Age'):\n",
        "  bins= [0,20,25,39,60,110]\n",
        "  labels = ['Teenage','Young Adult','Adult', 'Older Adult','Old']\n",
        "  df['AgeGroup'] = pd.cut(df[age_col], bins=bins, labels=labels, right=False)\n",
        "  return df\n",
        "\n",
        "def remove_movies(rating_df, movies_df, title_col='Movie Title', movie_id_col='MovieID'):\n",
        "  unknown_movies = movies_df[movies_df[title_col]=='unknown'][movie_id_col]\n",
        "  rating_df = rating_df[~rating_df[movie_id_col].isin(unknown_movies)]\n",
        "  movies_df = movies_df[~movies_df[movie_id_col].isin(unknown_movies)]\n",
        "  return rating_df, movies_df"
      ],
      "metadata": {
        "id": "HBhT-AUneyoW"
      },
      "execution_count": 11,
      "outputs": []
    },
    {
      "cell_type": "code",
      "source": [
        "movies_df = pd.read_csv('/content/gdrive/MyDrive/MLG_Final_Project/MovieLens100k/Data/movies_df.csv')\n",
        "ratings_df = pd.read_csv('/content/gdrive/MyDrive/MLG_Final_Project/MovieLens100k/Data/rating_df.csv')\n",
        "users_df = pd.read_csv('/content/gdrive/MyDrive/MLG_Final_Project/MovieLens100k/Data/users_df.csv')\n",
        "movies_df.shape, ratings_df.shape, users_df.shape\n"
      ],
      "metadata": {
        "colab": {
          "base_uri": "https://localhost:8080/"
        },
        "id": "2BULzS9YOvpp",
        "outputId": "705d396d-74a5-46c5-ab21-f28e227a1a5e"
      },
      "execution_count": 12,
      "outputs": [
        {
          "output_type": "execute_result",
          "data": {
            "text/plain": [
              "((1682, 24), (100000, 4), (943, 5))"
            ]
          },
          "metadata": {},
          "execution_count": 12
        }
      ]
    },
    {
      "cell_type": "code",
      "source": [
        "ratings_df, movies_df = remove_movies(ratings_df, movies_df)"
      ],
      "metadata": {
        "id": "8W9u42xcTGnm"
      },
      "execution_count": 13,
      "outputs": []
    },
    {
      "cell_type": "code",
      "source": [
        "ratings_df"
      ],
      "metadata": {
        "colab": {
          "base_uri": "https://localhost:8080/",
          "height": 424
        },
        "id": "gh8X_-wQoiZM",
        "outputId": "81dd1360-f022-402b-c9b9-f1ced9d5928a"
      },
      "execution_count": 14,
      "outputs": [
        {
          "output_type": "execute_result",
          "data": {
            "text/plain": [
              "       UserID  MovieID  Rating  Timestamp\n",
              "0         196      242       3  881250949\n",
              "1         186      302       3  891717742\n",
              "2          22      377       1  878887116\n",
              "3         244       51       2  880606923\n",
              "4         166      346       1  886397596\n",
              "...       ...      ...     ...        ...\n",
              "99995     880      476       3  880175444\n",
              "99996     716      204       5  879795543\n",
              "99997     276     1090       1  874795795\n",
              "99998      13      225       2  882399156\n",
              "99999      12      203       3  879959583\n",
              "\n",
              "[99991 rows x 4 columns]"
            ],
            "text/html": [
              "\n",
              "  <div id=\"df-87b9bf99-9fdd-49a1-9055-6ef5582513a7\">\n",
              "    <div class=\"colab-df-container\">\n",
              "      <div>\n",
              "<style scoped>\n",
              "    .dataframe tbody tr th:only-of-type {\n",
              "        vertical-align: middle;\n",
              "    }\n",
              "\n",
              "    .dataframe tbody tr th {\n",
              "        vertical-align: top;\n",
              "    }\n",
              "\n",
              "    .dataframe thead th {\n",
              "        text-align: right;\n",
              "    }\n",
              "</style>\n",
              "<table border=\"1\" class=\"dataframe\">\n",
              "  <thead>\n",
              "    <tr style=\"text-align: right;\">\n",
              "      <th></th>\n",
              "      <th>UserID</th>\n",
              "      <th>MovieID</th>\n",
              "      <th>Rating</th>\n",
              "      <th>Timestamp</th>\n",
              "    </tr>\n",
              "  </thead>\n",
              "  <tbody>\n",
              "    <tr>\n",
              "      <th>0</th>\n",
              "      <td>196</td>\n",
              "      <td>242</td>\n",
              "      <td>3</td>\n",
              "      <td>881250949</td>\n",
              "    </tr>\n",
              "    <tr>\n",
              "      <th>1</th>\n",
              "      <td>186</td>\n",
              "      <td>302</td>\n",
              "      <td>3</td>\n",
              "      <td>891717742</td>\n",
              "    </tr>\n",
              "    <tr>\n",
              "      <th>2</th>\n",
              "      <td>22</td>\n",
              "      <td>377</td>\n",
              "      <td>1</td>\n",
              "      <td>878887116</td>\n",
              "    </tr>\n",
              "    <tr>\n",
              "      <th>3</th>\n",
              "      <td>244</td>\n",
              "      <td>51</td>\n",
              "      <td>2</td>\n",
              "      <td>880606923</td>\n",
              "    </tr>\n",
              "    <tr>\n",
              "      <th>4</th>\n",
              "      <td>166</td>\n",
              "      <td>346</td>\n",
              "      <td>1</td>\n",
              "      <td>886397596</td>\n",
              "    </tr>\n",
              "    <tr>\n",
              "      <th>...</th>\n",
              "      <td>...</td>\n",
              "      <td>...</td>\n",
              "      <td>...</td>\n",
              "      <td>...</td>\n",
              "    </tr>\n",
              "    <tr>\n",
              "      <th>99995</th>\n",
              "      <td>880</td>\n",
              "      <td>476</td>\n",
              "      <td>3</td>\n",
              "      <td>880175444</td>\n",
              "    </tr>\n",
              "    <tr>\n",
              "      <th>99996</th>\n",
              "      <td>716</td>\n",
              "      <td>204</td>\n",
              "      <td>5</td>\n",
              "      <td>879795543</td>\n",
              "    </tr>\n",
              "    <tr>\n",
              "      <th>99997</th>\n",
              "      <td>276</td>\n",
              "      <td>1090</td>\n",
              "      <td>1</td>\n",
              "      <td>874795795</td>\n",
              "    </tr>\n",
              "    <tr>\n",
              "      <th>99998</th>\n",
              "      <td>13</td>\n",
              "      <td>225</td>\n",
              "      <td>2</td>\n",
              "      <td>882399156</td>\n",
              "    </tr>\n",
              "    <tr>\n",
              "      <th>99999</th>\n",
              "      <td>12</td>\n",
              "      <td>203</td>\n",
              "      <td>3</td>\n",
              "      <td>879959583</td>\n",
              "    </tr>\n",
              "  </tbody>\n",
              "</table>\n",
              "<p>99991 rows × 4 columns</p>\n",
              "</div>\n",
              "      <button class=\"colab-df-convert\" onclick=\"convertToInteractive('df-87b9bf99-9fdd-49a1-9055-6ef5582513a7')\"\n",
              "              title=\"Convert this dataframe to an interactive table.\"\n",
              "              style=\"display:none;\">\n",
              "        \n",
              "  <svg xmlns=\"http://www.w3.org/2000/svg\" height=\"24px\"viewBox=\"0 0 24 24\"\n",
              "       width=\"24px\">\n",
              "    <path d=\"M0 0h24v24H0V0z\" fill=\"none\"/>\n",
              "    <path d=\"M18.56 5.44l.94 2.06.94-2.06 2.06-.94-2.06-.94-.94-2.06-.94 2.06-2.06.94zm-11 1L8.5 8.5l.94-2.06 2.06-.94-2.06-.94L8.5 2.5l-.94 2.06-2.06.94zm10 10l.94 2.06.94-2.06 2.06-.94-2.06-.94-.94-2.06-.94 2.06-2.06.94z\"/><path d=\"M17.41 7.96l-1.37-1.37c-.4-.4-.92-.59-1.43-.59-.52 0-1.04.2-1.43.59L10.3 9.45l-7.72 7.72c-.78.78-.78 2.05 0 2.83L4 21.41c.39.39.9.59 1.41.59.51 0 1.02-.2 1.41-.59l7.78-7.78 2.81-2.81c.8-.78.8-2.07 0-2.86zM5.41 20L4 18.59l7.72-7.72 1.47 1.35L5.41 20z\"/>\n",
              "  </svg>\n",
              "      </button>\n",
              "      \n",
              "  <style>\n",
              "    .colab-df-container {\n",
              "      display:flex;\n",
              "      flex-wrap:wrap;\n",
              "      gap: 12px;\n",
              "    }\n",
              "\n",
              "    .colab-df-convert {\n",
              "      background-color: #E8F0FE;\n",
              "      border: none;\n",
              "      border-radius: 50%;\n",
              "      cursor: pointer;\n",
              "      display: none;\n",
              "      fill: #1967D2;\n",
              "      height: 32px;\n",
              "      padding: 0 0 0 0;\n",
              "      width: 32px;\n",
              "    }\n",
              "\n",
              "    .colab-df-convert:hover {\n",
              "      background-color: #E2EBFA;\n",
              "      box-shadow: 0px 1px 2px rgba(60, 64, 67, 0.3), 0px 1px 3px 1px rgba(60, 64, 67, 0.15);\n",
              "      fill: #174EA6;\n",
              "    }\n",
              "\n",
              "    [theme=dark] .colab-df-convert {\n",
              "      background-color: #3B4455;\n",
              "      fill: #D2E3FC;\n",
              "    }\n",
              "\n",
              "    [theme=dark] .colab-df-convert:hover {\n",
              "      background-color: #434B5C;\n",
              "      box-shadow: 0px 1px 3px 1px rgba(0, 0, 0, 0.15);\n",
              "      filter: drop-shadow(0px 1px 2px rgba(0, 0, 0, 0.3));\n",
              "      fill: #FFFFFF;\n",
              "    }\n",
              "  </style>\n",
              "\n",
              "      <script>\n",
              "        const buttonEl =\n",
              "          document.querySelector('#df-87b9bf99-9fdd-49a1-9055-6ef5582513a7 button.colab-df-convert');\n",
              "        buttonEl.style.display =\n",
              "          google.colab.kernel.accessAllowed ? 'block' : 'none';\n",
              "\n",
              "        async function convertToInteractive(key) {\n",
              "          const element = document.querySelector('#df-87b9bf99-9fdd-49a1-9055-6ef5582513a7');\n",
              "          const dataTable =\n",
              "            await google.colab.kernel.invokeFunction('convertToInteractive',\n",
              "                                                     [key], {});\n",
              "          if (!dataTable) return;\n",
              "\n",
              "          const docLinkHtml = 'Like what you see? Visit the ' +\n",
              "            '<a target=\"_blank\" href=https://colab.research.google.com/notebooks/data_table.ipynb>data table notebook</a>'\n",
              "            + ' to learn more about interactive tables.';\n",
              "          element.innerHTML = '';\n",
              "          dataTable['output_type'] = 'display_data';\n",
              "          await google.colab.output.renderOutput(dataTable, element);\n",
              "          const docLink = document.createElement('div');\n",
              "          docLink.innerHTML = docLinkHtml;\n",
              "          element.appendChild(docLink);\n",
              "        }\n",
              "      </script>\n",
              "    </div>\n",
              "  </div>\n",
              "  "
            ]
          },
          "metadata": {},
          "execution_count": 14
        }
      ]
    },
    {
      "cell_type": "code",
      "source": [
        "movies_df.drop(['video release date', 'IMDbURL'], axis=1, inplace=True)\n",
        "movies_df['Release Date'] = pd.to_datetime(movies_df['Release Date'])\n",
        "movies_df['Release Year'] = movies_df['Release Date'].dt.year\n",
        "movies_df['Release Month'] = movies_df['Release Date'].dt.month\n",
        "movies_df['Release Day'] = movies_df['Release Date'].dt.strftime('%j').apply(int)\n",
        "movies_df = movies_df.sort_values(by=['Release Date']).reset_index(drop=True)\n",
        "movies_df = calculate_average_rating(ratings_df, movies_df)\n",
        "movies_df.tail(2).T"
      ],
      "metadata": {
        "colab": {
          "base_uri": "https://localhost:8080/",
          "height": 865
        },
        "id": "3fRyCELVOvnN",
        "outputId": "e289b7bb-7503-4181-c014-4b1fce84b00f"
      },
      "execution_count": 15,
      "outputs": [
        {
          "output_type": "execute_result",
          "data": {
            "text/plain": [
              "                               1679                 1680\n",
              "MovieID                        1432                  315\n",
              "Movie Title      Mighty, The (1998)     Apt Pupil (1998)\n",
              "Release Date    1998-10-09 00:00:00  1998-10-23 00:00:00\n",
              "Unknown                           0                    0\n",
              "Action                            0                    0\n",
              "Adventure                         0                    0\n",
              "Animation                         0                    0\n",
              "Childrens                         0                    0\n",
              "Comedy                            0                    0\n",
              "Crime                             0                    0\n",
              "Documentary                       0                    0\n",
              "Drama                             1                    1\n",
              "Fantasy                           0                    0\n",
              "Film-Noir                         0                    0\n",
              "Horror                            0                    0\n",
              "Musical                           0                    0\n",
              "Mystery                           0                    0\n",
              "Romance                           0                    0\n",
              "Sci-Fi                            0                    0\n",
              "Thriller                          0                    1\n",
              "War                               0                    0\n",
              "Western                           0                    0\n",
              "Release Year                   1998                 1998\n",
              "Release Month                    10                   10\n",
              "Release Day                     282                  296\n",
              "Average Rating                  1.0                  4.1"
            ],
            "text/html": [
              "\n",
              "  <div id=\"df-6464eb31-0955-435e-bbb7-c16fad58ed42\">\n",
              "    <div class=\"colab-df-container\">\n",
              "      <div>\n",
              "<style scoped>\n",
              "    .dataframe tbody tr th:only-of-type {\n",
              "        vertical-align: middle;\n",
              "    }\n",
              "\n",
              "    .dataframe tbody tr th {\n",
              "        vertical-align: top;\n",
              "    }\n",
              "\n",
              "    .dataframe thead th {\n",
              "        text-align: right;\n",
              "    }\n",
              "</style>\n",
              "<table border=\"1\" class=\"dataframe\">\n",
              "  <thead>\n",
              "    <tr style=\"text-align: right;\">\n",
              "      <th></th>\n",
              "      <th>1679</th>\n",
              "      <th>1680</th>\n",
              "    </tr>\n",
              "  </thead>\n",
              "  <tbody>\n",
              "    <tr>\n",
              "      <th>MovieID</th>\n",
              "      <td>1432</td>\n",
              "      <td>315</td>\n",
              "    </tr>\n",
              "    <tr>\n",
              "      <th>Movie Title</th>\n",
              "      <td>Mighty, The (1998)</td>\n",
              "      <td>Apt Pupil (1998)</td>\n",
              "    </tr>\n",
              "    <tr>\n",
              "      <th>Release Date</th>\n",
              "      <td>1998-10-09 00:00:00</td>\n",
              "      <td>1998-10-23 00:00:00</td>\n",
              "    </tr>\n",
              "    <tr>\n",
              "      <th>Unknown</th>\n",
              "      <td>0</td>\n",
              "      <td>0</td>\n",
              "    </tr>\n",
              "    <tr>\n",
              "      <th>Action</th>\n",
              "      <td>0</td>\n",
              "      <td>0</td>\n",
              "    </tr>\n",
              "    <tr>\n",
              "      <th>Adventure</th>\n",
              "      <td>0</td>\n",
              "      <td>0</td>\n",
              "    </tr>\n",
              "    <tr>\n",
              "      <th>Animation</th>\n",
              "      <td>0</td>\n",
              "      <td>0</td>\n",
              "    </tr>\n",
              "    <tr>\n",
              "      <th>Childrens</th>\n",
              "      <td>0</td>\n",
              "      <td>0</td>\n",
              "    </tr>\n",
              "    <tr>\n",
              "      <th>Comedy</th>\n",
              "      <td>0</td>\n",
              "      <td>0</td>\n",
              "    </tr>\n",
              "    <tr>\n",
              "      <th>Crime</th>\n",
              "      <td>0</td>\n",
              "      <td>0</td>\n",
              "    </tr>\n",
              "    <tr>\n",
              "      <th>Documentary</th>\n",
              "      <td>0</td>\n",
              "      <td>0</td>\n",
              "    </tr>\n",
              "    <tr>\n",
              "      <th>Drama</th>\n",
              "      <td>1</td>\n",
              "      <td>1</td>\n",
              "    </tr>\n",
              "    <tr>\n",
              "      <th>Fantasy</th>\n",
              "      <td>0</td>\n",
              "      <td>0</td>\n",
              "    </tr>\n",
              "    <tr>\n",
              "      <th>Film-Noir</th>\n",
              "      <td>0</td>\n",
              "      <td>0</td>\n",
              "    </tr>\n",
              "    <tr>\n",
              "      <th>Horror</th>\n",
              "      <td>0</td>\n",
              "      <td>0</td>\n",
              "    </tr>\n",
              "    <tr>\n",
              "      <th>Musical</th>\n",
              "      <td>0</td>\n",
              "      <td>0</td>\n",
              "    </tr>\n",
              "    <tr>\n",
              "      <th>Mystery</th>\n",
              "      <td>0</td>\n",
              "      <td>0</td>\n",
              "    </tr>\n",
              "    <tr>\n",
              "      <th>Romance</th>\n",
              "      <td>0</td>\n",
              "      <td>0</td>\n",
              "    </tr>\n",
              "    <tr>\n",
              "      <th>Sci-Fi</th>\n",
              "      <td>0</td>\n",
              "      <td>0</td>\n",
              "    </tr>\n",
              "    <tr>\n",
              "      <th>Thriller</th>\n",
              "      <td>0</td>\n",
              "      <td>1</td>\n",
              "    </tr>\n",
              "    <tr>\n",
              "      <th>War</th>\n",
              "      <td>0</td>\n",
              "      <td>0</td>\n",
              "    </tr>\n",
              "    <tr>\n",
              "      <th>Western</th>\n",
              "      <td>0</td>\n",
              "      <td>0</td>\n",
              "    </tr>\n",
              "    <tr>\n",
              "      <th>Release Year</th>\n",
              "      <td>1998</td>\n",
              "      <td>1998</td>\n",
              "    </tr>\n",
              "    <tr>\n",
              "      <th>Release Month</th>\n",
              "      <td>10</td>\n",
              "      <td>10</td>\n",
              "    </tr>\n",
              "    <tr>\n",
              "      <th>Release Day</th>\n",
              "      <td>282</td>\n",
              "      <td>296</td>\n",
              "    </tr>\n",
              "    <tr>\n",
              "      <th>Average Rating</th>\n",
              "      <td>1.0</td>\n",
              "      <td>4.1</td>\n",
              "    </tr>\n",
              "  </tbody>\n",
              "</table>\n",
              "</div>\n",
              "      <button class=\"colab-df-convert\" onclick=\"convertToInteractive('df-6464eb31-0955-435e-bbb7-c16fad58ed42')\"\n",
              "              title=\"Convert this dataframe to an interactive table.\"\n",
              "              style=\"display:none;\">\n",
              "        \n",
              "  <svg xmlns=\"http://www.w3.org/2000/svg\" height=\"24px\"viewBox=\"0 0 24 24\"\n",
              "       width=\"24px\">\n",
              "    <path d=\"M0 0h24v24H0V0z\" fill=\"none\"/>\n",
              "    <path d=\"M18.56 5.44l.94 2.06.94-2.06 2.06-.94-2.06-.94-.94-2.06-.94 2.06-2.06.94zm-11 1L8.5 8.5l.94-2.06 2.06-.94-2.06-.94L8.5 2.5l-.94 2.06-2.06.94zm10 10l.94 2.06.94-2.06 2.06-.94-2.06-.94-.94-2.06-.94 2.06-2.06.94z\"/><path d=\"M17.41 7.96l-1.37-1.37c-.4-.4-.92-.59-1.43-.59-.52 0-1.04.2-1.43.59L10.3 9.45l-7.72 7.72c-.78.78-.78 2.05 0 2.83L4 21.41c.39.39.9.59 1.41.59.51 0 1.02-.2 1.41-.59l7.78-7.78 2.81-2.81c.8-.78.8-2.07 0-2.86zM5.41 20L4 18.59l7.72-7.72 1.47 1.35L5.41 20z\"/>\n",
              "  </svg>\n",
              "      </button>\n",
              "      \n",
              "  <style>\n",
              "    .colab-df-container {\n",
              "      display:flex;\n",
              "      flex-wrap:wrap;\n",
              "      gap: 12px;\n",
              "    }\n",
              "\n",
              "    .colab-df-convert {\n",
              "      background-color: #E8F0FE;\n",
              "      border: none;\n",
              "      border-radius: 50%;\n",
              "      cursor: pointer;\n",
              "      display: none;\n",
              "      fill: #1967D2;\n",
              "      height: 32px;\n",
              "      padding: 0 0 0 0;\n",
              "      width: 32px;\n",
              "    }\n",
              "\n",
              "    .colab-df-convert:hover {\n",
              "      background-color: #E2EBFA;\n",
              "      box-shadow: 0px 1px 2px rgba(60, 64, 67, 0.3), 0px 1px 3px 1px rgba(60, 64, 67, 0.15);\n",
              "      fill: #174EA6;\n",
              "    }\n",
              "\n",
              "    [theme=dark] .colab-df-convert {\n",
              "      background-color: #3B4455;\n",
              "      fill: #D2E3FC;\n",
              "    }\n",
              "\n",
              "    [theme=dark] .colab-df-convert:hover {\n",
              "      background-color: #434B5C;\n",
              "      box-shadow: 0px 1px 3px 1px rgba(0, 0, 0, 0.15);\n",
              "      filter: drop-shadow(0px 1px 2px rgba(0, 0, 0, 0.3));\n",
              "      fill: #FFFFFF;\n",
              "    }\n",
              "  </style>\n",
              "\n",
              "      <script>\n",
              "        const buttonEl =\n",
              "          document.querySelector('#df-6464eb31-0955-435e-bbb7-c16fad58ed42 button.colab-df-convert');\n",
              "        buttonEl.style.display =\n",
              "          google.colab.kernel.accessAllowed ? 'block' : 'none';\n",
              "\n",
              "        async function convertToInteractive(key) {\n",
              "          const element = document.querySelector('#df-6464eb31-0955-435e-bbb7-c16fad58ed42');\n",
              "          const dataTable =\n",
              "            await google.colab.kernel.invokeFunction('convertToInteractive',\n",
              "                                                     [key], {});\n",
              "          if (!dataTable) return;\n",
              "\n",
              "          const docLinkHtml = 'Like what you see? Visit the ' +\n",
              "            '<a target=\"_blank\" href=https://colab.research.google.com/notebooks/data_table.ipynb>data table notebook</a>'\n",
              "            + ' to learn more about interactive tables.';\n",
              "          element.innerHTML = '';\n",
              "          dataTable['output_type'] = 'display_data';\n",
              "          await google.colab.output.renderOutput(dataTable, element);\n",
              "          const docLink = document.createElement('div');\n",
              "          docLink.innerHTML = docLinkHtml;\n",
              "          element.appendChild(docLink);\n",
              "        }\n",
              "      </script>\n",
              "    </div>\n",
              "  </div>\n",
              "  "
            ]
          },
          "metadata": {},
          "execution_count": 15
        }
      ]
    },
    {
      "cell_type": "code",
      "source": [
        "# !pip install --upgrade geopy\n",
        "# from geopy.geocoders import Nominatim\n",
        "# def zipcode2city(zipcode):\n",
        "#   geolocator = Nominatim(timeout=10, user_agent = \"dlab.berkeley.edu-workshop\")\n",
        "#   try:\n",
        "#     return geolocator.geocode({\"postalcode\": zipcode})[0].split(',')[0]\n",
        "#   except:\n",
        "#     'not found'\n",
        "\n",
        "# users_df['Zipcode'].apply(zipcode2city)"
      ],
      "metadata": {
        "id": "lBp4_G_egz4K"
      },
      "execution_count": 16,
      "outputs": []
    },
    {
      "cell_type": "code",
      "source": [
        "users_df = add_age_group(users_df)\n",
        "users_df"
      ],
      "metadata": {
        "colab": {
          "base_uri": "https://localhost:8080/",
          "height": 424
        },
        "id": "xDjBiXuTOvki",
        "outputId": "56dbefd4-4e6c-4faf-dcf8-6be4862dce0c"
      },
      "execution_count": 17,
      "outputs": [
        {
          "output_type": "execute_result",
          "data": {
            "text/plain": [
              "     UserID  Age Gender     Occupation Zipcode     AgeGroup\n",
              "0         1   24      M     technician   85711  Young Adult\n",
              "1         2   53      F          other   94043  Older Adult\n",
              "2         3   23      M         writer   32067  Young Adult\n",
              "3         4   24      M     technician   43537  Young Adult\n",
              "4         5   33      F          other   15213        Adult\n",
              "..      ...  ...    ...            ...     ...          ...\n",
              "938     939   26      F        student   33319        Adult\n",
              "939     940   32      M  administrator   02215        Adult\n",
              "940     941   20      M        student   97229  Young Adult\n",
              "941     942   48      F      librarian   78209  Older Adult\n",
              "942     943   22      M        student   77841  Young Adult\n",
              "\n",
              "[943 rows x 6 columns]"
            ],
            "text/html": [
              "\n",
              "  <div id=\"df-35cd0465-0959-4cdb-b075-a5d6891f3e39\">\n",
              "    <div class=\"colab-df-container\">\n",
              "      <div>\n",
              "<style scoped>\n",
              "    .dataframe tbody tr th:only-of-type {\n",
              "        vertical-align: middle;\n",
              "    }\n",
              "\n",
              "    .dataframe tbody tr th {\n",
              "        vertical-align: top;\n",
              "    }\n",
              "\n",
              "    .dataframe thead th {\n",
              "        text-align: right;\n",
              "    }\n",
              "</style>\n",
              "<table border=\"1\" class=\"dataframe\">\n",
              "  <thead>\n",
              "    <tr style=\"text-align: right;\">\n",
              "      <th></th>\n",
              "      <th>UserID</th>\n",
              "      <th>Age</th>\n",
              "      <th>Gender</th>\n",
              "      <th>Occupation</th>\n",
              "      <th>Zipcode</th>\n",
              "      <th>AgeGroup</th>\n",
              "    </tr>\n",
              "  </thead>\n",
              "  <tbody>\n",
              "    <tr>\n",
              "      <th>0</th>\n",
              "      <td>1</td>\n",
              "      <td>24</td>\n",
              "      <td>M</td>\n",
              "      <td>technician</td>\n",
              "      <td>85711</td>\n",
              "      <td>Young Adult</td>\n",
              "    </tr>\n",
              "    <tr>\n",
              "      <th>1</th>\n",
              "      <td>2</td>\n",
              "      <td>53</td>\n",
              "      <td>F</td>\n",
              "      <td>other</td>\n",
              "      <td>94043</td>\n",
              "      <td>Older Adult</td>\n",
              "    </tr>\n",
              "    <tr>\n",
              "      <th>2</th>\n",
              "      <td>3</td>\n",
              "      <td>23</td>\n",
              "      <td>M</td>\n",
              "      <td>writer</td>\n",
              "      <td>32067</td>\n",
              "      <td>Young Adult</td>\n",
              "    </tr>\n",
              "    <tr>\n",
              "      <th>3</th>\n",
              "      <td>4</td>\n",
              "      <td>24</td>\n",
              "      <td>M</td>\n",
              "      <td>technician</td>\n",
              "      <td>43537</td>\n",
              "      <td>Young Adult</td>\n",
              "    </tr>\n",
              "    <tr>\n",
              "      <th>4</th>\n",
              "      <td>5</td>\n",
              "      <td>33</td>\n",
              "      <td>F</td>\n",
              "      <td>other</td>\n",
              "      <td>15213</td>\n",
              "      <td>Adult</td>\n",
              "    </tr>\n",
              "    <tr>\n",
              "      <th>...</th>\n",
              "      <td>...</td>\n",
              "      <td>...</td>\n",
              "      <td>...</td>\n",
              "      <td>...</td>\n",
              "      <td>...</td>\n",
              "      <td>...</td>\n",
              "    </tr>\n",
              "    <tr>\n",
              "      <th>938</th>\n",
              "      <td>939</td>\n",
              "      <td>26</td>\n",
              "      <td>F</td>\n",
              "      <td>student</td>\n",
              "      <td>33319</td>\n",
              "      <td>Adult</td>\n",
              "    </tr>\n",
              "    <tr>\n",
              "      <th>939</th>\n",
              "      <td>940</td>\n",
              "      <td>32</td>\n",
              "      <td>M</td>\n",
              "      <td>administrator</td>\n",
              "      <td>02215</td>\n",
              "      <td>Adult</td>\n",
              "    </tr>\n",
              "    <tr>\n",
              "      <th>940</th>\n",
              "      <td>941</td>\n",
              "      <td>20</td>\n",
              "      <td>M</td>\n",
              "      <td>student</td>\n",
              "      <td>97229</td>\n",
              "      <td>Young Adult</td>\n",
              "    </tr>\n",
              "    <tr>\n",
              "      <th>941</th>\n",
              "      <td>942</td>\n",
              "      <td>48</td>\n",
              "      <td>F</td>\n",
              "      <td>librarian</td>\n",
              "      <td>78209</td>\n",
              "      <td>Older Adult</td>\n",
              "    </tr>\n",
              "    <tr>\n",
              "      <th>942</th>\n",
              "      <td>943</td>\n",
              "      <td>22</td>\n",
              "      <td>M</td>\n",
              "      <td>student</td>\n",
              "      <td>77841</td>\n",
              "      <td>Young Adult</td>\n",
              "    </tr>\n",
              "  </tbody>\n",
              "</table>\n",
              "<p>943 rows × 6 columns</p>\n",
              "</div>\n",
              "      <button class=\"colab-df-convert\" onclick=\"convertToInteractive('df-35cd0465-0959-4cdb-b075-a5d6891f3e39')\"\n",
              "              title=\"Convert this dataframe to an interactive table.\"\n",
              "              style=\"display:none;\">\n",
              "        \n",
              "  <svg xmlns=\"http://www.w3.org/2000/svg\" height=\"24px\"viewBox=\"0 0 24 24\"\n",
              "       width=\"24px\">\n",
              "    <path d=\"M0 0h24v24H0V0z\" fill=\"none\"/>\n",
              "    <path d=\"M18.56 5.44l.94 2.06.94-2.06 2.06-.94-2.06-.94-.94-2.06-.94 2.06-2.06.94zm-11 1L8.5 8.5l.94-2.06 2.06-.94-2.06-.94L8.5 2.5l-.94 2.06-2.06.94zm10 10l.94 2.06.94-2.06 2.06-.94-2.06-.94-.94-2.06-.94 2.06-2.06.94z\"/><path d=\"M17.41 7.96l-1.37-1.37c-.4-.4-.92-.59-1.43-.59-.52 0-1.04.2-1.43.59L10.3 9.45l-7.72 7.72c-.78.78-.78 2.05 0 2.83L4 21.41c.39.39.9.59 1.41.59.51 0 1.02-.2 1.41-.59l7.78-7.78 2.81-2.81c.8-.78.8-2.07 0-2.86zM5.41 20L4 18.59l7.72-7.72 1.47 1.35L5.41 20z\"/>\n",
              "  </svg>\n",
              "      </button>\n",
              "      \n",
              "  <style>\n",
              "    .colab-df-container {\n",
              "      display:flex;\n",
              "      flex-wrap:wrap;\n",
              "      gap: 12px;\n",
              "    }\n",
              "\n",
              "    .colab-df-convert {\n",
              "      background-color: #E8F0FE;\n",
              "      border: none;\n",
              "      border-radius: 50%;\n",
              "      cursor: pointer;\n",
              "      display: none;\n",
              "      fill: #1967D2;\n",
              "      height: 32px;\n",
              "      padding: 0 0 0 0;\n",
              "      width: 32px;\n",
              "    }\n",
              "\n",
              "    .colab-df-convert:hover {\n",
              "      background-color: #E2EBFA;\n",
              "      box-shadow: 0px 1px 2px rgba(60, 64, 67, 0.3), 0px 1px 3px 1px rgba(60, 64, 67, 0.15);\n",
              "      fill: #174EA6;\n",
              "    }\n",
              "\n",
              "    [theme=dark] .colab-df-convert {\n",
              "      background-color: #3B4455;\n",
              "      fill: #D2E3FC;\n",
              "    }\n",
              "\n",
              "    [theme=dark] .colab-df-convert:hover {\n",
              "      background-color: #434B5C;\n",
              "      box-shadow: 0px 1px 3px 1px rgba(0, 0, 0, 0.15);\n",
              "      filter: drop-shadow(0px 1px 2px rgba(0, 0, 0, 0.3));\n",
              "      fill: #FFFFFF;\n",
              "    }\n",
              "  </style>\n",
              "\n",
              "      <script>\n",
              "        const buttonEl =\n",
              "          document.querySelector('#df-35cd0465-0959-4cdb-b075-a5d6891f3e39 button.colab-df-convert');\n",
              "        buttonEl.style.display =\n",
              "          google.colab.kernel.accessAllowed ? 'block' : 'none';\n",
              "\n",
              "        async function convertToInteractive(key) {\n",
              "          const element = document.querySelector('#df-35cd0465-0959-4cdb-b075-a5d6891f3e39');\n",
              "          const dataTable =\n",
              "            await google.colab.kernel.invokeFunction('convertToInteractive',\n",
              "                                                     [key], {});\n",
              "          if (!dataTable) return;\n",
              "\n",
              "          const docLinkHtml = 'Like what you see? Visit the ' +\n",
              "            '<a target=\"_blank\" href=https://colab.research.google.com/notebooks/data_table.ipynb>data table notebook</a>'\n",
              "            + ' to learn more about interactive tables.';\n",
              "          element.innerHTML = '';\n",
              "          dataTable['output_type'] = 'display_data';\n",
              "          await google.colab.output.renderOutput(dataTable, element);\n",
              "          const docLink = document.createElement('div');\n",
              "          docLink.innerHTML = docLinkHtml;\n",
              "          element.appendChild(docLink);\n",
              "        }\n",
              "      </script>\n",
              "    </div>\n",
              "  </div>\n",
              "  "
            ]
          },
          "metadata": {},
          "execution_count": 17
        }
      ]
    },
    {
      "cell_type": "code",
      "source": [
        "ratings_df.loc[:,'Timestamp'] = ratings_df.loc[:,'Timestamp'].apply(Timestamp2Date)\n",
        "ratings_df.sort_values(by='Timestamp', inplace=True)\n",
        "ratings_df.reset_index(drop=True, inplace=True)\n",
        "\n",
        "ratings_df.loc[:,'Timestamp'] = pd.to_datetime(ratings_df.loc[:,'Timestamp'])\n",
        "ratings_df.loc[:,'Year'] = ratings_df.loc[:,'Timestamp'].dt.year\n",
        "ratings_df.loc[:,'Month'] = ratings_df.loc[:,'Timestamp'].dt.month\n",
        "ratings_df.loc[:,'Weekday'] = ratings_df.loc[:,'Timestamp'].dt.weekday\n",
        "ratings_df.loc[:,'Hour'] = ratings_df.loc[:,'Timestamp'].dt.hour\n",
        "ratings_df.loc[:,'DayofYear'] = ratings_df.loc[:,'Timestamp'].dt.strftime('%j')\n",
        "\n",
        "ratings_df"
      ],
      "metadata": {
        "colab": {
          "base_uri": "https://localhost:8080/",
          "height": 424
        },
        "id": "Z6VQuqGDOvh7",
        "outputId": "aa67bf08-66d7-42aa-a021-0e47111d1937"
      },
      "execution_count": 18,
      "outputs": [
        {
          "output_type": "execute_result",
          "data": {
            "text/plain": [
              "       UserID  MovieID  Rating           Timestamp  Year  Month  Weekday  \\\n",
              "0         259      255       4 1997-09-20 03:05:10  1997      9        5   \n",
              "1         259      286       4 1997-09-20 03:05:27  1997      9        5   \n",
              "2         259      298       4 1997-09-20 03:05:54  1997      9        5   \n",
              "3         259      185       4 1997-09-20 03:06:21  1997      9        5   \n",
              "4         259      173       4 1997-09-20 03:07:23  1997      9        5   \n",
              "...       ...      ...     ...                 ...   ...    ...      ...   \n",
              "99986     729      689       4 1998-04-22 23:10:38  1998      4        2   \n",
              "99987     729      300       4 1998-04-22 23:10:38  1998      4        2   \n",
              "99988     729      748       4 1998-04-22 23:10:38  1998      4        2   \n",
              "99989     729      313       3 1998-04-22 23:10:38  1998      4        2   \n",
              "99990     729      333       4 1998-04-22 23:10:38  1998      4        2   \n",
              "\n",
              "       Hour DayofYear  \n",
              "0         3       263  \n",
              "1         3       263  \n",
              "2         3       263  \n",
              "3         3       263  \n",
              "4         3       263  \n",
              "...     ...       ...  \n",
              "99986    23       112  \n",
              "99987    23       112  \n",
              "99988    23       112  \n",
              "99989    23       112  \n",
              "99990    23       112  \n",
              "\n",
              "[99991 rows x 9 columns]"
            ],
            "text/html": [
              "\n",
              "  <div id=\"df-7cd6e24c-db23-4451-a139-594c893eabef\">\n",
              "    <div class=\"colab-df-container\">\n",
              "      <div>\n",
              "<style scoped>\n",
              "    .dataframe tbody tr th:only-of-type {\n",
              "        vertical-align: middle;\n",
              "    }\n",
              "\n",
              "    .dataframe tbody tr th {\n",
              "        vertical-align: top;\n",
              "    }\n",
              "\n",
              "    .dataframe thead th {\n",
              "        text-align: right;\n",
              "    }\n",
              "</style>\n",
              "<table border=\"1\" class=\"dataframe\">\n",
              "  <thead>\n",
              "    <tr style=\"text-align: right;\">\n",
              "      <th></th>\n",
              "      <th>UserID</th>\n",
              "      <th>MovieID</th>\n",
              "      <th>Rating</th>\n",
              "      <th>Timestamp</th>\n",
              "      <th>Year</th>\n",
              "      <th>Month</th>\n",
              "      <th>Weekday</th>\n",
              "      <th>Hour</th>\n",
              "      <th>DayofYear</th>\n",
              "    </tr>\n",
              "  </thead>\n",
              "  <tbody>\n",
              "    <tr>\n",
              "      <th>0</th>\n",
              "      <td>259</td>\n",
              "      <td>255</td>\n",
              "      <td>4</td>\n",
              "      <td>1997-09-20 03:05:10</td>\n",
              "      <td>1997</td>\n",
              "      <td>9</td>\n",
              "      <td>5</td>\n",
              "      <td>3</td>\n",
              "      <td>263</td>\n",
              "    </tr>\n",
              "    <tr>\n",
              "      <th>1</th>\n",
              "      <td>259</td>\n",
              "      <td>286</td>\n",
              "      <td>4</td>\n",
              "      <td>1997-09-20 03:05:27</td>\n",
              "      <td>1997</td>\n",
              "      <td>9</td>\n",
              "      <td>5</td>\n",
              "      <td>3</td>\n",
              "      <td>263</td>\n",
              "    </tr>\n",
              "    <tr>\n",
              "      <th>2</th>\n",
              "      <td>259</td>\n",
              "      <td>298</td>\n",
              "      <td>4</td>\n",
              "      <td>1997-09-20 03:05:54</td>\n",
              "      <td>1997</td>\n",
              "      <td>9</td>\n",
              "      <td>5</td>\n",
              "      <td>3</td>\n",
              "      <td>263</td>\n",
              "    </tr>\n",
              "    <tr>\n",
              "      <th>3</th>\n",
              "      <td>259</td>\n",
              "      <td>185</td>\n",
              "      <td>4</td>\n",
              "      <td>1997-09-20 03:06:21</td>\n",
              "      <td>1997</td>\n",
              "      <td>9</td>\n",
              "      <td>5</td>\n",
              "      <td>3</td>\n",
              "      <td>263</td>\n",
              "    </tr>\n",
              "    <tr>\n",
              "      <th>4</th>\n",
              "      <td>259</td>\n",
              "      <td>173</td>\n",
              "      <td>4</td>\n",
              "      <td>1997-09-20 03:07:23</td>\n",
              "      <td>1997</td>\n",
              "      <td>9</td>\n",
              "      <td>5</td>\n",
              "      <td>3</td>\n",
              "      <td>263</td>\n",
              "    </tr>\n",
              "    <tr>\n",
              "      <th>...</th>\n",
              "      <td>...</td>\n",
              "      <td>...</td>\n",
              "      <td>...</td>\n",
              "      <td>...</td>\n",
              "      <td>...</td>\n",
              "      <td>...</td>\n",
              "      <td>...</td>\n",
              "      <td>...</td>\n",
              "      <td>...</td>\n",
              "    </tr>\n",
              "    <tr>\n",
              "      <th>99986</th>\n",
              "      <td>729</td>\n",
              "      <td>689</td>\n",
              "      <td>4</td>\n",
              "      <td>1998-04-22 23:10:38</td>\n",
              "      <td>1998</td>\n",
              "      <td>4</td>\n",
              "      <td>2</td>\n",
              "      <td>23</td>\n",
              "      <td>112</td>\n",
              "    </tr>\n",
              "    <tr>\n",
              "      <th>99987</th>\n",
              "      <td>729</td>\n",
              "      <td>300</td>\n",
              "      <td>4</td>\n",
              "      <td>1998-04-22 23:10:38</td>\n",
              "      <td>1998</td>\n",
              "      <td>4</td>\n",
              "      <td>2</td>\n",
              "      <td>23</td>\n",
              "      <td>112</td>\n",
              "    </tr>\n",
              "    <tr>\n",
              "      <th>99988</th>\n",
              "      <td>729</td>\n",
              "      <td>748</td>\n",
              "      <td>4</td>\n",
              "      <td>1998-04-22 23:10:38</td>\n",
              "      <td>1998</td>\n",
              "      <td>4</td>\n",
              "      <td>2</td>\n",
              "      <td>23</td>\n",
              "      <td>112</td>\n",
              "    </tr>\n",
              "    <tr>\n",
              "      <th>99989</th>\n",
              "      <td>729</td>\n",
              "      <td>313</td>\n",
              "      <td>3</td>\n",
              "      <td>1998-04-22 23:10:38</td>\n",
              "      <td>1998</td>\n",
              "      <td>4</td>\n",
              "      <td>2</td>\n",
              "      <td>23</td>\n",
              "      <td>112</td>\n",
              "    </tr>\n",
              "    <tr>\n",
              "      <th>99990</th>\n",
              "      <td>729</td>\n",
              "      <td>333</td>\n",
              "      <td>4</td>\n",
              "      <td>1998-04-22 23:10:38</td>\n",
              "      <td>1998</td>\n",
              "      <td>4</td>\n",
              "      <td>2</td>\n",
              "      <td>23</td>\n",
              "      <td>112</td>\n",
              "    </tr>\n",
              "  </tbody>\n",
              "</table>\n",
              "<p>99991 rows × 9 columns</p>\n",
              "</div>\n",
              "      <button class=\"colab-df-convert\" onclick=\"convertToInteractive('df-7cd6e24c-db23-4451-a139-594c893eabef')\"\n",
              "              title=\"Convert this dataframe to an interactive table.\"\n",
              "              style=\"display:none;\">\n",
              "        \n",
              "  <svg xmlns=\"http://www.w3.org/2000/svg\" height=\"24px\"viewBox=\"0 0 24 24\"\n",
              "       width=\"24px\">\n",
              "    <path d=\"M0 0h24v24H0V0z\" fill=\"none\"/>\n",
              "    <path d=\"M18.56 5.44l.94 2.06.94-2.06 2.06-.94-2.06-.94-.94-2.06-.94 2.06-2.06.94zm-11 1L8.5 8.5l.94-2.06 2.06-.94-2.06-.94L8.5 2.5l-.94 2.06-2.06.94zm10 10l.94 2.06.94-2.06 2.06-.94-2.06-.94-.94-2.06-.94 2.06-2.06.94z\"/><path d=\"M17.41 7.96l-1.37-1.37c-.4-.4-.92-.59-1.43-.59-.52 0-1.04.2-1.43.59L10.3 9.45l-7.72 7.72c-.78.78-.78 2.05 0 2.83L4 21.41c.39.39.9.59 1.41.59.51 0 1.02-.2 1.41-.59l7.78-7.78 2.81-2.81c.8-.78.8-2.07 0-2.86zM5.41 20L4 18.59l7.72-7.72 1.47 1.35L5.41 20z\"/>\n",
              "  </svg>\n",
              "      </button>\n",
              "      \n",
              "  <style>\n",
              "    .colab-df-container {\n",
              "      display:flex;\n",
              "      flex-wrap:wrap;\n",
              "      gap: 12px;\n",
              "    }\n",
              "\n",
              "    .colab-df-convert {\n",
              "      background-color: #E8F0FE;\n",
              "      border: none;\n",
              "      border-radius: 50%;\n",
              "      cursor: pointer;\n",
              "      display: none;\n",
              "      fill: #1967D2;\n",
              "      height: 32px;\n",
              "      padding: 0 0 0 0;\n",
              "      width: 32px;\n",
              "    }\n",
              "\n",
              "    .colab-df-convert:hover {\n",
              "      background-color: #E2EBFA;\n",
              "      box-shadow: 0px 1px 2px rgba(60, 64, 67, 0.3), 0px 1px 3px 1px rgba(60, 64, 67, 0.15);\n",
              "      fill: #174EA6;\n",
              "    }\n",
              "\n",
              "    [theme=dark] .colab-df-convert {\n",
              "      background-color: #3B4455;\n",
              "      fill: #D2E3FC;\n",
              "    }\n",
              "\n",
              "    [theme=dark] .colab-df-convert:hover {\n",
              "      background-color: #434B5C;\n",
              "      box-shadow: 0px 1px 3px 1px rgba(0, 0, 0, 0.15);\n",
              "      filter: drop-shadow(0px 1px 2px rgba(0, 0, 0, 0.3));\n",
              "      fill: #FFFFFF;\n",
              "    }\n",
              "  </style>\n",
              "\n",
              "      <script>\n",
              "        const buttonEl =\n",
              "          document.querySelector('#df-7cd6e24c-db23-4451-a139-594c893eabef button.colab-df-convert');\n",
              "        buttonEl.style.display =\n",
              "          google.colab.kernel.accessAllowed ? 'block' : 'none';\n",
              "\n",
              "        async function convertToInteractive(key) {\n",
              "          const element = document.querySelector('#df-7cd6e24c-db23-4451-a139-594c893eabef');\n",
              "          const dataTable =\n",
              "            await google.colab.kernel.invokeFunction('convertToInteractive',\n",
              "                                                     [key], {});\n",
              "          if (!dataTable) return;\n",
              "\n",
              "          const docLinkHtml = 'Like what you see? Visit the ' +\n",
              "            '<a target=\"_blank\" href=https://colab.research.google.com/notebooks/data_table.ipynb>data table notebook</a>'\n",
              "            + ' to learn more about interactive tables.';\n",
              "          element.innerHTML = '';\n",
              "          dataTable['output_type'] = 'display_data';\n",
              "          await google.colab.output.renderOutput(dataTable, element);\n",
              "          const docLink = document.createElement('div');\n",
              "          docLink.innerHTML = docLinkHtml;\n",
              "          element.appendChild(docLink);\n",
              "        }\n",
              "      </script>\n",
              "    </div>\n",
              "  </div>\n",
              "  "
            ]
          },
          "metadata": {},
          "execution_count": 18
        }
      ]
    },
    {
      "cell_type": "code",
      "source": [
        "def generate_graph_edges(movies_df, ratings_df, users_df, rate_threshold=4):\n",
        "  unique_user_id = ratings_df['UserID'].unique()\n",
        "  unique_user_id = pd.DataFrame(data={\n",
        "      'UserID': unique_user_id,\n",
        "      'mappedID': pd.RangeIndex(len(unique_user_id))\n",
        "      })\n",
        "  userid_mapper = dict(zip(unique_user_id.iloc[:,0], unique_user_id.iloc[:,-1]))\n",
        "  \n",
        "  print(\"1. Mapping UserID to consecutive values... \")\n",
        "\n",
        "  unique_movie_id = ratings_df['MovieID'].unique()\n",
        "  unique_movie_id = pd.DataFrame(data={\n",
        "      'MovieID': unique_movie_id,\n",
        "      'mappedID': pd.RangeIndex(len(unique_movie_id))\n",
        "      })\n",
        "  movieid_mapper = dict(zip(unique_movie_id.iloc[:,0], unique_movie_id.iloc[:,-1]))\n",
        "  print(\"2. Mapping MovieID to consecutive values... \")\n",
        "\n",
        "  users_df['UserID'] = users_df['UserID'].map(userid_mapper)\n",
        "  users_df = users_df.sort_values(by='UserID').reset_index(drop=True)\n",
        "  movies_df['MovieID'] =  movies_df['MovieID'].map(movieid_mapper)\n",
        "  movies_df = movies_df.sort_values(by='MovieID').reset_index(drop=True)\n",
        "  ratings_df['UserID'] = ratings_df['UserID'].map(userid_mapper)\n",
        "  ratings_df['MovieID'] =  ratings_df['MovieID'].map(movieid_mapper)\n",
        "  ratings_df = ratings_df.sort_values(by=['UserID','MovieID']).reset_index(drop=True)\n",
        "\n",
        "  # ratings_user_id = pd.merge(ratings_df[ratings_df['Rating']>=rate_threshold]['UserID'], unique_user_id,\n",
        "  #                            left_on='UserID', right_on='UserID', how='left')\n",
        "  # ratings_user_id = torch.from_numpy(ratings_user_id['mappedID'].values)\n",
        "  # ratings_movie_id = pd.merge(ratings_df[ratings_df['Rating']>=rate_threshold]['MovieID'], unique_movie_id,\n",
        "  #                             left_on='MovieID', right_on='MovieID', how='left')\n",
        "  # ratings_movie_id = torch.from_numpy(ratings_movie_id['mappedID'].values)\n",
        "  # user2movie_edge = torch.stack([ratings_user_id, ratings_movie_id], dim=0)\n",
        "  # print(\"3. Extract Graph Edges... \")\n",
        "  # print(\"=================================================\")\n",
        "  \n",
        "  return movies_df, ratings_df, users_df"
      ],
      "metadata": {
        "id": "K2CAvZopUpnW"
      },
      "execution_count": 19,
      "outputs": []
    },
    {
      "cell_type": "code",
      "source": [
        "train = pd.read_csv('/content/u1.base', sep='\\t', engine='python', encoding=\"latin-1\",\n",
        "                        names=['UserID','MovieID','Rating','Timestamp'])\n",
        "train = train.iloc[:50000,:]"
      ],
      "metadata": {
        "id": "DnZegOtlzH7P"
      },
      "execution_count": 20,
      "outputs": []
    },
    {
      "cell_type": "code",
      "source": [
        "test = pd.read_csv('/content/u1.test', sep='\\t', engine='python', encoding=\"latin-1\",\n",
        "                        names=['UserID','MovieID','Rating','Timestamp'])\n",
        "\n",
        "# test.loc[:,'Timestamp'] = test.loc[:,'Timestamp'].apply(Timestamp2Date)\n",
        "# test.sort_values(by='Timestamp', inplace=True)\n",
        "# test.reset_index(drop=True, inplace=True)\n",
        "\n",
        "# test.loc[:,'Timestamp'] = pd.to_datetime(test.loc[:,'Timestamp'])\n",
        "# test.loc[:,'Year'] = test.loc[:,'Timestamp'].dt.year\n",
        "# test.loc[:,'Month'] = test.loc[:,'Timestamp'].dt.month\n",
        "# test.loc[:,'Weekday'] = test.loc[:,'Timestamp'].dt.weekday\n",
        "# test.loc[:,'Hour'] = test.loc[:,'Timestamp'].dt.hour\n",
        "# test.loc[:,'DayofYear'] = test.loc[:,'Timestamp'].dt.strftime('%j')\n",
        "\n",
        "test"
      ],
      "metadata": {
        "colab": {
          "base_uri": "https://localhost:8080/",
          "height": 424
        },
        "id": "tcXmdFyt7Ad0",
        "outputId": "7519bbc9-af99-4a6b-9b42-c483bd42a529"
      },
      "execution_count": 21,
      "outputs": [
        {
          "output_type": "execute_result",
          "data": {
            "text/plain": [
              "       UserID  MovieID  Rating  Timestamp\n",
              "0           1        6       5  887431973\n",
              "1           1       10       3  875693118\n",
              "2           1       12       5  878542960\n",
              "3           1       14       5  874965706\n",
              "4           1       17       3  875073198\n",
              "...       ...      ...     ...        ...\n",
              "19995     458      648       4  886395899\n",
              "19996     458     1101       4  886397931\n",
              "19997     459      934       3  879563639\n",
              "19998     460       10       3  882912371\n",
              "19999     462      682       5  886365231\n",
              "\n",
              "[20000 rows x 4 columns]"
            ],
            "text/html": [
              "\n",
              "  <div id=\"df-d8dd686c-6eb4-4f21-8a6e-6b593a30e330\">\n",
              "    <div class=\"colab-df-container\">\n",
              "      <div>\n",
              "<style scoped>\n",
              "    .dataframe tbody tr th:only-of-type {\n",
              "        vertical-align: middle;\n",
              "    }\n",
              "\n",
              "    .dataframe tbody tr th {\n",
              "        vertical-align: top;\n",
              "    }\n",
              "\n",
              "    .dataframe thead th {\n",
              "        text-align: right;\n",
              "    }\n",
              "</style>\n",
              "<table border=\"1\" class=\"dataframe\">\n",
              "  <thead>\n",
              "    <tr style=\"text-align: right;\">\n",
              "      <th></th>\n",
              "      <th>UserID</th>\n",
              "      <th>MovieID</th>\n",
              "      <th>Rating</th>\n",
              "      <th>Timestamp</th>\n",
              "    </tr>\n",
              "  </thead>\n",
              "  <tbody>\n",
              "    <tr>\n",
              "      <th>0</th>\n",
              "      <td>1</td>\n",
              "      <td>6</td>\n",
              "      <td>5</td>\n",
              "      <td>887431973</td>\n",
              "    </tr>\n",
              "    <tr>\n",
              "      <th>1</th>\n",
              "      <td>1</td>\n",
              "      <td>10</td>\n",
              "      <td>3</td>\n",
              "      <td>875693118</td>\n",
              "    </tr>\n",
              "    <tr>\n",
              "      <th>2</th>\n",
              "      <td>1</td>\n",
              "      <td>12</td>\n",
              "      <td>5</td>\n",
              "      <td>878542960</td>\n",
              "    </tr>\n",
              "    <tr>\n",
              "      <th>3</th>\n",
              "      <td>1</td>\n",
              "      <td>14</td>\n",
              "      <td>5</td>\n",
              "      <td>874965706</td>\n",
              "    </tr>\n",
              "    <tr>\n",
              "      <th>4</th>\n",
              "      <td>1</td>\n",
              "      <td>17</td>\n",
              "      <td>3</td>\n",
              "      <td>875073198</td>\n",
              "    </tr>\n",
              "    <tr>\n",
              "      <th>...</th>\n",
              "      <td>...</td>\n",
              "      <td>...</td>\n",
              "      <td>...</td>\n",
              "      <td>...</td>\n",
              "    </tr>\n",
              "    <tr>\n",
              "      <th>19995</th>\n",
              "      <td>458</td>\n",
              "      <td>648</td>\n",
              "      <td>4</td>\n",
              "      <td>886395899</td>\n",
              "    </tr>\n",
              "    <tr>\n",
              "      <th>19996</th>\n",
              "      <td>458</td>\n",
              "      <td>1101</td>\n",
              "      <td>4</td>\n",
              "      <td>886397931</td>\n",
              "    </tr>\n",
              "    <tr>\n",
              "      <th>19997</th>\n",
              "      <td>459</td>\n",
              "      <td>934</td>\n",
              "      <td>3</td>\n",
              "      <td>879563639</td>\n",
              "    </tr>\n",
              "    <tr>\n",
              "      <th>19998</th>\n",
              "      <td>460</td>\n",
              "      <td>10</td>\n",
              "      <td>3</td>\n",
              "      <td>882912371</td>\n",
              "    </tr>\n",
              "    <tr>\n",
              "      <th>19999</th>\n",
              "      <td>462</td>\n",
              "      <td>682</td>\n",
              "      <td>5</td>\n",
              "      <td>886365231</td>\n",
              "    </tr>\n",
              "  </tbody>\n",
              "</table>\n",
              "<p>20000 rows × 4 columns</p>\n",
              "</div>\n",
              "      <button class=\"colab-df-convert\" onclick=\"convertToInteractive('df-d8dd686c-6eb4-4f21-8a6e-6b593a30e330')\"\n",
              "              title=\"Convert this dataframe to an interactive table.\"\n",
              "              style=\"display:none;\">\n",
              "        \n",
              "  <svg xmlns=\"http://www.w3.org/2000/svg\" height=\"24px\"viewBox=\"0 0 24 24\"\n",
              "       width=\"24px\">\n",
              "    <path d=\"M0 0h24v24H0V0z\" fill=\"none\"/>\n",
              "    <path d=\"M18.56 5.44l.94 2.06.94-2.06 2.06-.94-2.06-.94-.94-2.06-.94 2.06-2.06.94zm-11 1L8.5 8.5l.94-2.06 2.06-.94-2.06-.94L8.5 2.5l-.94 2.06-2.06.94zm10 10l.94 2.06.94-2.06 2.06-.94-2.06-.94-.94-2.06-.94 2.06-2.06.94z\"/><path d=\"M17.41 7.96l-1.37-1.37c-.4-.4-.92-.59-1.43-.59-.52 0-1.04.2-1.43.59L10.3 9.45l-7.72 7.72c-.78.78-.78 2.05 0 2.83L4 21.41c.39.39.9.59 1.41.59.51 0 1.02-.2 1.41-.59l7.78-7.78 2.81-2.81c.8-.78.8-2.07 0-2.86zM5.41 20L4 18.59l7.72-7.72 1.47 1.35L5.41 20z\"/>\n",
              "  </svg>\n",
              "      </button>\n",
              "      \n",
              "  <style>\n",
              "    .colab-df-container {\n",
              "      display:flex;\n",
              "      flex-wrap:wrap;\n",
              "      gap: 12px;\n",
              "    }\n",
              "\n",
              "    .colab-df-convert {\n",
              "      background-color: #E8F0FE;\n",
              "      border: none;\n",
              "      border-radius: 50%;\n",
              "      cursor: pointer;\n",
              "      display: none;\n",
              "      fill: #1967D2;\n",
              "      height: 32px;\n",
              "      padding: 0 0 0 0;\n",
              "      width: 32px;\n",
              "    }\n",
              "\n",
              "    .colab-df-convert:hover {\n",
              "      background-color: #E2EBFA;\n",
              "      box-shadow: 0px 1px 2px rgba(60, 64, 67, 0.3), 0px 1px 3px 1px rgba(60, 64, 67, 0.15);\n",
              "      fill: #174EA6;\n",
              "    }\n",
              "\n",
              "    [theme=dark] .colab-df-convert {\n",
              "      background-color: #3B4455;\n",
              "      fill: #D2E3FC;\n",
              "    }\n",
              "\n",
              "    [theme=dark] .colab-df-convert:hover {\n",
              "      background-color: #434B5C;\n",
              "      box-shadow: 0px 1px 3px 1px rgba(0, 0, 0, 0.15);\n",
              "      filter: drop-shadow(0px 1px 2px rgba(0, 0, 0, 0.3));\n",
              "      fill: #FFFFFF;\n",
              "    }\n",
              "  </style>\n",
              "\n",
              "      <script>\n",
              "        const buttonEl =\n",
              "          document.querySelector('#df-d8dd686c-6eb4-4f21-8a6e-6b593a30e330 button.colab-df-convert');\n",
              "        buttonEl.style.display =\n",
              "          google.colab.kernel.accessAllowed ? 'block' : 'none';\n",
              "\n",
              "        async function convertToInteractive(key) {\n",
              "          const element = document.querySelector('#df-d8dd686c-6eb4-4f21-8a6e-6b593a30e330');\n",
              "          const dataTable =\n",
              "            await google.colab.kernel.invokeFunction('convertToInteractive',\n",
              "                                                     [key], {});\n",
              "          if (!dataTable) return;\n",
              "\n",
              "          const docLinkHtml = 'Like what you see? Visit the ' +\n",
              "            '<a target=\"_blank\" href=https://colab.research.google.com/notebooks/data_table.ipynb>data table notebook</a>'\n",
              "            + ' to learn more about interactive tables.';\n",
              "          element.innerHTML = '';\n",
              "          dataTable['output_type'] = 'display_data';\n",
              "          await google.colab.output.renderOutput(dataTable, element);\n",
              "          const docLink = document.createElement('div');\n",
              "          docLink.innerHTML = docLinkHtml;\n",
              "          element.appendChild(docLink);\n",
              "        }\n",
              "      </script>\n",
              "    </div>\n",
              "  </div>\n",
              "  "
            ]
          },
          "metadata": {},
          "execution_count": 21
        }
      ]
    },
    {
      "cell_type": "code",
      "source": [],
      "metadata": {
        "id": "Puo89jjR8oIb"
      },
      "execution_count": 21,
      "outputs": []
    },
    {
      "cell_type": "code",
      "source": [
        "# movies_df, test, users_df, user2movie_edge = generate_graph_edges(movies_df, test, users_df)\n",
        "# movies_df, test, users_df = generate_graph_edges(movies_df, test, users_df)\n",
        "# movies_df = movies_df.sort_values(by='MovieID').reset_index(drop=True)\n",
        "# users_df = users_df.sort_values(by='UserID').reset_index(drop=True)\n",
        "# test.reset_index(drop=True, inplace=True)"
      ],
      "metadata": {
        "id": "g53smpY-7Aby"
      },
      "execution_count": 22,
      "outputs": []
    },
    {
      "cell_type": "code",
      "source": [
        "users_df = users_df.sort_values(by='UserID').reset_index(drop=True)\n",
        "movies_df = movies_df.sort_values(by='MovieID').reset_index(drop=True)\n",
        "test = test.sort_values(by=['UserID','MovieID']).reset_index(drop=True)\n",
        "train = train.sort_values(by=['UserID','MovieID']).reset_index(drop=True)\n"
      ],
      "metadata": {
        "id": "MK_yay-a9X2X"
      },
      "execution_count": 23,
      "outputs": []
    },
    {
      "cell_type": "code",
      "source": [
        "def extract_user_feature(users_df):\n",
        "  scaler = StandardScaler()\n",
        "  # age = scaler.fit_transform(users_df[['Age']])\n",
        "  \n",
        "  encoder = OneHotEncoder(handle_unknown='ignore')\n",
        "  categorical_df = encoder.fit_transform(users_df[['Occupation', 'Gender']]).toarray()\n",
        "  features = np.hstack((categorical_df, users_df[['UserID', 'Age']]))\n",
        "  return features\n",
        "\n",
        "def extract_movie_feature(movies_df, exclude_cols):\n",
        "  movies_df = movies_df.drop(exclude_cols, axis=1)\n",
        "  scaler = StandardScaler()\n",
        "  # movies_df[['Release Year', 'Release Month', 'Average Rating', 'Release Day']] = scaler.fit_transform(\n",
        "  #     movies_df[['Release Year', 'Release Month', 'Average Rating', 'Release Day']])\n",
        "  features = movies_df.to_numpy()\n",
        "  return features"
      ],
      "metadata": {
        "id": "fzBG182t0BMZ"
      },
      "execution_count": 24,
      "outputs": []
    },
    {
      "cell_type": "code",
      "source": [
        "user_features = extract_user_feature(users_df)\n",
        "movie_features = extract_movie_feature(movies_df, ['Movie Title', 'Release Date'])\n",
        "movie_features.shape, user_features.shape"
      ],
      "metadata": {
        "colab": {
          "base_uri": "https://localhost:8080/"
        },
        "id": "ZeIi5yYCDG-s",
        "outputId": "1e2813b3-7d56-4848-dccb-08d4955be496"
      },
      "execution_count": 25,
      "outputs": [
        {
          "output_type": "execute_result",
          "data": {
            "text/plain": [
              "((1681, 24), (943, 25))"
            ]
          },
          "metadata": {},
          "execution_count": 25
        }
      ]
    },
    {
      "cell_type": "code",
      "source": [
        "def build_AE(encoding_dim = 8, input_shape= 24):\n",
        "\n",
        "  input_dim = Input(shape = (input_shape, ))\n",
        "\n",
        "  # Encoder Layers\n",
        "  encoded1 = Dense(16, activation = 'relu')(input_dim)\n",
        "  encoded2 = Dense(encoding_dim, activation = 'relu')(encoded1)\n",
        "\n",
        "  # Decoder Layers\n",
        "  decoded1 = Dense(16, activation = 'relu')(encoded2)\n",
        "  decoded2 = Dense(input_shape, activation = 'relu')(decoded1)\n",
        "\n",
        "  # Combine Encoder and Deocder layers\n",
        "  autoencoder = Model(inputs = input_dim, outputs = decoded2)\n",
        "  encoder = Model(inputs = input_dim, outputs = encoded2)\n",
        "  # Compile the Model\n",
        "  autoencoder.compile(optimizer = keras.optimizers.Adadelta(learning_rate=0.001), loss = 'binary_crossentropy')\n",
        "  print(autoencoder.summary())\n",
        "  return autoencoder, encoder"
      ],
      "metadata": {
        "id": "2bM1Q66RzCwK"
      },
      "execution_count": 26,
      "outputs": []
    },
    {
      "cell_type": "code",
      "source": [
        "scaler = StandardScaler()\n",
        "movie_features = scaler.fit_transform(movie_features)\n",
        "user_features = scaler.fit_transform(user_features)"
      ],
      "metadata": {
        "id": "3zRVl25u2_fs"
      },
      "execution_count": 27,
      "outputs": []
    },
    {
      "cell_type": "code",
      "source": [
        "movie_autoencoder, movie_encoder = build_AE(encoding_dim = 8, input_shape= 24)\n",
        "print('---------------------------------------Trainig of Movie AE Sarts:')\n",
        "movie_autoencoder.fit(movie_features, movie_features, epochs = 150, batch_size = 16, shuffle = True)"
      ],
      "metadata": {
        "colab": {
          "base_uri": "https://localhost:8080/"
        },
        "id": "3asAKB6l4IGo",
        "outputId": "ba152475-149c-4f9b-d4b1-9ff88f9e5be5"
      },
      "execution_count": 28,
      "outputs": [
        {
          "output_type": "stream",
          "name": "stdout",
          "text": [
            "Model: \"model\"\n",
            "_________________________________________________________________\n",
            " Layer (type)                Output Shape              Param #   \n",
            "=================================================================\n",
            " input_1 (InputLayer)        [(None, 24)]              0         \n",
            "                                                                 \n",
            " dense (Dense)               (None, 16)                400       \n",
            "                                                                 \n",
            " dense_1 (Dense)             (None, 8)                 136       \n",
            "                                                                 \n",
            " dense_2 (Dense)             (None, 16)                144       \n",
            "                                                                 \n",
            " dense_3 (Dense)             (None, 24)                408       \n",
            "                                                                 \n",
            "=================================================================\n",
            "Total params: 1,088\n",
            "Trainable params: 1,088\n",
            "Non-trainable params: 0\n",
            "_________________________________________________________________\n",
            "None\n",
            "---------------------------------------Trainig of Movie AE Sarts:\n",
            "Epoch 1/150\n",
            "106/106 [==============================] - 1s 2ms/step - loss: 0.0146 \n",
            "Epoch 2/150\n",
            "106/106 [==============================] - 0s 2ms/step - loss: 0.0138\n",
            "Epoch 3/150\n",
            "106/106 [==============================] - 0s 2ms/step - loss: 0.0132\n",
            "Epoch 4/150\n",
            "106/106 [==============================] - 0s 3ms/step - loss: 0.0129\n",
            "Epoch 5/150\n",
            "106/106 [==============================] - 0s 2ms/step - loss: 0.0126\n",
            "Epoch 6/150\n",
            "106/106 [==============================] - 0s 2ms/step - loss: 0.0122\n",
            "Epoch 7/150\n",
            "106/106 [==============================] - 0s 2ms/step - loss: 0.0117\n",
            "Epoch 8/150\n",
            "106/106 [==============================] - 0s 2ms/step - loss: 0.0113\n",
            "Epoch 9/150\n",
            "106/106 [==============================] - 0s 2ms/step - loss: 0.0110\n",
            "Epoch 10/150\n",
            "106/106 [==============================] - 0s 2ms/step - loss: 0.0106\n",
            "Epoch 11/150\n",
            "106/106 [==============================] - 0s 2ms/step - loss: 0.0101\n",
            "Epoch 12/150\n",
            "106/106 [==============================] - 0s 2ms/step - loss: 0.0097\n",
            "Epoch 13/150\n",
            "106/106 [==============================] - 0s 2ms/step - loss: 0.0094\n",
            "Epoch 14/150\n",
            "106/106 [==============================] - 0s 2ms/step - loss: 0.0089\n",
            "Epoch 15/150\n",
            "106/106 [==============================] - 0s 2ms/step - loss: 0.0085 \n",
            "Epoch 16/150\n",
            "106/106 [==============================] - 0s 2ms/step - loss: 0.0082\n",
            "Epoch 17/150\n",
            "106/106 [==============================] - 0s 2ms/step - loss: 0.0079\n",
            "Epoch 18/150\n",
            "106/106 [==============================] - 0s 2ms/step - loss: 0.0076\n",
            "Epoch 19/150\n",
            "106/106 [==============================] - 0s 2ms/step - loss: 0.0072\n",
            "Epoch 20/150\n",
            "106/106 [==============================] - 0s 2ms/step - loss: 0.0068\n",
            "Epoch 21/150\n",
            "106/106 [==============================] - 0s 2ms/step - loss: 0.0062 \n",
            "Epoch 22/150\n",
            "106/106 [==============================] - 0s 2ms/step - loss: 0.0058\n",
            "Epoch 23/150\n",
            "106/106 [==============================] - 0s 2ms/step - loss: 0.0052\n",
            "Epoch 24/150\n",
            "106/106 [==============================] - 0s 2ms/step - loss: 0.0048\n",
            "Epoch 25/150\n",
            "106/106 [==============================] - 0s 2ms/step - loss: 0.0043\n",
            "Epoch 26/150\n",
            "106/106 [==============================] - 0s 2ms/step - loss: 0.0039\n",
            "Epoch 27/150\n",
            "106/106 [==============================] - 0s 2ms/step - loss: 0.0040\n",
            "Epoch 28/150\n",
            "106/106 [==============================] - 0s 2ms/step - loss: 0.0033\n",
            "Epoch 29/150\n",
            "106/106 [==============================] - 0s 2ms/step - loss: 0.0033\n",
            "Epoch 30/150\n",
            "106/106 [==============================] - 0s 2ms/step - loss: 0.0027\n",
            "Epoch 31/150\n",
            "106/106 [==============================] - 0s 2ms/step - loss: 0.0024\n",
            "Epoch 32/150\n",
            "106/106 [==============================] - 0s 2ms/step - loss: 0.0022\n",
            "Epoch 33/150\n",
            "106/106 [==============================] - 0s 2ms/step - loss: 0.0017\n",
            "Epoch 34/150\n",
            "106/106 [==============================] - 0s 2ms/step - loss: 0.0017\n",
            "Epoch 35/150\n",
            "106/106 [==============================] - 0s 2ms/step - loss: 0.0014\n",
            "Epoch 36/150\n",
            "106/106 [==============================] - 0s 2ms/step - loss: 8.4446e-04\n",
            "Epoch 37/150\n",
            "106/106 [==============================] - 0s 2ms/step - loss: 6.0957e-04\n",
            "Epoch 38/150\n",
            "106/106 [==============================] - 0s 2ms/step - loss: -2.3438e-05\n",
            "Epoch 39/150\n",
            "106/106 [==============================] - 0s 2ms/step - loss: -5.8171e-04\n",
            "Epoch 40/150\n",
            "106/106 [==============================] - 0s 2ms/step - loss: -8.7612e-04\n",
            "Epoch 41/150\n",
            "106/106 [==============================] - 0s 2ms/step - loss: -0.0012\n",
            "Epoch 42/150\n",
            "106/106 [==============================] - 0s 2ms/step - loss: -0.0022\n",
            "Epoch 43/150\n",
            "106/106 [==============================] - 0s 2ms/step - loss: -0.0022\n",
            "Epoch 44/150\n",
            "106/106 [==============================] - 0s 2ms/step - loss: -0.0024\n",
            "Epoch 45/150\n",
            "106/106 [==============================] - 0s 2ms/step - loss: -0.0028\n",
            "Epoch 46/150\n",
            "106/106 [==============================] - 0s 2ms/step - loss: -0.0033\n",
            "Epoch 47/150\n",
            "106/106 [==============================] - 0s 2ms/step - loss: -0.0034\n",
            "Epoch 48/150\n",
            "106/106 [==============================] - 0s 2ms/step - loss: -0.0040\n",
            "Epoch 49/150\n",
            "106/106 [==============================] - 0s 2ms/step - loss: -0.0042\n",
            "Epoch 50/150\n",
            "106/106 [==============================] - 0s 2ms/step - loss: -0.0044\n",
            "Epoch 51/150\n",
            "106/106 [==============================] - 0s 2ms/step - loss: -0.0047\n",
            "Epoch 52/150\n",
            "106/106 [==============================] - 0s 2ms/step - loss: -0.0052\n",
            "Epoch 53/150\n",
            "106/106 [==============================] - 0s 2ms/step - loss: -0.0052\n",
            "Epoch 54/150\n",
            "106/106 [==============================] - 0s 2ms/step - loss: -0.0056\n",
            "Epoch 55/150\n",
            "106/106 [==============================] - 0s 2ms/step - loss: -0.0057\n",
            "Epoch 56/150\n",
            "106/106 [==============================] - 0s 2ms/step - loss: -0.0056\n",
            "Epoch 57/150\n",
            "106/106 [==============================] - 0s 2ms/step - loss: -0.0063\n",
            "Epoch 58/150\n",
            "106/106 [==============================] - 0s 2ms/step - loss: -0.0067\n",
            "Epoch 59/150\n",
            "106/106 [==============================] - 0s 2ms/step - loss: -0.0067\n",
            "Epoch 60/150\n",
            "106/106 [==============================] - 0s 2ms/step - loss: -0.0072\n",
            "Epoch 61/150\n",
            "106/106 [==============================] - 0s 2ms/step - loss: -0.0081\n",
            "Epoch 62/150\n",
            "106/106 [==============================] - 0s 2ms/step - loss: -0.0083\n",
            "Epoch 63/150\n",
            "106/106 [==============================] - 0s 2ms/step - loss: -0.0085\n",
            "Epoch 64/150\n",
            "106/106 [==============================] - 0s 2ms/step - loss: -0.0088\n",
            "Epoch 65/150\n",
            "106/106 [==============================] - 0s 3ms/step - loss: -0.0094\n",
            "Epoch 66/150\n",
            "106/106 [==============================] - 0s 3ms/step - loss: -0.0095\n",
            "Epoch 67/150\n",
            "106/106 [==============================] - 0s 3ms/step - loss: -0.0098\n",
            "Epoch 68/150\n",
            "106/106 [==============================] - 0s 4ms/step - loss: -0.0105\n",
            "Epoch 69/150\n",
            "106/106 [==============================] - 0s 4ms/step - loss: -0.0107\n",
            "Epoch 70/150\n",
            "106/106 [==============================] - 0s 5ms/step - loss: -0.0107\n",
            "Epoch 71/150\n",
            "106/106 [==============================] - 0s 3ms/step - loss: -0.0112\n",
            "Epoch 72/150\n",
            "106/106 [==============================] - 0s 3ms/step - loss: -0.0111\n",
            "Epoch 73/150\n",
            "106/106 [==============================] - 0s 4ms/step - loss: -0.0110\n",
            "Epoch 74/150\n",
            "106/106 [==============================] - 0s 3ms/step - loss: -0.0118\n",
            "Epoch 75/150\n",
            "106/106 [==============================] - 0s 4ms/step - loss: -0.0120\n",
            "Epoch 76/150\n",
            "106/106 [==============================] - 0s 3ms/step - loss: -0.0122\n",
            "Epoch 77/150\n",
            "106/106 [==============================] - 0s 4ms/step - loss: -0.0128\n",
            "Epoch 78/150\n",
            "106/106 [==============================] - 0s 4ms/step - loss: -0.0129\n",
            "Epoch 79/150\n",
            "106/106 [==============================] - 0s 3ms/step - loss: -0.0128\n",
            "Epoch 80/150\n",
            "106/106 [==============================] - 0s 3ms/step - loss: -0.0131\n",
            "Epoch 81/150\n",
            "106/106 [==============================] - 0s 3ms/step - loss: -0.0134\n",
            "Epoch 82/150\n",
            "106/106 [==============================] - 0s 3ms/step - loss: -0.0138\n",
            "Epoch 83/150\n",
            "106/106 [==============================] - 0s 3ms/step - loss: -0.0139\n",
            "Epoch 84/150\n",
            "106/106 [==============================] - 0s 3ms/step - loss: -0.0146\n",
            "Epoch 85/150\n",
            "106/106 [==============================] - 0s 2ms/step - loss: -0.0149\n",
            "Epoch 86/150\n",
            "106/106 [==============================] - 0s 2ms/step - loss: -0.0144\n",
            "Epoch 87/150\n",
            "106/106 [==============================] - 0s 2ms/step - loss: -0.0151\n",
            "Epoch 88/150\n",
            "106/106 [==============================] - 0s 2ms/step - loss: -0.0154\n",
            "Epoch 89/150\n",
            "106/106 [==============================] - 0s 2ms/step - loss: -0.0158\n",
            "Epoch 90/150\n",
            "106/106 [==============================] - 0s 2ms/step - loss: -0.0162\n",
            "Epoch 91/150\n",
            "106/106 [==============================] - 0s 2ms/step - loss: -0.0159\n",
            "Epoch 92/150\n",
            "106/106 [==============================] - 0s 2ms/step - loss: -0.0164\n",
            "Epoch 93/150\n",
            "106/106 [==============================] - 0s 2ms/step - loss: -0.0165\n",
            "Epoch 94/150\n",
            "106/106 [==============================] - 0s 2ms/step - loss: -0.0172\n",
            "Epoch 95/150\n",
            "106/106 [==============================] - 0s 2ms/step - loss: -0.0172\n",
            "Epoch 96/150\n",
            "106/106 [==============================] - 0s 2ms/step - loss: -0.0176\n",
            "Epoch 97/150\n",
            "106/106 [==============================] - 0s 2ms/step - loss: -0.0180\n",
            "Epoch 98/150\n",
            "106/106 [==============================] - 0s 2ms/step - loss: -0.0185\n",
            "Epoch 99/150\n",
            "106/106 [==============================] - 0s 2ms/step - loss: -0.0181\n",
            "Epoch 100/150\n",
            "106/106 [==============================] - 0s 2ms/step - loss: -0.0190\n",
            "Epoch 101/150\n",
            "106/106 [==============================] - 0s 2ms/step - loss: -0.0193\n",
            "Epoch 102/150\n",
            "106/106 [==============================] - 0s 2ms/step - loss: -0.0196\n",
            "Epoch 103/150\n",
            "106/106 [==============================] - 1s 6ms/step - loss: -0.0195\n",
            "Epoch 104/150\n",
            "106/106 [==============================] - 1s 6ms/step - loss: -0.0203\n",
            "Epoch 105/150\n",
            "106/106 [==============================] - 0s 3ms/step - loss: -0.0202\n",
            "Epoch 106/150\n",
            "106/106 [==============================] - 0s 2ms/step - loss: -0.0208\n",
            "Epoch 107/150\n",
            "106/106 [==============================] - 1s 6ms/step - loss: -0.0210\n",
            "Epoch 108/150\n",
            "106/106 [==============================] - 1s 5ms/step - loss: -0.0212\n",
            "Epoch 109/150\n",
            "106/106 [==============================] - 0s 3ms/step - loss: -0.0216\n",
            "Epoch 110/150\n",
            "106/106 [==============================] - 0s 2ms/step - loss: -0.0218\n",
            "Epoch 111/150\n",
            "106/106 [==============================] - 1s 7ms/step - loss: -0.0221\n",
            "Epoch 112/150\n",
            "106/106 [==============================] - 1s 6ms/step - loss: -0.0223\n",
            "Epoch 113/150\n",
            "106/106 [==============================] - 0s 2ms/step - loss: -0.0228\n",
            "Epoch 114/150\n",
            "106/106 [==============================] - 0s 2ms/step - loss: -0.0226\n",
            "Epoch 115/150\n",
            "106/106 [==============================] - 0s 2ms/step - loss: -0.0226\n",
            "Epoch 116/150\n",
            "106/106 [==============================] - 0s 2ms/step - loss: -0.0236\n",
            "Epoch 117/150\n",
            "106/106 [==============================] - 0s 2ms/step - loss: -0.0238\n",
            "Epoch 118/150\n",
            "106/106 [==============================] - 0s 2ms/step - loss: -0.0239\n",
            "Epoch 119/150\n",
            "106/106 [==============================] - 0s 2ms/step - loss: -0.0242\n",
            "Epoch 120/150\n",
            "106/106 [==============================] - 0s 2ms/step - loss: -0.0245\n",
            "Epoch 121/150\n",
            "106/106 [==============================] - 0s 2ms/step - loss: -0.0252\n",
            "Epoch 122/150\n",
            "106/106 [==============================] - 0s 2ms/step - loss: -0.0247\n",
            "Epoch 123/150\n",
            "106/106 [==============================] - 0s 2ms/step - loss: -0.0254\n",
            "Epoch 124/150\n",
            "106/106 [==============================] - 0s 2ms/step - loss: -0.0258\n",
            "Epoch 125/150\n",
            "106/106 [==============================] - 0s 2ms/step - loss: -0.0262\n",
            "Epoch 126/150\n",
            "106/106 [==============================] - 0s 2ms/step - loss: -0.0264\n",
            "Epoch 127/150\n",
            "106/106 [==============================] - 0s 2ms/step - loss: -0.0263\n",
            "Epoch 128/150\n",
            "106/106 [==============================] - 0s 2ms/step - loss: -0.0273\n",
            "Epoch 129/150\n",
            "106/106 [==============================] - 0s 2ms/step - loss: -0.0275\n",
            "Epoch 130/150\n",
            "106/106 [==============================] - 0s 2ms/step - loss: -0.0281\n",
            "Epoch 131/150\n",
            "106/106 [==============================] - 0s 2ms/step - loss: -0.0287\n",
            "Epoch 132/150\n",
            "106/106 [==============================] - 0s 2ms/step - loss: -0.0289\n",
            "Epoch 133/150\n",
            "106/106 [==============================] - 0s 2ms/step - loss: -0.0286\n",
            "Epoch 134/150\n",
            "106/106 [==============================] - 0s 2ms/step - loss: -0.0293\n",
            "Epoch 135/150\n",
            "106/106 [==============================] - 0s 2ms/step - loss: -0.0294\n",
            "Epoch 136/150\n",
            "106/106 [==============================] - 0s 2ms/step - loss: -0.0298\n",
            "Epoch 137/150\n",
            "106/106 [==============================] - 0s 2ms/step - loss: -0.0297\n",
            "Epoch 138/150\n",
            "106/106 [==============================] - 0s 2ms/step - loss: -0.0306\n",
            "Epoch 139/150\n",
            "106/106 [==============================] - 0s 2ms/step - loss: -0.0308\n",
            "Epoch 140/150\n",
            "106/106 [==============================] - 0s 2ms/step - loss: -0.0309\n",
            "Epoch 141/150\n",
            "106/106 [==============================] - 0s 2ms/step - loss: -0.0307\n",
            "Epoch 142/150\n",
            "106/106 [==============================] - 0s 2ms/step - loss: -0.0311\n",
            "Epoch 143/150\n",
            "106/106 [==============================] - 0s 2ms/step - loss: -0.0312\n",
            "Epoch 144/150\n",
            "106/106 [==============================] - 0s 2ms/step - loss: -0.0318\n",
            "Epoch 145/150\n",
            "106/106 [==============================] - 0s 2ms/step - loss: -0.0321\n",
            "Epoch 146/150\n",
            "106/106 [==============================] - 0s 2ms/step - loss: -0.0322\n",
            "Epoch 147/150\n",
            "106/106 [==============================] - 0s 2ms/step - loss: -0.0326\n",
            "Epoch 148/150\n",
            "106/106 [==============================] - 0s 2ms/step - loss: -0.0326\n",
            "Epoch 149/150\n",
            "106/106 [==============================] - 0s 2ms/step - loss: -0.0332\n",
            "Epoch 150/150\n",
            "106/106 [==============================] - 0s 2ms/step - loss: -0.0333\n"
          ]
        },
        {
          "output_type": "execute_result",
          "data": {
            "text/plain": [
              "<keras.callbacks.History at 0x7f2c8d3674f0>"
            ]
          },
          "metadata": {},
          "execution_count": 28
        }
      ]
    },
    {
      "cell_type": "code",
      "source": [
        "user_autoencoder, user_encoder = build_AE(encoding_dim = 8, input_shape= 25)\n",
        "print('---------------------------------------Trainig of User AE Sarts:')\n",
        "user_autoencoder.fit(user_features, user_features, epochs = 150, batch_size = 8, shuffle = True)"
      ],
      "metadata": {
        "colab": {
          "base_uri": "https://localhost:8080/"
        },
        "id": "aUqNhlvj4oWu",
        "outputId": "21b43c23-b5f5-49e8-e409-907c54127610"
      },
      "execution_count": 29,
      "outputs": [
        {
          "output_type": "stream",
          "name": "stdout",
          "text": [
            "Model: \"model_2\"\n",
            "_________________________________________________________________\n",
            " Layer (type)                Output Shape              Param #   \n",
            "=================================================================\n",
            " input_2 (InputLayer)        [(None, 25)]              0         \n",
            "                                                                 \n",
            " dense_4 (Dense)             (None, 16)                416       \n",
            "                                                                 \n",
            " dense_5 (Dense)             (None, 8)                 136       \n",
            "                                                                 \n",
            " dense_6 (Dense)             (None, 16)                144       \n",
            "                                                                 \n",
            " dense_7 (Dense)             (None, 25)                425       \n",
            "                                                                 \n",
            "=================================================================\n",
            "Total params: 1,121\n",
            "Trainable params: 1,121\n",
            "Non-trainable params: 0\n",
            "_________________________________________________________________\n",
            "None\n",
            "---------------------------------------Trainig of User AE Sarts:\n",
            "Epoch 1/150\n",
            "118/118 [==============================] - 1s 2ms/step - loss: 0.1579\n",
            "Epoch 2/150\n",
            "118/118 [==============================] - 0s 2ms/step - loss: 0.1572\n",
            "Epoch 3/150\n",
            "118/118 [==============================] - 0s 2ms/step - loss: 0.1566\n",
            "Epoch 4/150\n",
            "118/118 [==============================] - 0s 2ms/step - loss: 0.1557\n",
            "Epoch 5/150\n",
            "118/118 [==============================] - 0s 2ms/step - loss: 0.1548\n",
            "Epoch 6/150\n",
            "118/118 [==============================] - 0s 2ms/step - loss: 0.1543\n",
            "Epoch 7/150\n",
            "118/118 [==============================] - 0s 2ms/step - loss: 0.1536\n",
            "Epoch 8/150\n",
            "118/118 [==============================] - 0s 2ms/step - loss: 0.1532\n",
            "Epoch 9/150\n",
            "118/118 [==============================] - 0s 2ms/step - loss: 0.1527\n",
            "Epoch 10/150\n",
            "118/118 [==============================] - 0s 2ms/step - loss: 0.1519\n",
            "Epoch 11/150\n",
            "118/118 [==============================] - 0s 2ms/step - loss: 0.1513\n",
            "Epoch 12/150\n",
            "118/118 [==============================] - 0s 2ms/step - loss: 0.1504\n",
            "Epoch 13/150\n",
            "118/118 [==============================] - 0s 2ms/step - loss: 0.1499\n",
            "Epoch 14/150\n",
            "118/118 [==============================] - 0s 2ms/step - loss: 0.1495\n",
            "Epoch 15/150\n",
            "118/118 [==============================] - 0s 2ms/step - loss: 0.1491\n",
            "Epoch 16/150\n",
            "118/118 [==============================] - 0s 2ms/step - loss: 0.1486\n",
            "Epoch 17/150\n",
            "118/118 [==============================] - 0s 2ms/step - loss: 0.1481\n",
            "Epoch 18/150\n",
            "118/118 [==============================] - 0s 2ms/step - loss: 0.1478\n",
            "Epoch 19/150\n",
            "118/118 [==============================] - 0s 2ms/step - loss: 0.1473\n",
            "Epoch 20/150\n",
            "118/118 [==============================] - 0s 2ms/step - loss: 0.1469\n",
            "Epoch 21/150\n",
            "118/118 [==============================] - 0s 2ms/step - loss: 0.1465\n",
            "Epoch 22/150\n",
            "118/118 [==============================] - 0s 2ms/step - loss: 0.1461\n",
            "Epoch 23/150\n",
            "118/118 [==============================] - 0s 2ms/step - loss: 0.1457\n",
            "Epoch 24/150\n",
            "118/118 [==============================] - 0s 2ms/step - loss: 0.1453\n",
            "Epoch 25/150\n",
            "118/118 [==============================] - 0s 2ms/step - loss: 0.1441\n",
            "Epoch 26/150\n",
            "118/118 [==============================] - 0s 2ms/step - loss: 0.1435\n",
            "Epoch 27/150\n",
            "118/118 [==============================] - 0s 2ms/step - loss: 0.1426\n",
            "Epoch 28/150\n",
            "118/118 [==============================] - 0s 2ms/step - loss: 0.1420\n",
            "Epoch 29/150\n",
            "118/118 [==============================] - 0s 2ms/step - loss: 0.1416\n",
            "Epoch 30/150\n",
            "118/118 [==============================] - 0s 2ms/step - loss: 0.1411\n",
            "Epoch 31/150\n",
            "118/118 [==============================] - 0s 2ms/step - loss: 0.1409\n",
            "Epoch 32/150\n",
            "118/118 [==============================] - 0s 2ms/step - loss: 0.1404\n",
            "Epoch 33/150\n",
            "118/118 [==============================] - 0s 2ms/step - loss: 0.1400\n",
            "Epoch 34/150\n",
            "118/118 [==============================] - 0s 2ms/step - loss: 0.1395\n",
            "Epoch 35/150\n",
            "118/118 [==============================] - 0s 2ms/step - loss: 0.1392\n",
            "Epoch 36/150\n",
            "118/118 [==============================] - 0s 2ms/step - loss: 0.1390\n",
            "Epoch 37/150\n",
            "118/118 [==============================] - 0s 2ms/step - loss: 0.1385\n",
            "Epoch 38/150\n",
            "118/118 [==============================] - 0s 2ms/step - loss: 0.1381\n",
            "Epoch 39/150\n",
            "118/118 [==============================] - 0s 2ms/step - loss: 0.1377\n",
            "Epoch 40/150\n",
            "118/118 [==============================] - 0s 2ms/step - loss: 0.1372\n",
            "Epoch 41/150\n",
            "118/118 [==============================] - 0s 2ms/step - loss: 0.1367\n",
            "Epoch 42/150\n",
            "118/118 [==============================] - 0s 2ms/step - loss: 0.1361\n",
            "Epoch 43/150\n",
            "118/118 [==============================] - 0s 2ms/step - loss: 0.1357\n",
            "Epoch 44/150\n",
            "118/118 [==============================] - 0s 2ms/step - loss: 0.1350\n",
            "Epoch 45/150\n",
            "118/118 [==============================] - 0s 2ms/step - loss: 0.1343\n",
            "Epoch 46/150\n",
            "118/118 [==============================] - 0s 2ms/step - loss: 0.1340\n",
            "Epoch 47/150\n",
            "118/118 [==============================] - 0s 2ms/step - loss: 0.1334\n",
            "Epoch 48/150\n",
            "118/118 [==============================] - 0s 2ms/step - loss: 0.1331\n",
            "Epoch 49/150\n",
            "118/118 [==============================] - 0s 2ms/step - loss: 0.1326\n",
            "Epoch 50/150\n",
            "118/118 [==============================] - 0s 2ms/step - loss: 0.1320\n",
            "Epoch 51/150\n",
            "118/118 [==============================] - 0s 2ms/step - loss: 0.1317\n",
            "Epoch 52/150\n",
            "118/118 [==============================] - 0s 2ms/step - loss: 0.1314\n",
            "Epoch 53/150\n",
            "118/118 [==============================] - 0s 2ms/step - loss: 0.1310\n",
            "Epoch 54/150\n",
            "118/118 [==============================] - 0s 2ms/step - loss: 0.1307\n",
            "Epoch 55/150\n",
            "118/118 [==============================] - 0s 2ms/step - loss: 0.1304\n",
            "Epoch 56/150\n",
            "118/118 [==============================] - 0s 2ms/step - loss: 0.1298\n",
            "Epoch 57/150\n",
            "118/118 [==============================] - 0s 2ms/step - loss: 0.1294\n",
            "Epoch 58/150\n",
            "118/118 [==============================] - 0s 2ms/step - loss: 0.1292\n",
            "Epoch 59/150\n",
            "118/118 [==============================] - 0s 2ms/step - loss: 0.1289\n",
            "Epoch 60/150\n",
            "118/118 [==============================] - 0s 2ms/step - loss: 0.1286\n",
            "Epoch 61/150\n",
            "118/118 [==============================] - 0s 2ms/step - loss: 0.1280\n",
            "Epoch 62/150\n",
            "118/118 [==============================] - 0s 2ms/step - loss: 0.1277\n",
            "Epoch 63/150\n",
            "118/118 [==============================] - 0s 2ms/step - loss: 0.1274\n",
            "Epoch 64/150\n",
            "118/118 [==============================] - 0s 2ms/step - loss: 0.1270\n",
            "Epoch 65/150\n",
            "118/118 [==============================] - 0s 2ms/step - loss: 0.1266\n",
            "Epoch 66/150\n",
            "118/118 [==============================] - 0s 2ms/step - loss: 0.1263\n",
            "Epoch 67/150\n",
            "118/118 [==============================] - 0s 2ms/step - loss: 0.1258\n",
            "Epoch 68/150\n",
            "118/118 [==============================] - 0s 2ms/step - loss: 0.1252\n",
            "Epoch 69/150\n",
            "118/118 [==============================] - 0s 2ms/step - loss: 0.1249\n",
            "Epoch 70/150\n",
            "118/118 [==============================] - 0s 2ms/step - loss: 0.1246\n",
            "Epoch 71/150\n",
            "118/118 [==============================] - 0s 2ms/step - loss: 0.1240\n",
            "Epoch 72/150\n",
            "118/118 [==============================] - 0s 2ms/step - loss: 0.1238\n",
            "Epoch 73/150\n",
            "118/118 [==============================] - 0s 2ms/step - loss: 0.1234\n",
            "Epoch 74/150\n",
            "118/118 [==============================] - 0s 2ms/step - loss: 0.1230\n",
            "Epoch 75/150\n",
            "118/118 [==============================] - 0s 2ms/step - loss: 0.1228\n",
            "Epoch 76/150\n",
            "118/118 [==============================] - 0s 2ms/step - loss: 0.1224\n",
            "Epoch 77/150\n",
            "118/118 [==============================] - 0s 2ms/step - loss: 0.1220\n",
            "Epoch 78/150\n",
            "118/118 [==============================] - 0s 2ms/step - loss: 0.1217\n",
            "Epoch 79/150\n",
            "118/118 [==============================] - 0s 2ms/step - loss: 0.1210\n",
            "Epoch 80/150\n",
            "118/118 [==============================] - 0s 2ms/step - loss: 0.1206\n",
            "Epoch 81/150\n",
            "118/118 [==============================] - 0s 2ms/step - loss: 0.1200\n",
            "Epoch 82/150\n",
            "118/118 [==============================] - 0s 2ms/step - loss: 0.1196\n",
            "Epoch 83/150\n",
            "118/118 [==============================] - 0s 2ms/step - loss: 0.1193\n",
            "Epoch 84/150\n",
            "118/118 [==============================] - 0s 2ms/step - loss: 0.1190\n",
            "Epoch 85/150\n",
            "118/118 [==============================] - 0s 2ms/step - loss: 0.1190\n",
            "Epoch 86/150\n",
            "118/118 [==============================] - 0s 2ms/step - loss: 0.1185\n",
            "Epoch 87/150\n",
            "118/118 [==============================] - 0s 2ms/step - loss: 0.1184\n",
            "Epoch 88/150\n",
            "118/118 [==============================] - 0s 2ms/step - loss: 0.1182\n",
            "Epoch 89/150\n",
            "118/118 [==============================] - 0s 2ms/step - loss: 0.1176\n",
            "Epoch 90/150\n",
            "118/118 [==============================] - 0s 2ms/step - loss: 0.1174\n",
            "Epoch 91/150\n",
            "118/118 [==============================] - 0s 2ms/step - loss: 0.1169\n",
            "Epoch 92/150\n",
            "118/118 [==============================] - 0s 2ms/step - loss: 0.1166\n",
            "Epoch 93/150\n",
            "118/118 [==============================] - 0s 2ms/step - loss: 0.1162\n",
            "Epoch 94/150\n",
            "118/118 [==============================] - 0s 2ms/step - loss: 0.1161\n",
            "Epoch 95/150\n",
            "118/118 [==============================] - 0s 2ms/step - loss: 0.1159\n",
            "Epoch 96/150\n",
            "118/118 [==============================] - 0s 2ms/step - loss: 0.1155\n",
            "Epoch 97/150\n",
            "118/118 [==============================] - 0s 2ms/step - loss: 0.1151\n",
            "Epoch 98/150\n",
            "118/118 [==============================] - 0s 2ms/step - loss: 0.1152\n",
            "Epoch 99/150\n",
            "118/118 [==============================] - 0s 2ms/step - loss: 0.1147\n",
            "Epoch 100/150\n",
            "118/118 [==============================] - 0s 2ms/step - loss: 0.1143\n",
            "Epoch 101/150\n",
            "118/118 [==============================] - 0s 2ms/step - loss: 0.1141\n",
            "Epoch 102/150\n",
            "118/118 [==============================] - 0s 2ms/step - loss: 0.1136\n",
            "Epoch 103/150\n",
            "118/118 [==============================] - 0s 2ms/step - loss: 0.1132\n",
            "Epoch 104/150\n",
            "118/118 [==============================] - 0s 2ms/step - loss: 0.1130\n",
            "Epoch 105/150\n",
            "118/118 [==============================] - 0s 2ms/step - loss: 0.1127\n",
            "Epoch 106/150\n",
            "118/118 [==============================] - 0s 2ms/step - loss: 0.1126\n",
            "Epoch 107/150\n",
            "118/118 [==============================] - 0s 2ms/step - loss: 0.1123\n",
            "Epoch 108/150\n",
            "118/118 [==============================] - 0s 2ms/step - loss: 0.1120\n",
            "Epoch 109/150\n",
            "118/118 [==============================] - 0s 2ms/step - loss: 0.1117\n",
            "Epoch 110/150\n",
            "118/118 [==============================] - 0s 2ms/step - loss: 0.1115\n",
            "Epoch 111/150\n",
            "118/118 [==============================] - 0s 2ms/step - loss: 0.1112\n",
            "Epoch 112/150\n",
            "118/118 [==============================] - 0s 2ms/step - loss: 0.1111\n",
            "Epoch 113/150\n",
            "118/118 [==============================] - 0s 2ms/step - loss: 0.1107\n",
            "Epoch 114/150\n",
            "118/118 [==============================] - 0s 2ms/step - loss: 0.1102\n",
            "Epoch 115/150\n",
            "118/118 [==============================] - 0s 2ms/step - loss: 0.1102\n",
            "Epoch 116/150\n",
            "118/118 [==============================] - 0s 2ms/step - loss: 0.1098\n",
            "Epoch 117/150\n",
            "118/118 [==============================] - 0s 2ms/step - loss: 0.1097\n",
            "Epoch 118/150\n",
            "118/118 [==============================] - 0s 2ms/step - loss: 0.1093\n",
            "Epoch 119/150\n",
            "118/118 [==============================] - 0s 2ms/step - loss: 0.1092\n",
            "Epoch 120/150\n",
            "118/118 [==============================] - 0s 2ms/step - loss: 0.1087\n",
            "Epoch 121/150\n",
            "118/118 [==============================] - 0s 2ms/step - loss: 0.1084\n",
            "Epoch 122/150\n",
            "118/118 [==============================] - 0s 2ms/step - loss: 0.1081\n",
            "Epoch 123/150\n",
            "118/118 [==============================] - 0s 2ms/step - loss: 0.1078\n",
            "Epoch 124/150\n",
            "118/118 [==============================] - 0s 2ms/step - loss: 0.1058\n",
            "Epoch 125/150\n",
            "118/118 [==============================] - 0s 2ms/step - loss: 0.1053\n",
            "Epoch 126/150\n",
            "118/118 [==============================] - 0s 2ms/step - loss: 0.1049\n",
            "Epoch 127/150\n",
            "118/118 [==============================] - 0s 2ms/step - loss: 0.1046\n",
            "Epoch 128/150\n",
            "118/118 [==============================] - 0s 2ms/step - loss: 0.1044\n",
            "Epoch 129/150\n",
            "118/118 [==============================] - 0s 2ms/step - loss: 0.1038\n",
            "Epoch 130/150\n",
            "118/118 [==============================] - 0s 2ms/step - loss: 0.1036\n",
            "Epoch 131/150\n",
            "118/118 [==============================] - 0s 2ms/step - loss: 0.1033\n",
            "Epoch 132/150\n",
            "118/118 [==============================] - 0s 2ms/step - loss: 0.1029\n",
            "Epoch 133/150\n",
            "118/118 [==============================] - 0s 2ms/step - loss: 0.1027\n",
            "Epoch 134/150\n",
            "118/118 [==============================] - 0s 2ms/step - loss: 0.1025\n",
            "Epoch 135/150\n",
            "118/118 [==============================] - 0s 2ms/step - loss: 0.1021\n",
            "Epoch 136/150\n",
            "118/118 [==============================] - 0s 2ms/step - loss: 0.1019\n",
            "Epoch 137/150\n",
            "118/118 [==============================] - 0s 2ms/step - loss: 0.1014\n",
            "Epoch 138/150\n",
            "118/118 [==============================] - 0s 2ms/step - loss: 0.1012\n",
            "Epoch 139/150\n",
            "118/118 [==============================] - 0s 2ms/step - loss: 0.1008\n",
            "Epoch 140/150\n",
            "118/118 [==============================] - 0s 2ms/step - loss: 0.1004\n",
            "Epoch 141/150\n",
            "118/118 [==============================] - 0s 2ms/step - loss: 0.1006\n",
            "Epoch 142/150\n",
            "118/118 [==============================] - 0s 2ms/step - loss: 0.1001\n",
            "Epoch 143/150\n",
            "118/118 [==============================] - 0s 2ms/step - loss: 0.0997\n",
            "Epoch 144/150\n",
            "118/118 [==============================] - 0s 2ms/step - loss: 0.0995\n",
            "Epoch 145/150\n",
            "118/118 [==============================] - 0s 2ms/step - loss: 0.0991\n",
            "Epoch 146/150\n",
            "118/118 [==============================] - 0s 2ms/step - loss: 0.0989\n",
            "Epoch 147/150\n",
            "118/118 [==============================] - 0s 2ms/step - loss: 0.0986\n",
            "Epoch 148/150\n",
            "118/118 [==============================] - 0s 2ms/step - loss: 0.0986\n",
            "Epoch 149/150\n",
            "118/118 [==============================] - 0s 2ms/step - loss: 0.0982\n",
            "Epoch 150/150\n",
            "118/118 [==============================] - 0s 2ms/step - loss: 0.0979\n"
          ]
        },
        {
          "output_type": "execute_result",
          "data": {
            "text/plain": [
              "<keras.callbacks.History at 0x7f2c8722d0d0>"
            ]
          },
          "metadata": {},
          "execution_count": 29
        }
      ]
    },
    {
      "cell_type": "code",
      "source": [
        "movie_features_reduced = movie_encoder.predict(movie_features)\n",
        "user_features_reduced = user_encoder.predict(user_features)"
      ],
      "metadata": {
        "colab": {
          "base_uri": "https://localhost:8080/"
        },
        "id": "jrAgDBzc07_D",
        "outputId": "59a8257d-0498-4cb2-c106-dc392e3c5929"
      },
      "execution_count": 30,
      "outputs": [
        {
          "output_type": "stream",
          "name": "stdout",
          "text": [
            "53/53 [==============================] - 0s 1ms/step\n",
            "30/30 [==============================] - 0s 1ms/step\n"
          ]
        }
      ]
    },
    {
      "cell_type": "code",
      "source": [
        "def generate_edge(rating_df, rating_threshold=4):\n",
        "\n",
        "  graph_edges = [[],[]]\n",
        "  edge_weight = []\n",
        "\n",
        "  for userID, movieID, rating in rating_df[['UserID','MovieID','Rating']].itertuples(index=False):\n",
        "    if rating >= rating_threshold:\n",
        "      graph_edges[0].append(userID)\n",
        "      graph_edges[1].append(movieID)\n",
        "      edge_weight.append(rating)\n",
        "    \n",
        "    else:\n",
        "      continue\n",
        "  \n",
        "  return torch.tensor(graph_edges, dtype=torch.long), torch.tensor(edge_weight, dtype=torch.float)"
      ],
      "metadata": {
        "id": "FFmQO9CsBGuo"
      },
      "execution_count": 31,
      "outputs": []
    },
    {
      "cell_type": "code",
      "source": [
        "graph_edges_train, label_train = generate_edge(train, rating_threshold=0)\n",
        "graph_edges_test, label_test = generate_edge(test, rating_threshold=0)\n"
      ],
      "metadata": {
        "id": "rKeCQsOd9uYg"
      },
      "execution_count": 32,
      "outputs": []
    },
    {
      "cell_type": "code",
      "source": [
        "# user2movie_edge, user2movie_edge_weight = generate_edge(rating_df)\n",
        "# user2movie_edge, user2movie_edge.shape"
      ],
      "metadata": {
        "id": "eFpAwd-aCaWl"
      },
      "execution_count": 33,
      "outputs": []
    },
    {
      "cell_type": "code",
      "source": [
        "# torch.from_numpy(rating_df['UserID'].unique()).to(torch.int16),torch.from_numpy(rating_df['MovieID'].unique()).to(torch.int16)\n",
        "# dataset[\"user\"].node_id.dtype"
      ],
      "metadata": {
        "id": "SfH4qJuGrsem"
      },
      "execution_count": 34,
      "outputs": []
    },
    {
      "cell_type": "code",
      "source": [
        "users_df['UserID'].nunique() == len(users_df)\n",
        "movies_df['MovieID'].nunique() == len(movies_df)\n",
        "torch.tensor(user_features_reduced, dtype=torch.float)\n"
      ],
      "metadata": {
        "colab": {
          "base_uri": "https://localhost:8080/"
        },
        "id": "TM9YjKAcANpB",
        "outputId": "3d2ce4aa-e622-4403-a0ef-86cd878f5e0a"
      },
      "execution_count": 35,
      "outputs": [
        {
          "output_type": "execute_result",
          "data": {
            "text/plain": [
              "tensor([[0.0000, 0.7366, 0.5950,  ..., 0.4377, 0.0000, 0.0000],\n",
              "        [0.0000, 0.2081, 0.0000,  ..., 0.0000, 0.3419, 0.0000],\n",
              "        [0.0000, 0.0575, 0.3367,  ..., 0.0000, 0.0000, 0.0000],\n",
              "        ...,\n",
              "        [0.0000, 0.1117, 0.2382,  ..., 0.6949, 0.0000, 0.9369],\n",
              "        [0.0000, 0.0000, 0.5908,  ..., 0.5197, 0.3159, 0.0000],\n",
              "        [0.0000, 0.1049, 0.2449,  ..., 0.6719, 0.0000, 0.9311]])"
            ]
          },
          "metadata": {},
          "execution_count": 35
        }
      ]
    },
    {
      "cell_type": "code",
      "source": [
        "train_dataset = HeteroData()\n",
        "\n",
        "train_dataset[\"user\"].node_id = torch.arange(users_df['UserID'].nunique())\n",
        "train_dataset[\"movie\"].node_id = torch.arange(movies_df['MovieID'].nunique())\n",
        "train_dataset[\"movie\"].x = torch.tensor(movie_features_reduced, dtype=torch.float)\n",
        "train_dataset[\"user\"].x = torch.tensor(user_features_reduced, dtype=torch.float)\n",
        "train_dataset[\"user\", \"rates\", \"movie\"].edge_index = graph_edges_train\n",
        "train_dataset[\"user\", \"rates\", \"movie\"].edge_label_index = graph_edges_train\n",
        "train_dataset[\"user\", \"rates\", \"movie\"].edge_label = label_train\n",
        "\n",
        "train_dataset = transforms.ToUndirected()(train_dataset)\n",
        "train_dataset = transforms.NormalizeFeatures()(train_dataset)\n",
        "train_dataset"
      ],
      "metadata": {
        "colab": {
          "base_uri": "https://localhost:8080/"
        },
        "id": "ht7Q_rBwFgZ3",
        "outputId": "724f0aa0-2708-47d1-d51d-07f919970145"
      },
      "execution_count": 36,
      "outputs": [
        {
          "output_type": "execute_result",
          "data": {
            "text/plain": [
              "HeteroData(\n",
              "  \u001b[1muser\u001b[0m={\n",
              "    node_id=[943],\n",
              "    x=[943, 8]\n",
              "  },\n",
              "  \u001b[1mmovie\u001b[0m={\n",
              "    node_id=[1681],\n",
              "    x=[1681, 8]\n",
              "  },\n",
              "  \u001b[1m(user, rates, movie)\u001b[0m={\n",
              "    edge_index=[2, 50000],\n",
              "    edge_label_index=[2, 50000],\n",
              "    edge_label=[50000]\n",
              "  },\n",
              "  \u001b[1m(movie, rev_rates, user)\u001b[0m={\n",
              "    edge_index=[2, 50000],\n",
              "    edge_label=[50000]\n",
              "  }\n",
              ")"
            ]
          },
          "metadata": {},
          "execution_count": 36
        }
      ]
    },
    {
      "cell_type": "code",
      "source": [
        "test_dataset = HeteroData()\n",
        "\n",
        "test_dataset[\"user\"].node_id = torch.arange(users_df['UserID'].nunique())\n",
        "test_dataset[\"movie\"].node_id = torch.arange(movies_df['MovieID'].nunique())\n",
        "test_dataset[\"movie\"].x = torch.tensor(movie_features_reduced, dtype=torch.float)\n",
        "test_dataset[\"user\"].x = torch.tensor(user_features_reduced, dtype=torch.float)\n",
        "test_dataset[\"user\", \"rates\", \"movie\"].edge_index = graph_edges_test\n",
        "test_dataset[\"user\", \"rates\", \"movie\"].edge_label_index = graph_edges_test\n",
        "test_dataset[\"user\", \"rates\", \"movie\"].edge_label = label_test\n",
        "\n",
        "test_dataset = transforms.ToUndirected()(test_dataset)\n",
        "test_dataset = transforms.NormalizeFeatures()(test_dataset)\n",
        "test_dataset"
      ],
      "metadata": {
        "id": "5Gn3MlYSSyEr",
        "colab": {
          "base_uri": "https://localhost:8080/"
        },
        "outputId": "e66a2fa5-e203-498f-f954-14e0ca92650d"
      },
      "execution_count": 37,
      "outputs": [
        {
          "output_type": "execute_result",
          "data": {
            "text/plain": [
              "HeteroData(\n",
              "  \u001b[1muser\u001b[0m={\n",
              "    node_id=[943],\n",
              "    x=[943, 8]\n",
              "  },\n",
              "  \u001b[1mmovie\u001b[0m={\n",
              "    node_id=[1681],\n",
              "    x=[1681, 8]\n",
              "  },\n",
              "  \u001b[1m(user, rates, movie)\u001b[0m={\n",
              "    edge_index=[2, 20000],\n",
              "    edge_label_index=[2, 20000],\n",
              "    edge_label=[20000]\n",
              "  },\n",
              "  \u001b[1m(movie, rev_rates, user)\u001b[0m={\n",
              "    edge_index=[2, 20000],\n",
              "    edge_label=[20000]\n",
              "  }\n",
              ")"
            ]
          },
          "metadata": {},
          "execution_count": 37
        }
      ]
    },
    {
      "cell_type": "code",
      "source": [
        "# dataset[\"movie\"].x.dtype , dataset[\"user\", \"rates\", \"movie\"].edge_index.dtype, dataset[\"user\"].node_id.dtype, dataset[\"movie\"].node_id.dtype"
      ],
      "metadata": {
        "id": "RuMG_Ir6Aczo"
      },
      "execution_count": 38,
      "outputs": []
    },
    {
      "cell_type": "code",
      "source": [
        "# data = HeteroData()\n",
        "# # Save node indices:\n",
        "# data[\"user\"].node_id = torch.arange(len(unique_user_id))\n",
        "# data[\"movie\"].node_id = torch.arange(len(movies_df))\n",
        "# # Add the node features and edge indices:\n",
        "# data[\"movie\"].x = movie_feat\n",
        "# data[\"user\", \"rates\", \"movie\"].edge_index = edge_index_user_to_movie\n",
        "# # We also need to make sure to add the reverse edges from movies to users\n",
        "# # in order to let a GNN be able to pass messages in both directions.\n",
        "# # We can leverage the `T.ToUndirected()` transform for this from PyG:\n",
        "# data = T.ToUndirected()(data)"
      ],
      "metadata": {
        "id": "Uju1eF5uAA15"
      },
      "execution_count": 58,
      "outputs": []
    },
    {
      "cell_type": "code",
      "source": [
        "# transform = transforms.RandomLinkSplit(\n",
        "#     num_val=0.1,\n",
        "#     num_test=0.2,\n",
        "#     disjoint_train_ratio=0.3,\n",
        "#     neg_sampling_ratio=2.0,\n",
        "#     add_negative_train_samples=False,\n",
        "#     edge_types=(\"user\", \"rates\", \"movie\"),\n",
        "#     rev_edge_types=(\"movie\", \"rev_rates\", \"user\"), \n",
        "# )\n",
        "# train_dataset, val_dataset, test_dataset = transform(train_dataset)"
      ],
      "metadata": {
        "id": "n56-zlctS2tq"
      },
      "execution_count": 59,
      "outputs": []
    },
    {
      "cell_type": "code",
      "source": [
        "# train_dataset, train_data"
      ],
      "metadata": {
        "id": "loVPlhbh4q2U"
      },
      "execution_count": 60,
      "outputs": []
    },
    {
      "cell_type": "code",
      "source": [
        "#  validation_dataset, val_data"
      ],
      "metadata": {
        "id": "Qy-XwENl4qOd"
      },
      "execution_count": 61,
      "outputs": []
    },
    {
      "cell_type": "code",
      "source": [
        "# test_dataset, test_data"
      ],
      "metadata": {
        "id": "Xjh9QFCh4-qe"
      },
      "execution_count": 62,
      "outputs": []
    },
    {
      "cell_type": "code",
      "source": [
        "from torch_geometric.loader import LinkNeighborLoader\n",
        "\n",
        "# Define seed edges:\n",
        "edge_label_index = train_dataset[\"user\", \"rates\", \"movie\"].edge_label_index\n",
        "edge_label = train_dataset[\"user\", \"rates\", \"movie\"].edge_label\n",
        "train_loader = LinkNeighborLoader(\n",
        "    data=train_dataset,\n",
        "    num_neighbors=[20, 10],\n",
        "    neg_sampling_ratio=2.0,\n",
        "    edge_label_index=((\"user\", \"rates\", \"movie\"), edge_label_index),\n",
        "    edge_label=edge_label,\n",
        "    batch_size=64,\n",
        "    shuffle=True,\n",
        ")\n",
        "train_loader"
      ],
      "metadata": {
        "id": "DZtsZ8NyVar_",
        "colab": {
          "base_uri": "https://localhost:8080/"
        },
        "outputId": "94313d36-2339-47e0-99e8-c80563faf0f9"
      },
      "execution_count": 39,
      "outputs": [
        {
          "output_type": "execute_result",
          "data": {
            "text/plain": [
              "LinkNeighborLoader()"
            ]
          },
          "metadata": {},
          "execution_count": 39
        }
      ]
    },
    {
      "cell_type": "code",
      "source": [
        "from torch_geometric.loader import LinkNeighborLoader\n",
        "\n",
        "# Define seed edges:\n",
        "edge_label_index = test_dataset[\"user\", \"rates\", \"movie\"].edge_label_index\n",
        "edge_label = test_dataset[\"user\", \"rates\", \"movie\"].edge_label\n",
        "test_loader = LinkNeighborLoader(\n",
        "    data=test_dataset,\n",
        "    num_neighbors=[20, 10],\n",
        "    neg_sampling_ratio=2.0,\n",
        "    edge_label_index=((\"user\", \"rates\", \"movie\"), edge_label_index),\n",
        "    edge_label=edge_label,\n",
        "    batch_size=64,\n",
        "    shuffle=True,\n",
        ")\n",
        "test_loader"
      ],
      "metadata": {
        "colab": {
          "base_uri": "https://localhost:8080/"
        },
        "id": "pXYskD5QF2_a",
        "outputId": "0d792e08-321d-4448-ba1c-c49d833db79c"
      },
      "execution_count": 40,
      "outputs": [
        {
          "output_type": "execute_result",
          "data": {
            "text/plain": [
              "LinkNeighborLoader()"
            ]
          },
          "metadata": {},
          "execution_count": 40
        }
      ]
    },
    {
      "cell_type": "code",
      "source": [
        "from torch_geometric.nn import SAGEConv, to_hetero\n",
        "import torch.nn.functional as F\n",
        "class GNN(torch.nn.Module):\n",
        "    def __init__(self, hidden_channels):\n",
        "        super().__init__()\n",
        "        self.conv1 = SAGEConv(hidden_channels, hidden_channels)\n",
        "        self.conv2 = SAGEConv(hidden_channels, hidden_channels)\n",
        "    def forward(self, x, edge_index):\n",
        "        x = F.relu(self.conv1(x, edge_index))\n",
        "        x = self.conv2(x, edge_index)\n",
        "        return x\n",
        "# Our final classifier applies the dot-product between source and destination\n",
        "# node embeddings to derive edge-level predictions:\n",
        "\n",
        "class Classifier(torch.nn.Module):\n",
        "    def forward(self, x_user, x_movie, edge_label_index):\n",
        "        # Convert node embeddings to edge-level representations:\n",
        "        edge_feat_user = x_user[edge_label_index[0]]\n",
        "        edge_feat_movie = x_movie[edge_label_index[1]]\n",
        "        # Apply dot-product to get a prediction per supervision edge:\n",
        "        return (edge_feat_user * edge_feat_movie).sum(dim=-1)\n",
        "\n",
        "class Model(torch.nn.Module):\n",
        "    \n",
        "    def __init__(self, hidden_channels, user_features_dim, movie_features_dim):\n",
        "        super().__init__()\n",
        "        # Since the dataset does not come with rich features, we also learn two\n",
        "        # embedding matrices for users and movies:\n",
        "        self.user_lin = torch.nn.Linear(user_features_dim, hidden_channels)\n",
        "        self.movie_lin = torch.nn.Linear(movie_features_dim, hidden_channels)\n",
        "        self.user_emb = torch.nn.Embedding(train_dataset[\"user\"].num_nodes, hidden_channels)\n",
        "        self.movie_emb = torch.nn.Embedding(train_dataset[\"movie\"].num_nodes, hidden_channels)\n",
        "        # Instantiate homogeneous GNN:\n",
        "        self.gnn = GNN(hidden_channels)\n",
        "        # Convert GNN model into a heterogeneous variant:\n",
        "        self.gnn = to_hetero(self.gnn, metadata=train_dataset.metadata())\n",
        "        self.classifier = Classifier()\n",
        "    \n",
        "    def forward(self, data):\n",
        "        # print(data[\"movie\"].node_id)\n",
        "        x_dict = {\n",
        "          # \"user\": self.user_lin(data[\"user\"].x) + self.user_emb(data[\"user\"].node_id),\n",
        "          \"user\": self.user_lin(data[\"user\"].x) + self.user_emb(data[\"user\"].node_id),\n",
        "          \"movie\": self.movie_lin(data[\"movie\"].x) + self.movie_emb(data[\"movie\"].node_id),\n",
        "        } \n",
        "        # `x_dict` holds feature matrices of all node types\n",
        "        # `edge_index_dict` holds all edge indices of all edge types\n",
        "        x_dict = self.gnn(x_dict, data.edge_index_dict)\n",
        "        pred = self.classifier(\n",
        "            x_dict[\"user\"],\n",
        "            x_dict[\"movie\"],\n",
        "            data[\"user\", \"rates\", \"movie\"].edge_label_index,\n",
        "        )\n",
        "        return pred\n",
        "        \n",
        "model = Model(hidden_channels=8, user_features_dim=8, movie_features_dim=8)\n",
        "model"
      ],
      "metadata": {
        "id": "ztVe6WBhHff0",
        "colab": {
          "base_uri": "https://localhost:8080/"
        },
        "outputId": "70a6f693-77de-451e-d446-7562893e36c4"
      },
      "execution_count": 41,
      "outputs": [
        {
          "output_type": "execute_result",
          "data": {
            "text/plain": [
              "Model(\n",
              "  (user_lin): Linear(in_features=8, out_features=8, bias=True)\n",
              "  (movie_lin): Linear(in_features=8, out_features=8, bias=True)\n",
              "  (user_emb): Embedding(943, 8)\n",
              "  (movie_emb): Embedding(1681, 8)\n",
              "  (gnn): GraphModule(\n",
              "    (conv1): ModuleDict(\n",
              "      (user__rates__movie): SAGEConv(8, 8, aggr=mean)\n",
              "      (movie__rev_rates__user): SAGEConv(8, 8, aggr=mean)\n",
              "    )\n",
              "    (conv2): ModuleDict(\n",
              "      (user__rates__movie): SAGEConv(8, 8, aggr=mean)\n",
              "      (movie__rev_rates__user): SAGEConv(8, 8, aggr=mean)\n",
              "    )\n",
              "  )\n",
              "  (classifier): Classifier()\n",
              ")"
            ]
          },
          "metadata": {},
          "execution_count": 41
        }
      ]
    },
    {
      "cell_type": "code",
      "source": [
        "import tqdm\n",
        "import torch.nn.functional as F\n",
        "device = torch.device('cuda' if torch.cuda.is_available() else 'cpu')\n",
        "print(f\"Device: '{device}'\")\n",
        "model = model.to(device)\n",
        "optimizer = torch.optim.Adam(model.parameters(), lr=0.001)\n",
        "\n",
        "for epoch in range(1, 50):\n",
        "    total_loss = total_examples = 0\n",
        "    for sampled_data in tqdm.tqdm(train_loader):\n",
        "        optimizer.zero_grad()\n",
        "        sampled_data.to(device)\n",
        "        pred = model(sampled_data)\n",
        "        ground_truth = sampled_data[\"user\", \"rates\", \"movie\"].edge_label\n",
        "        loss = F.mse_loss(pred, ground_truth)\n",
        "        loss.backward()\n",
        "        optimizer.step()\n",
        "        total_loss += float(loss) * pred.numel()\n",
        "        total_examples += pred.numel()\n",
        "    print(f\"Epoch: {epoch:03d}, Loss: {total_loss / total_examples:.4f}\")"
      ],
      "metadata": {
        "id": "nb8M-zqAH8ir",
        "colab": {
          "base_uri": "https://localhost:8080/"
        },
        "outputId": "ad242dc1-2a61-4fe6-8da3-3b4f89465124"
      },
      "execution_count": 43,
      "outputs": [
        {
          "output_type": "stream",
          "name": "stdout",
          "text": [
            "Device: 'cpu'\n"
          ]
        },
        {
          "output_type": "stream",
          "name": "stderr",
          "text": [
            "100%|██████████| 782/782 [00:15<00:00, 50.07it/s]\n"
          ]
        },
        {
          "output_type": "stream",
          "name": "stdout",
          "text": [
            "Epoch: 001, Loss: 2.3816\n"
          ]
        },
        {
          "output_type": "stream",
          "name": "stderr",
          "text": [
            "100%|██████████| 782/782 [00:12<00:00, 64.28it/s]\n"
          ]
        },
        {
          "output_type": "stream",
          "name": "stdout",
          "text": [
            "Epoch: 002, Loss: 2.0916\n"
          ]
        },
        {
          "output_type": "stream",
          "name": "stderr",
          "text": [
            "100%|██████████| 782/782 [00:12<00:00, 64.89it/s]\n"
          ]
        },
        {
          "output_type": "stream",
          "name": "stdout",
          "text": [
            "Epoch: 003, Loss: 1.9773\n"
          ]
        },
        {
          "output_type": "stream",
          "name": "stderr",
          "text": [
            "100%|██████████| 782/782 [00:12<00:00, 64.12it/s]\n"
          ]
        },
        {
          "output_type": "stream",
          "name": "stdout",
          "text": [
            "Epoch: 004, Loss: 1.9056\n"
          ]
        },
        {
          "output_type": "stream",
          "name": "stderr",
          "text": [
            "100%|██████████| 782/782 [00:11<00:00, 65.90it/s]\n"
          ]
        },
        {
          "output_type": "stream",
          "name": "stdout",
          "text": [
            "Epoch: 005, Loss: 1.8331\n"
          ]
        },
        {
          "output_type": "stream",
          "name": "stderr",
          "text": [
            "100%|██████████| 782/782 [00:12<00:00, 64.32it/s]\n"
          ]
        },
        {
          "output_type": "stream",
          "name": "stdout",
          "text": [
            "Epoch: 006, Loss: 1.7909\n"
          ]
        },
        {
          "output_type": "stream",
          "name": "stderr",
          "text": [
            "100%|██████████| 782/782 [00:12<00:00, 65.07it/s]\n"
          ]
        },
        {
          "output_type": "stream",
          "name": "stdout",
          "text": [
            "Epoch: 007, Loss: 1.7569\n"
          ]
        },
        {
          "output_type": "stream",
          "name": "stderr",
          "text": [
            "100%|██████████| 782/782 [00:11<00:00, 66.25it/s]\n"
          ]
        },
        {
          "output_type": "stream",
          "name": "stdout",
          "text": [
            "Epoch: 008, Loss: 1.7148\n"
          ]
        },
        {
          "output_type": "stream",
          "name": "stderr",
          "text": [
            "100%|██████████| 782/782 [00:12<00:00, 61.06it/s]\n"
          ]
        },
        {
          "output_type": "stream",
          "name": "stdout",
          "text": [
            "Epoch: 009, Loss: 1.6950\n"
          ]
        },
        {
          "output_type": "stream",
          "name": "stderr",
          "text": [
            "100%|██████████| 782/782 [00:11<00:00, 65.69it/s]\n"
          ]
        },
        {
          "output_type": "stream",
          "name": "stdout",
          "text": [
            "Epoch: 010, Loss: 1.6780\n"
          ]
        },
        {
          "output_type": "stream",
          "name": "stderr",
          "text": [
            "100%|██████████| 782/782 [00:13<00:00, 58.82it/s]\n"
          ]
        },
        {
          "output_type": "stream",
          "name": "stdout",
          "text": [
            "Epoch: 011, Loss: 1.6519\n"
          ]
        },
        {
          "output_type": "stream",
          "name": "stderr",
          "text": [
            "100%|██████████| 782/782 [00:11<00:00, 65.37it/s]\n"
          ]
        },
        {
          "output_type": "stream",
          "name": "stdout",
          "text": [
            "Epoch: 012, Loss: 1.6359\n"
          ]
        },
        {
          "output_type": "stream",
          "name": "stderr",
          "text": [
            "100%|██████████| 782/782 [00:11<00:00, 65.41it/s]\n"
          ]
        },
        {
          "output_type": "stream",
          "name": "stdout",
          "text": [
            "Epoch: 013, Loss: 1.6357\n"
          ]
        },
        {
          "output_type": "stream",
          "name": "stderr",
          "text": [
            "100%|██████████| 782/782 [00:12<00:00, 64.52it/s]\n"
          ]
        },
        {
          "output_type": "stream",
          "name": "stdout",
          "text": [
            "Epoch: 014, Loss: 1.6174\n"
          ]
        },
        {
          "output_type": "stream",
          "name": "stderr",
          "text": [
            "100%|██████████| 782/782 [00:12<00:00, 65.08it/s]\n"
          ]
        },
        {
          "output_type": "stream",
          "name": "stdout",
          "text": [
            "Epoch: 015, Loss: 1.6102\n"
          ]
        },
        {
          "output_type": "stream",
          "name": "stderr",
          "text": [
            "100%|██████████| 782/782 [00:12<00:00, 62.22it/s]\n"
          ]
        },
        {
          "output_type": "stream",
          "name": "stdout",
          "text": [
            "Epoch: 016, Loss: 1.6072\n"
          ]
        },
        {
          "output_type": "stream",
          "name": "stderr",
          "text": [
            "100%|██████████| 782/782 [00:12<00:00, 64.71it/s]\n"
          ]
        },
        {
          "output_type": "stream",
          "name": "stdout",
          "text": [
            "Epoch: 017, Loss: 1.5927\n"
          ]
        },
        {
          "output_type": "stream",
          "name": "stderr",
          "text": [
            "100%|██████████| 782/782 [00:12<00:00, 65.05it/s]\n"
          ]
        },
        {
          "output_type": "stream",
          "name": "stdout",
          "text": [
            "Epoch: 018, Loss: 1.5914\n"
          ]
        },
        {
          "output_type": "stream",
          "name": "stderr",
          "text": [
            "100%|██████████| 782/782 [00:12<00:00, 64.07it/s]\n"
          ]
        },
        {
          "output_type": "stream",
          "name": "stdout",
          "text": [
            "Epoch: 019, Loss: 1.5898\n"
          ]
        },
        {
          "output_type": "stream",
          "name": "stderr",
          "text": [
            "100%|██████████| 782/782 [00:11<00:00, 65.26it/s]\n"
          ]
        },
        {
          "output_type": "stream",
          "name": "stdout",
          "text": [
            "Epoch: 020, Loss: 1.5826\n"
          ]
        },
        {
          "output_type": "stream",
          "name": "stderr",
          "text": [
            "100%|██████████| 782/782 [00:12<00:00, 63.13it/s]\n"
          ]
        },
        {
          "output_type": "stream",
          "name": "stdout",
          "text": [
            "Epoch: 021, Loss: 1.5725\n"
          ]
        },
        {
          "output_type": "stream",
          "name": "stderr",
          "text": [
            "100%|██████████| 782/782 [00:12<00:00, 64.71it/s]\n"
          ]
        },
        {
          "output_type": "stream",
          "name": "stdout",
          "text": [
            "Epoch: 022, Loss: 1.5496\n"
          ]
        },
        {
          "output_type": "stream",
          "name": "stderr",
          "text": [
            "100%|██████████| 782/782 [00:12<00:00, 64.39it/s]\n"
          ]
        },
        {
          "output_type": "stream",
          "name": "stdout",
          "text": [
            "Epoch: 023, Loss: 1.5549\n"
          ]
        },
        {
          "output_type": "stream",
          "name": "stderr",
          "text": [
            "100%|██████████| 782/782 [00:12<00:00, 64.29it/s]\n"
          ]
        },
        {
          "output_type": "stream",
          "name": "stdout",
          "text": [
            "Epoch: 024, Loss: 1.5543\n"
          ]
        },
        {
          "output_type": "stream",
          "name": "stderr",
          "text": [
            "100%|██████████| 782/782 [00:12<00:00, 64.62it/s]\n"
          ]
        },
        {
          "output_type": "stream",
          "name": "stdout",
          "text": [
            "Epoch: 025, Loss: 1.5488\n"
          ]
        },
        {
          "output_type": "stream",
          "name": "stderr",
          "text": [
            "100%|██████████| 782/782 [00:12<00:00, 63.38it/s]\n"
          ]
        },
        {
          "output_type": "stream",
          "name": "stdout",
          "text": [
            "Epoch: 026, Loss: 1.5428\n"
          ]
        },
        {
          "output_type": "stream",
          "name": "stderr",
          "text": [
            "100%|██████████| 782/782 [00:12<00:00, 64.62it/s]\n"
          ]
        },
        {
          "output_type": "stream",
          "name": "stdout",
          "text": [
            "Epoch: 027, Loss: 1.5372\n"
          ]
        },
        {
          "output_type": "stream",
          "name": "stderr",
          "text": [
            "100%|██████████| 782/782 [00:12<00:00, 64.52it/s]\n"
          ]
        },
        {
          "output_type": "stream",
          "name": "stdout",
          "text": [
            "Epoch: 028, Loss: 1.5448\n"
          ]
        },
        {
          "output_type": "stream",
          "name": "stderr",
          "text": [
            "100%|██████████| 782/782 [00:12<00:00, 63.32it/s]\n"
          ]
        },
        {
          "output_type": "stream",
          "name": "stdout",
          "text": [
            "Epoch: 029, Loss: 1.5271\n"
          ]
        },
        {
          "output_type": "stream",
          "name": "stderr",
          "text": [
            "100%|██████████| 782/782 [00:12<00:00, 65.00it/s]\n"
          ]
        },
        {
          "output_type": "stream",
          "name": "stdout",
          "text": [
            "Epoch: 030, Loss: 1.5195\n"
          ]
        },
        {
          "output_type": "stream",
          "name": "stderr",
          "text": [
            "100%|██████████| 782/782 [00:12<00:00, 62.86it/s]\n"
          ]
        },
        {
          "output_type": "stream",
          "name": "stdout",
          "text": [
            "Epoch: 031, Loss: 1.5212\n"
          ]
        },
        {
          "output_type": "stream",
          "name": "stderr",
          "text": [
            "100%|██████████| 782/782 [00:12<00:00, 64.61it/s]\n"
          ]
        },
        {
          "output_type": "stream",
          "name": "stdout",
          "text": [
            "Epoch: 032, Loss: 1.5193\n"
          ]
        },
        {
          "output_type": "stream",
          "name": "stderr",
          "text": [
            "100%|██████████| 782/782 [00:12<00:00, 63.59it/s]\n"
          ]
        },
        {
          "output_type": "stream",
          "name": "stdout",
          "text": [
            "Epoch: 033, Loss: 1.5119\n"
          ]
        },
        {
          "output_type": "stream",
          "name": "stderr",
          "text": [
            "100%|██████████| 782/782 [00:12<00:00, 64.20it/s]\n"
          ]
        },
        {
          "output_type": "stream",
          "name": "stdout",
          "text": [
            "Epoch: 034, Loss: 1.5101\n"
          ]
        },
        {
          "output_type": "stream",
          "name": "stderr",
          "text": [
            "100%|██████████| 782/782 [00:12<00:00, 64.74it/s]\n"
          ]
        },
        {
          "output_type": "stream",
          "name": "stdout",
          "text": [
            "Epoch: 035, Loss: 1.5025\n"
          ]
        },
        {
          "output_type": "stream",
          "name": "stderr",
          "text": [
            "100%|██████████| 782/782 [00:12<00:00, 62.28it/s]\n"
          ]
        },
        {
          "output_type": "stream",
          "name": "stdout",
          "text": [
            "Epoch: 036, Loss: 1.5064\n"
          ]
        },
        {
          "output_type": "stream",
          "name": "stderr",
          "text": [
            "100%|██████████| 782/782 [00:12<00:00, 64.57it/s]\n"
          ]
        },
        {
          "output_type": "stream",
          "name": "stdout",
          "text": [
            "Epoch: 037, Loss: 1.4999\n"
          ]
        },
        {
          "output_type": "stream",
          "name": "stderr",
          "text": [
            "100%|██████████| 782/782 [00:12<00:00, 63.12it/s]\n"
          ]
        },
        {
          "output_type": "stream",
          "name": "stdout",
          "text": [
            "Epoch: 038, Loss: 1.4991\n"
          ]
        },
        {
          "output_type": "stream",
          "name": "stderr",
          "text": [
            "100%|██████████| 782/782 [00:12<00:00, 64.16it/s]\n"
          ]
        },
        {
          "output_type": "stream",
          "name": "stdout",
          "text": [
            "Epoch: 039, Loss: 1.4842\n"
          ]
        },
        {
          "output_type": "stream",
          "name": "stderr",
          "text": [
            "100%|██████████| 782/782 [00:12<00:00, 65.01it/s]\n"
          ]
        },
        {
          "output_type": "stream",
          "name": "stdout",
          "text": [
            "Epoch: 040, Loss: 1.4918\n"
          ]
        },
        {
          "output_type": "stream",
          "name": "stderr",
          "text": [
            "100%|██████████| 782/782 [00:12<00:00, 63.10it/s]\n"
          ]
        },
        {
          "output_type": "stream",
          "name": "stdout",
          "text": [
            "Epoch: 041, Loss: 1.4880\n"
          ]
        },
        {
          "output_type": "stream",
          "name": "stderr",
          "text": [
            "100%|██████████| 782/782 [00:12<00:00, 63.78it/s]\n"
          ]
        },
        {
          "output_type": "stream",
          "name": "stdout",
          "text": [
            "Epoch: 042, Loss: 1.4900\n"
          ]
        },
        {
          "output_type": "stream",
          "name": "stderr",
          "text": [
            "100%|██████████| 782/782 [00:12<00:00, 63.93it/s]\n"
          ]
        },
        {
          "output_type": "stream",
          "name": "stdout",
          "text": [
            "Epoch: 043, Loss: 1.4867\n"
          ]
        },
        {
          "output_type": "stream",
          "name": "stderr",
          "text": [
            "100%|██████████| 782/782 [00:12<00:00, 64.73it/s]\n"
          ]
        },
        {
          "output_type": "stream",
          "name": "stdout",
          "text": [
            "Epoch: 044, Loss: 1.4802\n"
          ]
        },
        {
          "output_type": "stream",
          "name": "stderr",
          "text": [
            "100%|██████████| 782/782 [00:12<00:00, 64.98it/s]\n"
          ]
        },
        {
          "output_type": "stream",
          "name": "stdout",
          "text": [
            "Epoch: 045, Loss: 1.4836\n"
          ]
        },
        {
          "output_type": "stream",
          "name": "stderr",
          "text": [
            "100%|██████████| 782/782 [00:12<00:00, 63.23it/s]\n"
          ]
        },
        {
          "output_type": "stream",
          "name": "stdout",
          "text": [
            "Epoch: 046, Loss: 1.4847\n"
          ]
        },
        {
          "output_type": "stream",
          "name": "stderr",
          "text": [
            "100%|██████████| 782/782 [00:12<00:00, 65.00it/s]\n"
          ]
        },
        {
          "output_type": "stream",
          "name": "stdout",
          "text": [
            "Epoch: 047, Loss: 1.4810\n"
          ]
        },
        {
          "output_type": "stream",
          "name": "stderr",
          "text": [
            "100%|██████████| 782/782 [00:12<00:00, 63.52it/s]\n"
          ]
        },
        {
          "output_type": "stream",
          "name": "stdout",
          "text": [
            "Epoch: 048, Loss: 1.4595\n"
          ]
        },
        {
          "output_type": "stream",
          "name": "stderr",
          "text": [
            "100%|██████████| 782/782 [00:12<00:00, 64.81it/s]"
          ]
        },
        {
          "output_type": "stream",
          "name": "stdout",
          "text": [
            "Epoch: 049, Loss: 1.4678\n"
          ]
        },
        {
          "output_type": "stream",
          "name": "stderr",
          "text": [
            "\n"
          ]
        }
      ]
    },
    {
      "cell_type": "code",
      "source": [
        "predicted = []\n",
        "labels = []\n",
        "i=0\n",
        "for sampled_data in tqdm.tqdm(test_loader):\n",
        "    with torch.no_grad():\n",
        "        sampled_data.to(device)\n",
        "        predicted.append(model(sampled_data))\n",
        "        labels.append(sampled_data[\"user\", \"rates\", \"movie\"].edge_label)\n",
        "\n",
        "predicted = torch.cat(predicted, dim=0).cpu().numpy()\n",
        "labels = torch.cat(labels, dim=0).cpu().numpy()\n",
        "# auc = roc_auc_score(labels, predicted)\n",
        "# predicted, labels\n",
        "print()\n",
        "# print(f\"Test AUC: {auc:.4f}\")"
      ],
      "metadata": {
        "colab": {
          "base_uri": "https://localhost:8080/"
        },
        "id": "SMCGRee6C3gt",
        "outputId": "3ea3d159-cc7f-4249-869b-32d38a7334f4"
      },
      "execution_count": 44,
      "outputs": [
        {
          "output_type": "stream",
          "name": "stderr",
          "text": [
            "100%|██████████| 313/313 [00:01<00:00, 159.22it/s]"
          ]
        },
        {
          "output_type": "stream",
          "name": "stdout",
          "text": [
            "\n"
          ]
        },
        {
          "output_type": "stream",
          "name": "stderr",
          "text": [
            "\n"
          ]
        }
      ]
    },
    {
      "cell_type": "code",
      "source": [
        "predicted"
      ],
      "metadata": {
        "colab": {
          "base_uri": "https://localhost:8080/"
        },
        "id": "87ruD6zMDM4s",
        "outputId": "216934b1-c62e-4266-fab4-91773fe25a30"
      },
      "execution_count": 45,
      "outputs": [
        {
          "output_type": "execute_result",
          "data": {
            "text/plain": [
              "array([2.3054893, 3.377002 , 1.9046615, ..., 2.1718554, 0.4161067,\n",
              "       2.8712547], dtype=float32)"
            ]
          },
          "metadata": {},
          "execution_count": 45
        }
      ]
    },
    {
      "cell_type": "code",
      "source": [
        "labels"
      ],
      "metadata": {
        "colab": {
          "base_uri": "https://localhost:8080/"
        },
        "id": "siX2URODDG_T",
        "outputId": "c89b005d-2160-4406-8a2a-a019d19243eb"
      },
      "execution_count": 46,
      "outputs": [
        {
          "output_type": "execute_result",
          "data": {
            "text/plain": [
              "array([3., 5., 4., ..., 0., 0., 0.], dtype=float32)"
            ]
          },
          "metadata": {},
          "execution_count": 46
        }
      ]
    },
    {
      "cell_type": "code",
      "source": [
        "from sklearn.metrics import mean_squared_error, roc_auc_score\n",
        "\n",
        "mean_squared_error(labels, predicted, squared=False), mean_squared_error(labels, predicted, squared=True), "
      ],
      "metadata": {
        "colab": {
          "base_uri": "https://localhost:8080/"
        },
        "id": "tQUCxfDJD7R6",
        "outputId": "fff977bb-4c3f-47e7-e1f6-3b4158292f0a"
      },
      "execution_count": 47,
      "outputs": [
        {
          "output_type": "execute_result",
          "data": {
            "text/plain": [
              "(1.2218683, 1.4929621)"
            ]
          },
          "metadata": {},
          "execution_count": 47
        }
      ]
    },
    {
      "cell_type": "code",
      "source": [
        "labels.reshape(-1, 1).shape"
      ],
      "metadata": {
        "colab": {
          "base_uri": "https://localhost:8080/"
        },
        "id": "5-99dT4EKPUT",
        "outputId": "ee66c00a-561f-4545-f3cf-19f151d46d94"
      },
      "execution_count": 48,
      "outputs": [
        {
          "output_type": "execute_result",
          "data": {
            "text/plain": [
              "(60000, 1)"
            ]
          },
          "metadata": {},
          "execution_count": 48
        }
      ]
    },
    {
      "cell_type": "code",
      "source": [
        "from sklearn.metrics import classification_report\n",
        "l = np.where(labels>=3, 1, 0)\n",
        "p = np.where(predicted>=3, 1, 0)\n",
        "print(classification_report(l, p))"
      ],
      "metadata": {
        "colab": {
          "base_uri": "https://localhost:8080/"
        },
        "id": "dmfMc_SxJ8l-",
        "outputId": "b35953c0-06ac-46f9-aae6-6e2475da628f"
      },
      "execution_count": 86,
      "outputs": [
        {
          "output_type": "stream",
          "name": "stdout",
          "text": [
            "              precision    recall  f1-score   support\n",
            "\n",
            "           0       0.83      0.96      0.89     43583\n",
            "           1       0.83      0.48      0.61     16417\n",
            "\n",
            "    accuracy                           0.83     60000\n",
            "   macro avg       0.83      0.72      0.75     60000\n",
            "weighted avg       0.83      0.83      0.82     60000\n",
            "\n"
          ]
        }
      ]
    },
    {
      "cell_type": "code",
      "source": [
        "from torch_geometric.data import download_url, extract_zip\n",
        "\n",
        "url = 'https://files.grouplens.org/datasets/movielens/ml-latest-small.zip'\n",
        "extract_zip(download_url(url, '.'), '.')\n",
        "\n",
        "movies_path = './ml-latest-small/movies.csv'\n",
        "ratings_path = './ml-latest-small/ratings.csv'"
      ],
      "metadata": {
        "id": "-UhwccPs1C0s",
        "colab": {
          "base_uri": "https://localhost:8080/"
        },
        "outputId": "4e93679b-90fd-4470-a58f-9f5ac659ae7d"
      },
      "execution_count": null,
      "outputs": [
        {
          "output_type": "stream",
          "name": "stderr",
          "text": [
            "Using existing file ml-latest-small.zip\n",
            "Extracting ./ml-latest-small.zip\n"
          ]
        }
      ]
    },
    {
      "cell_type": "code",
      "source": [
        "# Load the entire movie data frame into memory:\n",
        "movies_df = pd.read_csv(movies_path, index_col='movieId')\n",
        "\n",
        "# Split genres and convert into indicator variables:\n",
        "genres = movies_df['genres'].str.get_dummies('|')\n",
        "print(genres[[\"Action\", \"Adventure\", \"Drama\", \"Horror\"]].head())\n",
        "# Use genres as movie input features:\n",
        "movie_feat = torch.from_numpy(genres.values).to(torch.float)\n",
        "assert movie_feat.size() == (9742, 20)  # 20 genres in total."
      ],
      "metadata": {
        "id": "952hNLe_1CyU",
        "colab": {
          "base_uri": "https://localhost:8080/"
        },
        "outputId": "b15af948-09d4-4c57-d2fa-f7a692b14d2f"
      },
      "execution_count": null,
      "outputs": [
        {
          "output_type": "stream",
          "name": "stdout",
          "text": [
            "         Action  Adventure  Drama  Horror\n",
            "movieId                                  \n",
            "1             0          1      0       0\n",
            "2             0          1      0       0\n",
            "3             0          0      0       0\n",
            "4             0          0      1       0\n",
            "5             0          0      0       0\n"
          ]
        }
      ]
    },
    {
      "cell_type": "code",
      "source": [
        "len(movies_df)"
      ],
      "metadata": {
        "colab": {
          "base_uri": "https://localhost:8080/"
        },
        "id": "PwczHgPg7brP",
        "outputId": "5e6b1178-c0c8-42eb-ed2a-744523d7e43f"
      },
      "execution_count": null,
      "outputs": [
        {
          "output_type": "execute_result",
          "data": {
            "text/plain": [
              "9742"
            ]
          },
          "metadata": {},
          "execution_count": 12
        }
      ]
    },
    {
      "cell_type": "code",
      "source": [
        "movie_feat.shape"
      ],
      "metadata": {
        "colab": {
          "base_uri": "https://localhost:8080/"
        },
        "id": "tz4sY_uG62ZB",
        "outputId": "3c1712be-6737-4cc9-cc00-80a3d3865e75"
      },
      "execution_count": null,
      "outputs": [
        {
          "output_type": "execute_result",
          "data": {
            "text/plain": [
              "torch.Size([9742, 20])"
            ]
          },
          "metadata": {},
          "execution_count": 13
        }
      ]
    },
    {
      "cell_type": "code",
      "source": [
        "# movies_df = pd.read_csv('/content/gdrive/MyDrive/MLG_Final_Project/MovieLens100k/Data/movies_df.csv')\n",
        "# ratings_df = pd.read_csv('/content/gdrive/MyDrive/MLG_Final_Project/MovieLens100k/Data/rating_df.csv')\n",
        "# users_df = pd.read_csv('/content/gdrive/MyDrive/MLG_Final_Project/MovieLens100k/Data/users_df.csv')\n",
        "# movies_df.shape, ratings_df.shape, users_df.shape\n"
      ],
      "metadata": {
        "id": "ZXRuQRYs7cgQ"
      },
      "execution_count": null,
      "outputs": []
    },
    {
      "cell_type": "code",
      "source": [
        "# def generate_graph_edges(movies_df, ratings_df, users_df, rate_threshold=4):\n",
        "#   unique_user_id = ratings_df['UserID'].unique()\n",
        "#   unique_user_id = pd.DataFrame(data={\n",
        "#       'UserID': unique_user_id,\n",
        "#       'mappedID': pd.RangeIndex(len(unique_user_id))\n",
        "#       })\n",
        "#   userid_mapper = dict(zip(unique_user_id.iloc[:,0], unique_user_id.iloc[:,-1]))\n",
        "  \n",
        "#   print(\"1. Mapping UserID to consecutive values... \")\n",
        "\n",
        "#   unique_movie_id = ratings_df['MovieID'].unique()\n",
        "#   unique_movie_id = pd.DataFrame(data={\n",
        "#       'MovieID': unique_movie_id,\n",
        "#       'mappedID': pd.RangeIndex(len(unique_movie_id))\n",
        "#       })\n",
        "#   movieid_mapper = dict(zip(unique_movie_id.iloc[:,0], unique_movie_id.iloc[:,-1]))\n",
        "#   print(\"2. Mapping MovieID to consecutive values... \")\n",
        "\n",
        "#   users_df['UserID'] = users_df['UserID'].map(userid_mapper)\n",
        "#   movies_df['MovieID'] =  movies_df['MovieID'].map(movieid_mapper)\n",
        "#   ratings_df['UserID'] = ratings_df['UserID'].map(userid_mapper)\n",
        "#   ratings_df['MovieID'] =  ratings_df['MovieID'].map(movieid_mapper)\n",
        "  \n",
        "#   ratings_user_id = pd.merge(ratings_df[ratings_df['Rating']>=rate_threshold]['UserID'], unique_user_id,\n",
        "#                              left_on='UserID', right_on='UserID', how='left')\n",
        "#   ratings_user_id = torch.from_numpy(ratings_user_id['mappedID'].values)\n",
        "#   ratings_movie_id = pd.merge(ratings_df[ratings_df['Rating']>=rate_threshold]['MovieID'], unique_movie_id,\n",
        "#                               left_on='MovieID', right_on='MovieID', how='left')\n",
        "#   ratings_movie_id = torch.from_numpy(ratings_movie_id['mappedID'].values)\n",
        "#   edge_user_to_movie = torch.stack([ratings_user_id, ratings_movie_id], dim=0)\n",
        "#   print()\n",
        "#   print(\"3. Extract Graph Edges... \")\n",
        "#   print(\"=================================================\")\n",
        "  \n",
        "#   return movies_df.reset_index(drop=True), ratings_df.reset_index(drop=True), users_df.reset_index(drop=True), edge_user_to_movie"
      ],
      "metadata": {
        "id": "zyq7JVc9RkK7"
      },
      "execution_count": null,
      "outputs": []
    },
    {
      "cell_type": "code",
      "source": [
        "# # Load the entire ratings data frame into memory:\n",
        "# # ratings_df = pd.read_csv(ratings_path)\n",
        "\n",
        "# # Create a mapping from unique user indices to range [0, num_user_nodes):\n",
        "# unique_user_id = ratings_df['UserID'].unique()\n",
        "# unique_user_id = pd.DataFrame(data={\n",
        "#     'UserID': unique_user_id,\n",
        "#     'mappedID': pd.RangeIndex(len(unique_user_id)),\n",
        "# })\n",
        "# print(\"Mapping of user IDs to consecutive values:\")\n",
        "# print(\"==========================================\")\n",
        "# print(unique_user_id.head())\n",
        "# print()\n",
        "# # Create a mapping from unique movie indices to range [0, num_movie_nodes):\n",
        "# unique_movie_id = ratings_df['MovieID'].unique()\n",
        "# unique_movie_id = pd.DataFrame(data={\n",
        "#     'MovieID': unique_movie_id,\n",
        "#     'mappedID': pd.RangeIndex(len(unique_movie_id)),\n",
        "# })\n",
        "# print(\"Mapping of movie IDs to consecutive values:\")\n",
        "# print(\"===========================================\")\n",
        "# print(unique_movie_id.head())\n",
        "# # Perform merge to obtain the edges from users and movies:\n",
        "# ratings_user_id = pd.merge(ratings_df[ratings_df['Rating']>=4]['UserID'], unique_user_id,\n",
        "#                             left_on='UserID', right_on='UserID', how='left')\n",
        "# ratings_user_id = torch.from_numpy(ratings_user_id['mappedID'].values)\n",
        "# ratings_movie_id = pd.merge(ratings_df[ratings_df['Rating']>=4]['MovieID'], unique_movie_id,\n",
        "#                             left_on='MovieID', right_on='MovieID', how='left')\n",
        "# ratings_movie_id = torch.from_numpy(ratings_movie_id['mappedID'].values)\n",
        "# # With this, we are ready to construct our `edge_index` in COO format\n",
        "# # following PyG semantics:\n",
        "# edge_index_user_to_movie = torch.stack([ratings_user_id, ratings_movie_id], dim=0)\n",
        "# # assert edge_index_user_to_movie.size() == (2, 100836)\n",
        "# print()\n",
        "# print(\"Final edge indices pointing from users to movies:\")\n",
        "# print(\"=================================================\")\n",
        "# print(edge_index_user_to_movie)"
      ],
      "metadata": {
        "id": "wfFebKEw7r6v"
      },
      "execution_count": null,
      "outputs": []
    },
    {
      "cell_type": "code",
      "source": [
        "# Load the entire ratings data frame into memory:\n",
        "ratings_df = pd.read_csv(ratings_path)\n",
        "\n",
        "# Create a mapping from unique user indices to range [0, num_user_nodes):\n",
        "unique_user_id = ratings_df['userId'].unique()\n",
        "unique_user_id = pd.DataFrame(data={\n",
        "    'userId': unique_user_id,\n",
        "    'mappedID': pd.RangeIndex(len(unique_user_id)),\n",
        "})\n",
        "print(\"Mapping of user IDs to consecutive values:\")\n",
        "print(\"==========================================\")\n",
        "print(unique_user_id.head())\n",
        "print()\n",
        "# Create a mapping from unique movie indices to range [0, num_movie_nodes):\n",
        "unique_movie_id = ratings_df['movieId'].unique()\n",
        "unique_movie_id = pd.DataFrame(data={\n",
        "    'movieId': unique_movie_id,\n",
        "    'mappedID': pd.RangeIndex(len(unique_movie_id)),\n",
        "})\n",
        "print(\"Mapping of movie IDs to consecutive values:\")\n",
        "print(\"===========================================\")\n",
        "print(unique_movie_id.head())\n",
        "# Perform merge to obtain the edges from users and movies:\n",
        "ratings_user_id = pd.merge(ratings_df[ratings_df['rating']>=4]['userId'], unique_user_id,\n",
        "                            left_on='userId', right_on='userId', how='left')\n",
        "ratings_user_id = torch.from_numpy(ratings_user_id['mappedID'].values)\n",
        "ratings_movie_id = pd.merge(ratings_df[ratings_df['rating']>=4]['movieId'], unique_movie_id,\n",
        "                            left_on='movieId', right_on='movieId', how='left')\n",
        "ratings_movie_id = torch.from_numpy(ratings_movie_id['mappedID'].values)\n",
        "# With this, we are ready to construct our `edge_index` in COO format\n",
        "# following PyG semantics:\n",
        "edge_index_user_to_movie = torch.stack([ratings_user_id, ratings_movie_id], dim=0)\n",
        "# assert edge_index_user_to_movie.size() == (2, 100836)\n",
        "print()\n",
        "print(\"Final edge indices pointing from users to movies:\")\n",
        "print(\"=================================================\")\n",
        "print(edge_index_user_to_movie)"
      ],
      "metadata": {
        "colab": {
          "base_uri": "https://localhost:8080/"
        },
        "id": "q7gUbBdm1CwE",
        "outputId": "457a4db3-621f-4057-f8c8-799e5f51a285"
      },
      "execution_count": null,
      "outputs": [
        {
          "output_type": "stream",
          "name": "stdout",
          "text": [
            "Mapping of user IDs to consecutive values:\n",
            "==========================================\n",
            "   userId  mappedID\n",
            "0       1         0\n",
            "1       2         1\n",
            "2       3         2\n",
            "3       4         3\n",
            "4       5         4\n",
            "\n",
            "Mapping of movie IDs to consecutive values:\n",
            "===========================================\n",
            "   movieId  mappedID\n",
            "0        1         0\n",
            "1        3         1\n",
            "2        6         2\n",
            "3       47         3\n",
            "4       50         4\n",
            "\n",
            "Final edge indices pointing from users to movies:\n",
            "=================================================\n",
            "tensor([[   0,    0,    0,  ...,  609,  609,  609],\n",
            "        [   0,    1,    2,  ..., 2035, 3121, 1392]])\n"
          ]
        }
      ]
    },
    {
      "cell_type": "code",
      "source": [
        "# Load the entire ratings data frame into memory:\n",
        "ratings_df = pd.read_csv(ratings_path)\n",
        "\n",
        "# Create a mapping from unique user indices to range [0, num_user_nodes):\n",
        "unique_user_id = ratings_df['userId'].unique()\n",
        "unique_user_id = pd.DataFrame(data={\n",
        "    'userId': unique_user_id,\n",
        "    'mappedID': pd.RangeIndex(len(unique_user_id)),\n",
        "})\n",
        "print(\"Mapping of user IDs to consecutive values:\")\n",
        "print(\"==========================================\")\n",
        "print(unique_user_id.head())\n",
        "print()\n",
        "# Create a mapping from unique movie indices to range [0, num_movie_nodes):\n",
        "unique_movie_id = ratings_df['movieId'].unique()\n",
        "unique_movie_id = pd.DataFrame(data={\n",
        "    'movieId': unique_movie_id,\n",
        "    'mappedID': pd.RangeIndex(len(unique_movie_id)),\n",
        "})\n",
        "print(\"Mapping of movie IDs to consecutive values:\")\n",
        "print(\"===========================================\")\n",
        "print(unique_movie_id.head())\n",
        "# Perform merge to obtain the edges from users and movies:\n",
        "ratings_user_id = pd.merge(ratings_df['userId'], unique_user_id,\n",
        "                            left_on='userId', right_on='userId', how='left')\n",
        "ratings_user_id = torch.from_numpy(ratings_user_id['mappedID'].values)\n",
        "ratings_movie_id = pd.merge(ratings_df['movieId'], unique_movie_id,\n",
        "                            left_on='movieId', right_on='movieId', how='left')\n",
        "ratings_movie_id = torch.from_numpy(ratings_movie_id['mappedID'].values)\n",
        "# With this, we are ready to construct our `edge_index` in COO format\n",
        "# following PyG semantics:\n",
        "edge_index_user_to_movie = torch.stack([ratings_user_id, ratings_movie_id], dim=0)\n",
        "weights = ratings_df['rating'].to_numpy()\n",
        "# assert edge_index_user_to_movie.size() == (2, 100836)\n",
        "print()\n",
        "print(\"Final edge indices pointing from users to movies:\")\n",
        "print(\"=================================================\")\n",
        "print(edge_index_user_to_movie)"
      ],
      "metadata": {
        "colab": {
          "base_uri": "https://localhost:8080/"
        },
        "id": "gkL_Cqn2wVXK",
        "outputId": "30d6801b-77cb-4b6d-9dc6-688ef39c9f1f"
      },
      "execution_count": null,
      "outputs": [
        {
          "output_type": "stream",
          "name": "stdout",
          "text": [
            "Mapping of user IDs to consecutive values:\n",
            "==========================================\n",
            "   userId  mappedID\n",
            "0       1         0\n",
            "1       2         1\n",
            "2       3         2\n",
            "3       4         3\n",
            "4       5         4\n",
            "\n",
            "Mapping of movie IDs to consecutive values:\n",
            "===========================================\n",
            "   movieId  mappedID\n",
            "0        1         0\n",
            "1        3         1\n",
            "2        6         2\n",
            "3       47         3\n",
            "4       50         4\n",
            "\n",
            "Final edge indices pointing from users to movies:\n",
            "=================================================\n",
            "tensor([[   0,    0,    0,  ...,  609,  609,  609],\n",
            "        [   0,    1,    2,  ..., 3121, 1392, 2873]])\n"
          ]
        }
      ]
    },
    {
      "cell_type": "code",
      "source": [
        "from torch_geometric.data import HeteroData\n",
        "import torch_geometric.transforms as T"
      ],
      "metadata": {
        "id": "lq3cHRDp1CtF"
      },
      "execution_count": null,
      "outputs": []
    },
    {
      "cell_type": "code",
      "source": [
        "len(movies_df)"
      ],
      "metadata": {
        "colab": {
          "base_uri": "https://localhost:8080/"
        },
        "id": "7jJB9m459inr",
        "outputId": "b8571379-fa18-42a6-ae30-37a0fea8faa0"
      },
      "execution_count": null,
      "outputs": [
        {
          "output_type": "execute_result",
          "data": {
            "text/plain": [
              "9742"
            ]
          },
          "metadata": {},
          "execution_count": 36
        }
      ]
    },
    {
      "cell_type": "code",
      "source": [
        "len(edge_index_user_to_movie[0])"
      ],
      "metadata": {
        "colab": {
          "base_uri": "https://localhost:8080/"
        },
        "id": "WBdmS_4kzJwX",
        "outputId": "91a614cb-8061-44b6-a3cc-d6b083269ad6"
      },
      "execution_count": null,
      "outputs": [
        {
          "output_type": "execute_result",
          "data": {
            "text/plain": [
              "100836"
            ]
          },
          "metadata": {},
          "execution_count": 37
        }
      ]
    },
    {
      "cell_type": "code",
      "source": [
        "# data = HeteroData()\n",
        "# # Save node indices:\n",
        "# data[\"user\"].node_id = torch.arange(len(unique_user_id))\n",
        "# data[\"movie\"].node_id = torch.arange(len(movies_df)-1)\n",
        "# # Add the node features and edge indices:\n",
        "# data[\"movie\"].x = movie_features\n",
        "# data[\"user\"].x = user_features\n",
        "# data[\"user\", \"rates\", \"movie\"].edge_index = edge_index_user_to_movie\n",
        "# # We also need to make sure to add the reverse edges from movies to users\n",
        "# # in order to let a GNN be able to pass messages in both directions.\n",
        "# # We can leverage the `T.ToUndirected()` transform for this from PyG:\n",
        "# data = T.ToUndirected()(data)\n",
        "# data"
      ],
      "metadata": {
        "id": "Vn2n8WFD1Sl_"
      },
      "execution_count": null,
      "outputs": []
    },
    {
      "cell_type": "code",
      "source": [
        "data = HeteroData()\n",
        "# Save node indices:\n",
        "data[\"user\"].node_id = torch.arange(len(unique_user_id))\n",
        "data[\"movie\"].node_id = torch.arange(len(movies_df))\n",
        "# Add the node features and edge indices:\n",
        "data[\"movie\"].x = movie_feat\n",
        "data[\"user\", \"rates\", \"movie\"].edge_index = edge_index_user_to_movie\n",
        "# data[\"user\", \"rates\", \"movie\"].edge_label = torch.from_numpy(weights).to(torch.long)\n",
        "# We also need to make sure to add the reverse edges from movies to users\n",
        "# in order to let a GNN be able to pass messages in both directions.\n",
        "# We can leverage the `T.ToUndirected()` transform for this from PyG:\n",
        "data = T.ToUndirected()(data)"
      ],
      "metadata": {
        "id": "6mnK4umlmaNa"
      },
      "execution_count": null,
      "outputs": []
    },
    {
      "cell_type": "code",
      "source": [
        "data[\"movie\"].x.dtype , data[\"user\", \"rates\", \"movie\"].edge_index.dtype, data[\"user\"].node_id.dtype, data[\"movie\"].node_id.dtype"
      ],
      "metadata": {
        "colab": {
          "base_uri": "https://localhost:8080/"
        },
        "id": "9ujQArGZ-728",
        "outputId": "cfc5d2a9-7caa-4801-ea58-f51f2dce4ecb"
      },
      "execution_count": null,
      "outputs": [
        {
          "output_type": "execute_result",
          "data": {
            "text/plain": [
              "(torch.float32, torch.int64, torch.int64, torch.int64)"
            ]
          },
          "metadata": {},
          "execution_count": 61
        }
      ]
    },
    {
      "cell_type": "code",
      "source": [
        "# data[\"user\", \"rates\", \"movie\"].edge_label.size(0)"
      ],
      "metadata": {
        "id": "6RivxMBG5BQt"
      },
      "execution_count": null,
      "outputs": []
    },
    {
      "cell_type": "code",
      "source": [
        "data"
      ],
      "metadata": {
        "colab": {
          "base_uri": "https://localhost:8080/"
        },
        "id": "uWek0g0A3PBY",
        "outputId": "84de3c33-b89c-4cb0-a77d-e51666b4c03c"
      },
      "execution_count": null,
      "outputs": [
        {
          "output_type": "execute_result",
          "data": {
            "text/plain": [
              "HeteroData(\n",
              "  \u001b[1muser\u001b[0m={ node_id=[610] },\n",
              "  \u001b[1mmovie\u001b[0m={\n",
              "    node_id=[9742],\n",
              "    x=[9742, 20]\n",
              "  },\n",
              "  \u001b[1m(user, rates, movie)\u001b[0m={ edge_index=[2, 100836] },\n",
              "  \u001b[1m(movie, rev_rates, user)\u001b[0m={ edge_index=[2, 100836] }\n",
              ")"
            ]
          },
          "metadata": {},
          "execution_count": 64
        }
      ]
    },
    {
      "cell_type": "code",
      "source": [
        "# For this, we first split the set of edges into\n",
        "# training (80%), validation (10%), and testing edges (10%).\n",
        "# Across the training edges, we use 70% of edges for message passing,\n",
        "# and 30% of edges for supervision.\n",
        "# We further want to generate fixed negative edges for evaluation with a ratio of 2:1.\n",
        "# Negative edges during training will be generated on-the-fly.\n",
        "# We can leverage the `RandomLinkSplit()` transform for this from PyG:\n",
        "transform = T.RandomLinkSplit(\n",
        "    num_val=0.1,\n",
        "    num_test=0.2,\n",
        "    disjoint_train_ratio=0.3,\n",
        "    neg_sampling_ratio=2.0,\n",
        "    add_negative_train_samples=False,\n",
        "    edge_types=(\"user\", \"rates\", \"movie\"),\n",
        "    rev_edge_types=(\"movie\", \"rev_rates\", \"user\"), \n",
        ")\n",
        "train_data, val_data, test_data = transform(data)"
      ],
      "metadata": {
        "id": "3TOyVgna1VA_"
      },
      "execution_count": null,
      "outputs": []
    },
    {
      "cell_type": "code",
      "source": [
        "train_data"
      ],
      "metadata": {
        "colab": {
          "base_uri": "https://localhost:8080/"
        },
        "id": "PtfJIFah4ykH",
        "outputId": "db2f0f62-3bc2-49d6-f123-3f4babb4e33a"
      },
      "execution_count": null,
      "outputs": [
        {
          "output_type": "execute_result",
          "data": {
            "text/plain": [
              "HeteroData(\n",
              "  \u001b[1muser\u001b[0m={ node_id=[610] },\n",
              "  \u001b[1mmovie\u001b[0m={\n",
              "    node_id=[9742],\n",
              "    x=[9742, 20]\n",
              "  },\n",
              "  \u001b[1m(user, rates, movie)\u001b[0m={\n",
              "    edge_index=[2, 49411],\n",
              "    edge_label=[21175],\n",
              "    edge_label_index=[2, 21175]\n",
              "  },\n",
              "  \u001b[1m(movie, rev_rates, user)\u001b[0m={ edge_index=[2, 49411] }\n",
              ")"
            ]
          },
          "metadata": {},
          "execution_count": 66
        }
      ]
    },
    {
      "cell_type": "code",
      "source": [
        "np.isin(train_data[\"user\", \"rates\", \"movie\"].edge_label_index,train_data[\"user\", \"rates\", \"movie\"].edge_index)"
      ],
      "metadata": {
        "colab": {
          "base_uri": "https://localhost:8080/"
        },
        "id": "FiqYHQr95zM6",
        "outputId": "6fdf6b82-2ca5-4ef9-fbc8-df1acc108c86"
      },
      "execution_count": null,
      "outputs": [
        {
          "output_type": "execute_result",
          "data": {
            "text/plain": [
              "array([[ True,  True,  True, ...,  True,  True,  True],\n",
              "       [ True,  True,  True, ...,  True, False,  True]])"
            ]
          },
          "metadata": {},
          "execution_count": 72
        }
      ]
    },
    {
      "cell_type": "code",
      "source": [
        "from torch_geometric.loader import LinkNeighborLoader\n",
        "\n",
        "# Define seed edges:\n",
        "edge_label_index = train_data[\"user\", \"rates\", \"movie\"].edge_label_index\n",
        "edge_label = train_data[\"user\", \"rates\", \"movie\"].edge_label\n",
        "train_loader = LinkNeighborLoader(\n",
        "    data=train_data,\n",
        "    num_neighbors=[20, 10],\n",
        "    neg_sampling_ratio=2.0,\n",
        "    edge_label_index=((\"user\", \"rates\", \"movie\"), edge_label_index),\n",
        "    edge_label=edge_label,\n",
        "    batch_size=128,\n",
        "    shuffle=True,\n",
        ")\n",
        "train_loader"
      ],
      "metadata": {
        "id": "XVqOPYN41XGm"
      },
      "execution_count": null,
      "outputs": []
    },
    {
      "cell_type": "code",
      "source": [
        "validation_loader = LinkNeighborLoader(\n",
        "    data=val_data,\n",
        "    num_neighbors=[20, 10],\n",
        "    edge_label_index=((\"user\", \"rates\", \"movie\"), edge_label_index),\n",
        "    edge_label=edge_label,\n",
        "    batch_size=128,\n",
        "    shuffle=False,\n",
        ")"
      ],
      "metadata": {
        "id": "Ru2T1HenwQEh"
      },
      "execution_count": null,
      "outputs": []
    },
    {
      "cell_type": "code",
      "source": [
        "from torch_geometric.nn import SAGEConv, to_hetero\n",
        "import torch.nn.functional as F\n",
        "\n",
        "class GNN(torch.nn.Module):\n",
        "    def __init__(self, hidden_channels):\n",
        "        super().__init__()\n",
        "        self.conv1 = SAGEConv(hidden_channels, hidden_channels)\n",
        "        self.conv2 = SAGEConv(hidden_channels, hidden_channels)\n",
        "    \n",
        "    def forward(self, x, edge_index):\n",
        "        x = F.relu(self.conv1(x, edge_index))\n",
        "        x = self.conv2(x, edge_index)\n",
        "        return x\n",
        "# Our final classifier applies the dot-product between source and destination\n",
        "# node embeddings to derive edge-level predictions:\n",
        "\n",
        "class Classifier(torch.nn.Module):\n",
        "    def forward(self, x_user, x_movie, edge_label_index):\n",
        "        # Convert node embeddings to edge-level representations:\n",
        "        edge_feat_user = x_user[edge_label_index[0]]\n",
        "        edge_feat_movie = x_movie[edge_label_index[1]]\n",
        "        # Apply dot-product to get a prediction per supervision edge:\n",
        "        return (edge_feat_user * edge_feat_movie).sum(dim=-1)\n",
        "\n",
        "class Model(torch.nn.Module):\n",
        "    def __init__(self, hidden_channels):\n",
        "        super().__init__()\n",
        "        # Since the dataset does not come with rich features, we also learn two\n",
        "        # embedding matrices for users and movies:\n",
        "        self.movie_lin = torch.nn.Linear(20, hidden_channels)\n",
        "        # self.user_lin = torch.nn.Linear(20, hidden_channels)\n",
        "        self.user_emb = torch.nn.Embedding(data[\"user\"].num_nodes, hidden_channels)\n",
        "        self.movie_emb = torch.nn.Embedding(data[\"movie\"].num_nodes, hidden_channels)\n",
        "        # Instantiate homogeneous GNN:\n",
        "        self.gnn = GNN(hidden_channels)\n",
        "        # Convert GNN model into a heterogeneous variant:\n",
        "        self.gnn = to_hetero(self.gnn, metadata=data.metadata())\n",
        "        self.classifier = Classifier()\n",
        "    \n",
        "    def forward(self, data):\n",
        "        # print(data[\"movie\"].node_id)\n",
        "        x_dict = {\n",
        "          \"user\": self.user_emb(data[\"user\"].node_id),\n",
        "          \"movie\": self.movie_lin(data[\"movie\"].x) + self.movie_emb(data[\"movie\"].node_id),\n",
        "        } \n",
        "        # `x_dict` holds feature matrices of all node types\n",
        "        # `edge_index_dict` holds all edge indices of all edge types\n",
        "        x_dict = self.gnn(x_dict, data.edge_index_dict)\n",
        "        pred = self.classifier(\n",
        "            x_dict[\"user\"],\n",
        "            x_dict[\"movie\"],\n",
        "            data[\"user\", \"rates\", \"movie\"].edge_label_index,\n",
        "        )\n",
        "        return pred\n",
        "        \n",
        "model = Model(hidden_channels=8)\n",
        "model"
      ],
      "metadata": {
        "colab": {
          "base_uri": "https://localhost:8080/"
        },
        "id": "dsQg98Cw1ZVi",
        "outputId": "97dd9af3-6a9a-4aab-e4d1-d58dc4cb14f2"
      },
      "execution_count": null,
      "outputs": [
        {
          "output_type": "execute_result",
          "data": {
            "text/plain": [
              "Model(\n",
              "  (movie_lin): Linear(in_features=20, out_features=8, bias=True)\n",
              "  (user_emb): Embedding(610, 8)\n",
              "  (movie_emb): Embedding(9742, 8)\n",
              "  (gnn): GraphModule(\n",
              "    (conv1): ModuleDict(\n",
              "      (user__rates__movie): SAGEConv(8, 8, aggr=mean)\n",
              "      (movie__rev_rates__user): SAGEConv(8, 8, aggr=mean)\n",
              "    )\n",
              "    (conv2): ModuleDict(\n",
              "      (user__rates__movie): SAGEConv(8, 8, aggr=mean)\n",
              "      (movie__rev_rates__user): SAGEConv(8, 8, aggr=mean)\n",
              "    )\n",
              "  )\n",
              "  (classifier): Classifier()\n",
              ")"
            ]
          },
          "metadata": {},
          "execution_count": 168
        }
      ]
    },
    {
      "cell_type": "code",
      "source": [
        "class Learning_Evaluation(torch.nn.Module):\n",
        "    def __init__(\n",
        "        self,\n",
        "        model,\n",
        "        learning_rate=0.001,\n",
        "        best_results=[0, 0, 0],\n",
        "        ):\n",
        "      \n",
        "      super().__init__()\n",
        "      self.model = model\n",
        "      self.optimizer = torch.optim.Adam(self.model.parameters(), lr=learning_rate)\n",
        "      self.criterion = torch.nn.BCEWithLogitsLoss()\n",
        "      self.best_results = best_results\n",
        "    \n",
        "    def train(self, data_loader):\n",
        "        self.model.train()\n",
        "\n",
        "        for data in data_loader:\n",
        "            out = self.model(data)\n",
        "            label = data[\"user\", \"rates\", \"movie\"].edge_label\n",
        "            loss = self.criterion(out, label)\n",
        "            # loss = F.binary_cross_entropy_with_logits(out, label)\n",
        "            loss.backward()\n",
        "            self.optimizer.step()\n",
        "            self.optimizer.zero_grad()\n",
        "\n",
        "    def evaluate(self, data_loader):\n",
        "        self.model.eval()\n",
        "        \n",
        "        predicted = []\n",
        "        labels = []\n",
        "        total_loss = total_sample = 0\n",
        "        \n",
        "        for data in data_loader:\n",
        "          with torch.no_grad():\n",
        "            data.to(device)\n",
        "            out = model(data)\n",
        "            label = data[\"user\", \"rates\", \"movie\"].edge_label\n",
        "            total_loss += self.criterion(out, label) * len(out)\n",
        "            # total_loss += F.binary_cross_entropy_with_logits(out, label)\n",
        "            total_sample += len(out)\n",
        "            predicted.append(out)\n",
        "            labels.append(label)\n",
        "            \n",
        "        predicted = torch.cat(predicted, dim=0).cpu().numpy()\n",
        "        labels = torch.cat(labels, dim=0).cpu().numpy()\n",
        "        # auc = roc_auc_score(labels, predicted)\n",
        "\n",
        "        return total_loss/ total_sample\n",
        "\n",
        "    def train_model(self, train_data_loader, validation_data_loader, n_epochs=15, best_model_saving_path='best_model.pth'):\n",
        "      \n",
        "      list_train_auc, list_train_loss, list_validation_auc, list_validation_loss = [], [], [], []\n",
        "      print('Train and Evaluation started...')\n",
        "      for epoch in range(1, n_epochs+1):\n",
        "          self.train(train_data_loader)\n",
        "          \n",
        "          # train_auc, train_loss = self.evaluate(train_data_loader)\n",
        "          train_loss = self.evaluate(train_data_loader)\n",
        "          # list_train_auc.append(train_auc)\n",
        "          list_train_loss.append(float(train_loss.detach()))\n",
        "          \n",
        "          # validation_auc, validation_loss = self.evaluate(validation_data_loader)\n",
        "          validation_loss = self.evaluate(validation_data_loader)\n",
        "          if self.best_results[1] < validation_loss :\n",
        "            self.best_results[0], self.best_results[1], self.best_results[-1] = epoch, train_loss ,validation_loss\n",
        "            torch.save(model, best_model_saving_path)\n",
        "\n",
        "          # list_validation_auc.append(validation_auc)\n",
        "          list_validation_loss.append(float(validation_loss.detach()))\n",
        "\n",
        "          # print(f'Epoch: {epoch:03d}, Train ROC-AUC: {train_auc:.4f}, Train Loss: {train_loss:.4f}, Validation ROC-AUC: {validation_auc:.4f}, Validation Loss: {validation_loss:.4f}')\n",
        "          print(f'Epoch: {epoch:03d}, Train Loss: {train_loss:.4f}, Validation Loss: {validation_loss:.4f}')\n",
        "      \n",
        "      print('---------------------------------------------------')\n",
        "      print('Train and Evaluation finished...')\n",
        "      print(f'Best Results of the model : Epoch: {self.best_results[0]:03d}, Train Loss: {self.best_results[1]:.4f}, Validation Loss: {self.best_results[-1]:.4f}')\n",
        "      print(f'Model weights restored from epoch: {self.best_results[0]:03d}')\n",
        "      return list_train_auc, list_train_loss, list_validation_auc, list_validation_loss\n",
        "\n",
        "    def evaluate_test(self, data_loder, best_model_path='best_model.pth'):\n",
        "      model = torch.load('best_model.pth')\n",
        "      predicted = []\n",
        "      labels = []\n",
        "      for data in tqdm.tqdm(data_loder):\n",
        "          with torch.no_grad():\n",
        "              data.to(device)\n",
        "              predicted.append(model(data))\n",
        "              labels.append(data[\"user\", \"rates\", \"movie\"].edge_label)\n",
        "\n",
        "      predicted = torch.cat(predicted, dim=0).cpu().numpy()\n",
        "      labels = torch.cat(labels, dim=0).cpu().numpy()\n",
        "      auc = roc_auc_score(labels, predicted)\n",
        "      print()\n",
        "      print(f\"Test AUC: {auc:.4f}\")\n",
        "      return auc\n",
        "\n",
        "      \n",
        "      "
      ],
      "metadata": {
        "id": "2zjX5KywGU0m"
      },
      "execution_count": null,
      "outputs": []
    },
    {
      "cell_type": "code",
      "source": [
        "experiment = Learning_Evaluation(model)\n",
        "list_train_acc, list_train_loss, list_test_acc, list_test_loss = experiment.train_model(train_loader, validation_loader, n_epochs=15)"
      ],
      "metadata": {
        "colab": {
          "base_uri": "https://localhost:8080/"
        },
        "id": "uu0ZNX83GUsc",
        "outputId": "15b9a83e-8db8-4335-92e2-e93f0a5fc226"
      },
      "execution_count": null,
      "outputs": [
        {
          "output_type": "stream",
          "name": "stdout",
          "text": [
            "Train and Evaluation started...\n",
            "Epoch: 001, Train Loss: 0.2765, Validation Loss: 0.3512\n",
            "Epoch: 002, Train Loss: 0.2720, Validation Loss: 0.3526\n",
            "Epoch: 003, Train Loss: 0.2690, Validation Loss: 0.3393\n",
            "Epoch: 004, Train Loss: 0.2679, Validation Loss: 0.3524\n",
            "Epoch: 005, Train Loss: 0.2661, Validation Loss: 0.3227\n",
            "Epoch: 006, Train Loss: 0.2656, Validation Loss: 0.3493\n",
            "Epoch: 007, Train Loss: 0.2615, Validation Loss: 0.3760\n",
            "Epoch: 008, Train Loss: 0.2626, Validation Loss: 0.3319\n",
            "Epoch: 009, Train Loss: 0.2574, Validation Loss: 0.3458\n",
            "Epoch: 010, Train Loss: 0.2565, Validation Loss: 0.3506\n",
            "Epoch: 011, Train Loss: 0.2604, Validation Loss: 0.3573\n",
            "Epoch: 012, Train Loss: 0.2552, Validation Loss: 0.3288\n",
            "Epoch: 013, Train Loss: 0.2516, Validation Loss: 0.3584\n",
            "Epoch: 014, Train Loss: 0.2521, Validation Loss: 0.3503\n",
            "Epoch: 015, Train Loss: 0.2508, Validation Loss: 0.3458\n",
            "---------------------------------------------------\n",
            "Train and Evaluation finished...\n",
            "Best Results of the model : Epoch: 015, Train Loss: 0.2508, Validation Loss: 0.3458\n",
            "Model weights restored from epoch: 015\n"
          ]
        }
      ]
    },
    {
      "cell_type": "code",
      "source": [
        "test_loader = LinkNeighborLoader(\n",
        "    data=test_data,\n",
        "    num_neighbors=[20, 10],\n",
        "    edge_label_index=((\"user\", \"rates\", \"movie\"), edge_label_index),\n",
        "    edge_label=edge_label,\n",
        "    batch_size=128,\n",
        "    shuffle=False,\n",
        ")\n",
        "\n",
        "model = torch.load('best_model.pth')\n",
        "predicted = []\n",
        "labels = []\n",
        "for sampled_data in tqdm.tqdm(test_loader):\n",
        "    with torch.no_grad():\n",
        "        sampled_data.to(device)\n",
        "        predicted.append(model(sampled_data))\n",
        "        labels.append(sampled_data[\"user\", \"rates\", \"movie\"].edge_label)\n",
        "\n",
        "predicted = torch.cat(predicted, dim=0).cpu().numpy()\n",
        "labels = torch.cat(labels, dim=0).cpu().numpy()\n",
        "auc = roc_auc_score(labels, predicted)\n",
        "predicted, labels\n",
        "print()\n",
        "print(f\"Test AUC: {auc:.4f}\")\n",
        "\n",
        "\n",
        "experiment.evaluate_test(test_loader)"
      ],
      "metadata": {
        "colab": {
          "base_uri": "https://localhost:8080/"
        },
        "id": "NByItU5g3uMh",
        "outputId": "ce0c0976-f354-4499-cc01-da20f82ed541"
      },
      "execution_count": null,
      "outputs": [
        {
          "output_type": "stream",
          "name": "stderr",
          "text": [
            "100%|██████████| 114/114 [00:01<00:00, 100.55it/s]\n"
          ]
        },
        {
          "output_type": "stream",
          "name": "stdout",
          "text": [
            "\n",
            "Test AUC: 0.9203\n"
          ]
        },
        {
          "output_type": "stream",
          "name": "stderr",
          "text": [
            "100%|██████████| 114/114 [00:00<00:00, 139.48it/s]"
          ]
        },
        {
          "output_type": "stream",
          "name": "stdout",
          "text": [
            "\n",
            "Test AUC: 0.9199\n"
          ]
        },
        {
          "output_type": "stream",
          "name": "stderr",
          "text": [
            "\n"
          ]
        },
        {
          "output_type": "execute_result",
          "data": {
            "text/plain": [
              "0.9199309271749129"
            ]
          },
          "metadata": {},
          "execution_count": 185
        }
      ]
    },
    {
      "cell_type": "code",
      "source": [
        "import tqdm\n",
        "import torch.nn.functional as F\n",
        "device = torch.device('cuda' if torch.cuda.is_available() else 'cpu')\n",
        "print(f\"Device: '{device}'\")\n",
        "model = model.to(device)\n",
        "optimizer = torch.optim.Adam(model.parameters(), lr=0.001)\n",
        "\n",
        "\n",
        "for epoch in range(1, 15):\n",
        "    # total_loss = total_examples = 0\n",
        "    for sampled_data in tqdm.tqdm(train_loader):\n",
        "        optimizer.zero_grad()\n",
        "        sampled_data.to(device)\n",
        "        pred = model(sampled_data)\n",
        "        ground_truth = sampled_data[\"user\", \"rates\", \"movie\"].edge_label\n",
        "        loss = F.binary_cross_entropy_with_logits(pred, ground_truth)\n",
        "        loss.backward()\n",
        "        optimizer.step()\n",
        "        total_loss += float(loss) * pred.numel()\n",
        "        total_examples += pred.numel()\n",
        "    print(f\"Epoch: {epoch:03d}, Loss: {total_loss / total_examples:.4f}\")"
      ],
      "metadata": {
        "colab": {
          "base_uri": "https://localhost:8080/",
          "height": 485
        },
        "id": "m6nz0cg-1cl4",
        "outputId": "a9c8360e-2e97-4d61-cb28-fede79b9b1e4"
      },
      "execution_count": null,
      "outputs": [
        {
          "output_type": "stream",
          "name": "stdout",
          "text": [
            "Device: 'cpu'\n"
          ]
        },
        {
          "output_type": "stream",
          "name": "stderr",
          "text": [
            "100%|██████████| 80/80 [00:01<00:00, 50.90it/s]\n"
          ]
        },
        {
          "output_type": "stream",
          "name": "stdout",
          "text": [
            "Epoch: 001, Loss: 0.3759\n"
          ]
        },
        {
          "output_type": "stream",
          "name": "stderr",
          "text": [
            "100%|██████████| 80/80 [00:02<00:00, 37.35it/s]\n"
          ]
        },
        {
          "output_type": "stream",
          "name": "stdout",
          "text": [
            "Epoch: 002, Loss: 0.3728\n"
          ]
        },
        {
          "output_type": "stream",
          "name": "stderr",
          "text": [
            " 45%|████▌     | 36/80 [00:00<00:01, 36.93it/s]\n"
          ]
        },
        {
          "output_type": "error",
          "ename": "KeyboardInterrupt",
          "evalue": "ignored",
          "traceback": [
            "\u001b[0;31m---------------------------------------------------------------------------\u001b[0m",
            "\u001b[0;31mKeyboardInterrupt\u001b[0m                         Traceback (most recent call last)",
            "\u001b[0;32m<ipython-input-165-b2896deae6c3>\u001b[0m in \u001b[0;36m<module>\u001b[0;34m\u001b[0m\n\u001b[1;32m     15\u001b[0m         \u001b[0mground_truth\u001b[0m \u001b[0;34m=\u001b[0m \u001b[0msampled_data\u001b[0m\u001b[0;34m[\u001b[0m\u001b[0;34m\"user\"\u001b[0m\u001b[0;34m,\u001b[0m \u001b[0;34m\"rates\"\u001b[0m\u001b[0;34m,\u001b[0m \u001b[0;34m\"movie\"\u001b[0m\u001b[0;34m]\u001b[0m\u001b[0;34m.\u001b[0m\u001b[0medge_label\u001b[0m\u001b[0;34m\u001b[0m\u001b[0;34m\u001b[0m\u001b[0m\n\u001b[1;32m     16\u001b[0m         \u001b[0mloss\u001b[0m \u001b[0;34m=\u001b[0m \u001b[0mF\u001b[0m\u001b[0;34m.\u001b[0m\u001b[0mbinary_cross_entropy_with_logits\u001b[0m\u001b[0;34m(\u001b[0m\u001b[0mpred\u001b[0m\u001b[0;34m,\u001b[0m \u001b[0mground_truth\u001b[0m\u001b[0;34m)\u001b[0m\u001b[0;34m\u001b[0m\u001b[0;34m\u001b[0m\u001b[0m\n\u001b[0;32m---> 17\u001b[0;31m         \u001b[0mloss\u001b[0m\u001b[0;34m.\u001b[0m\u001b[0mbackward\u001b[0m\u001b[0;34m(\u001b[0m\u001b[0;34m)\u001b[0m\u001b[0;34m\u001b[0m\u001b[0;34m\u001b[0m\u001b[0m\n\u001b[0m\u001b[1;32m     18\u001b[0m         \u001b[0moptimizer\u001b[0m\u001b[0;34m.\u001b[0m\u001b[0mstep\u001b[0m\u001b[0;34m(\u001b[0m\u001b[0;34m)\u001b[0m\u001b[0;34m\u001b[0m\u001b[0;34m\u001b[0m\u001b[0m\n\u001b[1;32m     19\u001b[0m         \u001b[0mtotal_loss\u001b[0m \u001b[0;34m+=\u001b[0m \u001b[0mfloat\u001b[0m\u001b[0;34m(\u001b[0m\u001b[0mloss\u001b[0m\u001b[0;34m)\u001b[0m \u001b[0;34m*\u001b[0m \u001b[0mpred\u001b[0m\u001b[0;34m.\u001b[0m\u001b[0mnumel\u001b[0m\u001b[0;34m(\u001b[0m\u001b[0;34m)\u001b[0m\u001b[0;34m\u001b[0m\u001b[0;34m\u001b[0m\u001b[0m\n",
            "\u001b[0;32m/usr/local/lib/python3.8/dist-packages/torch/_tensor.py\u001b[0m in \u001b[0;36mbackward\u001b[0;34m(self, gradient, retain_graph, create_graph, inputs)\u001b[0m\n\u001b[1;32m    486\u001b[0m                 \u001b[0minputs\u001b[0m\u001b[0;34m=\u001b[0m\u001b[0minputs\u001b[0m\u001b[0;34m,\u001b[0m\u001b[0;34m\u001b[0m\u001b[0;34m\u001b[0m\u001b[0m\n\u001b[1;32m    487\u001b[0m             )\n\u001b[0;32m--> 488\u001b[0;31m         torch.autograd.backward(\n\u001b[0m\u001b[1;32m    489\u001b[0m             \u001b[0mself\u001b[0m\u001b[0;34m,\u001b[0m \u001b[0mgradient\u001b[0m\u001b[0;34m,\u001b[0m \u001b[0mretain_graph\u001b[0m\u001b[0;34m,\u001b[0m \u001b[0mcreate_graph\u001b[0m\u001b[0;34m,\u001b[0m \u001b[0minputs\u001b[0m\u001b[0;34m=\u001b[0m\u001b[0minputs\u001b[0m\u001b[0;34m\u001b[0m\u001b[0;34m\u001b[0m\u001b[0m\n\u001b[1;32m    490\u001b[0m         )\n",
            "\u001b[0;32m/usr/local/lib/python3.8/dist-packages/torch/autograd/__init__.py\u001b[0m in \u001b[0;36mbackward\u001b[0;34m(tensors, grad_tensors, retain_graph, create_graph, grad_variables, inputs)\u001b[0m\n\u001b[1;32m    195\u001b[0m     \u001b[0;31m# some Python versions print out the first line of a multi-line function\u001b[0m\u001b[0;34m\u001b[0m\u001b[0;34m\u001b[0m\u001b[0;34m\u001b[0m\u001b[0m\n\u001b[1;32m    196\u001b[0m     \u001b[0;31m# calls in the traceback and some print out the last line\u001b[0m\u001b[0;34m\u001b[0m\u001b[0;34m\u001b[0m\u001b[0;34m\u001b[0m\u001b[0m\n\u001b[0;32m--> 197\u001b[0;31m     Variable._execution_engine.run_backward(  # Calls into the C++ engine to run the backward pass\n\u001b[0m\u001b[1;32m    198\u001b[0m         \u001b[0mtensors\u001b[0m\u001b[0;34m,\u001b[0m \u001b[0mgrad_tensors_\u001b[0m\u001b[0;34m,\u001b[0m \u001b[0mretain_graph\u001b[0m\u001b[0;34m,\u001b[0m \u001b[0mcreate_graph\u001b[0m\u001b[0;34m,\u001b[0m \u001b[0minputs\u001b[0m\u001b[0;34m,\u001b[0m\u001b[0;34m\u001b[0m\u001b[0;34m\u001b[0m\u001b[0m\n\u001b[1;32m    199\u001b[0m         allow_unreachable=True, accumulate_grad=True)  # Calls into the C++ engine to run the backward pass\n",
            "\u001b[0;31mKeyboardInterrupt\u001b[0m: "
          ]
        }
      ]
    },
    {
      "cell_type": "code",
      "source": [
        "edge_label_index = val_data[\"user\", \"rates\", \"movie\"].edge_label_index\n",
        "edge_label = val_data[\"user\", \"rates\", \"movie\"].edge_label\n",
        "\n",
        "val_loader = LinkNeighborLoader(\n",
        "    data=val_data,\n",
        "    num_neighbors=[20, 10],\n",
        "    edge_label_index=((\"user\", \"rates\", \"movie\"), edge_label_index),\n",
        "    edge_label=edge_label,\n",
        "    batch_size=128,\n",
        "    shuffle=False,\n",
        ")\n",
        "# sampled_data = next(iter(val_loader))"
      ],
      "metadata": {
        "id": "umoJscdx1pv2"
      },
      "execution_count": null,
      "outputs": []
    },
    {
      "cell_type": "code",
      "source": [
        "from sklearn.metrics import roc_auc_score, accuracy_score, f1_score\n",
        "predicted = []\n",
        "labels = []\n",
        "for sampled_data in tqdm.tqdm(val_loader):\n",
        "    with torch.no_grad():\n",
        "        sampled_data.to(device)\n",
        "        predicted.append(model(sampled_data))\n",
        "        labels.append(sampled_data[\"user\", \"rates\", \"movie\"].edge_label)\n",
        "\n",
        "predicted = torch.cat(predicted, dim=0).cpu().numpy()\n",
        "labels = torch.cat(labels, dim=0).cpu().numpy()\n",
        "auc = roc_auc_score(labels, predicted)\n",
        "predicted, labels\n",
        "print()\n",
        "print(f\"Validation AUC: {auc:.4f}\")\n",
        "\n",
        "# print(f\"Validation f1: {f1:.4f}\")\n",
        "# print(f\"Validation acc: {acc:.4f}\")"
      ],
      "metadata": {
        "colab": {
          "base_uri": "https://localhost:8080/"
        },
        "id": "RMufVoGh1wXL",
        "outputId": "a728528b-250b-4717-d6ac-2a36cec2351c"
      },
      "execution_count": null,
      "outputs": [
        {
          "output_type": "stream",
          "name": "stderr",
          "text": [
            "100%|██████████| 114/114 [00:00<00:00, 150.92it/s]"
          ]
        },
        {
          "output_type": "stream",
          "name": "stdout",
          "text": [
            "\n",
            "Validation AUC: 0.9042\n"
          ]
        },
        {
          "output_type": "stream",
          "name": "stderr",
          "text": [
            "\n"
          ]
        }
      ]
    },
    {
      "cell_type": "code",
      "source": [
        "from sklearn.metrics import roc_auc_score, accuracy_score, f1_score, roc_curve, precision_recall_curve, balanced_accuracy_score, precision_recall_fscore_support\n",
        "\n",
        "precision_recall_fscore_support(labels, predicted)"
      ],
      "metadata": {
        "id": "nJV-ehVkSVzE"
      },
      "execution_count": null,
      "outputs": []
    },
    {
      "cell_type": "code",
      "source": [
        "predicteds = np.where(predicted>0,1,0)"
      ],
      "metadata": {
        "id": "HaOzAJ-M1yme"
      },
      "execution_count": null,
      "outputs": []
    },
    {
      "cell_type": "code",
      "source": [
        "roc_auc_score(labels, predicteds), f1_score(labels, predicteds), accuracy_score(labels, predicteds)\n"
      ],
      "metadata": {
        "id": "ynnHhcwgRcnZ"
      },
      "execution_count": null,
      "outputs": []
    },
    {
      "cell_type": "code",
      "source": [],
      "metadata": {
        "id": "Q-nUjoIsR_YM"
      },
      "execution_count": null,
      "outputs": []
    }
  ],
  "metadata": {
    "colab": {
      "provenance": [],
      "authorship_tag": "ABX9TyNEyUuq1cld8fZhJpiNWtcn",
      "include_colab_link": true
    },
    "kernelspec": {
      "display_name": "Python 3",
      "name": "python3"
    },
    "language_info": {
      "name": "python"
    },
    "gpuClass": "standard"
  },
  "nbformat": 4,
  "nbformat_minor": 0
}