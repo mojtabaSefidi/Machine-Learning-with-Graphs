{
  "nbformat": 4,
  "nbformat_minor": 0,
  "metadata": {
    "colab": {
      "provenance": [],
      "include_colab_link": true
    },
    "kernelspec": {
      "name": "python3",
      "display_name": "Python 3"
    },
    "language_info": {
      "name": "python"
    },
    "gpuClass": "standard",
    "accelerator": "GPU"
  },
  "cells": [
    {
      "cell_type": "markdown",
      "metadata": {
        "id": "view-in-github",
        "colab_type": "text"
      },
      "source": [
        "<a href=\"https://colab.research.google.com/github/mojtabaSefidi/Machine-Learning-with-Graphs/blob/main/IGMC_Run.ipynb\" target=\"_parent\"><img src=\"https://colab.research.google.com/assets/colab-badge.svg\" alt=\"Open In Colab\"/></a>"
      ]
    },
    {
      "cell_type": "code",
      "source": [
        "from google.colab import drive\n",
        "drive.mount(\"/content/gdrive\")"
      ],
      "metadata": {
        "colab": {
          "base_uri": "https://localhost:8080/"
        },
        "id": "sr31LMLLGUej",
        "outputId": "e2c2b81c-ee8a-445b-ebeb-fe95219a0ba0"
      },
      "execution_count": 1,
      "outputs": [
        {
          "output_type": "stream",
          "name": "stdout",
          "text": [
            "Drive already mounted at /content/gdrive; to attempt to forcibly remount, call drive.mount(\"/content/gdrive\", force_remount=True).\n"
          ]
        }
      ]
    },
    {
      "cell_type": "code",
      "source": [
        "%cd /content/gdrive/MyDrive/MLG_Final_Project/IGMC"
      ],
      "metadata": {
        "colab": {
          "base_uri": "https://localhost:8080/"
        },
        "id": "hxzutCWgHRro",
        "outputId": "9531b50b-7772-4792-a36f-486f4ba452e4"
      },
      "execution_count": 2,
      "outputs": [
        {
          "output_type": "stream",
          "name": "stdout",
          "text": [
            "/content/gdrive/MyDrive/MLG_Final_Project/IGMC\n"
          ]
        }
      ]
    },
    {
      "cell_type": "code",
      "source": [
        "!pip install -q torch_geometric\n",
        "!pip install -q torch-sparse==0.6.13\n",
        "!pip install -q torch_scatter\n"
      ],
      "metadata": {
        "id": "KDN4M7B1qfVv"
      },
      "execution_count": 3,
      "outputs": []
    },
    {
      "cell_type": "code",
      "execution_count": null,
      "metadata": {
        "id": "7NBBTjw0pwmZ"
      },
      "outputs": [],
      "source": [
        "# !git clone https://github.com/muhanzhang/IGMC.git"
      ]
    },
    {
      "cell_type": "code",
      "source": [
        "# !python Main.py --data-name ml_100k --save-appendix _mnph200 --data-appendix _mnph200 --epochs 80 --continue-from 40 --max-nodes-per-hop 200 --save-interval 5 --testing --ensemble --dynamic-train\n"
      ],
      "metadata": {
        "colab": {
          "base_uri": "https://localhost:8080/"
        },
        "id": "FbjwP4mLqBrS",
        "outputId": "1fc4b718-b21b-4515-b960-734899a1ff34"
      },
      "execution_count": null,
      "outputs": [
        {
          "output_type": "stream",
          "name": "stdout",
          "text": [
            "Namespace(ARR=0.001, adj_dropout=0.2, batch_size=50, continue_from=40, data_appendix='_mnph200', data_name='ml_100k', data_seed=1234, debug=False, dynamic_test=False, dynamic_train=True, dynamic_val=False, ensemble=True, epochs=80, force_undirected=False, hop=1, keep_old=False, lr=0.001, lr_decay_factor=0.1, lr_decay_step_size=50, max_nodes_per_hop='200', max_test_num=None, max_train_num=None, max_val_num=None, multiply_by=1, no_train=False, num_relations=5, ratio=1.0, reprocess=False, sample_ratio=1.0, save_appendix='_mnph200', save_interval=5, seed=1, standard_rating=False, test_freq=1, testing=True, transfer='', use_features=False, visualize=False)\n",
            "Command line input: python Main.py --data-name ml_100k --save-appendix _mnph200 --data-appendix _mnph200 --epochs 80 --continue-from 40 --max-nodes-per-hop 200 --save-interval 5 --testing --ensemble --dynamic-train\n",
            " is saved.\n",
            "Using official MovieLens split u1.base/u1.test with 20% validation...\n",
            "User features shape: (943, 23)\n",
            "Item features shape: (1682, 18)\n",
            "All ratings are:\n",
            "[1. 2. 3. 4. 5.]\n",
            "#train: 80000, #val: 16000, #test: 20000\n",
            "Used #train graphs: 80000, #test graphs: 20000\n",
            "MyDynamicDataset(80000)\n",
            "Total number of parameters is 49233\n",
            "  0% 0/40 [00:00<?, ?it/s]  File \"Main.py\", line 407, in <module>\n",
            "    train_multiple_epochs(\n",
            "  File \"/content/gdrive/MyDrive/MLG_Final_Project/IGMC/train_eval.py\", line 77, in train_multiple_epochs\n",
            "    train_loss = train(model, optimizer, train_loader, device, regression=True, ARR=ARR,\n",
            "  File \"/content/gdrive/MyDrive/MLG_Final_Project/IGMC/train_eval.py\", line 162, in train\n",
            "    out = model(data)\n",
            "  File \"/usr/local/lib/python3.8/dist-packages/torch/nn/modules/module.py\", line 1194, in _call_impl\n",
            "    return forward_call(*input, **kwargs)\n",
            "  File \"/content/gdrive/MyDrive/MLG_Final_Project/IGMC/models.py\", line 195, in forward\n",
            "    edge_index, edge_type = dropout_adj(\n",
            "  File \"/usr/local/lib/python3.8/dist-packages/torch_geometric/deprecation.py\", line 12, in wrapper\n",
            "    warnings.warn(out)\n",
            "  File \"/usr/lib/python3.8/warnings.py\", line 109, in _showwarnmsg\n",
            "    sw(msg.message, msg.category, msg.filename, msg.lineno,\n",
            "  File \"Main.py\", line 25, in warn_with_traceback\n",
            "    traceback.print_stack(file=log)\n",
            "/usr/local/lib/python3.8/dist-packages/torch_geometric/deprecation.py:12: UserWarning: 'dropout_adj' is deprecated, use 'dropout_edge' instead\n",
            "  warnings.warn(out)\n",
            "Epoch 45, train loss 0.870169, test rmse 0.934120:  10% 4/40 [15:38<1:52:20, 187.24s/it]Saving model states...\n",
            "Epoch 50, train loss 0.870287, test rmse 0.925879:  22% 9/40 [31:06<1:36:07, 186.04s/it]Saving model states...\n",
            "Epoch 55, train loss 0.851932, test rmse 0.922274:  35% 14/40 [46:08<1:18:32, 181.24s/it]Saving model states...\n",
            "Epoch 60, train loss 0.851745, test rmse 0.922938:  48% 19/40 [1:01:02<1:02:48, 179.46s/it]Saving model states...\n",
            "Epoch 65, train loss 0.852067, test rmse 0.922082:  60% 24/40 [1:16:02<48:00, 180.00s/it]Saving model states...\n",
            "Epoch 70, train loss 0.849484, test rmse 0.921325:  72% 29/40 [1:31:02<32:59, 180.00s/it]Saving model states...\n",
            "Epoch 75, train loss 0.848970, test rmse 0.921645:  85% 34/40 [1:46:00<17:56, 179.37s/it]Saving model states...\n",
            "Epoch 80, train loss 0.849377, test rmse 0.922040:  98% 39/40 [2:00:54<02:58, 178.75s/it]Saving model states...\n",
            "Epoch 80, train loss 0.849377, test rmse 0.922040: 100% 40/40 [2:00:54<00:00, 181.35s/it]\n",
            "Final Test RMSE: 0.922040, Duration: 7254.046539\n",
            "Testing begins...\n",
            "100% 400/400 [00:09<00:00, 40.34it/s]\n",
            "Testing begins...\n",
            "100% 400/400 [00:07<00:00, 51.29it/s]\n",
            "Testing begins...\n",
            "100% 400/400 [00:07<00:00, 55.31it/s]\n",
            "Testing begins...\n",
            "100% 400/400 [00:07<00:00, 51.90it/s]\n",
            "Testing begins...\n",
            "100% 400/400 [00:07<00:00, 56.56it/s]\n",
            "Testing begins...\n",
            "100% 400/400 [00:07<00:00, 52.22it/s]\n",
            "Testing begins...\n",
            "100% 400/400 [00:07<00:00, 53.37it/s]\n",
            "Testing begins...\n",
            "100% 400/400 [00:07<00:00, 52.89it/s]\n",
            "Test Once RMSE: 0.923590, Duration: 62.465649\n",
            "Ensemble test rmse is: 0.923590\n"
          ]
        }
      ]
    },
    {
      "cell_type": "code",
      "source": [
        "# !python Main.py --data-name ml_100k --save-appendix _mnph200 --data-appendix _mnph200 --epochs 100 --continue-from 80 --max-nodes-per-hop 200 --save-interval 5 --testing --ensemble --dynamic-train\n"
      ],
      "metadata": {
        "id": "JRZrerSrqKp-",
        "colab": {
          "base_uri": "https://localhost:8080/"
        },
        "outputId": "68e78c60-c1ff-46fa-8a1a-a892c94902e2"
      },
      "execution_count": null,
      "outputs": [
        {
          "output_type": "stream",
          "name": "stdout",
          "text": [
            "Namespace(ARR=0.001, adj_dropout=0.2, batch_size=50, continue_from=80, data_appendix='_mnph200', data_name='ml_100k', data_seed=1234, debug=False, dynamic_test=False, dynamic_train=True, dynamic_val=False, ensemble=True, epochs=100, force_undirected=False, hop=1, keep_old=False, lr=0.001, lr_decay_factor=0.1, lr_decay_step_size=50, max_nodes_per_hop='200', max_test_num=None, max_train_num=None, max_val_num=None, multiply_by=1, no_train=False, num_relations=5, ratio=1.0, reprocess=False, sample_ratio=1.0, save_appendix='_mnph200', save_interval=5, seed=1, standard_rating=False, test_freq=1, testing=True, transfer='', use_features=False, visualize=False)\n",
            "Command line input: python Main.py --data-name ml_100k --save-appendix _mnph200 --data-appendix _mnph200 --epochs 100 --continue-from 80 --max-nodes-per-hop 200 --save-interval 5 --testing --ensemble --dynamic-train\n",
            " is saved.\n",
            "Using official MovieLens split u1.base/u1.test with 20% validation...\n",
            "User features shape: (943, 23)\n",
            "Item features shape: (1682, 18)\n",
            "All ratings are:\n",
            "[1. 2. 3. 4. 5.]\n",
            "#train: 80000, #val: 16000, #test: 20000\n",
            "Used #train graphs: 80000, #test graphs: 20000\n",
            "MyDynamicDataset(80000)\n",
            "Total number of parameters is 49233\n",
            "  0% 0/20 [00:00<?, ?it/s]  File \"Main.py\", line 407, in <module>\n",
            "    train_multiple_epochs(\n",
            "  File \"/content/gdrive/MyDrive/MLG_Final_Project/IGMC/train_eval.py\", line 77, in train_multiple_epochs\n",
            "    train_loss = train(model, optimizer, train_loader, device, regression=True, ARR=ARR,\n",
            "  File \"/content/gdrive/MyDrive/MLG_Final_Project/IGMC/train_eval.py\", line 162, in train\n",
            "    out = model(data)\n",
            "  File \"/usr/local/lib/python3.8/dist-packages/torch/nn/modules/module.py\", line 1194, in _call_impl\n",
            "    return forward_call(*input, **kwargs)\n",
            "  File \"/content/gdrive/MyDrive/MLG_Final_Project/IGMC/models.py\", line 195, in forward\n",
            "    edge_index, edge_type = dropout_adj(\n",
            "  File \"/usr/local/lib/python3.8/dist-packages/torch_geometric/deprecation.py\", line 12, in wrapper\n",
            "    warnings.warn(out)\n",
            "  File \"/usr/lib/python3.8/warnings.py\", line 109, in _showwarnmsg\n",
            "    sw(msg.message, msg.category, msg.filename, msg.lineno,\n",
            "  File \"Main.py\", line 25, in warn_with_traceback\n",
            "    traceback.print_stack(file=log)\n",
            "/usr/local/lib/python3.8/dist-packages/torch_geometric/deprecation.py:12: UserWarning: 'dropout_adj' is deprecated, use 'dropout_edge' instead\n",
            "  warnings.warn(out)\n",
            "Epoch 85, train loss 0.848083, test rmse 0.922016:  20% 4/20 [15:26<49:23, 185.23s/it]Saving model states...\n",
            "Epoch 90, train loss 0.848105, test rmse 0.921114:  45% 9/20 [30:50<33:53, 184.83s/it]Saving model states...\n",
            "Epoch 95, train loss 0.847460, test rmse 0.921191:  70% 14/20 [46:06<18:18, 183.16s/it]Saving model states...\n",
            "Epoch 100, train loss 0.847863, test rmse 0.921610:  95% 19/20 [1:01:15<03:01, 181.98s/it]Saving model states...\n",
            "Epoch 100, train loss 0.847863, test rmse 0.921610: 100% 20/20 [1:01:15<00:00, 183.78s/it]\n",
            "Final Test RMSE: 0.921610, Duration: 3675.700838\n",
            "Testing begins...\n",
            "100% 400/400 [00:09<00:00, 42.15it/s]\n",
            "Testing begins...\n",
            "100% 400/400 [00:07<00:00, 53.11it/s]\n",
            "Testing begins...\n",
            "100% 400/400 [00:07<00:00, 50.02it/s]\n",
            "Testing begins...\n",
            "100% 400/400 [00:07<00:00, 55.77it/s]\n",
            "Testing begins...\n",
            "100% 400/400 [00:08<00:00, 49.78it/s]\n",
            "Testing begins...\n",
            "100% 400/400 [00:07<00:00, 56.90it/s]\n",
            "Testing begins...\n",
            "100% 400/400 [00:07<00:00, 50.23it/s]\n",
            "Testing begins...\n",
            "100% 400/400 [00:06<00:00, 58.58it/s]\n",
            "Testing begins...\n",
            "100% 400/400 [00:07<00:00, 51.24it/s]\n",
            "Testing begins...\n",
            "100% 400/400 [00:07<00:00, 55.54it/s]\n",
            "Test Once RMSE: 0.922653, Duration: 77.078863\n",
            "Ensemble test rmse is: 0.922653\n"
          ]
        }
      ]
    },
    {
      "cell_type": "code",
      "source": [
        "!python Main.py --data-name ml_100k --save-appendix _mnph200 --data-appendix _mnph200 --epochs 105 --continue-from 100 --max-nodes-per-hop 200 --save-interval 5 --testing  --testing --ensemble --dynamic-train\n"
      ],
      "metadata": {
        "id": "yu4zVZGJPpve",
        "colab": {
          "base_uri": "https://localhost:8080/"
        },
        "outputId": "79ddef41-52a5-460c-ec82-3e921ef165a9"
      },
      "execution_count": 5,
      "outputs": [
        {
          "output_type": "stream",
          "name": "stdout",
          "text": [
            "Namespace(ARR=0.001, adj_dropout=0.2, batch_size=50, continue_from=100, data_appendix='_mnph200', data_name='ml_100k', data_seed=1234, debug=False, dynamic_test=False, dynamic_train=True, dynamic_val=False, ensemble=True, epochs=105, force_undirected=False, hop=1, keep_old=False, lr=0.001, lr_decay_factor=0.1, lr_decay_step_size=50, max_nodes_per_hop='200', max_test_num=None, max_train_num=None, max_val_num=None, multiply_by=1, no_train=False, num_relations=5, ratio=1.0, reprocess=False, sample_ratio=1.0, save_appendix='_mnph200', save_interval=5, seed=1, standard_rating=False, test_freq=1, testing=True, transfer='', use_features=False, visualize=True)\n",
            "Command line input: python Main.py --data-name ml_100k --save-appendix _mnph200 --data-appendix _mnph200 --epochs 105 --continue-from 100 --max-nodes-per-hop 200 --save-interval 5 --testing --ensemble --dynamic-train --visualize\n",
            " is saved.\n",
            "Using official MovieLens split u1.base/u1.test with 20% validation...\n",
            "User features shape: (943, 23)\n",
            "Item features shape: (1682, 18)\n",
            "All ratings are:\n",
            "[1. 2. 3. 4. 5.]\n",
            "#train: 80000, #val: 16000, #test: 20000\n",
            "Used #train graphs: 80000, #test graphs: 20000\n",
            "MyDynamicDataset(80000)\n",
            "Total number of parameters is 49233\n",
            "  0% 0/5 [00:00<?, ?it/s]  File \"Main.py\", line 407, in <module>\n",
            "    train_multiple_epochs(\n",
            "  File \"/content/gdrive/MyDrive/MLG_Final_Project/IGMC/train_eval.py\", line 77, in train_multiple_epochs\n",
            "    train_loss = train(model, optimizer, train_loader, device, regression=True, ARR=ARR,\n",
            "  File \"/content/gdrive/MyDrive/MLG_Final_Project/IGMC/train_eval.py\", line 162, in train\n",
            "    out = model(data)\n",
            "  File \"/usr/local/lib/python3.8/dist-packages/torch/nn/modules/module.py\", line 1194, in _call_impl\n",
            "    return forward_call(*input, **kwargs)\n",
            "  File \"/content/gdrive/MyDrive/MLG_Final_Project/IGMC/models.py\", line 195, in forward\n",
            "    edge_index, edge_type = dropout_adj(\n",
            "  File \"/usr/local/lib/python3.8/dist-packages/torch_geometric/deprecation.py\", line 12, in wrapper\n",
            "    warnings.warn(out)\n",
            "  File \"/usr/lib/python3.8/warnings.py\", line 109, in _showwarnmsg\n",
            "    sw(msg.message, msg.category, msg.filename, msg.lineno,\n",
            "  File \"Main.py\", line 25, in warn_with_traceback\n",
            "    traceback.print_stack(file=log)\n",
            "/usr/local/lib/python3.8/dist-packages/torch_geometric/deprecation.py:12: UserWarning: 'dropout_adj' is deprecated, use 'dropout_edge' instead\n",
            "  warnings.warn(out)\n",
            "Epoch 105, train loss 0.844447, test rmse 0.920053:  80% 4/5 [17:13<03:26, 206.90s/it]Saving model states...\n",
            "Epoch 105, train loss 0.844447, test rmse 0.920053: 100% 5/5 [17:13<00:00, 206.74s/it]\n",
            "Final Test RMSE: 0.920053, Duration: 1033.702034\n",
            "100% 400/400 [00:11<00:00, 36.03it/s]\n"
          ]
        }
      ]
    },
    {
      "cell_type": "code",
      "source": [
        "!python Main.py --data-name ml_100k --save-appendix _mnph200 --data-appendix _mnph200 --epochs 150 --continue-from 110 --max-nodes-per-hop 200 --save-interval 5  --testing --ensemble --dynamic-train\n"
      ],
      "metadata": {
        "colab": {
          "base_uri": "https://localhost:8080/"
        },
        "id": "2uE6uspCq9n3",
        "outputId": "547acdc9-6446-438b-c72e-6a93e9c461ab"
      },
      "execution_count": 11,
      "outputs": [
        {
          "output_type": "stream",
          "name": "stdout",
          "text": [
            "Namespace(ARR=0.001, adj_dropout=0.2, batch_size=50, continue_from=110, data_appendix='_mnph200', data_name='ml_100k', data_seed=1234, debug=False, dynamic_test=False, dynamic_train=True, dynamic_val=False, ensemble=True, epochs=150, force_undirected=False, hop=1, keep_old=False, lr=0.001, lr_decay_factor=0.1, lr_decay_step_size=50, max_nodes_per_hop='200', max_test_num=None, max_train_num=None, max_val_num=None, multiply_by=1, no_train=False, num_relations=5, ratio=1.0, reprocess=False, sample_ratio=1.0, save_appendix='_mnph200', save_interval=5, seed=1, standard_rating=False, test_freq=1, testing=True, transfer='', use_features=False, visualize=False)\n",
            "Command line input: python Main.py --data-name ml_100k --save-appendix _mnph200 --data-appendix _mnph200 --epochs 150 --continue-from 110 --max-nodes-per-hop 200 --save-interval 5 --testing --ensemble --dynamic-train\n",
            " is saved.\n",
            "Using official MovieLens split u1.base/u1.test with 20% validation...\n",
            "User features shape: (943, 23)\n",
            "Item features shape: (1682, 18)\n",
            "All ratings are:\n",
            "[1. 2. 3. 4. 5.]\n",
            "#train: 80000, #val: 16000, #test: 20000\n",
            "Used #train graphs: 80000, #test graphs: 20000\n",
            "MyDynamicDataset(80000)\n",
            "Total number of parameters is 49233\n",
            "  0% 0/40 [00:00<?, ?it/s]  File \"Main.py\", line 407, in <module>\n",
            "    train_multiple_epochs(\n",
            "  File \"/content/gdrive/MyDrive/MLG_Final_Project/IGMC/train_eval.py\", line 77, in train_multiple_epochs\n",
            "    train_loss = train(model, optimizer, train_loader, device, regression=True, ARR=ARR,\n",
            "  File \"/content/gdrive/MyDrive/MLG_Final_Project/IGMC/train_eval.py\", line 162, in train\n",
            "    out = model(data)\n",
            "  File \"/usr/local/lib/python3.8/dist-packages/torch/nn/modules/module.py\", line 1194, in _call_impl\n",
            "    return forward_call(*input, **kwargs)\n",
            "  File \"/content/gdrive/MyDrive/MLG_Final_Project/IGMC/models.py\", line 195, in forward\n",
            "    edge_index, edge_type = dropout_adj(\n",
            "  File \"/usr/local/lib/python3.8/dist-packages/torch_geometric/deprecation.py\", line 12, in wrapper\n",
            "    warnings.warn(out)\n",
            "  File \"/usr/lib/python3.8/warnings.py\", line 109, in _showwarnmsg\n",
            "    sw(msg.message, msg.category, msg.filename, msg.lineno,\n",
            "  File \"Main.py\", line 25, in warn_with_traceback\n",
            "    traceback.print_stack(file=log)\n",
            "/usr/local/lib/python3.8/dist-packages/torch_geometric/deprecation.py:12: UserWarning: 'dropout_adj' is deprecated, use 'dropout_edge' instead\n",
            "  warnings.warn(out)\n",
            "Epoch 115, train loss 0.843830, test rmse 0.919875:  10% 4/40 [16:14<1:56:53, 194.83s/it]Saving model states...\n",
            "Epoch 120, train loss 0.844495, test rmse 0.920018:  22% 9/40 [32:33<1:41:00, 195.49s/it]Saving model states...\n",
            "Epoch 125, train loss 0.844075, test rmse 0.919883:  35% 14/40 [48:39<1:23:49, 193.45s/it]Saving model states...\n",
            "Epoch 130, train loss 0.844178, test rmse 0.919951:  48% 19/40 [1:04:49<1:07:58, 194.20s/it]Saving model states...\n",
            "Epoch 135, train loss 0.846425, test rmse 0.920010:  60% 24/40 [1:20:57<51:39, 193.75s/it]Saving model states...\n",
            "Epoch 140, train loss 0.843974, test rmse 0.919693:  72% 29/40 [1:37:01<35:25, 193.26s/it]Saving model states...\n",
            "Epoch 145, train loss 0.844038, test rmse 0.919802:  85% 34/40 [1:53:03<19:14, 192.34s/it]Saving model states...\n",
            "Epoch 150, train loss 0.844467, test rmse 0.920099:  98% 39/40 [2:09:12<03:13, 193.39s/it]Saving model states...\n",
            "Epoch 150, train loss 0.844467, test rmse 0.920099: 100% 40/40 [2:09:12<00:00, 193.81s/it]\n",
            "Final Test RMSE: 0.920099, Duration: 7752.447980\n",
            "Testing begins...\n",
            "100% 400/400 [00:10<00:00, 37.46it/s]\n",
            "Testing begins...\n",
            "100% 400/400 [00:08<00:00, 45.26it/s]\n",
            "Testing begins...\n",
            "100% 400/400 [00:07<00:00, 50.80it/s]\n",
            "Testing begins...\n",
            "100% 400/400 [00:08<00:00, 44.98it/s]\n",
            "Testing begins...\n",
            "100% 400/400 [00:07<00:00, 51.01it/s]\n",
            "Testing begins...\n",
            "100% 400/400 [00:08<00:00, 46.75it/s]\n",
            "Testing begins...\n",
            "100% 400/400 [00:08<00:00, 46.78it/s]\n",
            "Testing begins...\n",
            "100% 400/400 [00:07<00:00, 51.26it/s]\n",
            "Testing begins...\n",
            "100% 400/400 [00:08<00:00, 45.85it/s]\n",
            "Testing begins...\n",
            "100% 400/400 [00:07<00:00, 53.34it/s]\n",
            "Testing begins...\n",
            "100% 400/400 [00:08<00:00, 47.17it/s]\n",
            "Testing begins...\n",
            "100% 400/400 [00:07<00:00, 50.34it/s]\n",
            "Testing begins...\n",
            "100% 400/400 [00:08<00:00, 49.76it/s]\n",
            "Testing begins...\n",
            "100% 400/400 [00:08<00:00, 47.11it/s]\n",
            "Testing begins...\n",
            "100% 400/400 [00:07<00:00, 51.39it/s]\n",
            "Test Once RMSE: 0.921339, Duration: 126.030416\n",
            "Ensemble test rmse is: 0.921339\n"
          ]
        }
      ]
    },
    {
      "cell_type": "code",
      "source": [
        "from operator import itemgetter\n",
        "with open('/content/gdrive/MyDrive/MLG_Final_Project/IGMC/results/ml_100k_mnph200_testmode/log.txt', 'r') as f:\n",
        "    lines = [line.rstrip('\\n').split(' ') for line in f]\n",
        "\n",
        "train_loss = []\n",
        "validation_loss = []\n",
        "epoch = []\n",
        "for i, line in enumerate(lines):\n",
        "  if i != len(lines) -1 :\n",
        "    epoch.append(int(line[1][:-1]))\n",
        "    train_loss.append(float(line[4][:-1]))\n",
        "    validation_loss.append(float(line[-1]))\n",
        "\n",
        "from matplotlib import pyplot as plt\n",
        "plt.plot(train_loss)\n",
        "plt.plot(validation_loss)\n",
        "plt.title('Model Training process')\n",
        "plt.ylabel('Loss')\n",
        "plt.xlabel('epoch')\n",
        "plt.legend(['train', 'validation'], loc='upper right')\n",
        "plt.show()  "
      ],
      "metadata": {
        "colab": {
          "base_uri": "https://localhost:8080/",
          "height": 295
        },
        "id": "z9n5Wa5iztZA",
        "outputId": "50129a49-df36-412f-bfd6-fc3a44e0872b"
      },
      "execution_count": 12,
      "outputs": [
        {
          "output_type": "display_data",
          "data": {
            "text/plain": [
              "<Figure size 432x288 with 1 Axes>"
            ],
            "image/png": "[encoded data removed]"
          },
          "metadata": {
            "needs_background": "light"
          }
        }
      ]
    },
    {
      "cell_type": "code",
      "source": [],
      "metadata": {
        "id": "h2MT_p3rZNax"
      },
      "execution_count": null,
      "outputs": []
    }
  ]
}
