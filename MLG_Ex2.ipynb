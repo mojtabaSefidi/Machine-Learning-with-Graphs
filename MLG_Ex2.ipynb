{
  "nbformat": 4,
  "nbformat_minor": 0,
  "metadata": {
    "colab": {
      "provenance": [],
      "collapsed_sections": [],
      "authorship_tag": "ABX9TyNe6oRIAaYk2xnPTtWfCeQP",
      "include_colab_link": true
    },
    "kernelspec": {
      "name": "python3",
      "display_name": "Python 3"
    },
    "language_info": {
      "name": "python"
    }
  },
  "cells": [
    {
      "cell_type": "markdown",
      "metadata": {
        "id": "view-in-github",
        "colab_type": "text"
      },
      "source": [
        "<a href=\"https://colab.research.google.com/github/mojtabaSefidi/Machine-Learning-with-Graphs/blob/main/MLG_Ex2.ipynb\" target=\"_parent\"><img src=\"https://colab.research.google.com/assets/colab-badge.svg\" alt=\"Open In Colab\"/></a>"
      ]
    },
    {
      "cell_type": "markdown",
      "source": [
        "## Install Essential Packages"
      ],
      "metadata": {
        "id": "lwlKn2JrXvYo"
      }
    },
    {
      "cell_type": "code",
      "source": [
        "!pip install -q torch-scatter -f https://pytorch-geometric.com/whl/torch-1.7.0+cu101.html\n",
        "!pip install -q torch-sparse -f https://pytorch-geometric.com/whl/torch-1.7.0+cu101.html\n",
        "!pip install -q torch-geometric"
      ],
      "metadata": {
        "id": "eyylEyBAw67k",
        "colab": {
          "base_uri": "https://localhost:8080/"
        },
        "outputId": "b87e5ff7-9c96-42d5-dd9e-6cf16615f526"
      },
      "execution_count": 1,
      "outputs": [
        {
          "output_type": "stream",
          "name": "stdout",
          "text": [
            "  Building wheel for torch-scatter (setup.py) ... \u001b[?25l\u001b[?25hdone\n",
            "\u001b[K     |████████████████████████████████| 2.1 MB 26.8 MB/s \n",
            "\u001b[?25h  Building wheel for torch-sparse (setup.py) ... \u001b[?25l\u001b[?25hdone\n",
            "\u001b[K     |████████████████████████████████| 467 kB 22.1 MB/s \n",
            "\u001b[?25h  Building wheel for torch-geometric (setup.py) ... \u001b[?25l\u001b[?25hdone\n"
          ]
        }
      ]
    },
    {
      "cell_type": "markdown",
      "source": [
        "## Install Essential Libraries"
      ],
      "metadata": {
        "id": "FcOrS826X3wJ"
      }
    },
    {
      "cell_type": "code",
      "execution_count": 6,
      "metadata": {
        "id": "OCSrkduHlCPt"
      },
      "outputs": [],
      "source": [
        "%matplotlib inline\n",
        "import matplotlib.pyplot as plt\n",
        "from sklearn.manifold import TSNE\n",
        "import torch\n",
        "import networkx as nx\n",
        "import torch_geometric\n",
        "from torch_geometric.utils import to_networkx\n",
        "from torch_geometric.datasets import Planetoid\n",
        "from torch_geometric.transforms import NormalizeFeatures"
      ]
    },
    {
      "cell_type": "markdown",
      "source": [
        "## Read the Dataset"
      ],
      "metadata": {
        "id": "LswIWaVoX901"
      }
    },
    {
      "cell_type": "code",
      "source": [
        "dataset = Planetoid(root='/tmp/Citeseer', name='Citeseer')"
      ],
      "metadata": {
        "id": "ZjGUj-btw3_l"
      },
      "execution_count": 7,
      "outputs": []
    },
    {
      "cell_type": "code",
      "source": [
        "dataset = Planetoid(root='data/Planetoid', name='Cora', transform=NormalizeFeatures())"
      ],
      "metadata": {
        "id": "vx_sPIHyUM-F"
      },
      "execution_count": 8,
      "outputs": []
    },
    {
      "cell_type": "markdown",
      "source": [
        "## Part 1 : Dataset Details"
      ],
      "metadata": {
        "id": "r6RTprJLYaMF"
      }
    },
    {
      "cell_type": "code",
      "source": [
        "def Information_Extaction(dataset):\n",
        "  print('There is %d graph in the dataset.' %len(dataset))\n",
        "  print('The graph has %d nodes.' %dataset[0].num_nodes)\n",
        "  print('The graph has %d edges.' %dataset[0].num_edges)\n",
        "  print('Each node has %d features.' %dataset[0].num_features)\n",
        "  print('These are %d classes.'  %dataset.num_classes)\n",
        "  print(\"The Average degree for each node is %d.\" %round((2*dataset[0].num_edges) / (dataset[0].num_nodes),4))\n",
        "  print('There are %d training nodes in the dataset.' %dataset[0].train_mask.sum().item())\n",
        "  return"
      ],
      "metadata": {
        "id": "j3FopRyV1w_g"
      },
      "execution_count": 9,
      "outputs": []
    },
    {
      "cell_type": "code",
      "source": [
        "Information_Extaction(dataset)"
      ],
      "metadata": {
        "colab": {
          "base_uri": "https://localhost:8080/"
        },
        "id": "9CAhlj3W4MSK",
        "outputId": "8ffd2d3e-25bd-4c54-8c1e-ba04a70a5587"
      },
      "execution_count": 10,
      "outputs": [
        {
          "output_type": "stream",
          "name": "stdout",
          "text": [
            "There is 1 graph in the dataset.\n",
            "The graph has 2708 nodes.\n",
            "The graph has 10556 edges.\n",
            "Each node has 1433 features.\n",
            "These are 7 classes.\n",
            "The Average degree for each node is 7.\n",
            "There are 140 training nodes in the dataset.\n"
          ]
        }
      ]
    },
    {
      "cell_type": "markdown",
      "source": [
        "## Part 4 : Graph visualization"
      ],
      "metadata": {
        "id": "mbhRVaMVbvkz"
      }
    },
    {
      "cell_type": "code",
      "source": [
        "def visualize(h, color):\n",
        "    z = TSNE(n_components=2).fit_transform(h.detach().cpu().numpy())\n",
        "\n",
        "    plt.figure(figsize=(10,10))\n",
        "    plt.xticks([])\n",
        "    plt.yticks([])\n",
        "\n",
        "    plt.scatter(z[:, 0], z[:, 1], s=70, c=color, cmap=\"Set2\")\n",
        "    plt.show()\n",
        "\n",
        "\n",
        "def plot_history(list_train_loss, list_train_acc, list_val_loss, list_val_acc, n_epochs, title):\n",
        "    \n",
        "    plt.figure(figsize=(12,6),linewidth = 7, edgecolor=\"whitesmoke\")    \n",
        "    n = n_epochs\n",
        "    \n",
        "    plt.plot(list(range(1, n_epochs+1)), list_train_acc, color='orange',marker=\".\")\n",
        "    plt.plot(list(range(1, n_epochs+1)), list_train_loss,'b',marker=\".\")\n",
        "    \n",
        "    plt.plot(list(range(1, n_epochs+1)), list_val_acc,'r')  \n",
        "    plt.plot(list(range(1, n_epochs+1)), list_val_loss,'g')\n",
        "    \n",
        "    plt.legend(['Train Acc','Train Loss','Val Acc','Val Loss'])\n",
        "    plt.grid(True)\n",
        "    \n",
        "    # plt.gca().set_ylim(0,1)\n",
        "\n",
        "    plt.xlabel(\"Number of Epochs\")\n",
        "    plt.ylabel(\"Value\")\n",
        "    plt.suptitle(title, size=16, y=0.927)\n",
        "    plt.show()\n"
      ],
      "metadata": {
        "id": "5m2l3pzlbUb8"
      },
      "execution_count": 11,
      "outputs": []
    },
    {
      "cell_type": "code",
      "source": [
        "# visualize(dataset[0].x, color=dataset[0].y)"
      ],
      "metadata": {
        "id": "WtBTNhkSnz04"
      },
      "execution_count": 13,
      "outputs": []
    },
    {
      "cell_type": "markdown",
      "source": [
        "## Additional Libraries for GNN"
      ],
      "metadata": {
        "id": "rp3WywYMcZLJ"
      }
    },
    {
      "cell_type": "code",
      "source": [
        "import torch.nn.functional as F\n",
        "from torch.nn import Linear\n",
        "from torch_geometric.nn import GCNConv"
      ],
      "metadata": {
        "id": "2ptUWeUbIfBP"
      },
      "execution_count": 14,
      "outputs": []
    },
    {
      "cell_type": "markdown",
      "source": [
        "## Part 5 : GCN Implementation"
      ],
      "metadata": {
        "id": "my1bL4h1gFaW"
      }
    },
    {
      "cell_type": "code",
      "source": [
        "# class GCN(torch.nn.Module):\n",
        "#     def __init__(\n",
        "#         self,\n",
        "#         dataset,\n",
        "#         hidden_channel=256,\n",
        "#         learning_rate=0.01,\n",
        "#         min_valid_loss = np.inf,\n",
        "        \n",
        "        \n",
        "#         ):\n",
        "      \n",
        "#         super().__init__()\n",
        "#         self.conv1 = GCNConv(dataset.num_node_features, hidden_channel)\n",
        "#         self.conv2 = GCNConv(hidden_channel, hidden_channel)\n",
        "#         self.classifier = Linear(hidden_channel, dataset.num_classes)\n",
        "        \n",
        "#         device = torch.device('cuda' if torch.cuda.is_available() else 'cpu')\n",
        "#         self.data = dataset[0].to(device)\n",
        "#         self.optimizer = torch.optim.Adam(model.parameters(), lr=learning_rate)\n",
        "#         self.criterion = torch.nn.CrossEntropyLoss()\n",
        "#         self.min_valid_loss = min_valid_loss\n",
        "\n",
        "#     def forward(self, data):\n",
        "#         x, edge_index = data.x, data.edge_index\n",
        "\n",
        "#         x = self.conv1(x, edge_index)\n",
        "#         x = torch.tanh(x)\n",
        "#         x = F.dropout(x, p=0.5, training=self.training)\n",
        "#         x = self.conv2(x, edge_index)\n",
        "#         x = torch.tanh(x)\n",
        "#         return self.classifier(x)\n",
        "\n",
        "#     def training(self):\n",
        "#           save_model_flag = False\n",
        "#           model.train()\n",
        "#           self.optimizer.zero_grad()\n",
        "#           out = model(self.data)\n",
        "#           train_loss = self.criterion(out[self.data.train_mask], self.data.y[self.data.train_mask])\n",
        "#           validation_loss = self.criterion(out[self.data.val_mask], self.data.y[self.data.val_mask])\n",
        "#           if self.min_valid_loss > validation_loss:\n",
        "#               save_model_flag = True\n",
        "#           train_loss.backward()\n",
        "#           self.optimizer.step()\n",
        "\n",
        "#           return train_loss, validation_loss, save_model_flag \n",
        "\n",
        "#     def test(self):\n",
        "#           out = model(self.data)\n",
        "#           test_loss = self.criterion(out[self.data.test_mask], self.data.y[self.data.test_mask])\n",
        "#           pred = out.argmax(dim=1)\n",
        "#           test_correct = pred[self.data.test_mask] == self.data.y[self.data.test_mask]\n",
        "#           test_acc = int(test_correct.sum()) / int(self.data.test_mask.sum())\n",
        "#           return test_acc, test_loss\n",
        "    \n",
        "#     def fit_optimize(self, epochs):\n",
        "#       for epoch in range(1, epochs+1):\n",
        "#         train_loss, validation_loss, save_model_flag = self.training()\n",
        "#         print(f'Epoch: {epoch:03d}, Trian Loss: {train_loss:.4f}, Validation Loss: {validation_loss:.4f}')\n",
        "#         if save_model_flag:\n",
        "#           self.min_valid_loss = validation_loss\n",
        "#           print(f\"Best validation loss: {self.min_valid_loss:.4f}\")\n",
        "#           print(f\"Saving best model for epoch: {epoch}\")\n",
        "#           torch.save(model,'best_model.pth')\n"
      ],
      "metadata": {
        "id": "duu9oGRBsZdX"
      },
      "execution_count": null,
      "outputs": []
    },
    {
      "cell_type": "code",
      "source": [
        "class GCN_2(torch.nn.Module):\n",
        "    def __init__(\n",
        "        self,\n",
        "        hidden_channel=256,\n",
        "        learning_rate=0.01\n",
        "        \n",
        "        ):\n",
        "      \n",
        "        super().__init__()\n",
        "        self.conv1 = GCNConv(dataset.num_node_features, hidden_channel)\n",
        "        self.conv2 = GCNConv(hidden_channel, dataset.num_classes)\n",
        "\n",
        "\n",
        "    def forward(self, data):\n",
        "        x, edge_index = data.x, data.edge_index\n",
        "\n",
        "        x = self.conv1(x, edge_index)\n",
        "        x = x.relu()\n",
        "        x = F.dropout(x, p=0.5, training=self.training)\n",
        "        x = self.conv2(x, edge_index)\n",
        "        return x\n"
      ],
      "metadata": {
        "id": "P_eNMnd0pCP8"
      },
      "execution_count": 15,
      "outputs": []
    },
    {
      "cell_type": "code",
      "source": [
        "class GCN_3(torch.nn.Module):\n",
        "    def __init__(\n",
        "        self,\n",
        "        hidden_channel=256,\n",
        "        learning_rate=0.01\n",
        "        \n",
        "        ):\n",
        "      \n",
        "        super().__init__()\n",
        "        self.conv1 = GCNConv(dataset.num_node_features, hidden_channel)\n",
        "        self.conv2 = GCNConv(hidden_channel, hidden_channel)\n",
        "        self.conv3 = GCNConv(hidden_channel, dataset.num_classes)\n",
        "\n",
        "\n",
        "    def forward(self, data):\n",
        "        x, edge_index = data.x, data.edge_index\n",
        "\n",
        "        x = self.conv1(x, edge_index)\n",
        "        x = torch.tanh(x)\n",
        "        x = F.dropout(x, p=0.5, training=self.training)\n",
        "        x = self.conv2(x, edge_index)\n",
        "        x = x.relu()\n",
        "        x = F.dropout(x, p=0.5, training=self.training)\n",
        "        x = self.conv3(x, edge_index)\n",
        "        return x\n"
      ],
      "metadata": {
        "id": "wN4RxnSyE7ax"
      },
      "execution_count": 16,
      "outputs": []
    },
    {
      "cell_type": "code",
      "source": [
        "class GCN_5(torch.nn.Module):\n",
        "    def __init__(\n",
        "        self,\n",
        "        hidden_channel=256,\n",
        "        learning_rate=0.01\n",
        "        \n",
        "        ):\n",
        "      \n",
        "        super().__init__()\n",
        "        self.conv1 = GCNConv(dataset.num_node_features, hidden_channel)\n",
        "        self.conv2 = GCNConv(hidden_channel, hidden_channel)\n",
        "        self.conv3 = GCNConv(hidden_channel, hidden_channel)\n",
        "        self.conv4 = GCNConv(hidden_channel, hidden_channel)\n",
        "        self.conv5 = GCNConv(hidden_channel, dataset.num_classes)\n",
        "\n",
        "\n",
        "    def forward(self, data):\n",
        "        x, edge_index = data.x, data.edge_index\n",
        "\n",
        "        x = self.conv1(x, edge_index)\n",
        "        x = torch.tanh(x)\n",
        "        x = F.dropout(x, p=0.5, training=self.training)\n",
        "        \n",
        "        x = self.conv2(x, edge_index)\n",
        "        x = torch.tanh(x)\n",
        "        x = F.dropout(x, p=0.5, training=self.training)\n",
        "        \n",
        "        x = self.conv3(x, edge_index)\n",
        "        x = torch.tanh(x)\n",
        "        x = F.dropout(x, p=0.5, training=self.training)        \n",
        "        \n",
        "        x = self.conv4(x, edge_index)\n",
        "        x = x.relu()\n",
        "        x = F.dropout(x, p=0.5, training=self.training)\n",
        "        \n",
        "        x = self.conv3(x, edge_index)\n",
        "        return x\n"
      ],
      "metadata": {
        "id": "13dzEEd5pUL6"
      },
      "execution_count": 17,
      "outputs": []
    },
    {
      "cell_type": "code",
      "source": [
        "model = GCN_2(hidden_channel = 16)\n",
        "print(model)"
      ],
      "metadata": {
        "colab": {
          "base_uri": "https://localhost:8080/"
        },
        "id": "VjNrSNoWtumz",
        "outputId": "88d26897-0a78-4f7d-f51c-77b64d6f0a84"
      },
      "execution_count": 118,
      "outputs": [
        {
          "output_type": "stream",
          "name": "stdout",
          "text": [
            "GCN_2(\n",
            "  (conv1): GCNConv(1433, 16)\n",
            "  (conv2): GCNConv(16, 7)\n",
            ")\n"
          ]
        }
      ]
    },
    {
      "cell_type": "code",
      "source": [
        "import numpy as np\n",
        "learning_rate = 0.01\n",
        "min_valid_loss = np.inf\n",
        "n_epochs=150"
      ],
      "metadata": {
        "id": "EJiwlzeOs1Wv"
      },
      "execution_count": 119,
      "outputs": []
    },
    {
      "cell_type": "code",
      "source": [
        "def define_loss_optimizer(learning_rate=0.01):\n",
        "  optimizer = torch.optim.Adam(model.parameters(), lr=learning_rate)\n",
        "  criterion = torch.nn.CrossEntropyLoss()\n",
        "  return optimizer, criterion"
      ],
      "metadata": {
        "id": "31Znk88pxN_e"
      },
      "execution_count": 133,
      "outputs": []
    },
    {
      "cell_type": "code",
      "source": [
        "device = torch.device('cuda' if torch.cuda.is_available() else 'cpu')\n",
        "data = dataset[0].to(device)\n",
        "optimizer, criterion = define_loss_optimizer(learning_rate)"
      ],
      "metadata": {
        "id": "WZBaIFsHsuxB"
      },
      "execution_count": 134,
      "outputs": []
    },
    {
      "cell_type": "code",
      "source": [
        "def train_one_epoch(min_valid_loss):\n",
        "      save_model_flag = False\n",
        "      model.train()\n",
        "      optimizer.zero_grad()\n",
        "      \n",
        "      out = model(data)\n",
        "      train_loss = criterion(out[data.train_mask], data.y[data.train_mask])\n",
        "      validation_loss = criterion(out[data.val_mask], data.y[data.val_mask])\n",
        "      \n",
        "      pred = out.argmax(dim=1)\n",
        "      train_correct = pred[data.train_mask] == data.y[data.train_mask]\n",
        "      train_acc = int(train_correct.sum()) / int(data.train_mask.sum())\n",
        "      validation_correct = pred[data.val_mask] == data.y[data.val_mask]\n",
        "      validation_acc = int(validation_correct.sum()) / int(data.val_mask.sum())\n",
        "      \n",
        "      if min_valid_loss > validation_loss:\n",
        "          save_model_flag = True\n",
        "      \n",
        "      train_loss.backward()\n",
        "      optimizer.step()\n",
        "\n",
        "      return train_loss, train_acc,  validation_loss, validation_acc, save_model_flag \n",
        "\n",
        "def train(n_epochs, best_model_saving_path, min_valid_loss=np.inf):\n",
        "  list_train_loss, list_train_acc, list_val_loss, list_val_acc = [], [], [], []\n",
        "  \n",
        "  for epoch in range(1, n_epochs+1):\n",
        "    train_loss, train_acc, validation_loss, validation_acc, save_model_flag = train_one_epoch(min_valid_loss)\n",
        "    list_train_loss.append(float(train_loss.detach()))\n",
        "    list_train_acc.append(train_acc)\n",
        "    list_val_loss.append(float(validation_loss.detach()))\n",
        "    list_val_acc.append(validation_acc)\n",
        "    print(f'Epoch: {epoch:03d}, Trian Loss: {train_loss:.4f}, Trian Accuracy: {train_acc:.4f}, Validation Loss: {validation_loss:.4f}, Validation Accuracy: {validation_acc:.4f}')\n",
        "    \n",
        "    if save_model_flag:\n",
        "      min_valid_loss = validation_loss\n",
        "      print(f\" ******* Best model updated in epoch: {epoch}, Best validation loss: {min_valid_loss:.4f} *******\")\n",
        "      torch.save(model, best_model_saving_path)\n",
        "  \n",
        "  return list_train_loss, list_train_acc, list_val_loss, list_val_acc\n",
        "\n",
        "def test():\n",
        "      model.eval()\n",
        "      out = model(data)\n",
        "      test_loss = criterion(out[data.test_mask], data.y[data.test_mask])\n",
        "      pred = out.argmax(dim=1)\n",
        "      test_correct = pred[data.test_mask] == data.y[data.test_mask]\n",
        "      test_acc = int(test_correct.sum()) / int(data.test_mask.sum())\n",
        "      return test_acc, test_loss"
      ],
      "metadata": {
        "id": "2l3geyW6r5Fj"
      },
      "execution_count": 135,
      "outputs": []
    },
    {
      "cell_type": "markdown",
      "source": [
        "## Test Performance"
      ],
      "metadata": {
        "id": "riqdhm_VgQ3l"
      }
    },
    {
      "cell_type": "code",
      "source": [
        "list_train_loss, list_train_acc, list_val_loss, list_val_acc = train(n_epochs, 'best_model_saving_path', min_valid_loss)"
      ],
      "metadata": {
        "colab": {
          "base_uri": "https://localhost:8080/"
        },
        "id": "0SO1AVpVvO-3",
        "outputId": "d2616f80-e951-439b-e6a0-f40e05062aff"
      },
      "execution_count": 129,
      "outputs": [
        {
          "output_type": "stream",
          "name": "stdout",
          "text": [
            "Epoch: 001, Trian Loss: 0.1068, Trian Accuracy: 0.9929, Validation Loss: 0.9240, Validation Accuracy: 0.7040\n",
            " ******* Best model updated in epoch: 1, Best validation loss: 0.9240 *******\n",
            "Epoch: 002, Trian Loss: 0.1117, Trian Accuracy: 0.9929, Validation Loss: 0.9556, Validation Accuracy: 0.7060\n",
            "Epoch: 003, Trian Loss: 0.1266, Trian Accuracy: 0.9857, Validation Loss: 0.9487, Validation Accuracy: 0.7020\n",
            "Epoch: 004, Trian Loss: 0.1252, Trian Accuracy: 0.9786, Validation Loss: 1.0002, Validation Accuracy: 0.7020\n",
            "Epoch: 005, Trian Loss: 0.1109, Trian Accuracy: 0.9857, Validation Loss: 0.9860, Validation Accuracy: 0.6860\n",
            "Epoch: 006, Trian Loss: 0.1149, Trian Accuracy: 0.9857, Validation Loss: 0.9577, Validation Accuracy: 0.7040\n",
            "Epoch: 007, Trian Loss: 0.1157, Trian Accuracy: 0.9929, Validation Loss: 0.9095, Validation Accuracy: 0.7360\n",
            " ******* Best model updated in epoch: 7, Best validation loss: 0.9095 *******\n",
            "Epoch: 008, Trian Loss: 0.1122, Trian Accuracy: 0.9929, Validation Loss: 0.9696, Validation Accuracy: 0.7000\n",
            "Epoch: 009, Trian Loss: 0.1039, Trian Accuracy: 1.0000, Validation Loss: 0.9644, Validation Accuracy: 0.6980\n",
            "Epoch: 010, Trian Loss: 0.1006, Trian Accuracy: 1.0000, Validation Loss: 1.0108, Validation Accuracy: 0.6920\n",
            "Epoch: 011, Trian Loss: 0.1112, Trian Accuracy: 0.9857, Validation Loss: 0.9772, Validation Accuracy: 0.7140\n",
            "Epoch: 012, Trian Loss: 0.1196, Trian Accuracy: 1.0000, Validation Loss: 0.9378, Validation Accuracy: 0.7080\n",
            "Epoch: 013, Trian Loss: 0.1313, Trian Accuracy: 0.9929, Validation Loss: 0.9656, Validation Accuracy: 0.6840\n",
            "Epoch: 014, Trian Loss: 0.1149, Trian Accuracy: 0.9857, Validation Loss: 0.9137, Validation Accuracy: 0.7020\n",
            "Epoch: 015, Trian Loss: 0.1252, Trian Accuracy: 0.9929, Validation Loss: 0.9800, Validation Accuracy: 0.6820\n",
            "Epoch: 016, Trian Loss: 0.1085, Trian Accuracy: 0.9786, Validation Loss: 1.0114, Validation Accuracy: 0.6940\n",
            "Epoch: 017, Trian Loss: 0.1272, Trian Accuracy: 0.9786, Validation Loss: 0.9640, Validation Accuracy: 0.6960\n",
            "Epoch: 018, Trian Loss: 0.1091, Trian Accuracy: 1.0000, Validation Loss: 0.9605, Validation Accuracy: 0.7180\n",
            "Epoch: 019, Trian Loss: 0.1128, Trian Accuracy: 0.9929, Validation Loss: 0.9434, Validation Accuracy: 0.7200\n",
            "Epoch: 020, Trian Loss: 0.0952, Trian Accuracy: 0.9929, Validation Loss: 0.9668, Validation Accuracy: 0.6980\n",
            "Epoch: 021, Trian Loss: 0.1096, Trian Accuracy: 0.9929, Validation Loss: 0.9609, Validation Accuracy: 0.7040\n",
            "Epoch: 022, Trian Loss: 0.1252, Trian Accuracy: 0.9786, Validation Loss: 0.9660, Validation Accuracy: 0.6940\n",
            "Epoch: 023, Trian Loss: 0.1147, Trian Accuracy: 0.9929, Validation Loss: 0.9612, Validation Accuracy: 0.7200\n",
            "Epoch: 024, Trian Loss: 0.1273, Trian Accuracy: 0.9857, Validation Loss: 0.9801, Validation Accuracy: 0.6920\n",
            "Epoch: 025, Trian Loss: 0.1160, Trian Accuracy: 0.9857, Validation Loss: 0.9898, Validation Accuracy: 0.6880\n",
            "Epoch: 026, Trian Loss: 0.1041, Trian Accuracy: 1.0000, Validation Loss: 0.9156, Validation Accuracy: 0.7160\n",
            "Epoch: 027, Trian Loss: 0.1507, Trian Accuracy: 0.9857, Validation Loss: 0.9111, Validation Accuracy: 0.7020\n",
            "Epoch: 028, Trian Loss: 0.1177, Trian Accuracy: 0.9929, Validation Loss: 0.9507, Validation Accuracy: 0.7060\n",
            "Epoch: 029, Trian Loss: 0.1052, Trian Accuracy: 0.9929, Validation Loss: 0.9251, Validation Accuracy: 0.7220\n",
            "Epoch: 030, Trian Loss: 0.1119, Trian Accuracy: 0.9786, Validation Loss: 0.9944, Validation Accuracy: 0.6740\n",
            "Epoch: 031, Trian Loss: 0.1057, Trian Accuracy: 1.0000, Validation Loss: 0.9863, Validation Accuracy: 0.6980\n",
            "Epoch: 032, Trian Loss: 0.1104, Trian Accuracy: 0.9929, Validation Loss: 1.0412, Validation Accuracy: 0.7060\n",
            "Epoch: 033, Trian Loss: 0.1173, Trian Accuracy: 1.0000, Validation Loss: 0.9195, Validation Accuracy: 0.6940\n",
            "Epoch: 034, Trian Loss: 0.1035, Trian Accuracy: 1.0000, Validation Loss: 0.9828, Validation Accuracy: 0.7180\n",
            "Epoch: 035, Trian Loss: 0.1243, Trian Accuracy: 0.9929, Validation Loss: 0.9945, Validation Accuracy: 0.6920\n",
            "Epoch: 036, Trian Loss: 0.1045, Trian Accuracy: 0.9857, Validation Loss: 0.9727, Validation Accuracy: 0.7000\n",
            "Epoch: 037, Trian Loss: 0.1142, Trian Accuracy: 0.9929, Validation Loss: 0.9449, Validation Accuracy: 0.7220\n",
            "Epoch: 038, Trian Loss: 0.1014, Trian Accuracy: 0.9929, Validation Loss: 0.9491, Validation Accuracy: 0.7040\n",
            "Epoch: 039, Trian Loss: 0.1100, Trian Accuracy: 0.9929, Validation Loss: 0.9540, Validation Accuracy: 0.7100\n",
            "Epoch: 040, Trian Loss: 0.1217, Trian Accuracy: 0.9929, Validation Loss: 0.9040, Validation Accuracy: 0.7100\n",
            " ******* Best model updated in epoch: 40, Best validation loss: 0.9040 *******\n",
            "Epoch: 041, Trian Loss: 0.1173, Trian Accuracy: 0.9929, Validation Loss: 0.9516, Validation Accuracy: 0.6980\n",
            "Epoch: 042, Trian Loss: 0.1264, Trian Accuracy: 0.9929, Validation Loss: 0.9667, Validation Accuracy: 0.7080\n",
            "Epoch: 043, Trian Loss: 0.1055, Trian Accuracy: 0.9929, Validation Loss: 1.0054, Validation Accuracy: 0.6920\n",
            "Epoch: 044, Trian Loss: 0.1185, Trian Accuracy: 0.9929, Validation Loss: 0.9105, Validation Accuracy: 0.6900\n",
            "Epoch: 045, Trian Loss: 0.0984, Trian Accuracy: 1.0000, Validation Loss: 0.9991, Validation Accuracy: 0.6840\n",
            "Epoch: 046, Trian Loss: 0.1325, Trian Accuracy: 0.9857, Validation Loss: 0.9829, Validation Accuracy: 0.6820\n",
            "Epoch: 047, Trian Loss: 0.1212, Trian Accuracy: 0.9857, Validation Loss: 0.9638, Validation Accuracy: 0.7100\n",
            "Epoch: 048, Trian Loss: 0.1370, Trian Accuracy: 0.9857, Validation Loss: 0.9896, Validation Accuracy: 0.6920\n",
            "Epoch: 049, Trian Loss: 0.1045, Trian Accuracy: 1.0000, Validation Loss: 0.9852, Validation Accuracy: 0.7020\n",
            "Epoch: 050, Trian Loss: 0.1155, Trian Accuracy: 0.9857, Validation Loss: 0.9850, Validation Accuracy: 0.6920\n",
            "Epoch: 051, Trian Loss: 0.1216, Trian Accuracy: 1.0000, Validation Loss: 0.9726, Validation Accuracy: 0.7000\n",
            "Epoch: 052, Trian Loss: 0.1253, Trian Accuracy: 0.9857, Validation Loss: 0.9490, Validation Accuracy: 0.6900\n",
            "Epoch: 053, Trian Loss: 0.0985, Trian Accuracy: 0.9929, Validation Loss: 0.9764, Validation Accuracy: 0.6880\n",
            "Epoch: 054, Trian Loss: 0.1327, Trian Accuracy: 0.9786, Validation Loss: 0.9442, Validation Accuracy: 0.6960\n",
            "Epoch: 055, Trian Loss: 0.0920, Trian Accuracy: 1.0000, Validation Loss: 0.9985, Validation Accuracy: 0.6900\n",
            "Epoch: 056, Trian Loss: 0.1325, Trian Accuracy: 0.9857, Validation Loss: 1.0236, Validation Accuracy: 0.6980\n",
            "Epoch: 057, Trian Loss: 0.1475, Trian Accuracy: 0.9714, Validation Loss: 0.9622, Validation Accuracy: 0.7020\n",
            "Epoch: 058, Trian Loss: 0.1187, Trian Accuracy: 0.9929, Validation Loss: 0.9721, Validation Accuracy: 0.7020\n",
            "Epoch: 059, Trian Loss: 0.1016, Trian Accuracy: 0.9929, Validation Loss: 0.9695, Validation Accuracy: 0.6900\n",
            "Epoch: 060, Trian Loss: 0.1105, Trian Accuracy: 0.9929, Validation Loss: 0.9281, Validation Accuracy: 0.6940\n",
            "Epoch: 061, Trian Loss: 0.1096, Trian Accuracy: 1.0000, Validation Loss: 0.9406, Validation Accuracy: 0.7080\n",
            "Epoch: 062, Trian Loss: 0.1373, Trian Accuracy: 0.9714, Validation Loss: 0.9424, Validation Accuracy: 0.7120\n",
            "Epoch: 063, Trian Loss: 0.1286, Trian Accuracy: 1.0000, Validation Loss: 1.0066, Validation Accuracy: 0.6860\n",
            "Epoch: 064, Trian Loss: 0.1379, Trian Accuracy: 0.9857, Validation Loss: 0.9568, Validation Accuracy: 0.7040\n",
            "Epoch: 065, Trian Loss: 0.0974, Trian Accuracy: 0.9929, Validation Loss: 0.9544, Validation Accuracy: 0.6940\n",
            "Epoch: 066, Trian Loss: 0.1150, Trian Accuracy: 0.9929, Validation Loss: 0.9987, Validation Accuracy: 0.6800\n",
            "Epoch: 067, Trian Loss: 0.1284, Trian Accuracy: 0.9929, Validation Loss: 0.9270, Validation Accuracy: 0.6980\n",
            "Epoch: 068, Trian Loss: 0.1326, Trian Accuracy: 1.0000, Validation Loss: 0.9160, Validation Accuracy: 0.7120\n",
            "Epoch: 069, Trian Loss: 0.1046, Trian Accuracy: 0.9929, Validation Loss: 0.9190, Validation Accuracy: 0.7000\n",
            "Epoch: 070, Trian Loss: 0.1406, Trian Accuracy: 0.9857, Validation Loss: 0.9878, Validation Accuracy: 0.6780\n",
            "Epoch: 071, Trian Loss: 0.1294, Trian Accuracy: 0.9857, Validation Loss: 0.9442, Validation Accuracy: 0.7260\n",
            "Epoch: 072, Trian Loss: 0.1279, Trian Accuracy: 0.9857, Validation Loss: 0.9796, Validation Accuracy: 0.6900\n",
            "Epoch: 073, Trian Loss: 0.1116, Trian Accuracy: 1.0000, Validation Loss: 0.9676, Validation Accuracy: 0.7020\n",
            "Epoch: 074, Trian Loss: 0.1065, Trian Accuracy: 0.9929, Validation Loss: 0.9563, Validation Accuracy: 0.7060\n",
            "Epoch: 075, Trian Loss: 0.1536, Trian Accuracy: 0.9714, Validation Loss: 0.9370, Validation Accuracy: 0.6860\n",
            "Epoch: 076, Trian Loss: 0.1227, Trian Accuracy: 1.0000, Validation Loss: 0.9659, Validation Accuracy: 0.6920\n",
            "Epoch: 077, Trian Loss: 0.1117, Trian Accuracy: 0.9929, Validation Loss: 1.0016, Validation Accuracy: 0.7020\n",
            "Epoch: 078, Trian Loss: 0.1157, Trian Accuracy: 0.9929, Validation Loss: 0.9759, Validation Accuracy: 0.6980\n",
            "Epoch: 079, Trian Loss: 0.1264, Trian Accuracy: 1.0000, Validation Loss: 1.0261, Validation Accuracy: 0.6480\n",
            "Epoch: 080, Trian Loss: 0.1279, Trian Accuracy: 0.9929, Validation Loss: 0.9795, Validation Accuracy: 0.6960\n",
            "Epoch: 081, Trian Loss: 0.1203, Trian Accuracy: 0.9714, Validation Loss: 0.9823, Validation Accuracy: 0.6940\n",
            "Epoch: 082, Trian Loss: 0.0960, Trian Accuracy: 0.9857, Validation Loss: 0.9414, Validation Accuracy: 0.6920\n",
            "Epoch: 083, Trian Loss: 0.1008, Trian Accuracy: 0.9929, Validation Loss: 0.9558, Validation Accuracy: 0.7040\n",
            "Epoch: 084, Trian Loss: 0.1228, Trian Accuracy: 0.9929, Validation Loss: 0.9527, Validation Accuracy: 0.7100\n",
            "Epoch: 085, Trian Loss: 0.1154, Trian Accuracy: 0.9929, Validation Loss: 1.0196, Validation Accuracy: 0.6900\n",
            "Epoch: 086, Trian Loss: 0.1142, Trian Accuracy: 0.9929, Validation Loss: 0.9903, Validation Accuracy: 0.6780\n",
            "Epoch: 087, Trian Loss: 0.1169, Trian Accuracy: 0.9857, Validation Loss: 0.9368, Validation Accuracy: 0.7060\n",
            "Epoch: 088, Trian Loss: 0.1152, Trian Accuracy: 0.9857, Validation Loss: 0.9721, Validation Accuracy: 0.7020\n",
            "Epoch: 089, Trian Loss: 0.1253, Trian Accuracy: 0.9929, Validation Loss: 0.9630, Validation Accuracy: 0.6640\n",
            "Epoch: 090, Trian Loss: 0.1487, Trian Accuracy: 0.9857, Validation Loss: 0.9732, Validation Accuracy: 0.6980\n",
            "Epoch: 091, Trian Loss: 0.1541, Trian Accuracy: 0.9714, Validation Loss: 0.9591, Validation Accuracy: 0.7160\n",
            "Epoch: 092, Trian Loss: 0.1361, Trian Accuracy: 0.9857, Validation Loss: 0.9486, Validation Accuracy: 0.7020\n",
            "Epoch: 093, Trian Loss: 0.1312, Trian Accuracy: 1.0000, Validation Loss: 0.9784, Validation Accuracy: 0.6880\n",
            "Epoch: 094, Trian Loss: 0.1391, Trian Accuracy: 0.9929, Validation Loss: 1.0009, Validation Accuracy: 0.6800\n",
            "Epoch: 095, Trian Loss: 0.1322, Trian Accuracy: 0.9786, Validation Loss: 0.9128, Validation Accuracy: 0.7280\n",
            "Epoch: 096, Trian Loss: 0.1136, Trian Accuracy: 1.0000, Validation Loss: 0.9590, Validation Accuracy: 0.7040\n",
            "Epoch: 097, Trian Loss: 0.1134, Trian Accuracy: 0.9857, Validation Loss: 0.9933, Validation Accuracy: 0.6900\n",
            "Epoch: 098, Trian Loss: 0.1122, Trian Accuracy: 1.0000, Validation Loss: 1.0248, Validation Accuracy: 0.6800\n",
            "Epoch: 099, Trian Loss: 0.0969, Trian Accuracy: 0.9929, Validation Loss: 0.9966, Validation Accuracy: 0.7000\n",
            "Epoch: 100, Trian Loss: 0.1001, Trian Accuracy: 1.0000, Validation Loss: 0.9717, Validation Accuracy: 0.6920\n",
            "Epoch: 101, Trian Loss: 0.1332, Trian Accuracy: 0.9929, Validation Loss: 0.9519, Validation Accuracy: 0.6960\n",
            "Epoch: 102, Trian Loss: 0.1188, Trian Accuracy: 1.0000, Validation Loss: 0.9757, Validation Accuracy: 0.7100\n",
            "Epoch: 103, Trian Loss: 0.1150, Trian Accuracy: 1.0000, Validation Loss: 0.9795, Validation Accuracy: 0.6780\n",
            "Epoch: 104, Trian Loss: 0.1210, Trian Accuracy: 0.9857, Validation Loss: 0.9446, Validation Accuracy: 0.7180\n",
            "Epoch: 105, Trian Loss: 0.1230, Trian Accuracy: 0.9786, Validation Loss: 0.9260, Validation Accuracy: 0.6940\n",
            "Epoch: 106, Trian Loss: 0.1071, Trian Accuracy: 0.9857, Validation Loss: 0.9618, Validation Accuracy: 0.6840\n",
            "Epoch: 107, Trian Loss: 0.1122, Trian Accuracy: 0.9857, Validation Loss: 0.8722, Validation Accuracy: 0.7300\n",
            " ******* Best model updated in epoch: 107, Best validation loss: 0.8722 *******\n",
            "Epoch: 108, Trian Loss: 0.1255, Trian Accuracy: 0.9714, Validation Loss: 0.9548, Validation Accuracy: 0.7180\n",
            "Epoch: 109, Trian Loss: 0.1293, Trian Accuracy: 1.0000, Validation Loss: 0.9848, Validation Accuracy: 0.7140\n",
            "Epoch: 110, Trian Loss: 0.1143, Trian Accuracy: 0.9929, Validation Loss: 0.9759, Validation Accuracy: 0.7020\n",
            "Epoch: 111, Trian Loss: 0.1096, Trian Accuracy: 0.9929, Validation Loss: 0.9321, Validation Accuracy: 0.7080\n",
            "Epoch: 112, Trian Loss: 0.1322, Trian Accuracy: 0.9857, Validation Loss: 0.9545, Validation Accuracy: 0.6920\n",
            "Epoch: 113, Trian Loss: 0.1103, Trian Accuracy: 0.9857, Validation Loss: 1.0006, Validation Accuracy: 0.7120\n",
            "Epoch: 114, Trian Loss: 0.1205, Trian Accuracy: 0.9857, Validation Loss: 0.9341, Validation Accuracy: 0.7160\n",
            "Epoch: 115, Trian Loss: 0.1346, Trian Accuracy: 0.9786, Validation Loss: 0.9738, Validation Accuracy: 0.6860\n",
            "Epoch: 116, Trian Loss: 0.1103, Trian Accuracy: 1.0000, Validation Loss: 0.9733, Validation Accuracy: 0.6900\n",
            "Epoch: 117, Trian Loss: 0.1361, Trian Accuracy: 0.9857, Validation Loss: 0.9841, Validation Accuracy: 0.6960\n",
            "Epoch: 118, Trian Loss: 0.1150, Trian Accuracy: 0.9929, Validation Loss: 0.9709, Validation Accuracy: 0.6740\n",
            "Epoch: 119, Trian Loss: 0.1307, Trian Accuracy: 0.9857, Validation Loss: 1.0019, Validation Accuracy: 0.7160\n",
            "Epoch: 120, Trian Loss: 0.1432, Trian Accuracy: 0.9786, Validation Loss: 1.0191, Validation Accuracy: 0.6580\n",
            "Epoch: 121, Trian Loss: 0.1077, Trian Accuracy: 0.9929, Validation Loss: 0.9905, Validation Accuracy: 0.7160\n",
            "Epoch: 122, Trian Loss: 0.1031, Trian Accuracy: 1.0000, Validation Loss: 1.0033, Validation Accuracy: 0.6880\n",
            "Epoch: 123, Trian Loss: 0.1108, Trian Accuracy: 1.0000, Validation Loss: 1.0141, Validation Accuracy: 0.6800\n",
            "Epoch: 124, Trian Loss: 0.0922, Trian Accuracy: 0.9857, Validation Loss: 0.9243, Validation Accuracy: 0.7120\n",
            "Epoch: 125, Trian Loss: 0.1308, Trian Accuracy: 0.9929, Validation Loss: 0.9313, Validation Accuracy: 0.7060\n",
            "Epoch: 126, Trian Loss: 0.1102, Trian Accuracy: 0.9857, Validation Loss: 0.9545, Validation Accuracy: 0.6900\n",
            "Epoch: 127, Trian Loss: 0.1331, Trian Accuracy: 0.9786, Validation Loss: 0.9258, Validation Accuracy: 0.7100\n",
            "Epoch: 128, Trian Loss: 0.1096, Trian Accuracy: 0.9929, Validation Loss: 0.9796, Validation Accuracy: 0.6940\n",
            "Epoch: 129, Trian Loss: 0.1069, Trian Accuracy: 1.0000, Validation Loss: 0.9269, Validation Accuracy: 0.7260\n",
            "Epoch: 130, Trian Loss: 0.1136, Trian Accuracy: 1.0000, Validation Loss: 0.9302, Validation Accuracy: 0.6900\n",
            "Epoch: 131, Trian Loss: 0.1091, Trian Accuracy: 0.9929, Validation Loss: 0.9459, Validation Accuracy: 0.7060\n",
            "Epoch: 132, Trian Loss: 0.1387, Trian Accuracy: 0.9857, Validation Loss: 0.9657, Validation Accuracy: 0.7080\n",
            "Epoch: 133, Trian Loss: 0.0984, Trian Accuracy: 0.9929, Validation Loss: 0.9889, Validation Accuracy: 0.6880\n",
            "Epoch: 134, Trian Loss: 0.1321, Trian Accuracy: 0.9929, Validation Loss: 0.9977, Validation Accuracy: 0.6760\n",
            "Epoch: 135, Trian Loss: 0.1267, Trian Accuracy: 0.9714, Validation Loss: 0.9273, Validation Accuracy: 0.6960\n",
            "Epoch: 136, Trian Loss: 0.1344, Trian Accuracy: 0.9857, Validation Loss: 0.9774, Validation Accuracy: 0.6740\n",
            "Epoch: 137, Trian Loss: 0.1212, Trian Accuracy: 1.0000, Validation Loss: 1.0169, Validation Accuracy: 0.6800\n",
            "Epoch: 138, Trian Loss: 0.1196, Trian Accuracy: 1.0000, Validation Loss: 0.9272, Validation Accuracy: 0.7160\n",
            "Epoch: 139, Trian Loss: 0.1102, Trian Accuracy: 0.9929, Validation Loss: 0.9338, Validation Accuracy: 0.7080\n",
            "Epoch: 140, Trian Loss: 0.1346, Trian Accuracy: 0.9857, Validation Loss: 0.9855, Validation Accuracy: 0.7140\n",
            "Epoch: 141, Trian Loss: 0.1299, Trian Accuracy: 0.9857, Validation Loss: 0.9415, Validation Accuracy: 0.7040\n",
            "Epoch: 142, Trian Loss: 0.1164, Trian Accuracy: 1.0000, Validation Loss: 0.9388, Validation Accuracy: 0.7020\n",
            "Epoch: 143, Trian Loss: 0.1153, Trian Accuracy: 1.0000, Validation Loss: 0.9569, Validation Accuracy: 0.7080\n",
            "Epoch: 144, Trian Loss: 0.1148, Trian Accuracy: 0.9929, Validation Loss: 0.9940, Validation Accuracy: 0.6860\n",
            "Epoch: 145, Trian Loss: 0.1163, Trian Accuracy: 1.0000, Validation Loss: 0.9300, Validation Accuracy: 0.7180\n",
            "Epoch: 146, Trian Loss: 0.1507, Trian Accuracy: 0.9786, Validation Loss: 0.9517, Validation Accuracy: 0.6860\n",
            "Epoch: 147, Trian Loss: 0.1301, Trian Accuracy: 0.9857, Validation Loss: 0.9117, Validation Accuracy: 0.6980\n",
            "Epoch: 148, Trian Loss: 0.1154, Trian Accuracy: 0.9929, Validation Loss: 0.9949, Validation Accuracy: 0.6820\n",
            "Epoch: 149, Trian Loss: 0.1077, Trian Accuracy: 1.0000, Validation Loss: 0.9939, Validation Accuracy: 0.6940\n",
            "Epoch: 150, Trian Loss: 0.1035, Trian Accuracy: 0.9929, Validation Loss: 0.9299, Validation Accuracy: 0.7020\n"
          ]
        }
      ]
    },
    {
      "cell_type": "code",
      "source": [
        "# out = model(data)\n",
        "# visualize(out, color=data.y)"
      ],
      "metadata": {
        "id": "WDce0QzwtrYJ"
      },
      "execution_count": 130,
      "outputs": []
    },
    {
      "cell_type": "code",
      "source": [
        "model = torch.load('best_model.pth')\n",
        "test_acc, test_loss = test()\n",
        "print(f'Test Accuracy: {test_acc:.4f}, Test loss: {test_loss:.4f}')"
      ],
      "metadata": {
        "colab": {
          "base_uri": "https://localhost:8080/"
        },
        "id": "XSjDkmD9tknD",
        "outputId": "1c26939d-ce4e-4cfa-dcd5-61b7aec2ab46"
      },
      "execution_count": 131,
      "outputs": [
        {
          "output_type": "stream",
          "name": "stdout",
          "text": [
            "Test Accuracy: 0.7670, Test loss: 0.7643\n"
          ]
        }
      ]
    },
    {
      "cell_type": "code",
      "source": [
        "plot_history(list_train_loss, list_train_acc, list_val_loss, list_val_acc, n_epochs, title='2-layer-GCN')\n"
      ],
      "metadata": {
        "colab": {
          "base_uri": "https://localhost:8080/",
          "height": 408
        },
        "id": "9LzCT8KHkdPF",
        "outputId": "5d55b9be-a5a8-49c8-812b-c0d804f81692"
      },
      "execution_count": 132,
      "outputs": [
        {
          "output_type": "display_data",
          "data": {
            "text/plain": [
              "<Figure size 864x432 with 1 Axes>"
            ],
            "image/png": "[encoded data removed]"
          },
          "metadata": {
            "needs_background": "light"
          }
        }
      ]
    },
    {
      "cell_type": "code",
      "source": [],
      "metadata": {
        "id": "EG4FqUiCgVuZ"
      },
      "execution_count": null,
      "outputs": []
    }
  ]
}