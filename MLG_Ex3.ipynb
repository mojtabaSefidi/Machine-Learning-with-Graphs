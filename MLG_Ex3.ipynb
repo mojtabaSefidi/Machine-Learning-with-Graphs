{
  "cells": [
    {
      "cell_type": "markdown",
      "metadata": {
        "id": "view-in-github",
        "colab_type": "text"
      },
      "source": [
        "<a href=\"https://colab.research.google.com/github/mojtabaSefidi/Machine-Learning-with-Graphs/blob/main/MLG_Ex3.ipynb\" target=\"_parent\"><img src=\"https://colab.research.google.com/assets/colab-badge.svg\" alt=\"Open In Colab\"/></a>"
      ]
    },
    {
      "cell_type": "markdown",
      "metadata": {
        "id": "lwlKn2JrXvYo"
      },
      "source": [
        "## Install Essential Packages"
      ]
    },
    {
      "cell_type": "code",
      "execution_count": 1,
      "metadata": {
        "colab": {
          "base_uri": "https://localhost:8080/"
        },
        "id": "eyylEyBAw67k",
        "outputId": "8c5e25c0-efeb-47c6-fce2-48bfc94e6d57"
      },
      "outputs": [
        {
          "output_type": "stream",
          "name": "stdout",
          "text": [
            "\u001b[K     |████████████████████████████████| 564 kB 5.3 MB/s \n",
            "\u001b[K     |████████████████████████████████| 280 kB 48.7 MB/s \n",
            "\u001b[?25h  Building wheel for torch-geometric (setup.py) ... \u001b[?25l\u001b[?25hdone\n",
            "\u001b[K     |████████████████████████████████| 48 kB 2.7 MB/s \n",
            "\u001b[?25h  Building wheel for torch-sparse (setup.py) ... \u001b[?25l\u001b[?25hdone\n",
            "\u001b[K     |████████████████████████████████| 106 kB 5.4 MB/s \n",
            "\u001b[?25h  Building wheel for torch-scatter (setup.py) ... \u001b[?25l\u001b[?25hdone\n"
          ]
        }
      ],
      "source": [
        "!pip install -q torch_geometric\n",
        "!pip install -q torch-sparse==0.6.13\n",
        "!pip install -q torch_scatter"
      ]
    },
    {
      "cell_type": "markdown",
      "metadata": {
        "id": "FcOrS826X3wJ"
      },
      "source": [
        "## Install Essential Libraries"
      ]
    },
    {
      "cell_type": "code",
      "execution_count": 85,
      "metadata": {
        "id": "OCSrkduHlCPt"
      },
      "outputs": [],
      "source": [
        "%matplotlib inline\n",
        "import matplotlib.pyplot as plt\n",
        "from sklearn.manifold import TSNE\n",
        "import torch\n",
        "import networkx as nx\n",
        "import torch_geometric\n",
        "from torch_geometric.utils import to_networkx\n",
        "from torch_geometric.datasets import TUDataset\n",
        "from torch_geometric.transforms import NormalizeFeatures\n",
        "from torch_geometric.loader import DataLoader\n",
        "from torch.nn import Linear\n",
        "import torch.nn.functional as F\n",
        "from torch_geometric.nn import GCNConv\n",
        "from torch_geometric.nn import global_mean_pool, global_max_pool, global_add_pool"
      ]
    },
    {
      "cell_type": "code",
      "source": [
        "def plot_history(list_train_loss, list_train_acc, list_val_loss, list_val_acc, n_epochs, title):\n",
        "    \n",
        "    plt.figure(figsize=(18,8),linewidth = 7, edgecolor=\"whitesmoke\")    \n",
        "    n = n_epochs\n",
        "    \n",
        "    plt.plot(list(range(1, n_epochs+1)), list_train_acc, color='orange',marker=\".\")\n",
        "    plt.plot(list(range(1, n_epochs+1)), list_train_loss,'b',marker=\".\")\n",
        "    \n",
        "    plt.plot(list(range(1, n_epochs+1)), list_val_acc,'r')  \n",
        "    plt.plot(list(range(1, n_epochs+1)), list_val_loss,'g')\n",
        "    \n",
        "    plt.legend(['Train Accuracy','Train Loss','Val Accuracy','Val Loss'])\n",
        "    plt.grid(True)\n",
        "    \n",
        "    # plt.gca().set_ylim(0,1)\n",
        "\n",
        "    plt.xlabel(\"Number of Epochs\")\n",
        "    plt.ylabel(\"Value\")\n",
        "    plt.suptitle(title, size=16, y=0.927)\n",
        "    plt.show()"
      ],
      "metadata": {
        "id": "u58ez8Rrjjt7"
      },
      "execution_count": 91,
      "outputs": []
    },
    {
      "cell_type": "markdown",
      "metadata": {
        "id": "LswIWaVoX901"
      },
      "source": [
        "## Read the Dataset"
      ]
    },
    {
      "cell_type": "code",
      "execution_count": 3,
      "metadata": {
        "colab": {
          "base_uri": "https://localhost:8080/"
        },
        "id": "ZjGUj-btw3_l",
        "outputId": "f375e0a9-d489-4e93-8215-fa7f55da779a"
      },
      "outputs": [
        {
          "output_type": "stream",
          "name": "stderr",
          "text": [
            "Downloading https://www.chrsmrrs.com/graphkerneldatasets/MUTAG.zip\n",
            "Extracting /tmp/MUTAG/MUTAG/MUTAG.zip\n",
            "Processing...\n",
            "Done!\n"
          ]
        }
      ],
      "source": [
        "dataset = TUDataset(root='/tmp/MUTAG', name='MUTAG', transform=NormalizeFeatures())"
      ]
    },
    {
      "cell_type": "markdown",
      "source": [
        "## Split the Dataset"
      ],
      "metadata": {
        "id": "PsRdPLG1Xs-F"
      }
    },
    {
      "cell_type": "code",
      "execution_count": 4,
      "metadata": {
        "id": "vzS-UfyH8jrI"
      },
      "outputs": [],
      "source": [
        "def split_data(dataset, train_split_percentage):\n",
        "  cut_index = int(len(dataset) * train_split_percentage)\n",
        "  dataset = dataset.shuffle()\n",
        "  return dataset[:cut_index], dataset[cut_index:]"
      ]
    },
    {
      "cell_type": "markdown",
      "source": [
        "## Batch Generator"
      ],
      "metadata": {
        "id": "653dTXpRXxGU"
      }
    },
    {
      "cell_type": "code",
      "source": [
        "def batch_generator(train_dataset, test_dataset, batch_size, shuffle=True):\n",
        "  train_data_loader = DataLoader(train_dataset, batch_size=batch_size, shuffle=shuffle)\n",
        "  test_data_loader = DataLoader(test_dataset, batch_size=batch_size, shuffle=shuffle)\n",
        "  return train_data_loader, test_data_loader"
      ],
      "metadata": {
        "id": "mQDaOhdXXpg0"
      },
      "execution_count": null,
      "outputs": []
    },
    {
      "cell_type": "code",
      "execution_count": 77,
      "metadata": {
        "colab": {
          "base_uri": "https://localhost:8080/"
        },
        "id": "sW8hRZar-3_X",
        "outputId": "6900cce8-e940-4e3e-fcb3-f6d478ffe09a"
      },
      "outputs": [
        {
          "output_type": "stream",
          "name": "stdout",
          "text": [
            "Batch 1:\n",
            "=======\n",
            "Number of graphs in the current batch: 64\n",
            "DataBatch(edge_index=[2, 2612], x=[1181, 7], edge_attr=[2612, 4], y=[64], batch=[1181], ptr=[65])\n",
            "\n",
            "Batch 2:\n",
            "=======\n",
            "Number of graphs in the current batch: 64\n",
            "DataBatch(edge_index=[2, 2382], x=[1088, 7], edge_attr=[2382, 4], y=[64], batch=[1088], ptr=[65])\n",
            "\n",
            "Batch 3:\n",
            "=======\n",
            "Number of graphs in the current batch: 22\n",
            "DataBatch(edge_index=[2, 946], x=[427, 7], edge_attr=[946, 4], y=[22], batch=[427], ptr=[23])\n",
            "\n"
          ]
        }
      ],
      "source": [
        "train_data_loader, test_data_loader =  batch_generator(train_dataset, test_dataset, batch_size=64)\n",
        "\n",
        "for batch, data in enumerate(train_data_loader):\n",
        "    print(f'Batch {batch + 1}:')\n",
        "    print('=======')\n",
        "    print(f'Number of graphs in the current batch: {data.num_graphs}')\n",
        "    print(data)\n",
        "    print()\n"
      ]
    },
    {
      "cell_type": "code",
      "execution_count": 78,
      "metadata": {
        "id": "wAcbp5Ji_yV1"
      },
      "outputs": [],
      "source": [
        "class GCN_Mean(torch.nn.Module):\n",
        "    def __init__(self, hidden_channels):\n",
        "        super(GCN_Mean, self).__init__()\n",
        "        torch.manual_seed(12345)\n",
        "        self.conv1 = GCNConv(dataset.num_node_features, hidden_channels)\n",
        "        self.conv2 = GCNConv(hidden_channels, hidden_channels)\n",
        "        self.conv3 = GCNConv(hidden_channels, hidden_channels)\n",
        "        self.lin = Linear(hidden_channels, dataset.num_classes)\n",
        "\n",
        "    def forward(self, x, edge_index, batch):\n",
        "        # 1. Obtain node embeddings \n",
        "        x = self.conv1(x, edge_index)\n",
        "        x = x.relu()\n",
        "        x = self.conv2(x, edge_index)\n",
        "        x = x.relu()\n",
        "        x = self.conv3(x, edge_index)\n",
        "\n",
        "        # 2. Readout layer\n",
        "        x = global_mean_pool(x, batch)  # [batch_size, hidden_channels]\n",
        "\n",
        "        # 3. Apply a final classifier\n",
        "        x = F.dropout(x, p=0.5, training=self.training)\n",
        "        x = self.lin(x)\n",
        "        \n",
        "        return x\n"
      ]
    },
    {
      "cell_type": "code",
      "execution_count": 79,
      "metadata": {
        "id": "kgc38NtxAima"
      },
      "outputs": [],
      "source": [
        "class GCN_Max(torch.nn.Module):\n",
        "    def __init__(self, hidden_channels):\n",
        "        super(GCN_Max, self).__init__()\n",
        "        torch.manual_seed(12345)\n",
        "        self.conv1 = GCNConv(dataset.num_node_features, hidden_channels)\n",
        "        self.conv2 = GCNConv(hidden_channels, hidden_channels)\n",
        "        self.conv3 = GCNConv(hidden_channels, hidden_channels)\n",
        "        self.lin = Linear(hidden_channels, dataset.num_classes)\n",
        "\n",
        "    def forward(self, x, edge_index, batch):\n",
        "        # 1. Obtain node embeddings \n",
        "        x = self.conv1(x, edge_index)\n",
        "        x = x.relu()\n",
        "        x = self.conv2(x, edge_index)\n",
        "        x = x.relu()\n",
        "        x = self.conv3(x, edge_index)\n",
        "\n",
        "        # 2. Readout layer\n",
        "        x = global_max_pool(x, batch)  # [batch_size, hidden_channels]\n",
        "\n",
        "        # 3. Apply a final classifier\n",
        "        x = F.dropout(x, p=0.5, training=self.training)\n",
        "        x = self.lin(x)\n",
        "        \n",
        "        return x"
      ]
    },
    {
      "cell_type": "code",
      "execution_count": 86,
      "metadata": {
        "id": "FwsZAO98AjOS"
      },
      "outputs": [],
      "source": [
        "class GCN_Add(torch.nn.Module):\n",
        "    def __init__(self, hidden_channels):\n",
        "        super(GCN_Add, self).__init__()\n",
        "        torch.manual_seed(12345)\n",
        "        self.conv1 = GCNConv(dataset.num_node_features, hidden_channels)\n",
        "        self.conv2 = GCNConv(hidden_channels, hidden_channels)\n",
        "        self.conv3 = GCNConv(hidden_channels, hidden_channels)\n",
        "        self.lin = Linear(hidden_channels, dataset.num_classes)\n",
        "\n",
        "    def forward(self, x, edge_index, batch):\n",
        "        # 1. Obtain node embeddings \n",
        "        x = self.conv1(x, edge_index)\n",
        "        x = x.relu()\n",
        "        x = self.conv2(x, edge_index)\n",
        "        x = x.relu()\n",
        "        x = self.conv3(x, edge_index)\n",
        "\n",
        "        # 2. Readout layer\n",
        "        x = global_add_pool(x, batch)  # [batch_size, hidden_channels]\n",
        "\n",
        "        # 3. Apply a final classifier\n",
        "        x = F.dropout(x, p=0.5, training=self.training)\n",
        "        x = self.lin(x)\n",
        "        \n",
        "        return x"
      ]
    },
    {
      "cell_type": "code",
      "execution_count": 87,
      "metadata": {
        "colab": {
          "base_uri": "https://localhost:8080/"
        },
        "id": "d3XjuJw-AddD",
        "outputId": "0416defb-a51e-45e7-da6e-e01f783511ed"
      },
      "outputs": [
        {
          "output_type": "stream",
          "name": "stdout",
          "text": [
            "GCN_Add(\n",
            "  (conv1): GCNConv(7, 64)\n",
            "  (conv2): GCNConv(64, 64)\n",
            "  (conv3): GCNConv(64, 64)\n",
            "  (lin): Linear(in_features=64, out_features=2, bias=True)\n",
            ")\n"
          ]
        }
      ],
      "source": [
        "model = GCN_Add(hidden_channels=64)\n",
        "print(model)"
      ]
    },
    {
      "cell_type": "code",
      "execution_count": 88,
      "metadata": {
        "id": "E2fKMQxpBoYR"
      },
      "outputs": [],
      "source": [
        "optimizer = torch.optim.Adam(model.parameters(), lr=0.01)\n",
        "criterion = torch.nn.CrossEntropyLoss()\n",
        "n_epochs = 500\n",
        "\n",
        "def train(data_loader):\n",
        "    model.train()\n",
        "\n",
        "    for data in data_loader:\n",
        "         out = model(data.x, data.edge_index, data.batch)\n",
        "         loss = criterion(out, data.y)\n",
        "         loss.backward()\n",
        "         optimizer.step()\n",
        "         optimizer.zero_grad()\n",
        "\n",
        "def evaluate(data_loader):\n",
        "     model.eval()\n",
        "\n",
        "     correct, loss = 0, 0\n",
        "     for data in data_loader:\n",
        "         out = model(data.x, data.edge_index, data.batch)\n",
        "         loss += criterion(out, data.y)  \n",
        "         pred = out.argmax(dim=1)\n",
        "         correct += int((pred == data.y).sum())\n",
        "     return correct / len(data_loader.dataset), loss/ len(data_loader.dataset)\n",
        "\n",
        "def train_and_evaluate(train_data_loader, test_data_loader, n_epochs=200):\n",
        "  \n",
        "  list_train_acc, list_train_loss, list_test_acc, list_test_loss = [], [], [], []\n",
        "  for epoch in range(1, n_epochs+1):\n",
        "      train(train_data_loader)\n",
        "      \n",
        "      train_accuracy, train_loss = evaluate(train_data_loader)\n",
        "      list_train_acc.append(train_accuracy)\n",
        "      list_train_loss.append(float(train_loss.detach()))\n",
        "      \n",
        "      test_accuracy, test_loss = evaluate(test_data_loader)\n",
        "      list_test_acc.append(test_accuracy)\n",
        "      list_test_loss.append(float(test_loss.detach()))\n",
        "\n",
        "      print(f'Epoch: {epoch:03d}, Train Accuracy: {train_accuracy:.4f}, Train Loss: {train_loss:.4f}, Test Accuracy: {test_accuracy:.4f}, Test Loss: {test_loss:.4f}')\n",
        "  \n",
        "  return list_train_acc, list_train_loss, list_test_acc, list_test_loss"
      ]
    },
    {
      "cell_type": "code",
      "source": [
        "list_train_acc, list_train_loss, list_test_acc, list_test_loss = train_and_evaluate(train_data_loader, test_data_loader, n_epochs=200)"
      ],
      "metadata": {
        "colab": {
          "base_uri": "https://localhost:8080/"
        },
        "id": "FxWAsDaddJoW",
        "outputId": "c7fd497d-2a8b-4057-bb0c-aafa5b6332df"
      },
      "execution_count": 89,
      "outputs": [
        {
          "output_type": "stream",
          "name": "stdout",
          "text": [
            "Epoch: 001, Train Accuracy: 0.6667, Train Loss: 0.0127, Test Accuracy: 0.6579, Test Loss: 0.0180\n",
            "Epoch: 002, Train Accuracy: 0.7000, Train Loss: 0.0136, Test Accuracy: 0.6842, Test Loss: 0.0179\n",
            "Epoch: 003, Train Accuracy: 0.6667, Train Loss: 0.0115, Test Accuracy: 0.6579, Test Loss: 0.0153\n",
            "Epoch: 004, Train Accuracy: 0.6667, Train Loss: 0.0108, Test Accuracy: 0.6579, Test Loss: 0.0165\n",
            "Epoch: 005, Train Accuracy: 0.6667, Train Loss: 0.0109, Test Accuracy: 0.6579, Test Loss: 0.0149\n",
            "Epoch: 006, Train Accuracy: 0.6667, Train Loss: 0.0118, Test Accuracy: 0.6579, Test Loss: 0.0157\n",
            "Epoch: 007, Train Accuracy: 0.6667, Train Loss: 0.0108, Test Accuracy: 0.6579, Test Loss: 0.0146\n",
            "Epoch: 008, Train Accuracy: 0.6667, Train Loss: 0.0111, Test Accuracy: 0.6579, Test Loss: 0.0151\n",
            "Epoch: 009, Train Accuracy: 0.6667, Train Loss: 0.0101, Test Accuracy: 0.6579, Test Loss: 0.0147\n",
            "Epoch: 010, Train Accuracy: 0.6800, Train Loss: 0.0102, Test Accuracy: 0.6579, Test Loss: 0.0142\n",
            "Epoch: 011, Train Accuracy: 0.7467, Train Loss: 0.0095, Test Accuracy: 0.6579, Test Loss: 0.0142\n",
            "Epoch: 012, Train Accuracy: 0.7200, Train Loss: 0.0091, Test Accuracy: 0.6579, Test Loss: 0.0154\n",
            "Epoch: 013, Train Accuracy: 0.7533, Train Loss: 0.0091, Test Accuracy: 0.6579, Test Loss: 0.0141\n",
            "Epoch: 014, Train Accuracy: 0.7533, Train Loss: 0.0090, Test Accuracy: 0.6579, Test Loss: 0.0139\n",
            "Epoch: 015, Train Accuracy: 0.7867, Train Loss: 0.0100, Test Accuracy: 0.6842, Test Loss: 0.0166\n",
            "Epoch: 016, Train Accuracy: 0.7600, Train Loss: 0.0099, Test Accuracy: 0.6579, Test Loss: 0.0150\n",
            "Epoch: 017, Train Accuracy: 0.7600, Train Loss: 0.0090, Test Accuracy: 0.6579, Test Loss: 0.0139\n",
            "Epoch: 018, Train Accuracy: 0.7733, Train Loss: 0.0083, Test Accuracy: 0.7105, Test Loss: 0.0165\n",
            "Epoch: 019, Train Accuracy: 0.7667, Train Loss: 0.0086, Test Accuracy: 0.6579, Test Loss: 0.0139\n",
            "Epoch: 020, Train Accuracy: 0.7667, Train Loss: 0.0086, Test Accuracy: 0.6842, Test Loss: 0.0137\n",
            "Epoch: 021, Train Accuracy: 0.7733, Train Loss: 0.0090, Test Accuracy: 0.6579, Test Loss: 0.0143\n",
            "Epoch: 022, Train Accuracy: 0.7800, Train Loss: 0.0088, Test Accuracy: 0.6842, Test Loss: 0.0142\n",
            "Epoch: 023, Train Accuracy: 0.7933, Train Loss: 0.0085, Test Accuracy: 0.6842, Test Loss: 0.0145\n",
            "Epoch: 024, Train Accuracy: 0.7800, Train Loss: 0.0098, Test Accuracy: 0.6842, Test Loss: 0.0150\n",
            "Epoch: 025, Train Accuracy: 0.7867, Train Loss: 0.0085, Test Accuracy: 0.6842, Test Loss: 0.0150\n",
            "Epoch: 026, Train Accuracy: 0.7933, Train Loss: 0.0088, Test Accuracy: 0.6842, Test Loss: 0.0135\n",
            "Epoch: 027, Train Accuracy: 0.7867, Train Loss: 0.0097, Test Accuracy: 0.7105, Test Loss: 0.0133\n",
            "Epoch: 028, Train Accuracy: 0.7800, Train Loss: 0.0089, Test Accuracy: 0.6842, Test Loss: 0.0143\n",
            "Epoch: 029, Train Accuracy: 0.8000, Train Loss: 0.0085, Test Accuracy: 0.6842, Test Loss: 0.0146\n",
            "Epoch: 030, Train Accuracy: 0.7733, Train Loss: 0.0090, Test Accuracy: 0.6842, Test Loss: 0.0136\n",
            "Epoch: 031, Train Accuracy: 0.7667, Train Loss: 0.0085, Test Accuracy: 0.6842, Test Loss: 0.0140\n",
            "Epoch: 032, Train Accuracy: 0.7933, Train Loss: 0.0087, Test Accuracy: 0.7105, Test Loss: 0.0148\n",
            "Epoch: 033, Train Accuracy: 0.7800, Train Loss: 0.0087, Test Accuracy: 0.7105, Test Loss: 0.0148\n",
            "Epoch: 034, Train Accuracy: 0.7733, Train Loss: 0.0087, Test Accuracy: 0.6842, Test Loss: 0.0143\n",
            "Epoch: 035, Train Accuracy: 0.7600, Train Loss: 0.0081, Test Accuracy: 0.6842, Test Loss: 0.0142\n",
            "Epoch: 036, Train Accuracy: 0.7867, Train Loss: 0.0087, Test Accuracy: 0.7105, Test Loss: 0.0146\n",
            "Epoch: 037, Train Accuracy: 0.7667, Train Loss: 0.0080, Test Accuracy: 0.6842, Test Loss: 0.0136\n",
            "Epoch: 038, Train Accuracy: 0.7733, Train Loss: 0.0085, Test Accuracy: 0.6842, Test Loss: 0.0134\n",
            "Epoch: 039, Train Accuracy: 0.7933, Train Loss: 0.0082, Test Accuracy: 0.7105, Test Loss: 0.0137\n",
            "Epoch: 040, Train Accuracy: 0.7800, Train Loss: 0.0089, Test Accuracy: 0.6842, Test Loss: 0.0130\n",
            "Epoch: 041, Train Accuracy: 0.7933, Train Loss: 0.0082, Test Accuracy: 0.6842, Test Loss: 0.0134\n",
            "Epoch: 042, Train Accuracy: 0.8000, Train Loss: 0.0089, Test Accuracy: 0.6842, Test Loss: 0.0149\n",
            "Epoch: 043, Train Accuracy: 0.7867, Train Loss: 0.0077, Test Accuracy: 0.6842, Test Loss: 0.0142\n",
            "Epoch: 044, Train Accuracy: 0.7867, Train Loss: 0.0087, Test Accuracy: 0.6842, Test Loss: 0.0134\n",
            "Epoch: 045, Train Accuracy: 0.7733, Train Loss: 0.0086, Test Accuracy: 0.6842, Test Loss: 0.0147\n",
            "Epoch: 046, Train Accuracy: 0.7933, Train Loss: 0.0087, Test Accuracy: 0.6842, Test Loss: 0.0143\n",
            "Epoch: 047, Train Accuracy: 0.7933, Train Loss: 0.0088, Test Accuracy: 0.6842, Test Loss: 0.0130\n",
            "Epoch: 048, Train Accuracy: 0.8000, Train Loss: 0.0079, Test Accuracy: 0.7105, Test Loss: 0.0142\n",
            "Epoch: 049, Train Accuracy: 0.8000, Train Loss: 0.0085, Test Accuracy: 0.6842, Test Loss: 0.0145\n",
            "Epoch: 050, Train Accuracy: 0.8000, Train Loss: 0.0085, Test Accuracy: 0.7368, Test Loss: 0.0129\n",
            "Epoch: 051, Train Accuracy: 0.8000, Train Loss: 0.0088, Test Accuracy: 0.7368, Test Loss: 0.0130\n",
            "Epoch: 052, Train Accuracy: 0.8000, Train Loss: 0.0087, Test Accuracy: 0.7105, Test Loss: 0.0149\n",
            "Epoch: 053, Train Accuracy: 0.8067, Train Loss: 0.0095, Test Accuracy: 0.6842, Test Loss: 0.0167\n",
            "Epoch: 054, Train Accuracy: 0.7867, Train Loss: 0.0083, Test Accuracy: 0.6842, Test Loss: 0.0139\n",
            "Epoch: 055, Train Accuracy: 0.7933, Train Loss: 0.0088, Test Accuracy: 0.7105, Test Loss: 0.0131\n",
            "Epoch: 056, Train Accuracy: 0.8067, Train Loss: 0.0083, Test Accuracy: 0.6842, Test Loss: 0.0152\n",
            "Epoch: 057, Train Accuracy: 0.8000, Train Loss: 0.0093, Test Accuracy: 0.6842, Test Loss: 0.0146\n",
            "Epoch: 058, Train Accuracy: 0.8200, Train Loss: 0.0085, Test Accuracy: 0.6842, Test Loss: 0.0130\n",
            "Epoch: 059, Train Accuracy: 0.8067, Train Loss: 0.0075, Test Accuracy: 0.6842, Test Loss: 0.0132\n",
            "Epoch: 060, Train Accuracy: 0.8000, Train Loss: 0.0080, Test Accuracy: 0.6842, Test Loss: 0.0144\n",
            "Epoch: 061, Train Accuracy: 0.7933, Train Loss: 0.0076, Test Accuracy: 0.6842, Test Loss: 0.0147\n",
            "Epoch: 062, Train Accuracy: 0.7867, Train Loss: 0.0078, Test Accuracy: 0.6842, Test Loss: 0.0138\n",
            "Epoch: 063, Train Accuracy: 0.7933, Train Loss: 0.0075, Test Accuracy: 0.6842, Test Loss: 0.0139\n",
            "Epoch: 064, Train Accuracy: 0.8133, Train Loss: 0.0084, Test Accuracy: 0.6842, Test Loss: 0.0137\n",
            "Epoch: 065, Train Accuracy: 0.8200, Train Loss: 0.0076, Test Accuracy: 0.6842, Test Loss: 0.0134\n",
            "Epoch: 066, Train Accuracy: 0.8200, Train Loss: 0.0080, Test Accuracy: 0.6842, Test Loss: 0.0129\n",
            "Epoch: 067, Train Accuracy: 0.8133, Train Loss: 0.0087, Test Accuracy: 0.7105, Test Loss: 0.0128\n",
            "Epoch: 068, Train Accuracy: 0.8000, Train Loss: 0.0083, Test Accuracy: 0.6842, Test Loss: 0.0150\n",
            "Epoch: 069, Train Accuracy: 0.8000, Train Loss: 0.0092, Test Accuracy: 0.7105, Test Loss: 0.0146\n",
            "Epoch: 070, Train Accuracy: 0.7933, Train Loss: 0.0084, Test Accuracy: 0.7105, Test Loss: 0.0129\n",
            "Epoch: 071, Train Accuracy: 0.8000, Train Loss: 0.0078, Test Accuracy: 0.7105, Test Loss: 0.0128\n",
            "Epoch: 072, Train Accuracy: 0.8000, Train Loss: 0.0085, Test Accuracy: 0.7105, Test Loss: 0.0149\n",
            "Epoch: 073, Train Accuracy: 0.8000, Train Loss: 0.0074, Test Accuracy: 0.6842, Test Loss: 0.0139\n",
            "Epoch: 074, Train Accuracy: 0.8000, Train Loss: 0.0083, Test Accuracy: 0.6842, Test Loss: 0.0130\n",
            "Epoch: 075, Train Accuracy: 0.7933, Train Loss: 0.0078, Test Accuracy: 0.6842, Test Loss: 0.0137\n",
            "Epoch: 076, Train Accuracy: 0.8067, Train Loss: 0.0081, Test Accuracy: 0.6842, Test Loss: 0.0143\n",
            "Epoch: 077, Train Accuracy: 0.8200, Train Loss: 0.0076, Test Accuracy: 0.6842, Test Loss: 0.0135\n",
            "Epoch: 078, Train Accuracy: 0.8333, Train Loss: 0.0079, Test Accuracy: 0.6842, Test Loss: 0.0128\n",
            "Epoch: 079, Train Accuracy: 0.8133, Train Loss: 0.0077, Test Accuracy: 0.6842, Test Loss: 0.0129\n",
            "Epoch: 080, Train Accuracy: 0.8200, Train Loss: 0.0071, Test Accuracy: 0.6842, Test Loss: 0.0137\n",
            "Epoch: 081, Train Accuracy: 0.8133, Train Loss: 0.0078, Test Accuracy: 0.6842, Test Loss: 0.0147\n",
            "Epoch: 082, Train Accuracy: 0.8133, Train Loss: 0.0080, Test Accuracy: 0.6842, Test Loss: 0.0136\n",
            "Epoch: 083, Train Accuracy: 0.8133, Train Loss: 0.0074, Test Accuracy: 0.7105, Test Loss: 0.0132\n",
            "Epoch: 084, Train Accuracy: 0.8200, Train Loss: 0.0080, Test Accuracy: 0.6842, Test Loss: 0.0143\n",
            "Epoch: 085, Train Accuracy: 0.8133, Train Loss: 0.0078, Test Accuracy: 0.6842, Test Loss: 0.0130\n",
            "Epoch: 086, Train Accuracy: 0.8333, Train Loss: 0.0078, Test Accuracy: 0.7105, Test Loss: 0.0128\n",
            "Epoch: 087, Train Accuracy: 0.8333, Train Loss: 0.0082, Test Accuracy: 0.6842, Test Loss: 0.0139\n",
            "Epoch: 088, Train Accuracy: 0.8133, Train Loss: 0.0077, Test Accuracy: 0.6842, Test Loss: 0.0142\n",
            "Epoch: 089, Train Accuracy: 0.8200, Train Loss: 0.0073, Test Accuracy: 0.6842, Test Loss: 0.0143\n",
            "Epoch: 090, Train Accuracy: 0.8200, Train Loss: 0.0082, Test Accuracy: 0.6842, Test Loss: 0.0148\n",
            "Epoch: 091, Train Accuracy: 0.8333, Train Loss: 0.0076, Test Accuracy: 0.7105, Test Loss: 0.0131\n",
            "Epoch: 092, Train Accuracy: 0.8133, Train Loss: 0.0071, Test Accuracy: 0.6842, Test Loss: 0.0139\n",
            "Epoch: 093, Train Accuracy: 0.8133, Train Loss: 0.0072, Test Accuracy: 0.6842, Test Loss: 0.0154\n",
            "Epoch: 094, Train Accuracy: 0.8333, Train Loss: 0.0081, Test Accuracy: 0.6842, Test Loss: 0.0138\n",
            "Epoch: 095, Train Accuracy: 0.8400, Train Loss: 0.0073, Test Accuracy: 0.6842, Test Loss: 0.0132\n",
            "Epoch: 096, Train Accuracy: 0.8133, Train Loss: 0.0082, Test Accuracy: 0.6842, Test Loss: 0.0134\n",
            "Epoch: 097, Train Accuracy: 0.8400, Train Loss: 0.0079, Test Accuracy: 0.7105, Test Loss: 0.0127\n",
            "Epoch: 098, Train Accuracy: 0.8467, Train Loss: 0.0072, Test Accuracy: 0.7105, Test Loss: 0.0130\n",
            "Epoch: 099, Train Accuracy: 0.8000, Train Loss: 0.0085, Test Accuracy: 0.6579, Test Loss: 0.0153\n",
            "Epoch: 100, Train Accuracy: 0.8333, Train Loss: 0.0071, Test Accuracy: 0.6842, Test Loss: 0.0135\n",
            "Epoch: 101, Train Accuracy: 0.8067, Train Loss: 0.0077, Test Accuracy: 0.7368, Test Loss: 0.0133\n",
            "Epoch: 102, Train Accuracy: 0.8133, Train Loss: 0.0075, Test Accuracy: 0.6842, Test Loss: 0.0153\n",
            "Epoch: 103, Train Accuracy: 0.8200, Train Loss: 0.0073, Test Accuracy: 0.6842, Test Loss: 0.0140\n",
            "Epoch: 104, Train Accuracy: 0.8333, Train Loss: 0.0073, Test Accuracy: 0.7368, Test Loss: 0.0129\n",
            "Epoch: 105, Train Accuracy: 0.8267, Train Loss: 0.0077, Test Accuracy: 0.6842, Test Loss: 0.0137\n",
            "Epoch: 106, Train Accuracy: 0.8200, Train Loss: 0.0076, Test Accuracy: 0.6842, Test Loss: 0.0145\n",
            "Epoch: 107, Train Accuracy: 0.8133, Train Loss: 0.0073, Test Accuracy: 0.7105, Test Loss: 0.0135\n",
            "Epoch: 108, Train Accuracy: 0.8133, Train Loss: 0.0067, Test Accuracy: 0.7105, Test Loss: 0.0139\n",
            "Epoch: 109, Train Accuracy: 0.8267, Train Loss: 0.0078, Test Accuracy: 0.6842, Test Loss: 0.0155\n",
            "Epoch: 110, Train Accuracy: 0.8200, Train Loss: 0.0064, Test Accuracy: 0.6842, Test Loss: 0.0141\n",
            "Epoch: 111, Train Accuracy: 0.8333, Train Loss: 0.0077, Test Accuracy: 0.7368, Test Loss: 0.0123\n",
            "Epoch: 112, Train Accuracy: 0.8267, Train Loss: 0.0078, Test Accuracy: 0.6842, Test Loss: 0.0131\n",
            "Epoch: 113, Train Accuracy: 0.8200, Train Loss: 0.0076, Test Accuracy: 0.6842, Test Loss: 0.0144\n",
            "Epoch: 114, Train Accuracy: 0.8133, Train Loss: 0.0074, Test Accuracy: 0.6842, Test Loss: 0.0136\n",
            "Epoch: 115, Train Accuracy: 0.8067, Train Loss: 0.0076, Test Accuracy: 0.6842, Test Loss: 0.0140\n",
            "Epoch: 116, Train Accuracy: 0.8067, Train Loss: 0.0069, Test Accuracy: 0.6842, Test Loss: 0.0135\n",
            "Epoch: 117, Train Accuracy: 0.8133, Train Loss: 0.0077, Test Accuracy: 0.6842, Test Loss: 0.0138\n",
            "Epoch: 118, Train Accuracy: 0.8200, Train Loss: 0.0067, Test Accuracy: 0.6842, Test Loss: 0.0143\n",
            "Epoch: 119, Train Accuracy: 0.8267, Train Loss: 0.0066, Test Accuracy: 0.6842, Test Loss: 0.0141\n",
            "Epoch: 120, Train Accuracy: 0.8333, Train Loss: 0.0070, Test Accuracy: 0.7105, Test Loss: 0.0136\n",
            "Epoch: 121, Train Accuracy: 0.8400, Train Loss: 0.0067, Test Accuracy: 0.6842, Test Loss: 0.0145\n",
            "Epoch: 122, Train Accuracy: 0.8333, Train Loss: 0.0066, Test Accuracy: 0.7105, Test Loss: 0.0142\n",
            "Epoch: 123, Train Accuracy: 0.8400, Train Loss: 0.0073, Test Accuracy: 0.7105, Test Loss: 0.0140\n",
            "Epoch: 124, Train Accuracy: 0.8467, Train Loss: 0.0071, Test Accuracy: 0.6842, Test Loss: 0.0140\n",
            "Epoch: 125, Train Accuracy: 0.8267, Train Loss: 0.0066, Test Accuracy: 0.6579, Test Loss: 0.0155\n",
            "Epoch: 126, Train Accuracy: 0.8467, Train Loss: 0.0070, Test Accuracy: 0.7368, Test Loss: 0.0136\n",
            "Epoch: 127, Train Accuracy: 0.8600, Train Loss: 0.0072, Test Accuracy: 0.7105, Test Loss: 0.0133\n",
            "Epoch: 128, Train Accuracy: 0.8200, Train Loss: 0.0085, Test Accuracy: 0.6579, Test Loss: 0.0152\n",
            "Epoch: 129, Train Accuracy: 0.8467, Train Loss: 0.0066, Test Accuracy: 0.7105, Test Loss: 0.0131\n",
            "Epoch: 130, Train Accuracy: 0.8200, Train Loss: 0.0096, Test Accuracy: 0.8158, Test Loss: 0.0141\n",
            "Epoch: 131, Train Accuracy: 0.8067, Train Loss: 0.0068, Test Accuracy: 0.6579, Test Loss: 0.0177\n",
            "Epoch: 132, Train Accuracy: 0.8267, Train Loss: 0.0075, Test Accuracy: 0.6842, Test Loss: 0.0161\n",
            "Epoch: 133, Train Accuracy: 0.8400, Train Loss: 0.0077, Test Accuracy: 0.7368, Test Loss: 0.0127\n",
            "Epoch: 134, Train Accuracy: 0.8400, Train Loss: 0.0068, Test Accuracy: 0.6842, Test Loss: 0.0128\n",
            "Epoch: 135, Train Accuracy: 0.8267, Train Loss: 0.0068, Test Accuracy: 0.6842, Test Loss: 0.0143\n",
            "Epoch: 136, Train Accuracy: 0.8600, Train Loss: 0.0067, Test Accuracy: 0.7105, Test Loss: 0.0138\n",
            "Epoch: 137, Train Accuracy: 0.8267, Train Loss: 0.0076, Test Accuracy: 0.6842, Test Loss: 0.0142\n",
            "Epoch: 138, Train Accuracy: 0.8267, Train Loss: 0.0076, Test Accuracy: 0.6842, Test Loss: 0.0145\n",
            "Epoch: 139, Train Accuracy: 0.8267, Train Loss: 0.0069, Test Accuracy: 0.6842, Test Loss: 0.0147\n",
            "Epoch: 140, Train Accuracy: 0.8733, Train Loss: 0.0073, Test Accuracy: 0.7105, Test Loss: 0.0133\n",
            "Epoch: 141, Train Accuracy: 0.8667, Train Loss: 0.0070, Test Accuracy: 0.6842, Test Loss: 0.0136\n",
            "Epoch: 142, Train Accuracy: 0.8600, Train Loss: 0.0071, Test Accuracy: 0.7105, Test Loss: 0.0131\n",
            "Epoch: 143, Train Accuracy: 0.8533, Train Loss: 0.0066, Test Accuracy: 0.7105, Test Loss: 0.0136\n",
            "Epoch: 144, Train Accuracy: 0.8333, Train Loss: 0.0073, Test Accuracy: 0.6842, Test Loss: 0.0144\n",
            "Epoch: 145, Train Accuracy: 0.8267, Train Loss: 0.0078, Test Accuracy: 0.6842, Test Loss: 0.0148\n",
            "Epoch: 146, Train Accuracy: 0.8267, Train Loss: 0.0072, Test Accuracy: 0.6842, Test Loss: 0.0149\n",
            "Epoch: 147, Train Accuracy: 0.8867, Train Loss: 0.0062, Test Accuracy: 0.7105, Test Loss: 0.0134\n",
            "Epoch: 148, Train Accuracy: 0.8800, Train Loss: 0.0064, Test Accuracy: 0.7105, Test Loss: 0.0128\n",
            "Epoch: 149, Train Accuracy: 0.8267, Train Loss: 0.0063, Test Accuracy: 0.6842, Test Loss: 0.0140\n",
            "Epoch: 150, Train Accuracy: 0.8467, Train Loss: 0.0071, Test Accuracy: 0.6842, Test Loss: 0.0147\n",
            "Epoch: 151, Train Accuracy: 0.8333, Train Loss: 0.0074, Test Accuracy: 0.6842, Test Loss: 0.0150\n",
            "Epoch: 152, Train Accuracy: 0.8800, Train Loss: 0.0065, Test Accuracy: 0.7105, Test Loss: 0.0140\n",
            "Epoch: 153, Train Accuracy: 0.8800, Train Loss: 0.0074, Test Accuracy: 0.7105, Test Loss: 0.0143\n",
            "Epoch: 154, Train Accuracy: 0.8733, Train Loss: 0.0065, Test Accuracy: 0.7105, Test Loss: 0.0146\n",
            "Epoch: 155, Train Accuracy: 0.8733, Train Loss: 0.0065, Test Accuracy: 0.6842, Test Loss: 0.0146\n",
            "Epoch: 156, Train Accuracy: 0.8933, Train Loss: 0.0067, Test Accuracy: 0.7105, Test Loss: 0.0131\n",
            "Epoch: 157, Train Accuracy: 0.8400, Train Loss: 0.0077, Test Accuracy: 0.6842, Test Loss: 0.0145\n",
            "Epoch: 158, Train Accuracy: 0.8333, Train Loss: 0.0062, Test Accuracy: 0.6842, Test Loss: 0.0154\n",
            "Epoch: 159, Train Accuracy: 0.8600, Train Loss: 0.0060, Test Accuracy: 0.6842, Test Loss: 0.0148\n",
            "Epoch: 160, Train Accuracy: 0.8867, Train Loss: 0.0059, Test Accuracy: 0.7105, Test Loss: 0.0136\n",
            "Epoch: 161, Train Accuracy: 0.8867, Train Loss: 0.0059, Test Accuracy: 0.7105, Test Loss: 0.0139\n",
            "Epoch: 162, Train Accuracy: 0.8600, Train Loss: 0.0068, Test Accuracy: 0.6842, Test Loss: 0.0150\n",
            "Epoch: 163, Train Accuracy: 0.8600, Train Loss: 0.0076, Test Accuracy: 0.6842, Test Loss: 0.0156\n",
            "Epoch: 164, Train Accuracy: 0.8400, Train Loss: 0.0058, Test Accuracy: 0.6842, Test Loss: 0.0156\n",
            "Epoch: 165, Train Accuracy: 0.8733, Train Loss: 0.0071, Test Accuracy: 0.7105, Test Loss: 0.0134\n",
            "Epoch: 166, Train Accuracy: 0.8267, Train Loss: 0.0068, Test Accuracy: 0.6842, Test Loss: 0.0148\n",
            "Epoch: 167, Train Accuracy: 0.8533, Train Loss: 0.0066, Test Accuracy: 0.6842, Test Loss: 0.0143\n",
            "Epoch: 168, Train Accuracy: 0.8400, Train Loss: 0.0065, Test Accuracy: 0.7368, Test Loss: 0.0140\n",
            "Epoch: 169, Train Accuracy: 0.8667, Train Loss: 0.0069, Test Accuracy: 0.6842, Test Loss: 0.0155\n",
            "Epoch: 170, Train Accuracy: 0.8333, Train Loss: 0.0063, Test Accuracy: 0.6579, Test Loss: 0.0179\n",
            "Epoch: 171, Train Accuracy: 0.8467, Train Loss: 0.0063, Test Accuracy: 0.7368, Test Loss: 0.0138\n",
            "Epoch: 172, Train Accuracy: 0.8933, Train Loss: 0.0061, Test Accuracy: 0.7105, Test Loss: 0.0136\n",
            "Epoch: 173, Train Accuracy: 0.8400, Train Loss: 0.0063, Test Accuracy: 0.6579, Test Loss: 0.0144\n",
            "Epoch: 174, Train Accuracy: 0.8533, Train Loss: 0.0070, Test Accuracy: 0.7895, Test Loss: 0.0137\n",
            "Epoch: 175, Train Accuracy: 0.8867, Train Loss: 0.0064, Test Accuracy: 0.7368, Test Loss: 0.0138\n",
            "Epoch: 176, Train Accuracy: 0.8400, Train Loss: 0.0066, Test Accuracy: 0.6842, Test Loss: 0.0180\n",
            "Epoch: 177, Train Accuracy: 0.8333, Train Loss: 0.0076, Test Accuracy: 0.6842, Test Loss: 0.0181\n",
            "Epoch: 178, Train Accuracy: 0.8733, Train Loss: 0.0071, Test Accuracy: 0.7368, Test Loss: 0.0135\n",
            "Epoch: 179, Train Accuracy: 0.9000, Train Loss: 0.0064, Test Accuracy: 0.7368, Test Loss: 0.0130\n",
            "Epoch: 180, Train Accuracy: 0.8333, Train Loss: 0.0070, Test Accuracy: 0.6842, Test Loss: 0.0142\n",
            "Epoch: 181, Train Accuracy: 0.8600, Train Loss: 0.0068, Test Accuracy: 0.7105, Test Loss: 0.0137\n",
            "Epoch: 182, Train Accuracy: 0.8800, Train Loss: 0.0068, Test Accuracy: 0.7632, Test Loss: 0.0133\n",
            "Epoch: 183, Train Accuracy: 0.8600, Train Loss: 0.0066, Test Accuracy: 0.6842, Test Loss: 0.0155\n",
            "Epoch: 184, Train Accuracy: 0.8267, Train Loss: 0.0072, Test Accuracy: 0.6579, Test Loss: 0.0184\n",
            "Epoch: 185, Train Accuracy: 0.8667, Train Loss: 0.0064, Test Accuracy: 0.6842, Test Loss: 0.0153\n",
            "Epoch: 186, Train Accuracy: 0.8800, Train Loss: 0.0071, Test Accuracy: 0.7105, Test Loss: 0.0137\n",
            "Epoch: 187, Train Accuracy: 0.8733, Train Loss: 0.0059, Test Accuracy: 0.7105, Test Loss: 0.0143\n",
            "Epoch: 188, Train Accuracy: 0.8733, Train Loss: 0.0064, Test Accuracy: 0.7105, Test Loss: 0.0133\n",
            "Epoch: 189, Train Accuracy: 0.8467, Train Loss: 0.0068, Test Accuracy: 0.7105, Test Loss: 0.0133\n",
            "Epoch: 190, Train Accuracy: 0.8467, Train Loss: 0.0054, Test Accuracy: 0.6842, Test Loss: 0.0143\n",
            "Epoch: 191, Train Accuracy: 0.8733, Train Loss: 0.0067, Test Accuracy: 0.7105, Test Loss: 0.0144\n",
            "Epoch: 192, Train Accuracy: 0.8467, Train Loss: 0.0076, Test Accuracy: 0.6842, Test Loss: 0.0162\n",
            "Epoch: 193, Train Accuracy: 0.8600, Train Loss: 0.0076, Test Accuracy: 0.6842, Test Loss: 0.0162\n",
            "Epoch: 194, Train Accuracy: 0.8400, Train Loss: 0.0063, Test Accuracy: 0.7105, Test Loss: 0.0138\n",
            "Epoch: 195, Train Accuracy: 0.8867, Train Loss: 0.0063, Test Accuracy: 0.7632, Test Loss: 0.0130\n",
            "Epoch: 196, Train Accuracy: 0.8467, Train Loss: 0.0069, Test Accuracy: 0.7105, Test Loss: 0.0153\n",
            "Epoch: 197, Train Accuracy: 0.8667, Train Loss: 0.0064, Test Accuracy: 0.7105, Test Loss: 0.0159\n",
            "Epoch: 198, Train Accuracy: 0.8733, Train Loss: 0.0063, Test Accuracy: 0.7105, Test Loss: 0.0150\n",
            "Epoch: 199, Train Accuracy: 0.8733, Train Loss: 0.0060, Test Accuracy: 0.7105, Test Loss: 0.0143\n",
            "Epoch: 200, Train Accuracy: 0.8667, Train Loss: 0.0068, Test Accuracy: 0.6842, Test Loss: 0.0142\n"
          ]
        }
      ]
    },
    {
      "cell_type": "code",
      "source": [
        "plot_history(list_train_loss, list_train_acc, list_test_loss, list_test_acc, n_epochs=200, title='GCN Mean Pooling')"
      ],
      "metadata": {
        "colab": {
          "base_uri": "https://localhost:8080/",
          "height": 524
        },
        "id": "VM5cwRwdoiow",
        "outputId": "474a0938-e36f-4787-e960-9e7ce52fe655"
      },
      "execution_count": 92,
      "outputs": [
        {
          "output_type": "display_data",
          "data": {
            "text/plain": [
              "<Figure size 1296x576 with 1 Axes>"
            ],
            "image/png": "[encoded data removed]"
          },
          "metadata": {
            "needs_background": "light"
          }
        }
      ]
    },
    {
      "cell_type": "code",
      "source": [],
      "metadata": {
        "id": "v9pe3jA5o-hZ"
      },
      "execution_count": null,
      "outputs": []
    }
  ],
  "metadata": {
    "colab": {
      "provenance": [],
      "authorship_tag": "ABX9TyOk3bq/yOsDkVxhbnEG+7rv",
      "include_colab_link": true
    },
    "kernelspec": {
      "display_name": "Python 3",
      "name": "python3"
    },
    "language_info": {
      "name": "python"
    }
  },
  "nbformat": 4,
  "nbformat_minor": 0
}